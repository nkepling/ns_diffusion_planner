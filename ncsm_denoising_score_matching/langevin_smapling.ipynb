{
 "cells": [
  {
   "cell_type": "code",
   "execution_count": null,
   "metadata": {},
   "outputs": [],
   "source": [
    "import torch\n",
    "from torch.nn import DataParallel\n",
    "import tqdm.notebook as nb\n",
    "from unet import ScoreNet\n",
    "import math\n",
    "import numpy as np\n",
    "from utils import gen_geometric_progression\n",
    "import visualize\n"
   ]
  },
  {
   "cell_type": "code",
   "execution_count": 2,
   "metadata": {},
   "outputs": [],
   "source": [
    "def min_max_normalize(tensor):\n",
    "    min_val = tensor.min()\n",
    "    max_val = tensor.max()\n",
    "    normalized_tensor = (tensor - min_val) / (max_val - min_val)\n",
    "    return normalized_tensor"
   ]
  },
  {
   "cell_type": "code",
   "execution_count": 3,
   "metadata": {},
   "outputs": [],
   "source": [
    "def langevin_sampling(shape, model, eps=0.0001, device=torch.device('cpu')) -> torch.Tensor:\n",
    "    with torch.no_grad():\n",
    "        x = torch.randn(shape, device=device)\n",
    "        for i in nb.trange(10000):\n",
    "            noise = torch.randn(shape, device=device)\n",
    "            s = model(x)\n",
    "            x = x + eps * s + math.sqrt(2 * eps) * noise\n",
    "        return x\n"
   ]
  },
  {
   "cell_type": "code",
   "execution_count": null,
   "metadata": {},
   "outputs": [],
   "source": [
    "def annealed_langevin_sampling(shape, model, rs: torch.Tensor, T, eps=5e-7, device=torch.device('cpu')) -> torch.Tensor:\n",
    "    with torch.no_grad():\n",
    "        x = torch.randn(shape, device=device)\n",
    "        for r in rs:\n",
    "            a = eps * (r / rs[-1]) ** 2\n",
    "            for i in nb.trange(T, leave=False, desc=f'r = {r}'):\n",
    "                noise = torch.randn(shape, device=device)\n",
    "                s = model(x, r.repeat(x.shape[0]))\n",
    "                x = x + a * .5 * s + math.sqrt(a) * noise\n",
    "        return x\n",
    "\n"
   ]
  },
  {
   "cell_type": "code",
   "execution_count": 32,
   "metadata": {},
   "outputs": [
    {
     "data": {
      "application/vnd.jupyter.widget-view+json": {
       "model_id": "0c4ef4e8b4c644d68b48b95506c21a39",
       "version_major": 2,
       "version_minor": 0
      },
      "text/plain": [
       "r = 10.0:   0%|          | 0/10 [00:00<?, ?it/s]"
      ]
     },
     "metadata": {},
     "output_type": "display_data"
    },
    {
     "data": {
      "application/vnd.jupyter.widget-view+json": {
       "model_id": "fc4b075ba13240549ada755c9fa5891d",
       "version_major": 2,
       "version_minor": 0
      },
      "text/plain": [
       "r = 9.95405387878418:   0%|          | 0/10 [00:00<?, ?it/s]"
      ]
     },
     "metadata": {},
     "output_type": "display_data"
    },
    {
     "data": {
      "application/vnd.jupyter.widget-view+json": {
       "model_id": "8657a0ee944c46eca15fc8202cd1c91d",
       "version_major": 2,
       "version_minor": 0
      },
      "text/plain": [
       "r = 9.908319473266602:   0%|          | 0/10 [00:00<?, ?it/s]"
      ]
     },
     "metadata": {},
     "output_type": "display_data"
    },
    {
     "data": {
      "application/vnd.jupyter.widget-view+json": {
       "model_id": "c4025db9a41f49bf980f0f60fe6f5c75",
       "version_major": 2,
       "version_minor": 0
      },
      "text/plain": [
       "r = 9.86279582977295:   0%|          | 0/10 [00:00<?, ?it/s]"
      ]
     },
     "metadata": {},
     "output_type": "display_data"
    },
    {
     "data": {
      "application/vnd.jupyter.widget-view+json": {
       "model_id": "6878882b2bd44666acffa1f9ea88fcaa",
       "version_major": 2,
       "version_minor": 0
      },
      "text/plain": [
       "r = 9.817480087280273:   0%|          | 0/10 [00:00<?, ?it/s]"
      ]
     },
     "metadata": {},
     "output_type": "display_data"
    },
    {
     "data": {
      "application/vnd.jupyter.widget-view+json": {
       "model_id": "6933e94bf0d14a558874e4f010b9336d",
       "version_major": 2,
       "version_minor": 0
      },
      "text/plain": [
       "r = 9.77237319946289:   0%|          | 0/10 [00:00<?, ?it/s]"
      ]
     },
     "metadata": {},
     "output_type": "display_data"
    },
    {
     "data": {
      "application/vnd.jupyter.widget-view+json": {
       "model_id": "de39f8043b0c4566a3cb67e3ff8bde10",
       "version_major": 2,
       "version_minor": 0
      },
      "text/plain": [
       "r = 9.727473258972168:   0%|          | 0/10 [00:00<?, ?it/s]"
      ]
     },
     "metadata": {},
     "output_type": "display_data"
    },
    {
     "data": {
      "application/vnd.jupyter.widget-view+json": {
       "model_id": "ff2be2f54dc2416dbbf7d596e3bb2b27",
       "version_major": 2,
       "version_minor": 0
      },
      "text/plain": [
       "r = 9.682780265808105:   0%|          | 0/10 [00:00<?, ?it/s]"
      ]
     },
     "metadata": {},
     "output_type": "display_data"
    },
    {
     "data": {
      "application/vnd.jupyter.widget-view+json": {
       "model_id": "75d17d869b5142219e6c7f85f92bd5dc",
       "version_major": 2,
       "version_minor": 0
      },
      "text/plain": [
       "r = 9.638291358947754:   0%|          | 0/10 [00:00<?, ?it/s]"
      ]
     },
     "metadata": {},
     "output_type": "display_data"
    },
    {
     "data": {
      "application/vnd.jupyter.widget-view+json": {
       "model_id": "8684b84654bb46939795c11e46f13a0a",
       "version_major": 2,
       "version_minor": 0
      },
      "text/plain": [
       "r = 9.59400749206543:   0%|          | 0/10 [00:00<?, ?it/s]"
      ]
     },
     "metadata": {},
     "output_type": "display_data"
    },
    {
     "data": {
      "application/vnd.jupyter.widget-view+json": {
       "model_id": "d4bf803a5f204cc3b4d8375959faedd2",
       "version_major": 2,
       "version_minor": 0
      },
      "text/plain": [
       "r = 9.549927711486816:   0%|          | 0/10 [00:00<?, ?it/s]"
      ]
     },
     "metadata": {},
     "output_type": "display_data"
    },
    {
     "data": {
      "application/vnd.jupyter.widget-view+json": {
       "model_id": "c6edb84e9caf42d39b95742ff457eaab",
       "version_major": 2,
       "version_minor": 0
      },
      "text/plain": [
       "r = 9.506050109863281:   0%|          | 0/10 [00:00<?, ?it/s]"
      ]
     },
     "metadata": {},
     "output_type": "display_data"
    },
    {
     "data": {
      "application/vnd.jupyter.widget-view+json": {
       "model_id": "30fc665a87324453a5d86c26d000c2ac",
       "version_major": 2,
       "version_minor": 0
      },
      "text/plain": [
       "r = 9.462373733520508:   0%|          | 0/10 [00:00<?, ?it/s]"
      ]
     },
     "metadata": {},
     "output_type": "display_data"
    },
    {
     "data": {
      "application/vnd.jupyter.widget-view+json": {
       "model_id": "cc8bbea552274f4e85433e0e9ccfc7a3",
       "version_major": 2,
       "version_minor": 0
      },
      "text/plain": [
       "r = 9.418898582458496:   0%|          | 0/10 [00:00<?, ?it/s]"
      ]
     },
     "metadata": {},
     "output_type": "display_data"
    },
    {
     "data": {
      "application/vnd.jupyter.widget-view+json": {
       "model_id": "9da5febaec5c42619c79dd4dfe601d2a",
       "version_major": 2,
       "version_minor": 0
      },
      "text/plain": [
       "r = 9.375621795654297:   0%|          | 0/10 [00:00<?, ?it/s]"
      ]
     },
     "metadata": {},
     "output_type": "display_data"
    },
    {
     "data": {
      "application/vnd.jupyter.widget-view+json": {
       "model_id": "f4eb9be375bc4f5f86d61c77aff39a82",
       "version_major": 2,
       "version_minor": 0
      },
      "text/plain": [
       "r = 9.332545280456543:   0%|          | 0/10 [00:00<?, ?it/s]"
      ]
     },
     "metadata": {},
     "output_type": "display_data"
    },
    {
     "data": {
      "application/vnd.jupyter.widget-view+json": {
       "model_id": "fba12320a6e74211ba715c5c2dc3a73e",
       "version_major": 2,
       "version_minor": 0
      },
      "text/plain": [
       "r = 9.289666175842285:   0%|          | 0/10 [00:00<?, ?it/s]"
      ]
     },
     "metadata": {},
     "output_type": "display_data"
    },
    {
     "data": {
      "application/vnd.jupyter.widget-view+json": {
       "model_id": "8d649186b2db4510b11cfb977fbf44c2",
       "version_major": 2,
       "version_minor": 0
      },
      "text/plain": [
       "r = 9.246984481811523:   0%|          | 0/10 [00:00<?, ?it/s]"
      ]
     },
     "metadata": {},
     "output_type": "display_data"
    },
    {
     "data": {
      "application/vnd.jupyter.widget-view+json": {
       "model_id": "94670bb8bc5e4d22aa41f6bc9ac46d18",
       "version_major": 2,
       "version_minor": 0
      },
      "text/plain": [
       "r = 9.204498291015625:   0%|          | 0/10 [00:00<?, ?it/s]"
      ]
     },
     "metadata": {},
     "output_type": "display_data"
    },
    {
     "data": {
      "application/vnd.jupyter.widget-view+json": {
       "model_id": "ed79bff8acd747b9885b8382c01fcc54",
       "version_major": 2,
       "version_minor": 0
      },
      "text/plain": [
       "r = 9.16220760345459:   0%|          | 0/10 [00:00<?, ?it/s]"
      ]
     },
     "metadata": {},
     "output_type": "display_data"
    },
    {
     "data": {
      "application/vnd.jupyter.widget-view+json": {
       "model_id": "86aac0e914524062958e49fe091a335a",
       "version_major": 2,
       "version_minor": 0
      },
      "text/plain": [
       "r = 9.120111465454102:   0%|          | 0/10 [00:00<?, ?it/s]"
      ]
     },
     "metadata": {},
     "output_type": "display_data"
    },
    {
     "data": {
      "application/vnd.jupyter.widget-view+json": {
       "model_id": "794a543732334415b324ca199c34559a",
       "version_major": 2,
       "version_minor": 0
      },
      "text/plain": [
       "r = 9.078208923339844:   0%|          | 0/10 [00:00<?, ?it/s]"
      ]
     },
     "metadata": {},
     "output_type": "display_data"
    },
    {
     "data": {
      "application/vnd.jupyter.widget-view+json": {
       "model_id": "17459914481a401488b3f949f26cf00f",
       "version_major": 2,
       "version_minor": 0
      },
      "text/plain": [
       "r = 9.0364990234375:   0%|          | 0/10 [00:00<?, ?it/s]"
      ]
     },
     "metadata": {},
     "output_type": "display_data"
    },
    {
     "data": {
      "application/vnd.jupyter.widget-view+json": {
       "model_id": "7c71199c8eb64c5d9a44a45eeb30ac6f",
       "version_major": 2,
       "version_minor": 0
      },
      "text/plain": [
       "r = 8.994979858398438:   0%|          | 0/10 [00:00<?, ?it/s]"
      ]
     },
     "metadata": {},
     "output_type": "display_data"
    },
    {
     "data": {
      "application/vnd.jupyter.widget-view+json": {
       "model_id": "fb5a33c43d444f8580a7b56d8496de0c",
       "version_major": 2,
       "version_minor": 0
      },
      "text/plain": [
       "r = 8.953651428222656:   0%|          | 0/10 [00:00<?, ?it/s]"
      ]
     },
     "metadata": {},
     "output_type": "display_data"
    },
    {
     "data": {
      "application/vnd.jupyter.widget-view+json": {
       "model_id": "8f2d39dfd89c40888577a23ab8670b54",
       "version_major": 2,
       "version_minor": 0
      },
      "text/plain": [
       "r = 8.912513732910156:   0%|          | 0/10 [00:00<?, ?it/s]"
      ]
     },
     "metadata": {},
     "output_type": "display_data"
    },
    {
     "data": {
      "application/vnd.jupyter.widget-view+json": {
       "model_id": "9e1a6af02ff44f3f8699ca5c09a219b4",
       "version_major": 2,
       "version_minor": 0
      },
      "text/plain": [
       "r = 8.871563911437988:   0%|          | 0/10 [00:00<?, ?it/s]"
      ]
     },
     "metadata": {},
     "output_type": "display_data"
    },
    {
     "data": {
      "application/vnd.jupyter.widget-view+json": {
       "model_id": "8afe4772b1ad4bc884c45c601acfb9cc",
       "version_major": 2,
       "version_minor": 0
      },
      "text/plain": [
       "r = 8.830803871154785:   0%|          | 0/10 [00:00<?, ?it/s]"
      ]
     },
     "metadata": {},
     "output_type": "display_data"
    },
    {
     "data": {
      "application/vnd.jupyter.widget-view+json": {
       "model_id": "12fdaee5b128422088741fc2abce26d6",
       "version_major": 2,
       "version_minor": 0
      },
      "text/plain": [
       "r = 8.790229797363281:   0%|          | 0/10 [00:00<?, ?it/s]"
      ]
     },
     "metadata": {},
     "output_type": "display_data"
    },
    {
     "data": {
      "application/vnd.jupyter.widget-view+json": {
       "model_id": "c1969c32e0514dc398d734d81b709c7d",
       "version_major": 2,
       "version_minor": 0
      },
      "text/plain": [
       "r = 8.749842643737793:   0%|          | 0/10 [00:00<?, ?it/s]"
      ]
     },
     "metadata": {},
     "output_type": "display_data"
    },
    {
     "data": {
      "application/vnd.jupyter.widget-view+json": {
       "model_id": "c48357e302f345ecbbc848deb75bab31",
       "version_major": 2,
       "version_minor": 0
      },
      "text/plain": [
       "r = 8.709640502929688:   0%|          | 0/10 [00:00<?, ?it/s]"
      ]
     },
     "metadata": {},
     "output_type": "display_data"
    },
    {
     "data": {
      "application/vnd.jupyter.widget-view+json": {
       "model_id": "a7e39d1abe5147e99ea939fb2a9a3da5",
       "version_major": 2,
       "version_minor": 0
      },
      "text/plain": [
       "r = 8.669623374938965:   0%|          | 0/10 [00:00<?, ?it/s]"
      ]
     },
     "metadata": {},
     "output_type": "display_data"
    },
    {
     "data": {
      "application/vnd.jupyter.widget-view+json": {
       "model_id": "3b020902942e41d1b1c49ecb5eabc0cd",
       "version_major": 2,
       "version_minor": 0
      },
      "text/plain": [
       "r = 8.629790306091309:   0%|          | 0/10 [00:00<?, ?it/s]"
      ]
     },
     "metadata": {},
     "output_type": "display_data"
    },
    {
     "data": {
      "application/vnd.jupyter.widget-view+json": {
       "model_id": "922af5d6511c489b8d829a64639f8a8e",
       "version_major": 2,
       "version_minor": 0
      },
      "text/plain": [
       "r = 8.590140342712402:   0%|          | 0/10 [00:00<?, ?it/s]"
      ]
     },
     "metadata": {},
     "output_type": "display_data"
    },
    {
     "data": {
      "application/vnd.jupyter.widget-view+json": {
       "model_id": "8bea26b2ad0a428a9d967a113935993e",
       "version_major": 2,
       "version_minor": 0
      },
      "text/plain": [
       "r = 8.55067253112793:   0%|          | 0/10 [00:00<?, ?it/s]"
      ]
     },
     "metadata": {},
     "output_type": "display_data"
    },
    {
     "data": {
      "application/vnd.jupyter.widget-view+json": {
       "model_id": "a1aaac790f414e5aaf01c36ebb66788c",
       "version_major": 2,
       "version_minor": 0
      },
      "text/plain": [
       "r = 8.511385917663574:   0%|          | 0/10 [00:00<?, ?it/s]"
      ]
     },
     "metadata": {},
     "output_type": "display_data"
    },
    {
     "data": {
      "application/vnd.jupyter.widget-view+json": {
       "model_id": "e7d908e684114893876fc9293a28fa6d",
       "version_major": 2,
       "version_minor": 0
      },
      "text/plain": [
       "r = 8.47227954864502:   0%|          | 0/10 [00:00<?, ?it/s]"
      ]
     },
     "metadata": {},
     "output_type": "display_data"
    },
    {
     "data": {
      "application/vnd.jupyter.widget-view+json": {
       "model_id": "187fad2cf1144a20adaa4e238a47c06f",
       "version_major": 2,
       "version_minor": 0
      },
      "text/plain": [
       "r = 8.433353424072266:   0%|          | 0/10 [00:00<?, ?it/s]"
      ]
     },
     "metadata": {},
     "output_type": "display_data"
    },
    {
     "data": {
      "application/vnd.jupyter.widget-view+json": {
       "model_id": "8dee0f2b7a334b8fbec851f995406195",
       "version_major": 2,
       "version_minor": 0
      },
      "text/plain": [
       "r = 8.39460563659668:   0%|          | 0/10 [00:00<?, ?it/s]"
      ]
     },
     "metadata": {},
     "output_type": "display_data"
    },
    {
     "data": {
      "application/vnd.jupyter.widget-view+json": {
       "model_id": "a24fc08723fe4b3882c2a5beebd5d644",
       "version_major": 2,
       "version_minor": 0
      },
      "text/plain": [
       "r = 8.356036186218262:   0%|          | 0/10 [00:00<?, ?it/s]"
      ]
     },
     "metadata": {},
     "output_type": "display_data"
    },
    {
     "data": {
      "application/vnd.jupyter.widget-view+json": {
       "model_id": "c74d7fc6915c4bc7a937607ee8433ec3",
       "version_major": 2,
       "version_minor": 0
      },
      "text/plain": [
       "r = 8.317644119262695:   0%|          | 0/10 [00:00<?, ?it/s]"
      ]
     },
     "metadata": {},
     "output_type": "display_data"
    },
    {
     "data": {
      "application/vnd.jupyter.widget-view+json": {
       "model_id": "8522884131b249a5973f5c46ece537c5",
       "version_major": 2,
       "version_minor": 0
      },
      "text/plain": [
       "r = 8.279427528381348:   0%|          | 0/10 [00:00<?, ?it/s]"
      ]
     },
     "metadata": {},
     "output_type": "display_data"
    },
    {
     "data": {
      "application/vnd.jupyter.widget-view+json": {
       "model_id": "79e3065db8274868807ff44452a4c107",
       "version_major": 2,
       "version_minor": 0
      },
      "text/plain": [
       "r = 8.241387367248535:   0%|          | 0/10 [00:00<?, ?it/s]"
      ]
     },
     "metadata": {},
     "output_type": "display_data"
    },
    {
     "data": {
      "application/vnd.jupyter.widget-view+json": {
       "model_id": "4481c86df82341a2b9da7ef05f59c2b2",
       "version_major": 2,
       "version_minor": 0
      },
      "text/plain": [
       "r = 8.203521728515625:   0%|          | 0/10 [00:00<?, ?it/s]"
      ]
     },
     "metadata": {},
     "output_type": "display_data"
    },
    {
     "data": {
      "application/vnd.jupyter.widget-view+json": {
       "model_id": "b3f5180ee8f94da48cf5f6a8d0ccfe40",
       "version_major": 2,
       "version_minor": 0
      },
      "text/plain": [
       "r = 8.165830612182617:   0%|          | 0/10 [00:00<?, ?it/s]"
      ]
     },
     "metadata": {},
     "output_type": "display_data"
    },
    {
     "data": {
      "application/vnd.jupyter.widget-view+json": {
       "model_id": "770b50467ece43b790a09afce101d37c",
       "version_major": 2,
       "version_minor": 0
      },
      "text/plain": [
       "r = 8.128311157226562:   0%|          | 0/10 [00:00<?, ?it/s]"
      ]
     },
     "metadata": {},
     "output_type": "display_data"
    },
    {
     "data": {
      "application/vnd.jupyter.widget-view+json": {
       "model_id": "6baf44e8c75041d288337117d4a8cd48",
       "version_major": 2,
       "version_minor": 0
      },
      "text/plain": [
       "r = 8.090965270996094:   0%|          | 0/10 [00:00<?, ?it/s]"
      ]
     },
     "metadata": {},
     "output_type": "display_data"
    },
    {
     "data": {
      "application/vnd.jupyter.widget-view+json": {
       "model_id": "9c12c9f3ebb54d41b1c46182c9994897",
       "version_major": 2,
       "version_minor": 0
      },
      "text/plain": [
       "r = 8.053791046142578:   0%|          | 0/10 [00:00<?, ?it/s]"
      ]
     },
     "metadata": {},
     "output_type": "display_data"
    },
    {
     "data": {
      "application/vnd.jupyter.widget-view+json": {
       "model_id": "80d39719257847f6adfeecfe08fe905d",
       "version_major": 2,
       "version_minor": 0
      },
      "text/plain": [
       "r = 8.0167875289917:   0%|          | 0/10 [00:00<?, ?it/s]"
      ]
     },
     "metadata": {},
     "output_type": "display_data"
    },
    {
     "data": {
      "application/vnd.jupyter.widget-view+json": {
       "model_id": "40a126b630e44d28b27782eff6399111",
       "version_major": 2,
       "version_minor": 0
      },
      "text/plain": [
       "r = 7.979953765869141:   0%|          | 0/10 [00:00<?, ?it/s]"
      ]
     },
     "metadata": {},
     "output_type": "display_data"
    },
    {
     "data": {
      "application/vnd.jupyter.widget-view+json": {
       "model_id": "57d0607c5f894a08ab14b8809cbf74f9",
       "version_major": 2,
       "version_minor": 0
      },
      "text/plain": [
       "r = 7.943289756774902:   0%|          | 0/10 [00:00<?, ?it/s]"
      ]
     },
     "metadata": {},
     "output_type": "display_data"
    },
    {
     "data": {
      "application/vnd.jupyter.widget-view+json": {
       "model_id": "bc16762a724e42b5a653ef3cf3ecd901",
       "version_major": 2,
       "version_minor": 0
      },
      "text/plain": [
       "r = 7.90679407119751:   0%|          | 0/10 [00:00<?, ?it/s]"
      ]
     },
     "metadata": {},
     "output_type": "display_data"
    },
    {
     "data": {
      "application/vnd.jupyter.widget-view+json": {
       "model_id": "862ed9ec5e5f48d39fbd9a8120ceb757",
       "version_major": 2,
       "version_minor": 0
      },
      "text/plain": [
       "r = 7.870465278625488:   0%|          | 0/10 [00:00<?, ?it/s]"
      ]
     },
     "metadata": {},
     "output_type": "display_data"
    },
    {
     "data": {
      "application/vnd.jupyter.widget-view+json": {
       "model_id": "4ec0b881ab184a8f94033a2d2bebe884",
       "version_major": 2,
       "version_minor": 0
      },
      "text/plain": [
       "r = 7.834303855895996:   0%|          | 0/10 [00:00<?, ?it/s]"
      ]
     },
     "metadata": {},
     "output_type": "display_data"
    },
    {
     "data": {
      "application/vnd.jupyter.widget-view+json": {
       "model_id": "0aa78dbf35314d36b6e0d222b23c1002",
       "version_major": 2,
       "version_minor": 0
      },
      "text/plain": [
       "r = 7.798308849334717:   0%|          | 0/10 [00:00<?, ?it/s]"
      ]
     },
     "metadata": {},
     "output_type": "display_data"
    },
    {
     "data": {
      "application/vnd.jupyter.widget-view+json": {
       "model_id": "80884a2cb686471092bf62f4b8315a72",
       "version_major": 2,
       "version_minor": 0
      },
      "text/plain": [
       "r = 7.762479305267334:   0%|          | 0/10 [00:00<?, ?it/s]"
      ]
     },
     "metadata": {},
     "output_type": "display_data"
    },
    {
     "data": {
      "application/vnd.jupyter.widget-view+json": {
       "model_id": "eb37c8b59e1d482184c81a213c33cd41",
       "version_major": 2,
       "version_minor": 0
      },
      "text/plain": [
       "r = 7.726813316345215:   0%|          | 0/10 [00:00<?, ?it/s]"
      ]
     },
     "metadata": {},
     "output_type": "display_data"
    },
    {
     "data": {
      "application/vnd.jupyter.widget-view+json": {
       "model_id": "c33b031329aa451fb2b7d1f18761f835",
       "version_major": 2,
       "version_minor": 0
      },
      "text/plain": [
       "r = 7.691312313079834:   0%|          | 0/10 [00:00<?, ?it/s]"
      ]
     },
     "metadata": {},
     "output_type": "display_data"
    },
    {
     "data": {
      "application/vnd.jupyter.widget-view+json": {
       "model_id": "61e9c154bbde47b991f09d0ec635c3fd",
       "version_major": 2,
       "version_minor": 0
      },
      "text/plain": [
       "r = 7.6559739112854:   0%|          | 0/10 [00:00<?, ?it/s]"
      ]
     },
     "metadata": {},
     "output_type": "display_data"
    },
    {
     "data": {
      "application/vnd.jupyter.widget-view+json": {
       "model_id": "69a454f600634ee5ae09530dc0bd69a2",
       "version_major": 2,
       "version_minor": 0
      },
      "text/plain": [
       "r = 7.620798110961914:   0%|          | 0/10 [00:00<?, ?it/s]"
      ]
     },
     "metadata": {},
     "output_type": "display_data"
    },
    {
     "data": {
      "application/vnd.jupyter.widget-view+json": {
       "model_id": "39359a5b6ca9488fbf59b751c9daa469",
       "version_major": 2,
       "version_minor": 0
      },
      "text/plain": [
       "r = 7.585783958435059:   0%|          | 0/10 [00:00<?, ?it/s]"
      ]
     },
     "metadata": {},
     "output_type": "display_data"
    },
    {
     "data": {
      "application/vnd.jupyter.widget-view+json": {
       "model_id": "807c2193d6bb427baaf05785a72e0986",
       "version_major": 2,
       "version_minor": 0
      },
      "text/plain": [
       "r = 7.550930500030518:   0%|          | 0/10 [00:00<?, ?it/s]"
      ]
     },
     "metadata": {},
     "output_type": "display_data"
    },
    {
     "data": {
      "application/vnd.jupyter.widget-view+json": {
       "model_id": "2e67e9009a6d43deac5a35b4403d8d7f",
       "version_major": 2,
       "version_minor": 0
      },
      "text/plain": [
       "r = 7.516237258911133:   0%|          | 0/10 [00:00<?, ?it/s]"
      ]
     },
     "metadata": {},
     "output_type": "display_data"
    },
    {
     "data": {
      "application/vnd.jupyter.widget-view+json": {
       "model_id": "8b7b4fb321ee40e983fabcb57a76cfb3",
       "version_major": 2,
       "version_minor": 0
      },
      "text/plain": [
       "r = 7.481703758239746:   0%|          | 0/10 [00:00<?, ?it/s]"
      ]
     },
     "metadata": {},
     "output_type": "display_data"
    },
    {
     "data": {
      "application/vnd.jupyter.widget-view+json": {
       "model_id": "2ecc49b3fd1049cda690d1fb68667b9d",
       "version_major": 2,
       "version_minor": 0
      },
      "text/plain": [
       "r = 7.447328567504883:   0%|          | 0/10 [00:00<?, ?it/s]"
      ]
     },
     "metadata": {},
     "output_type": "display_data"
    },
    {
     "data": {
      "application/vnd.jupyter.widget-view+json": {
       "model_id": "181cc2dbf01746b3b3561326955c4103",
       "version_major": 2,
       "version_minor": 0
      },
      "text/plain": [
       "r = 7.413111209869385:   0%|          | 0/10 [00:00<?, ?it/s]"
      ]
     },
     "metadata": {},
     "output_type": "display_data"
    },
    {
     "data": {
      "application/vnd.jupyter.widget-view+json": {
       "model_id": "ac6285df50744237b616962346daf9f1",
       "version_major": 2,
       "version_minor": 0
      },
      "text/plain": [
       "r = 7.379051208496094:   0%|          | 0/10 [00:00<?, ?it/s]"
      ]
     },
     "metadata": {},
     "output_type": "display_data"
    },
    {
     "data": {
      "application/vnd.jupyter.widget-view+json": {
       "model_id": "df8a0fec3d7049598eaf11b71b03d43a",
       "version_major": 2,
       "version_minor": 0
      },
      "text/plain": [
       "r = 7.345147609710693:   0%|          | 0/10 [00:00<?, ?it/s]"
      ]
     },
     "metadata": {},
     "output_type": "display_data"
    },
    {
     "data": {
      "application/vnd.jupyter.widget-view+json": {
       "model_id": "15e81d4e61334190b3e74f0b2500af6f",
       "version_major": 2,
       "version_minor": 0
      },
      "text/plain": [
       "r = 7.311400413513184:   0%|          | 0/10 [00:00<?, ?it/s]"
      ]
     },
     "metadata": {},
     "output_type": "display_data"
    },
    {
     "data": {
      "application/vnd.jupyter.widget-view+json": {
       "model_id": "cae0f74c052f4c4f8cf32924087e6144",
       "version_major": 2,
       "version_minor": 0
      },
      "text/plain": [
       "r = 7.277807235717773:   0%|          | 0/10 [00:00<?, ?it/s]"
      ]
     },
     "metadata": {},
     "output_type": "display_data"
    },
    {
     "data": {
      "application/vnd.jupyter.widget-view+json": {
       "model_id": "c119e29b63ab4968921f68ac6a18feef",
       "version_major": 2,
       "version_minor": 0
      },
      "text/plain": [
       "r = 7.244368553161621:   0%|          | 0/10 [00:00<?, ?it/s]"
      ]
     },
     "metadata": {},
     "output_type": "display_data"
    },
    {
     "data": {
      "application/vnd.jupyter.widget-view+json": {
       "model_id": "2544558e7d104f1f826b02780157bcb9",
       "version_major": 2,
       "version_minor": 0
      },
      "text/plain": [
       "r = 7.211084365844727:   0%|          | 0/10 [00:00<?, ?it/s]"
      ]
     },
     "metadata": {},
     "output_type": "display_data"
    },
    {
     "data": {
      "application/vnd.jupyter.widget-view+json": {
       "model_id": "0d77bb1023e547dabd994dad3a7f567f",
       "version_major": 2,
       "version_minor": 0
      },
      "text/plain": [
       "r = 7.177952766418457:   0%|          | 0/10 [00:00<?, ?it/s]"
      ]
     },
     "metadata": {},
     "output_type": "display_data"
    },
    {
     "data": {
      "application/vnd.jupyter.widget-view+json": {
       "model_id": "097a8a15a027451cac47da98c9455169",
       "version_major": 2,
       "version_minor": 0
      },
      "text/plain": [
       "r = 7.144972801208496:   0%|          | 0/10 [00:00<?, ?it/s]"
      ]
     },
     "metadata": {},
     "output_type": "display_data"
    },
    {
     "data": {
      "application/vnd.jupyter.widget-view+json": {
       "model_id": "65e0c0dfc53b4e06b39d5676ef6db25f",
       "version_major": 2,
       "version_minor": 0
      },
      "text/plain": [
       "r = 7.112144947052002:   0%|          | 0/10 [00:00<?, ?it/s]"
      ]
     },
     "metadata": {},
     "output_type": "display_data"
    },
    {
     "data": {
      "application/vnd.jupyter.widget-view+json": {
       "model_id": "d1d3e0ab800d490295bf932f16e62cba",
       "version_major": 2,
       "version_minor": 0
      },
      "text/plain": [
       "r = 7.0794677734375:   0%|          | 0/10 [00:00<?, ?it/s]"
      ]
     },
     "metadata": {},
     "output_type": "display_data"
    },
    {
     "data": {
      "application/vnd.jupyter.widget-view+json": {
       "model_id": "8cc13adea86c4a298086ec9372aaa281",
       "version_major": 2,
       "version_minor": 0
      },
      "text/plain": [
       "r = 7.046940326690674:   0%|          | 0/10 [00:00<?, ?it/s]"
      ]
     },
     "metadata": {},
     "output_type": "display_data"
    },
    {
     "data": {
      "application/vnd.jupyter.widget-view+json": {
       "model_id": "d6c3971b84734975befdae153bb7f7f6",
       "version_major": 2,
       "version_minor": 0
      },
      "text/plain": [
       "r = 7.014563083648682:   0%|          | 0/10 [00:00<?, ?it/s]"
      ]
     },
     "metadata": {},
     "output_type": "display_data"
    },
    {
     "data": {
      "application/vnd.jupyter.widget-view+json": {
       "model_id": "fbd186c8d1d1494692b2f503352a277e",
       "version_major": 2,
       "version_minor": 0
      },
      "text/plain": [
       "r = 6.982334136962891:   0%|          | 0/10 [00:00<?, ?it/s]"
      ]
     },
     "metadata": {},
     "output_type": "display_data"
    },
    {
     "data": {
      "application/vnd.jupyter.widget-view+json": {
       "model_id": "a6ef45add79d40bcbd2663919dac9f6c",
       "version_major": 2,
       "version_minor": 0
      },
      "text/plain": [
       "r = 6.950253486633301:   0%|          | 0/10 [00:00<?, ?it/s]"
      ]
     },
     "metadata": {},
     "output_type": "display_data"
    },
    {
     "data": {
      "application/vnd.jupyter.widget-view+json": {
       "model_id": "a5c2c4eb82734695ae5caaf7c7f58215",
       "version_major": 2,
       "version_minor": 0
      },
      "text/plain": [
       "r = 6.918320178985596:   0%|          | 0/10 [00:00<?, ?it/s]"
      ]
     },
     "metadata": {},
     "output_type": "display_data"
    },
    {
     "data": {
      "application/vnd.jupyter.widget-view+json": {
       "model_id": "bb3026564c9949c1836a952f4a02b5ce",
       "version_major": 2,
       "version_minor": 0
      },
      "text/plain": [
       "r = 6.886532783508301:   0%|          | 0/10 [00:00<?, ?it/s]"
      ]
     },
     "metadata": {},
     "output_type": "display_data"
    },
    {
     "data": {
      "application/vnd.jupyter.widget-view+json": {
       "model_id": "adf0a67fa8064426981828d0709d06bf",
       "version_major": 2,
       "version_minor": 0
      },
      "text/plain": [
       "r = 6.854892253875732:   0%|          | 0/10 [00:00<?, ?it/s]"
      ]
     },
     "metadata": {},
     "output_type": "display_data"
    },
    {
     "data": {
      "application/vnd.jupyter.widget-view+json": {
       "model_id": "beae5b47cf854fd0b784be47697413c4",
       "version_major": 2,
       "version_minor": 0
      },
      "text/plain": [
       "r = 6.823397159576416:   0%|          | 0/10 [00:00<?, ?it/s]"
      ]
     },
     "metadata": {},
     "output_type": "display_data"
    },
    {
     "data": {
      "application/vnd.jupyter.widget-view+json": {
       "model_id": "b9024b46350b401fba0eac58565ec6db",
       "version_major": 2,
       "version_minor": 0
      },
      "text/plain": [
       "r = 6.792047023773193:   0%|          | 0/10 [00:00<?, ?it/s]"
      ]
     },
     "metadata": {},
     "output_type": "display_data"
    },
    {
     "data": {
      "application/vnd.jupyter.widget-view+json": {
       "model_id": "86048d7bac45456f9cdd2ef1a0940d11",
       "version_major": 2,
       "version_minor": 0
      },
      "text/plain": [
       "r = 6.76084041595459:   0%|          | 0/10 [00:00<?, ?it/s]"
      ]
     },
     "metadata": {},
     "output_type": "display_data"
    },
    {
     "data": {
      "application/vnd.jupyter.widget-view+json": {
       "model_id": "92896bf6d2244801bbe652c618fb74ad",
       "version_major": 2,
       "version_minor": 0
      },
      "text/plain": [
       "r = 6.7297773361206055:   0%|          | 0/10 [00:00<?, ?it/s]"
      ]
     },
     "metadata": {},
     "output_type": "display_data"
    },
    {
     "data": {
      "application/vnd.jupyter.widget-view+json": {
       "model_id": "ab61c5a4076644849be1193f864fa0df",
       "version_major": 2,
       "version_minor": 0
      },
      "text/plain": [
       "r = 6.698856830596924:   0%|          | 0/10 [00:00<?, ?it/s]"
      ]
     },
     "metadata": {},
     "output_type": "display_data"
    },
    {
     "data": {
      "application/vnd.jupyter.widget-view+json": {
       "model_id": "007686eef12843f1824ffa95e51d60fc",
       "version_major": 2,
       "version_minor": 0
      },
      "text/plain": [
       "r = 6.668078422546387:   0%|          | 0/10 [00:00<?, ?it/s]"
      ]
     },
     "metadata": {},
     "output_type": "display_data"
    },
    {
     "data": {
      "application/vnd.jupyter.widget-view+json": {
       "model_id": "6cc7b895432f4bb08e52c0d7160a38b4",
       "version_major": 2,
       "version_minor": 0
      },
      "text/plain": [
       "r = 6.637441635131836:   0%|          | 0/10 [00:00<?, ?it/s]"
      ]
     },
     "metadata": {},
     "output_type": "display_data"
    },
    {
     "data": {
      "application/vnd.jupyter.widget-view+json": {
       "model_id": "1c0a40d457174b71963cf467fe8927a6",
       "version_major": 2,
       "version_minor": 0
      },
      "text/plain": [
       "r = 6.606945514678955:   0%|          | 0/10 [00:00<?, ?it/s]"
      ]
     },
     "metadata": {},
     "output_type": "display_data"
    },
    {
     "data": {
      "application/vnd.jupyter.widget-view+json": {
       "model_id": "195ecfd7358745cd9e1436c2322c4afc",
       "version_major": 2,
       "version_minor": 0
      },
      "text/plain": [
       "r = 6.576589584350586:   0%|          | 0/10 [00:00<?, ?it/s]"
      ]
     },
     "metadata": {},
     "output_type": "display_data"
    },
    {
     "data": {
      "application/vnd.jupyter.widget-view+json": {
       "model_id": "a25196a36d914af6a585469532ff3e10",
       "version_major": 2,
       "version_minor": 0
      },
      "text/plain": [
       "r = 6.546372890472412:   0%|          | 0/10 [00:00<?, ?it/s]"
      ]
     },
     "metadata": {},
     "output_type": "display_data"
    },
    {
     "data": {
      "application/vnd.jupyter.widget-view+json": {
       "model_id": "7ec38e0386b548288d71f9a4badcc890",
       "version_major": 2,
       "version_minor": 0
      },
      "text/plain": [
       "r = 6.516294956207275:   0%|          | 0/10 [00:00<?, ?it/s]"
      ]
     },
     "metadata": {},
     "output_type": "display_data"
    },
    {
     "data": {
      "application/vnd.jupyter.widget-view+json": {
       "model_id": "5fe5fa8a7f2d4e44aafad9cd753c8ea0",
       "version_major": 2,
       "version_minor": 0
      },
      "text/plain": [
       "r = 6.486355781555176:   0%|          | 0/10 [00:00<?, ?it/s]"
      ]
     },
     "metadata": {},
     "output_type": "display_data"
    },
    {
     "data": {
      "application/vnd.jupyter.widget-view+json": {
       "model_id": "7e3cff0425544c27bea0475ee3a56597",
       "version_major": 2,
       "version_minor": 0
      },
      "text/plain": [
       "r = 6.4565534591674805:   0%|          | 0/10 [00:00<?, ?it/s]"
      ]
     },
     "metadata": {},
     "output_type": "display_data"
    },
    {
     "data": {
      "application/vnd.jupyter.widget-view+json": {
       "model_id": "30cc4834399b4c369ef6a58cbe63fca5",
       "version_major": 2,
       "version_minor": 0
      },
      "text/plain": [
       "r = 6.426888465881348:   0%|          | 0/10 [00:00<?, ?it/s]"
      ]
     },
     "metadata": {},
     "output_type": "display_data"
    },
    {
     "data": {
      "application/vnd.jupyter.widget-view+json": {
       "model_id": "a599cddcfcfe4e4c890dbec442fbb830",
       "version_major": 2,
       "version_minor": 0
      },
      "text/plain": [
       "r = 6.397359848022461:   0%|          | 0/10 [00:00<?, ?it/s]"
      ]
     },
     "metadata": {},
     "output_type": "display_data"
    },
    {
     "data": {
      "application/vnd.jupyter.widget-view+json": {
       "model_id": "dc9926ef0a824100bd4e5ccee6b14c83",
       "version_major": 2,
       "version_minor": 0
      },
      "text/plain": [
       "r = 6.367966651916504:   0%|          | 0/10 [00:00<?, ?it/s]"
      ]
     },
     "metadata": {},
     "output_type": "display_data"
    },
    {
     "data": {
      "application/vnd.jupyter.widget-view+json": {
       "model_id": "a5784203aa224df9b25b9a548a024c92",
       "version_major": 2,
       "version_minor": 0
      },
      "text/plain": [
       "r = 6.338708400726318:   0%|          | 0/10 [00:00<?, ?it/s]"
      ]
     },
     "metadata": {},
     "output_type": "display_data"
    },
    {
     "data": {
      "application/vnd.jupyter.widget-view+json": {
       "model_id": "7171804e5e5949f8933841dae560aae6",
       "version_major": 2,
       "version_minor": 0
      },
      "text/plain": [
       "r = 6.309585094451904:   0%|          | 0/10 [00:00<?, ?it/s]"
      ]
     },
     "metadata": {},
     "output_type": "display_data"
    },
    {
     "data": {
      "application/vnd.jupyter.widget-view+json": {
       "model_id": "6a8024868b594250b99d9d4f5816d77b",
       "version_major": 2,
       "version_minor": 0
      },
      "text/plain": [
       "r = 6.280594825744629:   0%|          | 0/10 [00:00<?, ?it/s]"
      ]
     },
     "metadata": {},
     "output_type": "display_data"
    },
    {
     "data": {
      "application/vnd.jupyter.widget-view+json": {
       "model_id": "626747d44203487c8aaef21b4a391115",
       "version_major": 2,
       "version_minor": 0
      },
      "text/plain": [
       "r = 6.251738548278809:   0%|          | 0/10 [00:00<?, ?it/s]"
      ]
     },
     "metadata": {},
     "output_type": "display_data"
    },
    {
     "data": {
      "application/vnd.jupyter.widget-view+json": {
       "model_id": "955a5ca4a58c4e389e1f37dc712598f6",
       "version_major": 2,
       "version_minor": 0
      },
      "text/plain": [
       "r = 6.223014831542969:   0%|          | 0/10 [00:00<?, ?it/s]"
      ]
     },
     "metadata": {},
     "output_type": "display_data"
    },
    {
     "data": {
      "application/vnd.jupyter.widget-view+json": {
       "model_id": "300c02012d484bd78cc3d42e385851f0",
       "version_major": 2,
       "version_minor": 0
      },
      "text/plain": [
       "r = 6.194422245025635:   0%|          | 0/10 [00:00<?, ?it/s]"
      ]
     },
     "metadata": {},
     "output_type": "display_data"
    },
    {
     "data": {
      "application/vnd.jupyter.widget-view+json": {
       "model_id": "28f6751ffae7473aadefe74944b5e833",
       "version_major": 2,
       "version_minor": 0
      },
      "text/plain": [
       "r = 6.165961742401123:   0%|          | 0/10 [00:00<?, ?it/s]"
      ]
     },
     "metadata": {},
     "output_type": "display_data"
    },
    {
     "data": {
      "application/vnd.jupyter.widget-view+json": {
       "model_id": "b5248859db634cc186c782a8557a43d5",
       "version_major": 2,
       "version_minor": 0
      },
      "text/plain": [
       "r = 6.137632369995117:   0%|          | 0/10 [00:00<?, ?it/s]"
      ]
     },
     "metadata": {},
     "output_type": "display_data"
    },
    {
     "data": {
      "application/vnd.jupyter.widget-view+json": {
       "model_id": "2107a7c1fa7447c78f4f2528eec57269",
       "version_major": 2,
       "version_minor": 0
      },
      "text/plain": [
       "r = 6.109432220458984:   0%|          | 0/10 [00:00<?, ?it/s]"
      ]
     },
     "metadata": {},
     "output_type": "display_data"
    },
    {
     "data": {
      "application/vnd.jupyter.widget-view+json": {
       "model_id": "1d91727e75c244d7adbe01bef17ea719",
       "version_major": 2,
       "version_minor": 0
      },
      "text/plain": [
       "r = 6.081361770629883:   0%|          | 0/10 [00:00<?, ?it/s]"
      ]
     },
     "metadata": {},
     "output_type": "display_data"
    },
    {
     "data": {
      "application/vnd.jupyter.widget-view+json": {
       "model_id": "8aa291b6effa4056a8c03c329be54829",
       "version_major": 2,
       "version_minor": 0
      },
      "text/plain": [
       "r = 6.0534210205078125:   0%|          | 0/10 [00:00<?, ?it/s]"
      ]
     },
     "metadata": {},
     "output_type": "display_data"
    },
    {
     "data": {
      "application/vnd.jupyter.widget-view+json": {
       "model_id": "4c3717cb83f540abbd498704d04ecb49",
       "version_major": 2,
       "version_minor": 0
      },
      "text/plain": [
       "r = 6.025608062744141:   0%|          | 0/10 [00:00<?, ?it/s]"
      ]
     },
     "metadata": {},
     "output_type": "display_data"
    },
    {
     "data": {
      "application/vnd.jupyter.widget-view+json": {
       "model_id": "80ab981f3ef54d9f8df3fda838b4f56b",
       "version_major": 2,
       "version_minor": 0
      },
      "text/plain": [
       "r = 5.997922897338867:   0%|          | 0/10 [00:00<?, ?it/s]"
      ]
     },
     "metadata": {},
     "output_type": "display_data"
    },
    {
     "data": {
      "application/vnd.jupyter.widget-view+json": {
       "model_id": "20cb0618c0764bc68c740fd76068860f",
       "version_major": 2,
       "version_minor": 0
      },
      "text/plain": [
       "r = 5.970364570617676:   0%|          | 0/10 [00:00<?, ?it/s]"
      ]
     },
     "metadata": {},
     "output_type": "display_data"
    },
    {
     "data": {
      "application/vnd.jupyter.widget-view+json": {
       "model_id": "3ae34cda138547a598adca47ffe0f1fd",
       "version_major": 2,
       "version_minor": 0
      },
      "text/plain": [
       "r = 5.942934036254883:   0%|          | 0/10 [00:00<?, ?it/s]"
      ]
     },
     "metadata": {},
     "output_type": "display_data"
    },
    {
     "data": {
      "application/vnd.jupyter.widget-view+json": {
       "model_id": "269af168448b4558aebc23eb27371e5d",
       "version_major": 2,
       "version_minor": 0
      },
      "text/plain": [
       "r = 5.915628433227539:   0%|          | 0/10 [00:00<?, ?it/s]"
      ]
     },
     "metadata": {},
     "output_type": "display_data"
    },
    {
     "data": {
      "application/vnd.jupyter.widget-view+json": {
       "model_id": "59e4cebee22f41a2a76baf480e80c75c",
       "version_major": 2,
       "version_minor": 0
      },
      "text/plain": [
       "r = 5.888448715209961:   0%|          | 0/10 [00:00<?, ?it/s]"
      ]
     },
     "metadata": {},
     "output_type": "display_data"
    },
    {
     "data": {
      "application/vnd.jupyter.widget-view+json": {
       "model_id": "ddbd0b0084184e758d390a0e9e8f7849",
       "version_major": 2,
       "version_minor": 0
      },
      "text/plain": [
       "r = 5.861393928527832:   0%|          | 0/10 [00:00<?, ?it/s]"
      ]
     },
     "metadata": {},
     "output_type": "display_data"
    },
    {
     "data": {
      "application/vnd.jupyter.widget-view+json": {
       "model_id": "aec528597b6545e686d4ca2f2f0a8c56",
       "version_major": 2,
       "version_minor": 0
      },
      "text/plain": [
       "r = 5.834463119506836:   0%|          | 0/10 [00:00<?, ?it/s]"
      ]
     },
     "metadata": {},
     "output_type": "display_data"
    },
    {
     "data": {
      "application/vnd.jupyter.widget-view+json": {
       "model_id": "f157b01a1ae046fd952f49f1cbe37e51",
       "version_major": 2,
       "version_minor": 0
      },
      "text/plain": [
       "r = 5.807656764984131:   0%|          | 0/10 [00:00<?, ?it/s]"
      ]
     },
     "metadata": {},
     "output_type": "display_data"
    },
    {
     "data": {
      "application/vnd.jupyter.widget-view+json": {
       "model_id": "c4b7ccc4265f4f65b8ad46081324e6f8",
       "version_major": 2,
       "version_minor": 0
      },
      "text/plain": [
       "r = 5.780972957611084:   0%|          | 0/10 [00:00<?, ?it/s]"
      ]
     },
     "metadata": {},
     "output_type": "display_data"
    },
    {
     "data": {
      "application/vnd.jupyter.widget-view+json": {
       "model_id": "646201e2d63642e7a0509b4664f8f38d",
       "version_major": 2,
       "version_minor": 0
      },
      "text/plain": [
       "r = 5.754411697387695:   0%|          | 0/10 [00:00<?, ?it/s]"
      ]
     },
     "metadata": {},
     "output_type": "display_data"
    },
    {
     "data": {
      "application/vnd.jupyter.widget-view+json": {
       "model_id": "21619db7113541fbbdf61edac669851a",
       "version_major": 2,
       "version_minor": 0
      },
      "text/plain": [
       "r = 5.727972984313965:   0%|          | 0/10 [00:00<?, ?it/s]"
      ]
     },
     "metadata": {},
     "output_type": "display_data"
    },
    {
     "data": {
      "application/vnd.jupyter.widget-view+json": {
       "model_id": "0d6fcc20116c41b99cd49b26e949aec3",
       "version_major": 2,
       "version_minor": 0
      },
      "text/plain": [
       "r = 5.701655387878418:   0%|          | 0/10 [00:00<?, ?it/s]"
      ]
     },
     "metadata": {},
     "output_type": "display_data"
    },
    {
     "data": {
      "application/vnd.jupyter.widget-view+json": {
       "model_id": "c85b41e8ee14454f861b4e4b50012b5e",
       "version_major": 2,
       "version_minor": 0
      },
      "text/plain": [
       "r = 5.675458908081055:   0%|          | 0/10 [00:00<?, ?it/s]"
      ]
     },
     "metadata": {},
     "output_type": "display_data"
    },
    {
     "data": {
      "application/vnd.jupyter.widget-view+json": {
       "model_id": "e30d121a23b946de8bfddb8908bc8ee3",
       "version_major": 2,
       "version_minor": 0
      },
      "text/plain": [
       "r = 5.649382591247559:   0%|          | 0/10 [00:00<?, ?it/s]"
      ]
     },
     "metadata": {},
     "output_type": "display_data"
    },
    {
     "data": {
      "application/vnd.jupyter.widget-view+json": {
       "model_id": "3cdfad2cd3d04e9aacae03ada9c29f91",
       "version_major": 2,
       "version_minor": 0
      },
      "text/plain": [
       "r = 5.6234259605407715:   0%|          | 0/10 [00:00<?, ?it/s]"
      ]
     },
     "metadata": {},
     "output_type": "display_data"
    },
    {
     "data": {
      "application/vnd.jupyter.widget-view+json": {
       "model_id": "ebc440b532ff4378abd4b3424795bf7b",
       "version_major": 2,
       "version_minor": 0
      },
      "text/plain": [
       "r = 5.597589015960693:   0%|          | 0/10 [00:00<?, ?it/s]"
      ]
     },
     "metadata": {},
     "output_type": "display_data"
    },
    {
     "data": {
      "application/vnd.jupyter.widget-view+json": {
       "model_id": "8695af9b7b9342178b4445c7e903a10b",
       "version_major": 2,
       "version_minor": 0
      },
      "text/plain": [
       "r = 5.57187032699585:   0%|          | 0/10 [00:00<?, ?it/s]"
      ]
     },
     "metadata": {},
     "output_type": "display_data"
    },
    {
     "data": {
      "application/vnd.jupyter.widget-view+json": {
       "model_id": "7bf6d8d071434ccdb4d4ff321650df49",
       "version_major": 2,
       "version_minor": 0
      },
      "text/plain": [
       "r = 5.54626989364624:   0%|          | 0/10 [00:00<?, ?it/s]"
      ]
     },
     "metadata": {},
     "output_type": "display_data"
    },
    {
     "data": {
      "application/vnd.jupyter.widget-view+json": {
       "model_id": "fddf72b4ee4f4f5180253408c0951153",
       "version_major": 2,
       "version_minor": 0
      },
      "text/plain": [
       "r = 5.520787239074707:   0%|          | 0/10 [00:00<?, ?it/s]"
      ]
     },
     "metadata": {},
     "output_type": "display_data"
    },
    {
     "data": {
      "application/vnd.jupyter.widget-view+json": {
       "model_id": "e74c343cd9e449299540919920106735",
       "version_major": 2,
       "version_minor": 0
      },
      "text/plain": [
       "r = 5.495421886444092:   0%|          | 0/10 [00:00<?, ?it/s]"
      ]
     },
     "metadata": {},
     "output_type": "display_data"
    },
    {
     "data": {
      "application/vnd.jupyter.widget-view+json": {
       "model_id": "8eb34e309bc2430ba37bd05666844b43",
       "version_major": 2,
       "version_minor": 0
      },
      "text/plain": [
       "r = 5.470172882080078:   0%|          | 0/10 [00:00<?, ?it/s]"
      ]
     },
     "metadata": {},
     "output_type": "display_data"
    },
    {
     "data": {
      "application/vnd.jupyter.widget-view+json": {
       "model_id": "b9d40697a9b24966b278ab5e733de78c",
       "version_major": 2,
       "version_minor": 0
      },
      "text/plain": [
       "r = 5.445039749145508:   0%|          | 0/10 [00:00<?, ?it/s]"
      ]
     },
     "metadata": {},
     "output_type": "display_data"
    },
    {
     "data": {
      "application/vnd.jupyter.widget-view+json": {
       "model_id": "ef62895dd2174d37bf986bbe5081f0b4",
       "version_major": 2,
       "version_minor": 0
      },
      "text/plain": [
       "r = 5.420022010803223:   0%|          | 0/10 [00:00<?, ?it/s]"
      ]
     },
     "metadata": {},
     "output_type": "display_data"
    },
    {
     "data": {
      "application/vnd.jupyter.widget-view+json": {
       "model_id": "4915c68fb5f342239aa6b68b90e9c819",
       "version_major": 2,
       "version_minor": 0
      },
      "text/plain": [
       "r = 5.3951191902160645:   0%|          | 0/10 [00:00<?, ?it/s]"
      ]
     },
     "metadata": {},
     "output_type": "display_data"
    },
    {
     "data": {
      "application/vnd.jupyter.widget-view+json": {
       "model_id": "15752bd5c0ed45b399114f537035ebb3",
       "version_major": 2,
       "version_minor": 0
      },
      "text/plain": [
       "r = 5.370331287384033:   0%|          | 0/10 [00:00<?, ?it/s]"
      ]
     },
     "metadata": {},
     "output_type": "display_data"
    },
    {
     "data": {
      "application/vnd.jupyter.widget-view+json": {
       "model_id": "4f08a605f28f4efd95d45c97a651343f",
       "version_major": 2,
       "version_minor": 0
      },
      "text/plain": [
       "r = 5.345656871795654:   0%|          | 0/10 [00:00<?, ?it/s]"
      ]
     },
     "metadata": {},
     "output_type": "display_data"
    },
    {
     "data": {
      "application/vnd.jupyter.widget-view+json": {
       "model_id": "7490705f97794bcbb409acd7d85357f6",
       "version_major": 2,
       "version_minor": 0
      },
      "text/plain": [
       "r = 5.321096420288086:   0%|          | 0/10 [00:00<?, ?it/s]"
      ]
     },
     "metadata": {},
     "output_type": "display_data"
    },
    {
     "data": {
      "application/vnd.jupyter.widget-view+json": {
       "model_id": "5faf092ee17e4c838bf52163982df374",
       "version_major": 2,
       "version_minor": 0
      },
      "text/plain": [
       "r = 5.296647548675537:   0%|          | 0/10 [00:00<?, ?it/s]"
      ]
     },
     "metadata": {},
     "output_type": "display_data"
    },
    {
     "data": {
      "application/vnd.jupyter.widget-view+json": {
       "model_id": "4981980e3ac14f178215dbf15a847a57",
       "version_major": 2,
       "version_minor": 0
      },
      "text/plain": [
       "r = 5.272312164306641:   0%|          | 0/10 [00:00<?, ?it/s]"
      ]
     },
     "metadata": {},
     "output_type": "display_data"
    },
    {
     "data": {
      "application/vnd.jupyter.widget-view+json": {
       "model_id": "c33c910fa4e54941ad3b23659dc956f7",
       "version_major": 2,
       "version_minor": 0
      },
      "text/plain": [
       "r = 5.248088359832764:   0%|          | 0/10 [00:00<?, ?it/s]"
      ]
     },
     "metadata": {},
     "output_type": "display_data"
    },
    {
     "data": {
      "application/vnd.jupyter.widget-view+json": {
       "model_id": "d4768bf619d04de088da5c4104d076f2",
       "version_major": 2,
       "version_minor": 0
      },
      "text/plain": [
       "r = 5.22397518157959:   0%|          | 0/10 [00:00<?, ?it/s]"
      ]
     },
     "metadata": {},
     "output_type": "display_data"
    },
    {
     "data": {
      "application/vnd.jupyter.widget-view+json": {
       "model_id": "fec754f69ab34512a5d94a69818aa598",
       "version_major": 2,
       "version_minor": 0
      },
      "text/plain": [
       "r = 5.1999735832214355:   0%|          | 0/10 [00:00<?, ?it/s]"
      ]
     },
     "metadata": {},
     "output_type": "display_data"
    },
    {
     "data": {
      "application/vnd.jupyter.widget-view+json": {
       "model_id": "2df7a7f03aa2442d9ac63b488d7343a1",
       "version_major": 2,
       "version_minor": 0
      },
      "text/plain": [
       "r = 5.176081657409668:   0%|          | 0/10 [00:00<?, ?it/s]"
      ]
     },
     "metadata": {},
     "output_type": "display_data"
    },
    {
     "data": {
      "application/vnd.jupyter.widget-view+json": {
       "model_id": "63ca3f9e3f80448eba1c8f0f747a2f4d",
       "version_major": 2,
       "version_minor": 0
      },
      "text/plain": [
       "r = 5.152299880981445:   0%|          | 0/10 [00:00<?, ?it/s]"
      ]
     },
     "metadata": {},
     "output_type": "display_data"
    },
    {
     "data": {
      "application/vnd.jupyter.widget-view+json": {
       "model_id": "8c418f462c9944bd8c00dad8d61d9b46",
       "version_major": 2,
       "version_minor": 0
      },
      "text/plain": [
       "r = 5.128627300262451:   0%|          | 0/10 [00:00<?, ?it/s]"
      ]
     },
     "metadata": {},
     "output_type": "display_data"
    },
    {
     "data": {
      "application/vnd.jupyter.widget-view+json": {
       "model_id": "a95be11dbe1942f59cd6378e84bc4a1a",
       "version_major": 2,
       "version_minor": 0
      },
      "text/plain": [
       "r = 5.1050639152526855:   0%|          | 0/10 [00:00<?, ?it/s]"
      ]
     },
     "metadata": {},
     "output_type": "display_data"
    },
    {
     "data": {
      "application/vnd.jupyter.widget-view+json": {
       "model_id": "d915e8b1dcb545b5a87ef6cad6740538",
       "version_major": 2,
       "version_minor": 0
      },
      "text/plain": [
       "r = 5.081608295440674:   0%|          | 0/10 [00:00<?, ?it/s]"
      ]
     },
     "metadata": {},
     "output_type": "display_data"
    },
    {
     "data": {
      "application/vnd.jupyter.widget-view+json": {
       "model_id": "5a6a1aa7ff6e4a58a2e7736b861bc1e5",
       "version_major": 2,
       "version_minor": 0
      },
      "text/plain": [
       "r = 5.058260440826416:   0%|          | 0/10 [00:00<?, ?it/s]"
      ]
     },
     "metadata": {},
     "output_type": "display_data"
    },
    {
     "data": {
      "application/vnd.jupyter.widget-view+json": {
       "model_id": "2a002a39f914484d9f37efd567d6d738",
       "version_major": 2,
       "version_minor": 0
      },
      "text/plain": [
       "r = 5.035019397735596:   0%|          | 0/10 [00:00<?, ?it/s]"
      ]
     },
     "metadata": {},
     "output_type": "display_data"
    },
    {
     "data": {
      "application/vnd.jupyter.widget-view+json": {
       "model_id": "857bcc71a9d94d5bb79e9491c310fafc",
       "version_major": 2,
       "version_minor": 0
      },
      "text/plain": [
       "r = 5.0118865966796875:   0%|          | 0/10 [00:00<?, ?it/s]"
      ]
     },
     "metadata": {},
     "output_type": "display_data"
    },
    {
     "data": {
      "application/vnd.jupyter.widget-view+json": {
       "model_id": "6cf3c45452e64fc288b1ce0284ecc8c8",
       "version_major": 2,
       "version_minor": 0
      },
      "text/plain": [
       "r = 4.988858699798584:   0%|          | 0/10 [00:00<?, ?it/s]"
      ]
     },
     "metadata": {},
     "output_type": "display_data"
    },
    {
     "data": {
      "application/vnd.jupyter.widget-view+json": {
       "model_id": "be403c833a36486aa137131b4bda8585",
       "version_major": 2,
       "version_minor": 0
      },
      "text/plain": [
       "r = 4.96593713760376:   0%|          | 0/10 [00:00<?, ?it/s]"
      ]
     },
     "metadata": {},
     "output_type": "display_data"
    },
    {
     "data": {
      "application/vnd.jupyter.widget-view+json": {
       "model_id": "c3d57e55459548e98491b6defa69a4ea",
       "version_major": 2,
       "version_minor": 0
      },
      "text/plain": [
       "r = 4.943120956420898:   0%|          | 0/10 [00:00<?, ?it/s]"
      ]
     },
     "metadata": {},
     "output_type": "display_data"
    },
    {
     "data": {
      "application/vnd.jupyter.widget-view+json": {
       "model_id": "4ddc35a97a614a3bbb8bbd3da280ce27",
       "version_major": 2,
       "version_minor": 0
      },
      "text/plain": [
       "r = 4.920409202575684:   0%|          | 0/10 [00:00<?, ?it/s]"
      ]
     },
     "metadata": {},
     "output_type": "display_data"
    },
    {
     "data": {
      "application/vnd.jupyter.widget-view+json": {
       "model_id": "ffce46277ff445f6adddf0df1acc4570",
       "version_major": 2,
       "version_minor": 0
      },
      "text/plain": [
       "r = 4.897802352905273:   0%|          | 0/10 [00:00<?, ?it/s]"
      ]
     },
     "metadata": {},
     "output_type": "display_data"
    },
    {
     "data": {
      "application/vnd.jupyter.widget-view+json": {
       "model_id": "edcfb2b8dc09475a90c8d7227c11e959",
       "version_major": 2,
       "version_minor": 0
      },
      "text/plain": [
       "r = 4.875298500061035:   0%|          | 0/10 [00:00<?, ?it/s]"
      ]
     },
     "metadata": {},
     "output_type": "display_data"
    },
    {
     "data": {
      "application/vnd.jupyter.widget-view+json": {
       "model_id": "1a4f21257ebf44a28c6fe1b36bb6c8e8",
       "version_major": 2,
       "version_minor": 0
      },
      "text/plain": [
       "r = 4.852899074554443:   0%|          | 0/10 [00:00<?, ?it/s]"
      ]
     },
     "metadata": {},
     "output_type": "display_data"
    },
    {
     "data": {
      "application/vnd.jupyter.widget-view+json": {
       "model_id": "400d2f777dbe44a286114459352da230",
       "version_major": 2,
       "version_minor": 0
      },
      "text/plain": [
       "r = 4.830602169036865:   0%|          | 0/10 [00:00<?, ?it/s]"
      ]
     },
     "metadata": {},
     "output_type": "display_data"
    },
    {
     "data": {
      "application/vnd.jupyter.widget-view+json": {
       "model_id": "9d3652e4bc1e44dd948fb3e92b1a609d",
       "version_major": 2,
       "version_minor": 0
      },
      "text/plain": [
       "r = 4.808407306671143:   0%|          | 0/10 [00:00<?, ?it/s]"
      ]
     },
     "metadata": {},
     "output_type": "display_data"
    },
    {
     "data": {
      "application/vnd.jupyter.widget-view+json": {
       "model_id": "5a94fb8bc7584274bdfd639eaba90d73",
       "version_major": 2,
       "version_minor": 0
      },
      "text/plain": [
       "r = 4.786314964294434:   0%|          | 0/10 [00:00<?, ?it/s]"
      ]
     },
     "metadata": {},
     "output_type": "display_data"
    },
    {
     "data": {
      "application/vnd.jupyter.widget-view+json": {
       "model_id": "f232d510a99146ef9be5b0794190431e",
       "version_major": 2,
       "version_minor": 0
      },
      "text/plain": [
       "r = 4.764323711395264:   0%|          | 0/10 [00:00<?, ?it/s]"
      ]
     },
     "metadata": {},
     "output_type": "display_data"
    },
    {
     "data": {
      "application/vnd.jupyter.widget-view+json": {
       "model_id": "ecb2f548852243acb79dee7306464b55",
       "version_major": 2,
       "version_minor": 0
      },
      "text/plain": [
       "r = 4.742434024810791:   0%|          | 0/10 [00:00<?, ?it/s]"
      ]
     },
     "metadata": {},
     "output_type": "display_data"
    },
    {
     "data": {
      "application/vnd.jupyter.widget-view+json": {
       "model_id": "0329bab4d00449a7bacdcbe7f67cf75c",
       "version_major": 2,
       "version_minor": 0
      },
      "text/plain": [
       "r = 4.720644474029541:   0%|          | 0/10 [00:00<?, ?it/s]"
      ]
     },
     "metadata": {},
     "output_type": "display_data"
    },
    {
     "data": {
      "application/vnd.jupyter.widget-view+json": {
       "model_id": "5e3d0f402ecb4b209f07fe2bee7ad0ae",
       "version_major": 2,
       "version_minor": 0
      },
      "text/plain": [
       "r = 4.698955059051514:   0%|          | 0/10 [00:00<?, ?it/s]"
      ]
     },
     "metadata": {},
     "output_type": "display_data"
    },
    {
     "data": {
      "application/vnd.jupyter.widget-view+json": {
       "model_id": "0d0af2b4aa3345da89936824fa4a3136",
       "version_major": 2,
       "version_minor": 0
      },
      "text/plain": [
       "r = 4.677365303039551:   0%|          | 0/10 [00:00<?, ?it/s]"
      ]
     },
     "metadata": {},
     "output_type": "display_data"
    },
    {
     "data": {
      "application/vnd.jupyter.widget-view+json": {
       "model_id": "459210047a4a49b283fb70a9067aba2a",
       "version_major": 2,
       "version_minor": 0
      },
      "text/plain": [
       "r = 4.655875205993652:   0%|          | 0/10 [00:00<?, ?it/s]"
      ]
     },
     "metadata": {},
     "output_type": "display_data"
    },
    {
     "data": {
      "application/vnd.jupyter.widget-view+json": {
       "model_id": "c6e1d2b93bfe4cdc87f07c66bdadc79b",
       "version_major": 2,
       "version_minor": 0
      },
      "text/plain": [
       "r = 4.634483337402344:   0%|          | 0/10 [00:00<?, ?it/s]"
      ]
     },
     "metadata": {},
     "output_type": "display_data"
    },
    {
     "data": {
      "application/vnd.jupyter.widget-view+json": {
       "model_id": "dc801b05c07e4084ae1d3a9e1e1c7a16",
       "version_major": 2,
       "version_minor": 0
      },
      "text/plain": [
       "r = 4.613190174102783:   0%|          | 0/10 [00:00<?, ?it/s]"
      ]
     },
     "metadata": {},
     "output_type": "display_data"
    },
    {
     "data": {
      "application/vnd.jupyter.widget-view+json": {
       "model_id": "2f1a44b0f91148228fb6341289a85ee2",
       "version_major": 2,
       "version_minor": 0
      },
      "text/plain": [
       "r = 4.591994285583496:   0%|          | 0/10 [00:00<?, ?it/s]"
      ]
     },
     "metadata": {},
     "output_type": "display_data"
    },
    {
     "data": {
      "application/vnd.jupyter.widget-view+json": {
       "model_id": "bfde81463c424a159fdfed8f133ce4a9",
       "version_major": 2,
       "version_minor": 0
      },
      "text/plain": [
       "r = 4.570896148681641:   0%|          | 0/10 [00:00<?, ?it/s]"
      ]
     },
     "metadata": {},
     "output_type": "display_data"
    },
    {
     "data": {
      "application/vnd.jupyter.widget-view+json": {
       "model_id": "0ea2cf1f432d40ec82ed1170605f2454",
       "version_major": 2,
       "version_minor": 0
      },
      "text/plain": [
       "r = 4.5498948097229:   0%|          | 0/10 [00:00<?, ?it/s]"
      ]
     },
     "metadata": {},
     "output_type": "display_data"
    },
    {
     "data": {
      "application/vnd.jupyter.widget-view+json": {
       "model_id": "72a8710e6b9145218081d1bdcb180fcb",
       "version_major": 2,
       "version_minor": 0
      },
      "text/plain": [
       "r = 4.528990268707275:   0%|          | 0/10 [00:00<?, ?it/s]"
      ]
     },
     "metadata": {},
     "output_type": "display_data"
    },
    {
     "data": {
      "application/vnd.jupyter.widget-view+json": {
       "model_id": "95761438870c4f90bb1588dd47fc8a08",
       "version_major": 2,
       "version_minor": 0
      },
      "text/plain": [
       "r = 4.508181095123291:   0%|          | 0/10 [00:00<?, ?it/s]"
      ]
     },
     "metadata": {},
     "output_type": "display_data"
    },
    {
     "data": {
      "application/vnd.jupyter.widget-view+json": {
       "model_id": "31908d30ea354929b3803d7232987a05",
       "version_major": 2,
       "version_minor": 0
      },
      "text/plain": [
       "r = 4.487468242645264:   0%|          | 0/10 [00:00<?, ?it/s]"
      ]
     },
     "metadata": {},
     "output_type": "display_data"
    },
    {
     "data": {
      "application/vnd.jupyter.widget-view+json": {
       "model_id": "d987323233ce4a22a12ee67598698df4",
       "version_major": 2,
       "version_minor": 0
      },
      "text/plain": [
       "r = 4.466850280761719:   0%|          | 0/10 [00:00<?, ?it/s]"
      ]
     },
     "metadata": {},
     "output_type": "display_data"
    },
    {
     "data": {
      "application/vnd.jupyter.widget-view+json": {
       "model_id": "ba6686e6412e4717910f28675ee3b955",
       "version_major": 2,
       "version_minor": 0
      },
      "text/plain": [
       "r = 4.446327209472656:   0%|          | 0/10 [00:00<?, ?it/s]"
      ]
     },
     "metadata": {},
     "output_type": "display_data"
    },
    {
     "data": {
      "application/vnd.jupyter.widget-view+json": {
       "model_id": "1b02cc9aa2244d29b94313a0b721c043",
       "version_major": 2,
       "version_minor": 0
      },
      "text/plain": [
       "r = 4.42589807510376:   0%|          | 0/10 [00:00<?, ?it/s]"
      ]
     },
     "metadata": {},
     "output_type": "display_data"
    },
    {
     "data": {
      "application/vnd.jupyter.widget-view+json": {
       "model_id": "2ffc70d77f6c451aaafe8a208c9e795b",
       "version_major": 2,
       "version_minor": 0
      },
      "text/plain": [
       "r = 4.405562877655029:   0%|          | 0/10 [00:00<?, ?it/s]"
      ]
     },
     "metadata": {},
     "output_type": "display_data"
    },
    {
     "data": {
      "application/vnd.jupyter.widget-view+json": {
       "model_id": "364ca64119574b6087b4317cd9c94ce8",
       "version_major": 2,
       "version_minor": 0
      },
      "text/plain": [
       "r = 4.385321617126465:   0%|          | 0/10 [00:00<?, ?it/s]"
      ]
     },
     "metadata": {},
     "output_type": "display_data"
    },
    {
     "data": {
      "application/vnd.jupyter.widget-view+json": {
       "model_id": "7411511f8ae94483946fcad69340d93a",
       "version_major": 2,
       "version_minor": 0
      },
      "text/plain": [
       "r = 4.365172863006592:   0%|          | 0/10 [00:00<?, ?it/s]"
      ]
     },
     "metadata": {},
     "output_type": "display_data"
    },
    {
     "data": {
      "application/vnd.jupyter.widget-view+json": {
       "model_id": "da3981b5401d47f1a9da4f746e0e8541",
       "version_major": 2,
       "version_minor": 0
      },
      "text/plain": [
       "r = 4.34511661529541:   0%|          | 0/10 [00:00<?, ?it/s]"
      ]
     },
     "metadata": {},
     "output_type": "display_data"
    },
    {
     "data": {
      "application/vnd.jupyter.widget-view+json": {
       "model_id": "b9a3dae0ee0f472f99f20340c4d8ec42",
       "version_major": 2,
       "version_minor": 0
      },
      "text/plain": [
       "r = 4.325152397155762:   0%|          | 0/10 [00:00<?, ?it/s]"
      ]
     },
     "metadata": {},
     "output_type": "display_data"
    },
    {
     "data": {
      "application/vnd.jupyter.widget-view+json": {
       "model_id": "2aa456feee874cceb8373b6044103813",
       "version_major": 2,
       "version_minor": 0
      },
      "text/plain": [
       "r = 4.305280685424805:   0%|          | 0/10 [00:00<?, ?it/s]"
      ]
     },
     "metadata": {},
     "output_type": "display_data"
    },
    {
     "data": {
      "application/vnd.jupyter.widget-view+json": {
       "model_id": "c8ed5172259c45d08f08a8ae7b7a8847",
       "version_major": 2,
       "version_minor": 0
      },
      "text/plain": [
       "r = 4.285499572753906:   0%|          | 0/10 [00:00<?, ?it/s]"
      ]
     },
     "metadata": {},
     "output_type": "display_data"
    },
    {
     "data": {
      "application/vnd.jupyter.widget-view+json": {
       "model_id": "82a529b1cb7d4a078775659905e597c3",
       "version_major": 2,
       "version_minor": 0
      },
      "text/plain": [
       "r = 4.265809535980225:   0%|          | 0/10 [00:00<?, ?it/s]"
      ]
     },
     "metadata": {},
     "output_type": "display_data"
    },
    {
     "data": {
      "application/vnd.jupyter.widget-view+json": {
       "model_id": "80154ab7e0d54db59d472b004886db59",
       "version_major": 2,
       "version_minor": 0
      },
      "text/plain": [
       "r = 4.246210098266602:   0%|          | 0/10 [00:00<?, ?it/s]"
      ]
     },
     "metadata": {},
     "output_type": "display_data"
    },
    {
     "data": {
      "application/vnd.jupyter.widget-view+json": {
       "model_id": "a9ebef791f63427b93f871b188dc19fa",
       "version_major": 2,
       "version_minor": 0
      },
      "text/plain": [
       "r = 4.226700782775879:   0%|          | 0/10 [00:00<?, ?it/s]"
      ]
     },
     "metadata": {},
     "output_type": "display_data"
    },
    {
     "data": {
      "application/vnd.jupyter.widget-view+json": {
       "model_id": "24127a871de645aa8370eb894b17cf24",
       "version_major": 2,
       "version_minor": 0
      },
      "text/plain": [
       "r = 4.207281112670898:   0%|          | 0/10 [00:00<?, ?it/s]"
      ]
     },
     "metadata": {},
     "output_type": "display_data"
    },
    {
     "data": {
      "application/vnd.jupyter.widget-view+json": {
       "model_id": "83b851a3a11d4b728042c37d678a46ab",
       "version_major": 2,
       "version_minor": 0
      },
      "text/plain": [
       "r = 4.187950134277344:   0%|          | 0/10 [00:00<?, ?it/s]"
      ]
     },
     "metadata": {},
     "output_type": "display_data"
    },
    {
     "data": {
      "application/vnd.jupyter.widget-view+json": {
       "model_id": "dbdc582a145244edb92ab85baa6f9c35",
       "version_major": 2,
       "version_minor": 0
      },
      "text/plain": [
       "r = 4.168708324432373:   0%|          | 0/10 [00:00<?, ?it/s]"
      ]
     },
     "metadata": {},
     "output_type": "display_data"
    },
    {
     "data": {
      "application/vnd.jupyter.widget-view+json": {
       "model_id": "965893793ca249cf90529c25fc543543",
       "version_major": 2,
       "version_minor": 0
      },
      "text/plain": [
       "r = 4.149555206298828:   0%|          | 0/10 [00:00<?, ?it/s]"
      ]
     },
     "metadata": {},
     "output_type": "display_data"
    },
    {
     "data": {
      "application/vnd.jupyter.widget-view+json": {
       "model_id": "141f19d9910b471eacdc3e9fa7d320ef",
       "version_major": 2,
       "version_minor": 0
      },
      "text/plain": [
       "r = 4.130489349365234:   0%|          | 0/10 [00:00<?, ?it/s]"
      ]
     },
     "metadata": {},
     "output_type": "display_data"
    },
    {
     "data": {
      "application/vnd.jupyter.widget-view+json": {
       "model_id": "c5cda6fcecce4d77902280c43c2507cf",
       "version_major": 2,
       "version_minor": 0
      },
      "text/plain": [
       "r = 4.111511707305908:   0%|          | 0/10 [00:00<?, ?it/s]"
      ]
     },
     "metadata": {},
     "output_type": "display_data"
    },
    {
     "data": {
      "application/vnd.jupyter.widget-view+json": {
       "model_id": "09f0a2ceabc54d60a39326b232fa0ff1",
       "version_major": 2,
       "version_minor": 0
      },
      "text/plain": [
       "r = 4.092621326446533:   0%|          | 0/10 [00:00<?, ?it/s]"
      ]
     },
     "metadata": {},
     "output_type": "display_data"
    },
    {
     "data": {
      "application/vnd.jupyter.widget-view+json": {
       "model_id": "8147dc16db7e453381bbeba6866367b1",
       "version_major": 2,
       "version_minor": 0
      },
      "text/plain": [
       "r = 4.073817253112793:   0%|          | 0/10 [00:00<?, ?it/s]"
      ]
     },
     "metadata": {},
     "output_type": "display_data"
    },
    {
     "data": {
      "application/vnd.jupyter.widget-view+json": {
       "model_id": "50c3a751cdd94fb3a614c0ced7da171e",
       "version_major": 2,
       "version_minor": 0
      },
      "text/plain": [
       "r = 4.055099964141846:   0%|          | 0/10 [00:00<?, ?it/s]"
      ]
     },
     "metadata": {},
     "output_type": "display_data"
    },
    {
     "data": {
      "application/vnd.jupyter.widget-view+json": {
       "model_id": "f0d0daa194b34b829832fe3e892aab2b",
       "version_major": 2,
       "version_minor": 0
      },
      "text/plain": [
       "r = 4.036468505859375:   0%|          | 0/10 [00:00<?, ?it/s]"
      ]
     },
     "metadata": {},
     "output_type": "display_data"
    },
    {
     "data": {
      "application/vnd.jupyter.widget-view+json": {
       "model_id": "2bfac44c15774fbab00d8df770113f58",
       "version_major": 2,
       "version_minor": 0
      },
      "text/plain": [
       "r = 4.017922401428223:   0%|          | 0/10 [00:00<?, ?it/s]"
      ]
     },
     "metadata": {},
     "output_type": "display_data"
    },
    {
     "data": {
      "application/vnd.jupyter.widget-view+json": {
       "model_id": "815af870fcb74a77a5f32863aa6a18f5",
       "version_major": 2,
       "version_minor": 0
      },
      "text/plain": [
       "r = 3.999462127685547:   0%|          | 0/10 [00:00<?, ?it/s]"
      ]
     },
     "metadata": {},
     "output_type": "display_data"
    },
    {
     "data": {
      "application/vnd.jupyter.widget-view+json": {
       "model_id": "61347c3795a44110b7e1afe09b77215d",
       "version_major": 2,
       "version_minor": 0
      },
      "text/plain": [
       "r = 3.981086254119873:   0%|          | 0/10 [00:00<?, ?it/s]"
      ]
     },
     "metadata": {},
     "output_type": "display_data"
    },
    {
     "data": {
      "application/vnd.jupyter.widget-view+json": {
       "model_id": "d2b311682448498bbf7dbcd5ce33b5a1",
       "version_major": 2,
       "version_minor": 0
      },
      "text/plain": [
       "r = 3.962794780731201:   0%|          | 0/10 [00:00<?, ?it/s]"
      ]
     },
     "metadata": {},
     "output_type": "display_data"
    },
    {
     "data": {
      "application/vnd.jupyter.widget-view+json": {
       "model_id": "99e72659d8004d6bb2c74916bb79768d",
       "version_major": 2,
       "version_minor": 0
      },
      "text/plain": [
       "r = 3.9445877075195312:   0%|          | 0/10 [00:00<?, ?it/s]"
      ]
     },
     "metadata": {},
     "output_type": "display_data"
    },
    {
     "data": {
      "application/vnd.jupyter.widget-view+json": {
       "model_id": "6fa00a67e7204196b42e5b5354f6b9c1",
       "version_major": 2,
       "version_minor": 0
      },
      "text/plain": [
       "r = 3.926464080810547:   0%|          | 0/10 [00:00<?, ?it/s]"
      ]
     },
     "metadata": {},
     "output_type": "display_data"
    },
    {
     "data": {
      "application/vnd.jupyter.widget-view+json": {
       "model_id": "49bbddf0b7854312a2cebc9bb8be743b",
       "version_major": 2,
       "version_minor": 0
      },
      "text/plain": [
       "r = 3.90842342376709:   0%|          | 0/10 [00:00<?, ?it/s]"
      ]
     },
     "metadata": {},
     "output_type": "display_data"
    },
    {
     "data": {
      "application/vnd.jupyter.widget-view+json": {
       "model_id": "57d58441933c411084806fb09331bd27",
       "version_major": 2,
       "version_minor": 0
      },
      "text/plain": [
       "r = 3.8904662132263184:   0%|          | 0/10 [00:00<?, ?it/s]"
      ]
     },
     "metadata": {},
     "output_type": "display_data"
    },
    {
     "data": {
      "application/vnd.jupyter.widget-view+json": {
       "model_id": "95e30798909046db9a6f2d0cfb6e2986",
       "version_major": 2,
       "version_minor": 0
      },
      "text/plain": [
       "r = 3.872591018676758:   0%|          | 0/10 [00:00<?, ?it/s]"
      ]
     },
     "metadata": {},
     "output_type": "display_data"
    },
    {
     "data": {
      "application/vnd.jupyter.widget-view+json": {
       "model_id": "eeab638925e642aeb67b6a8e220ae648",
       "version_major": 2,
       "version_minor": 0
      },
      "text/plain": [
       "r = 3.8547980785369873:   0%|          | 0/10 [00:00<?, ?it/s]"
      ]
     },
     "metadata": {},
     "output_type": "display_data"
    },
    {
     "data": {
      "application/vnd.jupyter.widget-view+json": {
       "model_id": "df1442383fc04d639d2b16a4bfb54221",
       "version_major": 2,
       "version_minor": 0
      },
      "text/plain": [
       "r = 3.8370871543884277:   0%|          | 0/10 [00:00<?, ?it/s]"
      ]
     },
     "metadata": {},
     "output_type": "display_data"
    },
    {
     "data": {
      "application/vnd.jupyter.widget-view+json": {
       "model_id": "9e9e5775af244504b59a859eaf6ba21c",
       "version_major": 2,
       "version_minor": 0
      },
      "text/plain": [
       "r = 3.8194572925567627:   0%|          | 0/10 [00:00<?, ?it/s]"
      ]
     },
     "metadata": {},
     "output_type": "display_data"
    },
    {
     "data": {
      "application/vnd.jupyter.widget-view+json": {
       "model_id": "694cf0db65c845b380e26dfcf2ea796d",
       "version_major": 2,
       "version_minor": 0
      },
      "text/plain": [
       "r = 3.801908493041992:   0%|          | 0/10 [00:00<?, ?it/s]"
      ]
     },
     "metadata": {},
     "output_type": "display_data"
    },
    {
     "data": {
      "application/vnd.jupyter.widget-view+json": {
       "model_id": "58df97ce70ef41f2bfdb869a5a72dea5",
       "version_major": 2,
       "version_minor": 0
      },
      "text/plain": [
       "r = 3.784440517425537:   0%|          | 0/10 [00:00<?, ?it/s]"
      ]
     },
     "metadata": {},
     "output_type": "display_data"
    },
    {
     "data": {
      "application/vnd.jupyter.widget-view+json": {
       "model_id": "71efce3b38534cbaa2fcb67f6c4dff48",
       "version_major": 2,
       "version_minor": 0
      },
      "text/plain": [
       "r = 3.76705265045166:   0%|          | 0/10 [00:00<?, ?it/s]"
      ]
     },
     "metadata": {},
     "output_type": "display_data"
    },
    {
     "data": {
      "application/vnd.jupyter.widget-view+json": {
       "model_id": "11df88dd43994b8a8d27c41d005fa568",
       "version_major": 2,
       "version_minor": 0
      },
      "text/plain": [
       "r = 3.7497446537017822:   0%|          | 0/10 [00:00<?, ?it/s]"
      ]
     },
     "metadata": {},
     "output_type": "display_data"
    },
    {
     "data": {
      "application/vnd.jupyter.widget-view+json": {
       "model_id": "5d3808b30120488bbfa74230de3e84cc",
       "version_major": 2,
       "version_minor": 0
      },
      "text/plain": [
       "r = 3.732516288757324:   0%|          | 0/10 [00:00<?, ?it/s]"
      ]
     },
     "metadata": {},
     "output_type": "display_data"
    },
    {
     "data": {
      "application/vnd.jupyter.widget-view+json": {
       "model_id": "6e76df749f4d4f7e8e77cb0ef59c63d6",
       "version_major": 2,
       "version_minor": 0
      },
      "text/plain": [
       "r = 3.715367078781128:   0%|          | 0/10 [00:00<?, ?it/s]"
      ]
     },
     "metadata": {},
     "output_type": "display_data"
    },
    {
     "data": {
      "application/vnd.jupyter.widget-view+json": {
       "model_id": "d6f8e0e2788c4d55a6d01ef62ddc94e8",
       "version_major": 2,
       "version_minor": 0
      },
      "text/plain": [
       "r = 3.698296308517456:   0%|          | 0/10 [00:00<?, ?it/s]"
      ]
     },
     "metadata": {},
     "output_type": "display_data"
    },
    {
     "data": {
      "application/vnd.jupyter.widget-view+json": {
       "model_id": "21d8352a34a64919aab4865e11b2a9ea",
       "version_major": 2,
       "version_minor": 0
      },
      "text/plain": [
       "r = 3.681304454803467:   0%|          | 0/10 [00:00<?, ?it/s]"
      ]
     },
     "metadata": {},
     "output_type": "display_data"
    },
    {
     "data": {
      "application/vnd.jupyter.widget-view+json": {
       "model_id": "fca10a6d5a8b4bc1873334d80db70df9",
       "version_major": 2,
       "version_minor": 0
      },
      "text/plain": [
       "r = 3.6643905639648438:   0%|          | 0/10 [00:00<?, ?it/s]"
      ]
     },
     "metadata": {},
     "output_type": "display_data"
    },
    {
     "data": {
      "application/vnd.jupyter.widget-view+json": {
       "model_id": "41c4a33593d44f0bb733485ecb5bd3bd",
       "version_major": 2,
       "version_minor": 0
      },
      "text/plain": [
       "r = 3.6475539207458496:   0%|          | 0/10 [00:00<?, ?it/s]"
      ]
     },
     "metadata": {},
     "output_type": "display_data"
    },
    {
     "data": {
      "application/vnd.jupyter.widget-view+json": {
       "model_id": "b51dab1cfa534b45b1a7421cb8ddf1df",
       "version_major": 2,
       "version_minor": 0
      },
      "text/plain": [
       "r = 3.6307952404022217:   0%|          | 0/10 [00:00<?, ?it/s]"
      ]
     },
     "metadata": {},
     "output_type": "display_data"
    },
    {
     "data": {
      "application/vnd.jupyter.widget-view+json": {
       "model_id": "de56f68e68bf4db2b18908acf92f2099",
       "version_major": 2,
       "version_minor": 0
      },
      "text/plain": [
       "r = 3.6141133308410645:   0%|          | 0/10 [00:00<?, ?it/s]"
      ]
     },
     "metadata": {},
     "output_type": "display_data"
    },
    {
     "data": {
      "application/vnd.jupyter.widget-view+json": {
       "model_id": "f1537eaaeee048a197a605062446a4de",
       "version_major": 2,
       "version_minor": 0
      },
      "text/plain": [
       "r = 3.597507953643799:   0%|          | 0/10 [00:00<?, ?it/s]"
      ]
     },
     "metadata": {},
     "output_type": "display_data"
    },
    {
     "data": {
      "application/vnd.jupyter.widget-view+json": {
       "model_id": "81d01bdc6f72466295a8fbf18b24a7c5",
       "version_major": 2,
       "version_minor": 0
      },
      "text/plain": [
       "r = 3.580979108810425:   0%|          | 0/10 [00:00<?, ?it/s]"
      ]
     },
     "metadata": {},
     "output_type": "display_data"
    },
    {
     "data": {
      "application/vnd.jupyter.widget-view+json": {
       "model_id": "00cd5eb1e0354af19109c9d331d5cfa8",
       "version_major": 2,
       "version_minor": 0
      },
      "text/plain": [
       "r = 3.564525842666626:   0%|          | 0/10 [00:00<?, ?it/s]"
      ]
     },
     "metadata": {},
     "output_type": "display_data"
    },
    {
     "data": {
      "application/vnd.jupyter.widget-view+json": {
       "model_id": "7089e08adfdc44c6907c1271d413901e",
       "version_major": 2,
       "version_minor": 0
      },
      "text/plain": [
       "r = 3.5481486320495605:   0%|          | 0/10 [00:00<?, ?it/s]"
      ]
     },
     "metadata": {},
     "output_type": "display_data"
    },
    {
     "data": {
      "application/vnd.jupyter.widget-view+json": {
       "model_id": "644d8a75114c41dab701685a2fc48c2e",
       "version_major": 2,
       "version_minor": 0
      },
      "text/plain": [
       "r = 3.531846523284912:   0%|          | 0/10 [00:00<?, ?it/s]"
      ]
     },
     "metadata": {},
     "output_type": "display_data"
    },
    {
     "data": {
      "application/vnd.jupyter.widget-view+json": {
       "model_id": "1422358d8dfb472fa4a2e3af694cf7f2",
       "version_major": 2,
       "version_minor": 0
      },
      "text/plain": [
       "r = 3.5156190395355225:   0%|          | 0/10 [00:00<?, ?it/s]"
      ]
     },
     "metadata": {},
     "output_type": "display_data"
    },
    {
     "data": {
      "application/vnd.jupyter.widget-view+json": {
       "model_id": "b6d549fa314d4d528a512cfd0bc8711a",
       "version_major": 2,
       "version_minor": 0
      },
      "text/plain": [
       "r = 3.4994661808013916:   0%|          | 0/10 [00:00<?, ?it/s]"
      ]
     },
     "metadata": {},
     "output_type": "display_data"
    },
    {
     "data": {
      "application/vnd.jupyter.widget-view+json": {
       "model_id": "27989580b6b5496fbddafbfcfd6e526c",
       "version_major": 2,
       "version_minor": 0
      },
      "text/plain": [
       "r = 3.4833879470825195:   0%|          | 0/10 [00:00<?, ?it/s]"
      ]
     },
     "metadata": {},
     "output_type": "display_data"
    },
    {
     "data": {
      "application/vnd.jupyter.widget-view+json": {
       "model_id": "2624b11c4582492aa6eb72096365943f",
       "version_major": 2,
       "version_minor": 0
      },
      "text/plain": [
       "r = 3.4673831462860107:   0%|          | 0/10 [00:00<?, ?it/s]"
      ]
     },
     "metadata": {},
     "output_type": "display_data"
    },
    {
     "data": {
      "application/vnd.jupyter.widget-view+json": {
       "model_id": "bd6c1e1a89c24b4da7b401b5f6eceea6",
       "version_major": 2,
       "version_minor": 0
      },
      "text/plain": [
       "r = 3.4514520168304443:   0%|          | 0/10 [00:00<?, ?it/s]"
      ]
     },
     "metadata": {},
     "output_type": "display_data"
    },
    {
     "data": {
      "application/vnd.jupyter.widget-view+json": {
       "model_id": "c133f75d6a704d33bce2c4916d6abe41",
       "version_major": 2,
       "version_minor": 0
      },
      "text/plain": [
       "r = 3.435594081878662:   0%|          | 0/10 [00:00<?, ?it/s]"
      ]
     },
     "metadata": {},
     "output_type": "display_data"
    },
    {
     "data": {
      "application/vnd.jupyter.widget-view+json": {
       "model_id": "21ccb5e7c8ad4ff29e6bf195486183a9",
       "version_major": 2,
       "version_minor": 0
      },
      "text/plain": [
       "r = 3.419809103012085:   0%|          | 0/10 [00:00<?, ?it/s]"
      ]
     },
     "metadata": {},
     "output_type": "display_data"
    },
    {
     "data": {
      "application/vnd.jupyter.widget-view+json": {
       "model_id": "73f5e6465623405392697fbd9ae08b84",
       "version_major": 2,
       "version_minor": 0
      },
      "text/plain": [
       "r = 3.4040963649749756:   0%|          | 0/10 [00:00<?, ?it/s]"
      ]
     },
     "metadata": {},
     "output_type": "display_data"
    },
    {
     "data": {
      "application/vnd.jupyter.widget-view+json": {
       "model_id": "8abfb4b0ae8d40d0bf617c44927c4ce0",
       "version_major": 2,
       "version_minor": 0
      },
      "text/plain": [
       "r = 3.388456106185913:   0%|          | 0/10 [00:00<?, ?it/s]"
      ]
     },
     "metadata": {},
     "output_type": "display_data"
    },
    {
     "data": {
      "application/vnd.jupyter.widget-view+json": {
       "model_id": "156d4fd229934dfc85d20ac83b0b3ba5",
       "version_major": 2,
       "version_minor": 0
      },
      "text/plain": [
       "r = 3.37288761138916:   0%|          | 0/10 [00:00<?, ?it/s]"
      ]
     },
     "metadata": {},
     "output_type": "display_data"
    },
    {
     "data": {
      "application/vnd.jupyter.widget-view+json": {
       "model_id": "3a9435cd3d8b485c8f7d24351478609b",
       "version_major": 2,
       "version_minor": 0
      },
      "text/plain": [
       "r = 3.357390880584717:   0%|          | 0/10 [00:00<?, ?it/s]"
      ]
     },
     "metadata": {},
     "output_type": "display_data"
    },
    {
     "data": {
      "application/vnd.jupyter.widget-view+json": {
       "model_id": "7ad810fa17e044108af4b01816033e6d",
       "version_major": 2,
       "version_minor": 0
      },
      "text/plain": [
       "r = 3.3419651985168457:   0%|          | 0/10 [00:00<?, ?it/s]"
      ]
     },
     "metadata": {},
     "output_type": "display_data"
    },
    {
     "data": {
      "application/vnd.jupyter.widget-view+json": {
       "model_id": "aaeb6658f17847529bee1a5038d0e01f",
       "version_major": 2,
       "version_minor": 0
      },
      "text/plain": [
       "r = 3.3266100883483887:   0%|          | 0/10 [00:00<?, ?it/s]"
      ]
     },
     "metadata": {},
     "output_type": "display_data"
    },
    {
     "data": {
      "application/vnd.jupyter.widget-view+json": {
       "model_id": "7f8833a1bafe4d31af7170bc7ce1b4f7",
       "version_major": 2,
       "version_minor": 0
      },
      "text/plain": [
       "r = 3.311326026916504:   0%|          | 0/10 [00:00<?, ?it/s]"
      ]
     },
     "metadata": {},
     "output_type": "display_data"
    },
    {
     "data": {
      "application/vnd.jupyter.widget-view+json": {
       "model_id": "e7d58879353e4c0080a75b846251f99b",
       "version_major": 2,
       "version_minor": 0
      },
      "text/plain": [
       "r = 3.296111822128296:   0%|          | 0/10 [00:00<?, ?it/s]"
      ]
     },
     "metadata": {},
     "output_type": "display_data"
    },
    {
     "data": {
      "application/vnd.jupyter.widget-view+json": {
       "model_id": "8b4b7fe5eb584e32a366afad154f63a5",
       "version_major": 2,
       "version_minor": 0
      },
      "text/plain": [
       "r = 3.2809674739837646:   0%|          | 0/10 [00:00<?, ?it/s]"
      ]
     },
     "metadata": {},
     "output_type": "display_data"
    },
    {
     "data": {
      "application/vnd.jupyter.widget-view+json": {
       "model_id": "2cf7051dde024f9bae1ced77fdc9770e",
       "version_major": 2,
       "version_minor": 0
      },
      "text/plain": [
       "r = 3.26589298248291:   0%|          | 0/10 [00:00<?, ?it/s]"
      ]
     },
     "metadata": {},
     "output_type": "display_data"
    },
    {
     "data": {
      "application/vnd.jupyter.widget-view+json": {
       "model_id": "36e98babf7fe4ab984e12913c490d1f4",
       "version_major": 2,
       "version_minor": 0
      },
      "text/plain": [
       "r = 3.250887393951416:   0%|          | 0/10 [00:00<?, ?it/s]"
      ]
     },
     "metadata": {},
     "output_type": "display_data"
    },
    {
     "data": {
      "application/vnd.jupyter.widget-view+json": {
       "model_id": "a2ffcb6688d549d281330bd68e58d0ee",
       "version_major": 2,
       "version_minor": 0
      },
      "text/plain": [
       "r = 3.2359509468078613:   0%|          | 0/10 [00:00<?, ?it/s]"
      ]
     },
     "metadata": {},
     "output_type": "display_data"
    },
    {
     "data": {
      "application/vnd.jupyter.widget-view+json": {
       "model_id": "07cf8426eec74eb7a586ef215124f52b",
       "version_major": 2,
       "version_minor": 0
      },
      "text/plain": [
       "r = 3.221083164215088:   0%|          | 0/10 [00:00<?, ?it/s]"
      ]
     },
     "metadata": {},
     "output_type": "display_data"
    },
    {
     "data": {
      "application/vnd.jupyter.widget-view+json": {
       "model_id": "b3c0932de09c475483299e6332c9bc40",
       "version_major": 2,
       "version_minor": 0
      },
      "text/plain": [
       "r = 3.2062838077545166:   0%|          | 0/10 [00:00<?, ?it/s]"
      ]
     },
     "metadata": {},
     "output_type": "display_data"
    },
    {
     "data": {
      "application/vnd.jupyter.widget-view+json": {
       "model_id": "6837635ad4bc46e9ba134e04fd5a739f",
       "version_major": 2,
       "version_minor": 0
      },
      "text/plain": [
       "r = 3.1915524005889893:   0%|          | 0/10 [00:00<?, ?it/s]"
      ]
     },
     "metadata": {},
     "output_type": "display_data"
    },
    {
     "data": {
      "application/vnd.jupyter.widget-view+json": {
       "model_id": "0d6219b72f024b70ae9c69ddb2e22255",
       "version_major": 2,
       "version_minor": 0
      },
      "text/plain": [
       "r = 3.1768884658813477:   0%|          | 0/10 [00:00<?, ?it/s]"
      ]
     },
     "metadata": {},
     "output_type": "display_data"
    },
    {
     "data": {
      "application/vnd.jupyter.widget-view+json": {
       "model_id": "b6b0aa488ed54334b167c2e2fcd4a4b8",
       "version_major": 2,
       "version_minor": 0
      },
      "text/plain": [
       "r = 3.162292242050171:   0%|          | 0/10 [00:00<?, ?it/s]"
      ]
     },
     "metadata": {},
     "output_type": "display_data"
    },
    {
     "data": {
      "application/vnd.jupyter.widget-view+json": {
       "model_id": "3cbced85c417452b940caf05b576e03f",
       "version_major": 2,
       "version_minor": 0
      },
      "text/plain": [
       "r = 3.1477627754211426:   0%|          | 0/10 [00:00<?, ?it/s]"
      ]
     },
     "metadata": {},
     "output_type": "display_data"
    },
    {
     "data": {
      "application/vnd.jupyter.widget-view+json": {
       "model_id": "3f4f97217d784de6bd8c827e0401a602",
       "version_major": 2,
       "version_minor": 0
      },
      "text/plain": [
       "r = 3.133300304412842:   0%|          | 0/10 [00:00<?, ?it/s]"
      ]
     },
     "metadata": {},
     "output_type": "display_data"
    },
    {
     "data": {
      "application/vnd.jupyter.widget-view+json": {
       "model_id": "0e194a8e64604cdeb5c9cc62f97d6bbe",
       "version_major": 2,
       "version_minor": 0
      },
      "text/plain": [
       "r = 3.118903875350952:   0%|          | 0/10 [00:00<?, ?it/s]"
      ]
     },
     "metadata": {},
     "output_type": "display_data"
    },
    {
     "data": {
      "application/vnd.jupyter.widget-view+json": {
       "model_id": "f2a26a1030fe42399927f98890c697e2",
       "version_major": 2,
       "version_minor": 0
      },
      "text/plain": [
       "r = 3.104574203491211:   0%|          | 0/10 [00:00<?, ?it/s]"
      ]
     },
     "metadata": {},
     "output_type": "display_data"
    },
    {
     "data": {
      "application/vnd.jupyter.widget-view+json": {
       "model_id": "02809e48ca8f4188b20dc1726d2ae882",
       "version_major": 2,
       "version_minor": 0
      },
      "text/plain": [
       "r = 3.0903098583221436:   0%|          | 0/10 [00:00<?, ?it/s]"
      ]
     },
     "metadata": {},
     "output_type": "display_data"
    },
    {
     "data": {
      "application/vnd.jupyter.widget-view+json": {
       "model_id": "80b8e74f21124175acbda984cee996b9",
       "version_major": 2,
       "version_minor": 0
      },
      "text/plain": [
       "r = 3.076111078262329:   0%|          | 0/10 [00:00<?, ?it/s]"
      ]
     },
     "metadata": {},
     "output_type": "display_data"
    },
    {
     "data": {
      "application/vnd.jupyter.widget-view+json": {
       "model_id": "16f201c706854798ab079a96d122ebc9",
       "version_major": 2,
       "version_minor": 0
      },
      "text/plain": [
       "r = 3.0619778633117676:   0%|          | 0/10 [00:00<?, ?it/s]"
      ]
     },
     "metadata": {},
     "output_type": "display_data"
    },
    {
     "data": {
      "application/vnd.jupyter.widget-view+json": {
       "model_id": "b7c913e7c93446af98b07951fab75a83",
       "version_major": 2,
       "version_minor": 0
      },
      "text/plain": [
       "r = 3.0479094982147217:   0%|          | 0/10 [00:00<?, ?it/s]"
      ]
     },
     "metadata": {},
     "output_type": "display_data"
    },
    {
     "data": {
      "application/vnd.jupyter.widget-view+json": {
       "model_id": "4b1b8d0d09e94935857dd8cc4b2770ae",
       "version_major": 2,
       "version_minor": 0
      },
      "text/plain": [
       "r = 3.033905506134033:   0%|          | 0/10 [00:00<?, ?it/s]"
      ]
     },
     "metadata": {},
     "output_type": "display_data"
    },
    {
     "data": {
      "application/vnd.jupyter.widget-view+json": {
       "model_id": "92549caa2deb41b8aa46cfa0ce3f4f0b",
       "version_major": 2,
       "version_minor": 0
      },
      "text/plain": [
       "r = 3.0199661254882812:   0%|          | 0/10 [00:00<?, ?it/s]"
      ]
     },
     "metadata": {},
     "output_type": "display_data"
    },
    {
     "data": {
      "application/vnd.jupyter.widget-view+json": {
       "model_id": "fa7b4cc7c1524dbfb4fa59674553bf8a",
       "version_major": 2,
       "version_minor": 0
      },
      "text/plain": [
       "r = 3.0060906410217285:   0%|          | 0/10 [00:00<?, ?it/s]"
      ]
     },
     "metadata": {},
     "output_type": "display_data"
    },
    {
     "data": {
      "application/vnd.jupyter.widget-view+json": {
       "model_id": "953d1110c64345f88cbe5793d2559dcb",
       "version_major": 2,
       "version_minor": 0
      },
      "text/plain": [
       "r = 2.992279052734375:   0%|          | 0/10 [00:00<?, ?it/s]"
      ]
     },
     "metadata": {},
     "output_type": "display_data"
    },
    {
     "data": {
      "application/vnd.jupyter.widget-view+json": {
       "model_id": "8b5bb5e0aadb49e48dc0ae187a07b35c",
       "version_major": 2,
       "version_minor": 0
      },
      "text/plain": [
       "r = 2.9785308837890625:   0%|          | 0/10 [00:00<?, ?it/s]"
      ]
     },
     "metadata": {},
     "output_type": "display_data"
    },
    {
     "data": {
      "application/vnd.jupyter.widget-view+json": {
       "model_id": "1013e838dd694c63821a7606922d2727",
       "version_major": 2,
       "version_minor": 0
      },
      "text/plain": [
       "r = 2.964845657348633:   0%|          | 0/10 [00:00<?, ?it/s]"
      ]
     },
     "metadata": {},
     "output_type": "display_data"
    },
    {
     "data": {
      "application/vnd.jupyter.widget-view+json": {
       "model_id": "5bee955ed7bc492681edf6142754d4e2",
       "version_major": 2,
       "version_minor": 0
      },
      "text/plain": [
       "r = 2.951223611831665:   0%|          | 0/10 [00:00<?, ?it/s]"
      ]
     },
     "metadata": {},
     "output_type": "display_data"
    },
    {
     "data": {
      "application/vnd.jupyter.widget-view+json": {
       "model_id": "854269eeedc34a0e9cb45ff10f511442",
       "version_major": 2,
       "version_minor": 0
      },
      "text/plain": [
       "r = 2.9376637935638428:   0%|          | 0/10 [00:00<?, ?it/s]"
      ]
     },
     "metadata": {},
     "output_type": "display_data"
    },
    {
     "data": {
      "application/vnd.jupyter.widget-view+json": {
       "model_id": "618eff20ad5e4fc09665334973732f22",
       "version_major": 2,
       "version_minor": 0
      },
      "text/plain": [
       "r = 2.924166679382324:   0%|          | 0/10 [00:00<?, ?it/s]"
      ]
     },
     "metadata": {},
     "output_type": "display_data"
    },
    {
     "data": {
      "application/vnd.jupyter.widget-view+json": {
       "model_id": "abaa858debaa4dadb76466f991859126",
       "version_major": 2,
       "version_minor": 0
      },
      "text/plain": [
       "r = 2.910731315612793:   0%|          | 0/10 [00:00<?, ?it/s]"
      ]
     },
     "metadata": {},
     "output_type": "display_data"
    },
    {
     "data": {
      "application/vnd.jupyter.widget-view+json": {
       "model_id": "8119e2f307434b928000a2eaa431c1c7",
       "version_major": 2,
       "version_minor": 0
      },
      "text/plain": [
       "r = 2.897357940673828:   0%|          | 0/10 [00:00<?, ?it/s]"
      ]
     },
     "metadata": {},
     "output_type": "display_data"
    },
    {
     "data": {
      "application/vnd.jupyter.widget-view+json": {
       "model_id": "e2427d5c77a34c0299f6d3a9c4d1ab4a",
       "version_major": 2,
       "version_minor": 0
      },
      "text/plain": [
       "r = 2.8840458393096924:   0%|          | 0/10 [00:00<?, ?it/s]"
      ]
     },
     "metadata": {},
     "output_type": "display_data"
    },
    {
     "data": {
      "application/vnd.jupyter.widget-view+json": {
       "model_id": "ab9b78b85e214b299799cba036171f31",
       "version_major": 2,
       "version_minor": 0
      },
      "text/plain": [
       "r = 2.8707947731018066:   0%|          | 0/10 [00:00<?, ?it/s]"
      ]
     },
     "metadata": {},
     "output_type": "display_data"
    },
    {
     "data": {
      "application/vnd.jupyter.widget-view+json": {
       "model_id": "813cd9a978c3475980e7e938c23c606a",
       "version_major": 2,
       "version_minor": 0
      },
      "text/plain": [
       "r = 2.857604503631592:   0%|          | 0/10 [00:00<?, ?it/s]"
      ]
     },
     "metadata": {},
     "output_type": "display_data"
    },
    {
     "data": {
      "application/vnd.jupyter.widget-view+json": {
       "model_id": "8666d454fbc54e7f825b46897ab38763",
       "version_major": 2,
       "version_minor": 0
      },
      "text/plain": [
       "r = 2.844475269317627:   0%|          | 0/10 [00:00<?, ?it/s]"
      ]
     },
     "metadata": {},
     "output_type": "display_data"
    },
    {
     "data": {
      "application/vnd.jupyter.widget-view+json": {
       "model_id": "832488484d6d48f8b8f01dcd617b84a1",
       "version_major": 2,
       "version_minor": 0
      },
      "text/plain": [
       "r = 2.831406354904175:   0%|          | 0/10 [00:00<?, ?it/s]"
      ]
     },
     "metadata": {},
     "output_type": "display_data"
    },
    {
     "data": {
      "application/vnd.jupyter.widget-view+json": {
       "model_id": "68301686f69544d9abcef9ee49939fb3",
       "version_major": 2,
       "version_minor": 0
      },
      "text/plain": [
       "r = 2.818397045135498:   0%|          | 0/10 [00:00<?, ?it/s]"
      ]
     },
     "metadata": {},
     "output_type": "display_data"
    },
    {
     "data": {
      "application/vnd.jupyter.widget-view+json": {
       "model_id": "6ceeeddc11d1415a893b903a0ceb4277",
       "version_major": 2,
       "version_minor": 0
      },
      "text/plain": [
       "r = 2.805447816848755:   0%|          | 0/10 [00:00<?, ?it/s]"
      ]
     },
     "metadata": {},
     "output_type": "display_data"
    },
    {
     "data": {
      "application/vnd.jupyter.widget-view+json": {
       "model_id": "536d6f591824461ba8c67c163062c373",
       "version_major": 2,
       "version_minor": 0
      },
      "text/plain": [
       "r = 2.792558193206787:   0%|          | 0/10 [00:00<?, ?it/s]"
      ]
     },
     "metadata": {},
     "output_type": "display_data"
    },
    {
     "data": {
      "application/vnd.jupyter.widget-view+json": {
       "model_id": "6ec18c6c676d4e30a83fcd31fdf1e5c6",
       "version_major": 2,
       "version_minor": 0
      },
      "text/plain": [
       "r = 2.7797272205352783:   0%|          | 0/10 [00:00<?, ?it/s]"
      ]
     },
     "metadata": {},
     "output_type": "display_data"
    },
    {
     "data": {
      "application/vnd.jupyter.widget-view+json": {
       "model_id": "848e18b4ab974ac2abc83695add20cf7",
       "version_major": 2,
       "version_minor": 0
      },
      "text/plain": [
       "r = 2.766955852508545:   0%|          | 0/10 [00:00<?, ?it/s]"
      ]
     },
     "metadata": {},
     "output_type": "display_data"
    },
    {
     "data": {
      "application/vnd.jupyter.widget-view+json": {
       "model_id": "70b2f23e27b946f98f0c048c946dd444",
       "version_major": 2,
       "version_minor": 0
      },
      "text/plain": [
       "r = 2.7542426586151123:   0%|          | 0/10 [00:00<?, ?it/s]"
      ]
     },
     "metadata": {},
     "output_type": "display_data"
    },
    {
     "data": {
      "application/vnd.jupyter.widget-view+json": {
       "model_id": "b8406f27f5174911aa5d434967b9fe78",
       "version_major": 2,
       "version_minor": 0
      },
      "text/plain": [
       "r = 2.7415883541107178:   0%|          | 0/10 [00:00<?, ?it/s]"
      ]
     },
     "metadata": {},
     "output_type": "display_data"
    },
    {
     "data": {
      "application/vnd.jupyter.widget-view+json": {
       "model_id": "27e30ab2c46a452db481ef911f9e11e2",
       "version_major": 2,
       "version_minor": 0
      },
      "text/plain": [
       "r = 2.728991746902466:   0%|          | 0/10 [00:00<?, ?it/s]"
      ]
     },
     "metadata": {},
     "output_type": "display_data"
    },
    {
     "data": {
      "application/vnd.jupyter.widget-view+json": {
       "model_id": "4f6cad9bb83e49c6a0adf215cff10ec2",
       "version_major": 2,
       "version_minor": 0
      },
      "text/plain": [
       "r = 2.7164533138275146:   0%|          | 0/10 [00:00<?, ?it/s]"
      ]
     },
     "metadata": {},
     "output_type": "display_data"
    },
    {
     "data": {
      "application/vnd.jupyter.widget-view+json": {
       "model_id": "9fb84c2695ab4d89a74196afb5f64e50",
       "version_major": 2,
       "version_minor": 0
      },
      "text/plain": [
       "r = 2.703972339630127:   0%|          | 0/10 [00:00<?, ?it/s]"
      ]
     },
     "metadata": {},
     "output_type": "display_data"
    },
    {
     "data": {
      "application/vnd.jupyter.widget-view+json": {
       "model_id": "e85ea57ed3924747b12fe566d2d0d802",
       "version_major": 2,
       "version_minor": 0
      },
      "text/plain": [
       "r = 2.6915488243103027:   0%|          | 0/10 [00:00<?, ?it/s]"
      ]
     },
     "metadata": {},
     "output_type": "display_data"
    },
    {
     "data": {
      "application/vnd.jupyter.widget-view+json": {
       "model_id": "86fe8bbaf8fb4d32b3370bc0375ebfbe",
       "version_major": 2,
       "version_minor": 0
      },
      "text/plain": [
       "r = 2.679182291030884:   0%|          | 0/10 [00:00<?, ?it/s]"
      ]
     },
     "metadata": {},
     "output_type": "display_data"
    },
    {
     "data": {
      "application/vnd.jupyter.widget-view+json": {
       "model_id": "36a891d97a094b20902d0249e4590eea",
       "version_major": 2,
       "version_minor": 0
      },
      "text/plain": [
       "r = 2.66687273979187:   0%|          | 0/10 [00:00<?, ?it/s]"
      ]
     },
     "metadata": {},
     "output_type": "display_data"
    },
    {
     "data": {
      "application/vnd.jupyter.widget-view+json": {
       "model_id": "fb5d3e40dd3642debf29493658b4da65",
       "version_major": 2,
       "version_minor": 0
      },
      "text/plain": [
       "r = 2.6546194553375244:   0%|          | 0/10 [00:00<?, ?it/s]"
      ]
     },
     "metadata": {},
     "output_type": "display_data"
    },
    {
     "data": {
      "application/vnd.jupyter.widget-view+json": {
       "model_id": "0db99a02c29a41ce95cd27ac608cbecc",
       "version_major": 2,
       "version_minor": 0
      },
      "text/plain": [
       "r = 2.642422676086426:   0%|          | 0/10 [00:00<?, ?it/s]"
      ]
     },
     "metadata": {},
     "output_type": "display_data"
    },
    {
     "data": {
      "application/vnd.jupyter.widget-view+json": {
       "model_id": "c627c7a321794ee6b024c06d32987958",
       "version_major": 2,
       "version_minor": 0
      },
      "text/plain": [
       "r = 2.630281925201416:   0%|          | 0/10 [00:00<?, ?it/s]"
      ]
     },
     "metadata": {},
     "output_type": "display_data"
    },
    {
     "data": {
      "application/vnd.jupyter.widget-view+json": {
       "model_id": "677485c5e3b3485d928a170e2790f013",
       "version_major": 2,
       "version_minor": 0
      },
      "text/plain": [
       "r = 2.618196964263916:   0%|          | 0/10 [00:00<?, ?it/s]"
      ]
     },
     "metadata": {},
     "output_type": "display_data"
    },
    {
     "data": {
      "application/vnd.jupyter.widget-view+json": {
       "model_id": "40787795a954432c8fa9c46afb0189d8",
       "version_major": 2,
       "version_minor": 0
      },
      "text/plain": [
       "r = 2.6061675548553467:   0%|          | 0/10 [00:00<?, ?it/s]"
      ]
     },
     "metadata": {},
     "output_type": "display_data"
    },
    {
     "data": {
      "application/vnd.jupyter.widget-view+json": {
       "model_id": "66838f768b2d4b1293f18178e04725d8",
       "version_major": 2,
       "version_minor": 0
      },
      "text/plain": [
       "r = 2.59419322013855:   0%|          | 0/10 [00:00<?, ?it/s]"
      ]
     },
     "metadata": {},
     "output_type": "display_data"
    },
    {
     "data": {
      "application/vnd.jupyter.widget-view+json": {
       "model_id": "513358b9282143cbbc1687293019c107",
       "version_major": 2,
       "version_minor": 0
      },
      "text/plain": [
       "r = 2.5822739601135254:   0%|          | 0/10 [00:00<?, ?it/s]"
      ]
     },
     "metadata": {},
     "output_type": "display_data"
    },
    {
     "data": {
      "application/vnd.jupyter.widget-view+json": {
       "model_id": "9e3a10c7853947a69498e2e42dc40e7c",
       "version_major": 2,
       "version_minor": 0
      },
      "text/plain": [
       "r = 2.5704097747802734:   0%|          | 0/10 [00:00<?, ?it/s]"
      ]
     },
     "metadata": {},
     "output_type": "display_data"
    },
    {
     "data": {
      "application/vnd.jupyter.widget-view+json": {
       "model_id": "f5290b3bc08a4b948f27fac01178e567",
       "version_major": 2,
       "version_minor": 0
      },
      "text/plain": [
       "r = 2.5585997104644775:   0%|          | 0/10 [00:00<?, ?it/s]"
      ]
     },
     "metadata": {},
     "output_type": "display_data"
    },
    {
     "data": {
      "application/vnd.jupyter.widget-view+json": {
       "model_id": "6e0acf2330f04e18b082a8d8a88174b8",
       "version_major": 2,
       "version_minor": 0
      },
      "text/plain": [
       "r = 2.546844244003296:   0%|          | 0/10 [00:00<?, ?it/s]"
      ]
     },
     "metadata": {},
     "output_type": "display_data"
    },
    {
     "data": {
      "application/vnd.jupyter.widget-view+json": {
       "model_id": "6f3df42a30eb4f5a804b2c35464ee0e1",
       "version_major": 2,
       "version_minor": 0
      },
      "text/plain": [
       "r = 2.535142421722412:   0%|          | 0/10 [00:00<?, ?it/s]"
      ]
     },
     "metadata": {},
     "output_type": "display_data"
    },
    {
     "data": {
      "application/vnd.jupyter.widget-view+json": {
       "model_id": "d3755d35722a40a9b31e01431af482b7",
       "version_major": 2,
       "version_minor": 0
      },
      "text/plain": [
       "r = 2.5234947204589844:   0%|          | 0/10 [00:00<?, ?it/s]"
      ]
     },
     "metadata": {},
     "output_type": "display_data"
    },
    {
     "data": {
      "application/vnd.jupyter.widget-view+json": {
       "model_id": "a1ade02d45dd4484b1423202f8562188",
       "version_major": 2,
       "version_minor": 0
      },
      "text/plain": [
       "r = 2.5119004249572754:   0%|          | 0/10 [00:00<?, ?it/s]"
      ]
     },
     "metadata": {},
     "output_type": "display_data"
    },
    {
     "data": {
      "application/vnd.jupyter.widget-view+json": {
       "model_id": "3d9fc0aea30d4bad8e74f8457cc4b185",
       "version_major": 2,
       "version_minor": 0
      },
      "text/plain": [
       "r = 2.500359058380127:   0%|          | 0/10 [00:00<?, ?it/s]"
      ]
     },
     "metadata": {},
     "output_type": "display_data"
    },
    {
     "data": {
      "application/vnd.jupyter.widget-view+json": {
       "model_id": "2e0439c5ac694faa8a01d80c091847d6",
       "version_major": 2,
       "version_minor": 0
      },
      "text/plain": [
       "r = 2.4888710975646973:   0%|          | 0/10 [00:00<?, ?it/s]"
      ]
     },
     "metadata": {},
     "output_type": "display_data"
    },
    {
     "data": {
      "application/vnd.jupyter.widget-view+json": {
       "model_id": "74bf0223e8a44e97a8435bfc753cf61b",
       "version_major": 2,
       "version_minor": 0
      },
      "text/plain": [
       "r = 2.477435827255249:   0%|          | 0/10 [00:00<?, ?it/s]"
      ]
     },
     "metadata": {},
     "output_type": "display_data"
    },
    {
     "data": {
      "application/vnd.jupyter.widget-view+json": {
       "model_id": "a6316e1360904502a9a2a01cb59a2e19",
       "version_major": 2,
       "version_minor": 0
      },
      "text/plain": [
       "r = 2.466053009033203:   0%|          | 0/10 [00:00<?, ?it/s]"
      ]
     },
     "metadata": {},
     "output_type": "display_data"
    },
    {
     "data": {
      "application/vnd.jupyter.widget-view+json": {
       "model_id": "579927c3a71c4c77b7d5c289e261e517",
       "version_major": 2,
       "version_minor": 0
      },
      "text/plain": [
       "r = 2.4547226428985596:   0%|          | 0/10 [00:00<?, ?it/s]"
      ]
     },
     "metadata": {},
     "output_type": "display_data"
    },
    {
     "data": {
      "application/vnd.jupyter.widget-view+json": {
       "model_id": "759ca463a1f3476495c139284009d380",
       "version_major": 2,
       "version_minor": 0
      },
      "text/plain": [
       "r = 2.44344425201416:   0%|          | 0/10 [00:00<?, ?it/s]"
      ]
     },
     "metadata": {},
     "output_type": "display_data"
    },
    {
     "data": {
      "application/vnd.jupyter.widget-view+json": {
       "model_id": "38e68d7dee314e9da27bd3c4306a638e",
       "version_major": 2,
       "version_minor": 0
      },
      "text/plain": [
       "r = 2.432217597961426:   0%|          | 0/10 [00:00<?, ?it/s]"
      ]
     },
     "metadata": {},
     "output_type": "display_data"
    },
    {
     "data": {
      "application/vnd.jupyter.widget-view+json": {
       "model_id": "1a06fa48726f451ba5d077d69cb08145",
       "version_major": 2,
       "version_minor": 0
      },
      "text/plain": [
       "r = 2.4210426807403564:   0%|          | 0/10 [00:00<?, ?it/s]"
      ]
     },
     "metadata": {},
     "output_type": "display_data"
    },
    {
     "data": {
      "application/vnd.jupyter.widget-view+json": {
       "model_id": "6483a38223964a4ab40dbc8662e71bdc",
       "version_major": 2,
       "version_minor": 0
      },
      "text/plain": [
       "r = 2.409919023513794:   0%|          | 0/10 [00:00<?, ?it/s]"
      ]
     },
     "metadata": {},
     "output_type": "display_data"
    },
    {
     "data": {
      "application/vnd.jupyter.widget-view+json": {
       "model_id": "bd041f80cd994a5f9393bff86938f5e9",
       "version_major": 2,
       "version_minor": 0
      },
      "text/plain": [
       "r = 2.3988466262817383:   0%|          | 0/10 [00:00<?, ?it/s]"
      ]
     },
     "metadata": {},
     "output_type": "display_data"
    },
    {
     "data": {
      "application/vnd.jupyter.widget-view+json": {
       "model_id": "f161c6b8c11f46f9802118f2941ef89a",
       "version_major": 2,
       "version_minor": 0
      },
      "text/plain": [
       "r = 2.387824773788452:   0%|          | 0/10 [00:00<?, ?it/s]"
      ]
     },
     "metadata": {},
     "output_type": "display_data"
    },
    {
     "data": {
      "application/vnd.jupyter.widget-view+json": {
       "model_id": "bb76de2d0b5c4e67a48917fe42657517",
       "version_major": 2,
       "version_minor": 0
      },
      "text/plain": [
       "r = 2.3768539428710938:   0%|          | 0/10 [00:00<?, ?it/s]"
      ]
     },
     "metadata": {},
     "output_type": "display_data"
    },
    {
     "data": {
      "application/vnd.jupyter.widget-view+json": {
       "model_id": "3b5a6b471f9f43fa8e26c8dabef61833",
       "version_major": 2,
       "version_minor": 0
      },
      "text/plain": [
       "r = 2.3659331798553467:   0%|          | 0/10 [00:00<?, ?it/s]"
      ]
     },
     "metadata": {},
     "output_type": "display_data"
    },
    {
     "data": {
      "application/vnd.jupyter.widget-view+json": {
       "model_id": "5b1293b1edc3468e8ae09485380f9c4d",
       "version_major": 2,
       "version_minor": 0
      },
      "text/plain": [
       "r = 2.35506272315979:   0%|          | 0/10 [00:00<?, ?it/s]"
      ]
     },
     "metadata": {},
     "output_type": "display_data"
    },
    {
     "data": {
      "application/vnd.jupyter.widget-view+json": {
       "model_id": "e2d70f6a08ae40b196303187c8674715",
       "version_major": 2,
       "version_minor": 0
      },
      "text/plain": [
       "r = 2.3442423343658447:   0%|          | 0/10 [00:00<?, ?it/s]"
      ]
     },
     "metadata": {},
     "output_type": "display_data"
    },
    {
     "data": {
      "application/vnd.jupyter.widget-view+json": {
       "model_id": "839b5cd3d80c41808243fd8e17280988",
       "version_major": 2,
       "version_minor": 0
      },
      "text/plain": [
       "r = 2.3334715366363525:   0%|          | 0/10 [00:00<?, ?it/s]"
      ]
     },
     "metadata": {},
     "output_type": "display_data"
    },
    {
     "data": {
      "application/vnd.jupyter.widget-view+json": {
       "model_id": "e827f8be9fc84eeabcc816fcea0b0469",
       "version_major": 2,
       "version_minor": 0
      },
      "text/plain": [
       "r = 2.3227503299713135:   0%|          | 0/10 [00:00<?, ?it/s]"
      ]
     },
     "metadata": {},
     "output_type": "display_data"
    },
    {
     "data": {
      "application/vnd.jupyter.widget-view+json": {
       "model_id": "3dd394bf206c4e1c8f8b10536e059d3b",
       "version_major": 2,
       "version_minor": 0
      },
      "text/plain": [
       "r = 2.3120782375335693:   0%|          | 0/10 [00:00<?, ?it/s]"
      ]
     },
     "metadata": {},
     "output_type": "display_data"
    },
    {
     "data": {
      "application/vnd.jupyter.widget-view+json": {
       "model_id": "300f47ba83854040b525a4f387e95336",
       "version_major": 2,
       "version_minor": 0
      },
      "text/plain": [
       "r = 2.30145525932312:   0%|          | 0/10 [00:00<?, ?it/s]"
      ]
     },
     "metadata": {},
     "output_type": "display_data"
    },
    {
     "data": {
      "application/vnd.jupyter.widget-view+json": {
       "model_id": "49a46f43c00744b7ac39517ef61fd955",
       "version_major": 2,
       "version_minor": 0
      },
      "text/plain": [
       "r = 2.2908811569213867:   0%|          | 0/10 [00:00<?, ?it/s]"
      ]
     },
     "metadata": {},
     "output_type": "display_data"
    },
    {
     "data": {
      "application/vnd.jupyter.widget-view+json": {
       "model_id": "4ce3206dd09a4ad789300389ea925ac4",
       "version_major": 2,
       "version_minor": 0
      },
      "text/plain": [
       "r = 2.280355453491211:   0%|          | 0/10 [00:00<?, ?it/s]"
      ]
     },
     "metadata": {},
     "output_type": "display_data"
    },
    {
     "data": {
      "application/vnd.jupyter.widget-view+json": {
       "model_id": "0dba5fd7d286443c8bfe4830d215e701",
       "version_major": 2,
       "version_minor": 0
      },
      "text/plain": [
       "r = 2.2698781490325928:   0%|          | 0/10 [00:00<?, ?it/s]"
      ]
     },
     "metadata": {},
     "output_type": "display_data"
    },
    {
     "data": {
      "application/vnd.jupyter.widget-view+json": {
       "model_id": "643cbb8c119740a99abe8d1efcbfe4d4",
       "version_major": 2,
       "version_minor": 0
      },
      "text/plain": [
       "r = 2.259449005126953:   0%|          | 0/10 [00:00<?, ?it/s]"
      ]
     },
     "metadata": {},
     "output_type": "display_data"
    },
    {
     "data": {
      "application/vnd.jupyter.widget-view+json": {
       "model_id": "46919986fa5b498992543c0a467c02e3",
       "version_major": 2,
       "version_minor": 0
      },
      "text/plain": [
       "r = 2.249067783355713:   0%|          | 0/10 [00:00<?, ?it/s]"
      ]
     },
     "metadata": {},
     "output_type": "display_data"
    },
    {
     "data": {
      "application/vnd.jupyter.widget-view+json": {
       "model_id": "dcfd841594ad4ca7842c1972d9447df4",
       "version_major": 2,
       "version_minor": 0
      },
      "text/plain": [
       "r = 2.238734483718872:   0%|          | 0/10 [00:00<?, ?it/s]"
      ]
     },
     "metadata": {},
     "output_type": "display_data"
    },
    {
     "data": {
      "application/vnd.jupyter.widget-view+json": {
       "model_id": "80c4d173d94045a096587076c2f6694f",
       "version_major": 2,
       "version_minor": 0
      },
      "text/plain": [
       "r = 2.2284483909606934:   0%|          | 0/10 [00:00<?, ?it/s]"
      ]
     },
     "metadata": {},
     "output_type": "display_data"
    },
    {
     "data": {
      "application/vnd.jupyter.widget-view+json": {
       "model_id": "936b1828e296440ca909c2d47aff275f",
       "version_major": 2,
       "version_minor": 0
      },
      "text/plain": [
       "r = 2.218209743499756:   0%|          | 0/10 [00:00<?, ?it/s]"
      ]
     },
     "metadata": {},
     "output_type": "display_data"
    },
    {
     "data": {
      "application/vnd.jupyter.widget-view+json": {
       "model_id": "c9d569ec360541c386df7c7b4dc19c33",
       "version_major": 2,
       "version_minor": 0
      },
      "text/plain": [
       "r = 2.2080180644989014:   0%|          | 0/10 [00:00<?, ?it/s]"
      ]
     },
     "metadata": {},
     "output_type": "display_data"
    },
    {
     "data": {
      "application/vnd.jupyter.widget-view+json": {
       "model_id": "9f32cc5342b54665962593127ac5d425",
       "version_major": 2,
       "version_minor": 0
      },
      "text/plain": [
       "r = 2.197873115539551:   0%|          | 0/10 [00:00<?, ?it/s]"
      ]
     },
     "metadata": {},
     "output_type": "display_data"
    },
    {
     "data": {
      "application/vnd.jupyter.widget-view+json": {
       "model_id": "c0f2850a929e4f8981c57c65515a907e",
       "version_major": 2,
       "version_minor": 0
      },
      "text/plain": [
       "r = 2.187774658203125:   0%|          | 0/10 [00:00<?, ?it/s]"
      ]
     },
     "metadata": {},
     "output_type": "display_data"
    },
    {
     "data": {
      "application/vnd.jupyter.widget-view+json": {
       "model_id": "6f1b18bb8f92496498d0ecefdb88adf5",
       "version_major": 2,
       "version_minor": 0
      },
      "text/plain": [
       "r = 2.177722930908203:   0%|          | 0/10 [00:00<?, ?it/s]"
      ]
     },
     "metadata": {},
     "output_type": "display_data"
    },
    {
     "data": {
      "application/vnd.jupyter.widget-view+json": {
       "model_id": "c4f7454b6f3842cbb99e761424b2328a",
       "version_major": 2,
       "version_minor": 0
      },
      "text/plain": [
       "r = 2.167717218399048:   0%|          | 0/10 [00:00<?, ?it/s]"
      ]
     },
     "metadata": {},
     "output_type": "display_data"
    },
    {
     "data": {
      "application/vnd.jupyter.widget-view+json": {
       "model_id": "bd5cd11d63434f84a18b35d48b19b422",
       "version_major": 2,
       "version_minor": 0
      },
      "text/plain": [
       "r = 2.157757520675659:   0%|          | 0/10 [00:00<?, ?it/s]"
      ]
     },
     "metadata": {},
     "output_type": "display_data"
    },
    {
     "data": {
      "application/vnd.jupyter.widget-view+json": {
       "model_id": "64cf46c34f5a4f8a8db8a2390070e71a",
       "version_major": 2,
       "version_minor": 0
      },
      "text/plain": [
       "r = 2.147843599319458:   0%|          | 0/10 [00:00<?, ?it/s]"
      ]
     },
     "metadata": {},
     "output_type": "display_data"
    },
    {
     "data": {
      "application/vnd.jupyter.widget-view+json": {
       "model_id": "918e32297a52407b8426d22573fce799",
       "version_major": 2,
       "version_minor": 0
      },
      "text/plain": [
       "r = 2.1379752159118652:   0%|          | 0/10 [00:00<?, ?it/s]"
      ]
     },
     "metadata": {},
     "output_type": "display_data"
    },
    {
     "data": {
      "application/vnd.jupyter.widget-view+json": {
       "model_id": "fe91a7937ab144ba8df5f4d8815671bb",
       "version_major": 2,
       "version_minor": 0
      },
      "text/plain": [
       "r = 2.1281521320343018:   0%|          | 0/10 [00:00<?, ?it/s]"
      ]
     },
     "metadata": {},
     "output_type": "display_data"
    },
    {
     "data": {
      "application/vnd.jupyter.widget-view+json": {
       "model_id": "53cea43dd7f449488b01cc73f54b6138",
       "version_major": 2,
       "version_minor": 0
      },
      "text/plain": [
       "r = 2.1183743476867676:   0%|          | 0/10 [00:00<?, ?it/s]"
      ]
     },
     "metadata": {},
     "output_type": "display_data"
    },
    {
     "data": {
      "application/vnd.jupyter.widget-view+json": {
       "model_id": "fad3b7f50a7f4e1eb9b5d4820baae2ad",
       "version_major": 2,
       "version_minor": 0
      },
      "text/plain": [
       "r = 2.1086411476135254:   0%|          | 0/10 [00:00<?, ?it/s]"
      ]
     },
     "metadata": {},
     "output_type": "display_data"
    },
    {
     "data": {
      "application/vnd.jupyter.widget-view+json": {
       "model_id": "46753da3ce6148f2b458ece0b0d9fa49",
       "version_major": 2,
       "version_minor": 0
      },
      "text/plain": [
       "r = 2.0989527702331543:   0%|          | 0/10 [00:00<?, ?it/s]"
      ]
     },
     "metadata": {},
     "output_type": "display_data"
    },
    {
     "data": {
      "application/vnd.jupyter.widget-view+json": {
       "model_id": "d36391d3f2ea4918a3bba0335b124cde",
       "version_major": 2,
       "version_minor": 0
      },
      "text/plain": [
       "r = 2.0893092155456543:   0%|          | 0/10 [00:00<?, ?it/s]"
      ]
     },
     "metadata": {},
     "output_type": "display_data"
    },
    {
     "data": {
      "application/vnd.jupyter.widget-view+json": {
       "model_id": "797a3e13281d4b54860546d2c1df31b8",
       "version_major": 2,
       "version_minor": 0
      },
      "text/plain": [
       "r = 2.079709529876709:   0%|          | 0/10 [00:00<?, ?it/s]"
      ]
     },
     "metadata": {},
     "output_type": "display_data"
    },
    {
     "data": {
      "application/vnd.jupyter.widget-view+json": {
       "model_id": "e9790639c6f749d98eb249b29b0e3df9",
       "version_major": 2,
       "version_minor": 0
      },
      "text/plain": [
       "r = 2.0701541900634766:   0%|          | 0/10 [00:00<?, ?it/s]"
      ]
     },
     "metadata": {},
     "output_type": "display_data"
    },
    {
     "data": {
      "application/vnd.jupyter.widget-view+json": {
       "model_id": "a7a32ca7b3184e53a26148c932698caa",
       "version_major": 2,
       "version_minor": 0
      },
      "text/plain": [
       "r = 2.060642719268799:   0%|          | 0/10 [00:00<?, ?it/s]"
      ]
     },
     "metadata": {},
     "output_type": "display_data"
    },
    {
     "data": {
      "application/vnd.jupyter.widget-view+json": {
       "model_id": "329d4a37c7e54820b53c9dceda52f2c2",
       "version_major": 2,
       "version_minor": 0
      },
      "text/plain": [
       "r = 2.051175117492676:   0%|          | 0/10 [00:00<?, ?it/s]"
      ]
     },
     "metadata": {},
     "output_type": "display_data"
    },
    {
     "data": {
      "application/vnd.jupyter.widget-view+json": {
       "model_id": "4f9c6f699fef4a9c9409cfd358d6aed2",
       "version_major": 2,
       "version_minor": 0
      },
      "text/plain": [
       "r = 2.041750907897949:   0%|          | 0/10 [00:00<?, ?it/s]"
      ]
     },
     "metadata": {},
     "output_type": "display_data"
    },
    {
     "data": {
      "application/vnd.jupyter.widget-view+json": {
       "model_id": "4bdb68c38ba44c4eb5c441c6e498abeb",
       "version_major": 2,
       "version_minor": 0
      },
      "text/plain": [
       "r = 2.03236985206604:   0%|          | 0/10 [00:00<?, ?it/s]"
      ]
     },
     "metadata": {},
     "output_type": "display_data"
    },
    {
     "data": {
      "application/vnd.jupyter.widget-view+json": {
       "model_id": "1e819c61e8c14ff681741b0747197940",
       "version_major": 2,
       "version_minor": 0
      },
      "text/plain": [
       "r = 2.0230319499969482:   0%|          | 0/10 [00:00<?, ?it/s]"
      ]
     },
     "metadata": {},
     "output_type": "display_data"
    },
    {
     "data": {
      "application/vnd.jupyter.widget-view+json": {
       "model_id": "510c15c30fd84f2d8f6cd8715f85e375",
       "version_major": 2,
       "version_minor": 0
      },
      "text/plain": [
       "r = 2.013737201690674:   0%|          | 0/10 [00:00<?, ?it/s]"
      ]
     },
     "metadata": {},
     "output_type": "display_data"
    },
    {
     "data": {
      "application/vnd.jupyter.widget-view+json": {
       "model_id": "7c6d981131c1487281e49b985bb34155",
       "version_major": 2,
       "version_minor": 0
      },
      "text/plain": [
       "r = 2.0044848918914795:   0%|          | 0/10 [00:00<?, ?it/s]"
      ]
     },
     "metadata": {},
     "output_type": "display_data"
    },
    {
     "data": {
      "application/vnd.jupyter.widget-view+json": {
       "model_id": "0f04b89101ea4e1b99877ad4dce9cbf9",
       "version_major": 2,
       "version_minor": 0
      },
      "text/plain": [
       "r = 1.9952750205993652:   0%|          | 0/10 [00:00<?, ?it/s]"
      ]
     },
     "metadata": {},
     "output_type": "display_data"
    },
    {
     "data": {
      "application/vnd.jupyter.widget-view+json": {
       "model_id": "16aeefdb88f14b4a9633268b38f0a6e1",
       "version_major": 2,
       "version_minor": 0
      },
      "text/plain": [
       "r = 1.9861077070236206:   0%|          | 0/10 [00:00<?, ?it/s]"
      ]
     },
     "metadata": {},
     "output_type": "display_data"
    },
    {
     "data": {
      "application/vnd.jupyter.widget-view+json": {
       "model_id": "e9cb6be7273d40749b7f2f13f1b9e0a0",
       "version_major": 2,
       "version_minor": 0
      },
      "text/plain": [
       "r = 1.9769823551177979:   0%|          | 0/10 [00:00<?, ?it/s]"
      ]
     },
     "metadata": {},
     "output_type": "display_data"
    },
    {
     "data": {
      "application/vnd.jupyter.widget-view+json": {
       "model_id": "c6ebd43c26ed46afb15914e2aaad3d84",
       "version_major": 2,
       "version_minor": 0
      },
      "text/plain": [
       "r = 1.9678990840911865:   0%|          | 0/10 [00:00<?, ?it/s]"
      ]
     },
     "metadata": {},
     "output_type": "display_data"
    },
    {
     "data": {
      "application/vnd.jupyter.widget-view+json": {
       "model_id": "4e6ca4411eab430a9ab1c6fb883f2213",
       "version_major": 2,
       "version_minor": 0
      },
      "text/plain": [
       "r = 1.9588572978973389:   0%|          | 0/10 [00:00<?, ?it/s]"
      ]
     },
     "metadata": {},
     "output_type": "display_data"
    },
    {
     "data": {
      "application/vnd.jupyter.widget-view+json": {
       "model_id": "c8fe47cecb2b41a2b3cc4f944dff240b",
       "version_major": 2,
       "version_minor": 0
      },
      "text/plain": [
       "r = 1.9498573541641235:   0%|          | 0/10 [00:00<?, ?it/s]"
      ]
     },
     "metadata": {},
     "output_type": "display_data"
    },
    {
     "data": {
      "application/vnd.jupyter.widget-view+json": {
       "model_id": "c235bf2c3fc14331a9f1dd3838b910f0",
       "version_major": 2,
       "version_minor": 0
      },
      "text/plain": [
       "r = 1.9408984184265137:   0%|          | 0/10 [00:00<?, ?it/s]"
      ]
     },
     "metadata": {},
     "output_type": "display_data"
    },
    {
     "data": {
      "application/vnd.jupyter.widget-view+json": {
       "model_id": "b39c38ac990548d78dc45763f2807b24",
       "version_major": 2,
       "version_minor": 0
      },
      "text/plain": [
       "r = 1.9319809675216675:   0%|          | 0/10 [00:00<?, ?it/s]"
      ]
     },
     "metadata": {},
     "output_type": "display_data"
    },
    {
     "data": {
      "application/vnd.jupyter.widget-view+json": {
       "model_id": "2952d539278b437fb9cadadf8b03f713",
       "version_major": 2,
       "version_minor": 0
      },
      "text/plain": [
       "r = 1.9231044054031372:   0%|          | 0/10 [00:00<?, ?it/s]"
      ]
     },
     "metadata": {},
     "output_type": "display_data"
    },
    {
     "data": {
      "application/vnd.jupyter.widget-view+json": {
       "model_id": "645f1ff6d1404df299589af9749f39ac",
       "version_major": 2,
       "version_minor": 0
      },
      "text/plain": [
       "r = 1.9142684936523438:   0%|          | 0/10 [00:00<?, ?it/s]"
      ]
     },
     "metadata": {},
     "output_type": "display_data"
    },
    {
     "data": {
      "application/vnd.jupyter.widget-view+json": {
       "model_id": "445f43ddc421468a820cdbf0215c96fb",
       "version_major": 2,
       "version_minor": 0
      },
      "text/plain": [
       "r = 1.9054733514785767:   0%|          | 0/10 [00:00<?, ?it/s]"
      ]
     },
     "metadata": {},
     "output_type": "display_data"
    },
    {
     "data": {
      "application/vnd.jupyter.widget-view+json": {
       "model_id": "992896cdce9d497e87ea9bb9f2dcf0cf",
       "version_major": 2,
       "version_minor": 0
      },
      "text/plain": [
       "r = 1.8967185020446777:   0%|          | 0/10 [00:00<?, ?it/s]"
      ]
     },
     "metadata": {},
     "output_type": "display_data"
    },
    {
     "data": {
      "application/vnd.jupyter.widget-view+json": {
       "model_id": "01db2f2456ed4ccdb8fc423bae6ee508",
       "version_major": 2,
       "version_minor": 0
      },
      "text/plain": [
       "r = 1.8880038261413574:   0%|          | 0/10 [00:00<?, ?it/s]"
      ]
     },
     "metadata": {},
     "output_type": "display_data"
    },
    {
     "data": {
      "application/vnd.jupyter.widget-view+json": {
       "model_id": "a8357c13c7e64065b823f875f8d03023",
       "version_major": 2,
       "version_minor": 0
      },
      "text/plain": [
       "r = 1.8793292045593262:   0%|          | 0/10 [00:00<?, ?it/s]"
      ]
     },
     "metadata": {},
     "output_type": "display_data"
    },
    {
     "data": {
      "application/vnd.jupyter.widget-view+json": {
       "model_id": "56cc79c973044f67bfa866867d0ce8bf",
       "version_major": 2,
       "version_minor": 0
      },
      "text/plain": [
       "r = 1.870694637298584:   0%|          | 0/10 [00:00<?, ?it/s]"
      ]
     },
     "metadata": {},
     "output_type": "display_data"
    },
    {
     "data": {
      "application/vnd.jupyter.widget-view+json": {
       "model_id": "a7203d25ae244479b6093c9113da4dd6",
       "version_major": 2,
       "version_minor": 0
      },
      "text/plain": [
       "r = 1.8620996475219727:   0%|          | 0/10 [00:00<?, ?it/s]"
      ]
     },
     "metadata": {},
     "output_type": "display_data"
    },
    {
     "data": {
      "application/vnd.jupyter.widget-view+json": {
       "model_id": "064b4c2f85a84e09a1de4d65e56455cd",
       "version_major": 2,
       "version_minor": 0
      },
      "text/plain": [
       "r = 1.853543996810913:   0%|          | 0/10 [00:00<?, ?it/s]"
      ]
     },
     "metadata": {},
     "output_type": "display_data"
    },
    {
     "data": {
      "application/vnd.jupyter.widget-view+json": {
       "model_id": "3fc80337793c488ea47c28cfefa896c7",
       "version_major": 2,
       "version_minor": 0
      },
      "text/plain": [
       "r = 1.8450278043746948:   0%|          | 0/10 [00:00<?, ?it/s]"
      ]
     },
     "metadata": {},
     "output_type": "display_data"
    },
    {
     "data": {
      "application/vnd.jupyter.widget-view+json": {
       "model_id": "eef1ba1666e4421aa0f603e382adc316",
       "version_major": 2,
       "version_minor": 0
      },
      "text/plain": [
       "r = 1.8365507125854492:   0%|          | 0/10 [00:00<?, ?it/s]"
      ]
     },
     "metadata": {},
     "output_type": "display_data"
    },
    {
     "data": {
      "application/vnd.jupyter.widget-view+json": {
       "model_id": "76932dff40334997939564c2948c9398",
       "version_major": 2,
       "version_minor": 0
      },
      "text/plain": [
       "r = 1.8281126022338867:   0%|          | 0/10 [00:00<?, ?it/s]"
      ]
     },
     "metadata": {},
     "output_type": "display_data"
    },
    {
     "data": {
      "application/vnd.jupyter.widget-view+json": {
       "model_id": "17ee390819b74fffadce473ab229fe07",
       "version_major": 2,
       "version_minor": 0
      },
      "text/plain": [
       "r = 1.8197131156921387:   0%|          | 0/10 [00:00<?, ?it/s]"
      ]
     },
     "metadata": {},
     "output_type": "display_data"
    },
    {
     "data": {
      "application/vnd.jupyter.widget-view+json": {
       "model_id": "fea8edc65397448a9f9e20ecbf5fff5c",
       "version_major": 2,
       "version_minor": 0
      },
      "text/plain": [
       "r = 1.8113523721694946:   0%|          | 0/10 [00:00<?, ?it/s]"
      ]
     },
     "metadata": {},
     "output_type": "display_data"
    },
    {
     "data": {
      "application/vnd.jupyter.widget-view+json": {
       "model_id": "7dc1bd8a39354ba7b1ee6f1a84584d55",
       "version_major": 2,
       "version_minor": 0
      },
      "text/plain": [
       "r = 1.803030014038086:   0%|          | 0/10 [00:00<?, ?it/s]"
      ]
     },
     "metadata": {},
     "output_type": "display_data"
    },
    {
     "data": {
      "application/vnd.jupyter.widget-view+json": {
       "model_id": "3896acbbf8474e62bb2b616dbeb9be1d",
       "version_major": 2,
       "version_minor": 0
      },
      "text/plain": [
       "r = 1.794745922088623:   0%|          | 0/10 [00:00<?, ?it/s]"
      ]
     },
     "metadata": {},
     "output_type": "display_data"
    },
    {
     "data": {
      "application/vnd.jupyter.widget-view+json": {
       "model_id": "4618ac89514d44dfae9cb031427a4e3b",
       "version_major": 2,
       "version_minor": 0
      },
      "text/plain": [
       "r = 1.7864997386932373:   0%|          | 0/10 [00:00<?, ?it/s]"
      ]
     },
     "metadata": {},
     "output_type": "display_data"
    },
    {
     "data": {
      "application/vnd.jupyter.widget-view+json": {
       "model_id": "4a450e78a1ba447eb6c50d1281c482d6",
       "version_major": 2,
       "version_minor": 0
      },
      "text/plain": [
       "r = 1.7782915830612183:   0%|          | 0/10 [00:00<?, ?it/s]"
      ]
     },
     "metadata": {},
     "output_type": "display_data"
    },
    {
     "data": {
      "application/vnd.jupyter.widget-view+json": {
       "model_id": "197ae46bed53413b8f1e9c8f99f7ed93",
       "version_major": 2,
       "version_minor": 0
      },
      "text/plain": [
       "r = 1.7701210975646973:   0%|          | 0/10 [00:00<?, ?it/s]"
      ]
     },
     "metadata": {},
     "output_type": "display_data"
    },
    {
     "data": {
      "application/vnd.jupyter.widget-view+json": {
       "model_id": "ec7a00d297074fdaa1d89a6a6dd6403c",
       "version_major": 2,
       "version_minor": 0
      },
      "text/plain": [
       "r = 1.7619882822036743:   0%|          | 0/10 [00:00<?, ?it/s]"
      ]
     },
     "metadata": {},
     "output_type": "display_data"
    },
    {
     "data": {
      "application/vnd.jupyter.widget-view+json": {
       "model_id": "c361b0354f974486ab8a0f2e46adfe60",
       "version_major": 2,
       "version_minor": 0
      },
      "text/plain": [
       "r = 1.7538926601409912:   0%|          | 0/10 [00:00<?, ?it/s]"
      ]
     },
     "metadata": {},
     "output_type": "display_data"
    },
    {
     "data": {
      "application/vnd.jupyter.widget-view+json": {
       "model_id": "727f7e2d5051474e9bff4f80624a56b8",
       "version_major": 2,
       "version_minor": 0
      },
      "text/plain": [
       "r = 1.745834231376648:   0%|          | 0/10 [00:00<?, ?it/s]"
      ]
     },
     "metadata": {},
     "output_type": "display_data"
    },
    {
     "data": {
      "application/vnd.jupyter.widget-view+json": {
       "model_id": "86cf602145fa4473a60ae7fb479d5854",
       "version_major": 2,
       "version_minor": 0
      },
      "text/plain": [
       "r = 1.737812876701355:   0%|          | 0/10 [00:00<?, ?it/s]"
      ]
     },
     "metadata": {},
     "output_type": "display_data"
    },
    {
     "data": {
      "application/vnd.jupyter.widget-view+json": {
       "model_id": "b3fe29443939494d9fa97ef1ccdd7b52",
       "version_major": 2,
       "version_minor": 0
      },
      "text/plain": [
       "r = 1.7298283576965332:   0%|          | 0/10 [00:00<?, ?it/s]"
      ]
     },
     "metadata": {},
     "output_type": "display_data"
    },
    {
     "data": {
      "application/vnd.jupyter.widget-view+json": {
       "model_id": "17b4233b560f4785b114289e4c64cf92",
       "version_major": 2,
       "version_minor": 0
      },
      "text/plain": [
       "r = 1.721880555152893:   0%|          | 0/10 [00:00<?, ?it/s]"
      ]
     },
     "metadata": {},
     "output_type": "display_data"
    },
    {
     "data": {
      "application/vnd.jupyter.widget-view+json": {
       "model_id": "98e73fa4f0e441f69fd2879a7aea2184",
       "version_major": 2,
       "version_minor": 0
      },
      "text/plain": [
       "r = 1.7139692306518555:   0%|          | 0/10 [00:00<?, ?it/s]"
      ]
     },
     "metadata": {},
     "output_type": "display_data"
    },
    {
     "data": {
      "application/vnd.jupyter.widget-view+json": {
       "model_id": "d2a08ebe4e724ba68bd91fa9e01e81fe",
       "version_major": 2,
       "version_minor": 0
      },
      "text/plain": [
       "r = 1.70609450340271:   0%|          | 0/10 [00:00<?, ?it/s]"
      ]
     },
     "metadata": {},
     "output_type": "display_data"
    },
    {
     "data": {
      "application/vnd.jupyter.widget-view+json": {
       "model_id": "f0eebe29d68d45009fa3491df7187129",
       "version_major": 2,
       "version_minor": 0
      },
      "text/plain": [
       "r = 1.6982556581497192:   0%|          | 0/10 [00:00<?, ?it/s]"
      ]
     },
     "metadata": {},
     "output_type": "display_data"
    },
    {
     "data": {
      "application/vnd.jupyter.widget-view+json": {
       "model_id": "234d111f171043939aab23220fcb8f99",
       "version_major": 2,
       "version_minor": 0
      },
      "text/plain": [
       "r = 1.6904528141021729:   0%|          | 0/10 [00:00<?, ?it/s]"
      ]
     },
     "metadata": {},
     "output_type": "display_data"
    },
    {
     "data": {
      "application/vnd.jupyter.widget-view+json": {
       "model_id": "3311d6935a1f41c2aed07a2f6c0a0801",
       "version_major": 2,
       "version_minor": 0
      },
      "text/plain": [
       "r = 1.6826858520507812:   0%|          | 0/10 [00:00<?, ?it/s]"
      ]
     },
     "metadata": {},
     "output_type": "display_data"
    },
    {
     "data": {
      "application/vnd.jupyter.widget-view+json": {
       "model_id": "2304dfbc96f74d218fcb71d278aac11e",
       "version_major": 2,
       "version_minor": 0
      },
      "text/plain": [
       "r = 1.6749547719955444:   0%|          | 0/10 [00:00<?, ?it/s]"
      ]
     },
     "metadata": {},
     "output_type": "display_data"
    },
    {
     "data": {
      "application/vnd.jupyter.widget-view+json": {
       "model_id": "4ec6f9c6d7ef484eb22ef145556b89d9",
       "version_major": 2,
       "version_minor": 0
      },
      "text/plain": [
       "r = 1.6672589778900146:   0%|          | 0/10 [00:00<?, ?it/s]"
      ]
     },
     "metadata": {},
     "output_type": "display_data"
    },
    {
     "data": {
      "application/vnd.jupyter.widget-view+json": {
       "model_id": "faf83d0c02a74b88a26e1df36985e12e",
       "version_major": 2,
       "version_minor": 0
      },
      "text/plain": [
       "r = 1.6595988273620605:   0%|          | 0/10 [00:00<?, ?it/s]"
      ]
     },
     "metadata": {},
     "output_type": "display_data"
    },
    {
     "data": {
      "application/vnd.jupyter.widget-view+json": {
       "model_id": "2598de4d8fe04dc5ba9c8b7ba3119931",
       "version_major": 2,
       "version_minor": 0
      },
      "text/plain": [
       "r = 1.6519736051559448:   0%|          | 0/10 [00:00<?, ?it/s]"
      ]
     },
     "metadata": {},
     "output_type": "display_data"
    },
    {
     "data": {
      "application/vnd.jupyter.widget-view+json": {
       "model_id": "ba373737c1334ec9b1d4d01cf0455d7e",
       "version_major": 2,
       "version_minor": 0
      },
      "text/plain": [
       "r = 1.6443835496902466:   0%|          | 0/10 [00:00<?, ?it/s]"
      ]
     },
     "metadata": {},
     "output_type": "display_data"
    },
    {
     "data": {
      "application/vnd.jupyter.widget-view+json": {
       "model_id": "f6120a0ba6a84f82be7c3b3bb32e438b",
       "version_major": 2,
       "version_minor": 0
      },
      "text/plain": [
       "r = 1.6368283033370972:   0%|          | 0/10 [00:00<?, ?it/s]"
      ]
     },
     "metadata": {},
     "output_type": "display_data"
    },
    {
     "data": {
      "application/vnd.jupyter.widget-view+json": {
       "model_id": "3f0d04d697b84a1fa9fd9356ed4955be",
       "version_major": 2,
       "version_minor": 0
      },
      "text/plain": [
       "r = 1.629307746887207:   0%|          | 0/10 [00:00<?, ?it/s]"
      ]
     },
     "metadata": {},
     "output_type": "display_data"
    },
    {
     "data": {
      "application/vnd.jupyter.widget-view+json": {
       "model_id": "a370cdb705324fed85dbb844562dde59",
       "version_major": 2,
       "version_minor": 0
      },
      "text/plain": [
       "r = 1.6218218803405762:   0%|          | 0/10 [00:00<?, ?it/s]"
      ]
     },
     "metadata": {},
     "output_type": "display_data"
    },
    {
     "data": {
      "application/vnd.jupyter.widget-view+json": {
       "model_id": "10b028ac66bd408a8e41af84bbd2bba7",
       "version_major": 2,
       "version_minor": 0
      },
      "text/plain": [
       "r = 1.6143702268600464:   0%|          | 0/10 [00:00<?, ?it/s]"
      ]
     },
     "metadata": {},
     "output_type": "display_data"
    },
    {
     "data": {
      "application/vnd.jupyter.widget-view+json": {
       "model_id": "c9c4bbdde85c403281ae230ee4deffe5",
       "version_major": 2,
       "version_minor": 0
      },
      "text/plain": [
       "r = 1.6069530248641968:   0%|          | 0/10 [00:00<?, ?it/s]"
      ]
     },
     "metadata": {},
     "output_type": "display_data"
    },
    {
     "data": {
      "application/vnd.jupyter.widget-view+json": {
       "model_id": "f0d69bb5c7c84e7787887149788aee5f",
       "version_major": 2,
       "version_minor": 0
      },
      "text/plain": [
       "r = 1.59956955909729:   0%|          | 0/10 [00:00<?, ?it/s]"
      ]
     },
     "metadata": {},
     "output_type": "display_data"
    },
    {
     "data": {
      "application/vnd.jupyter.widget-view+json": {
       "model_id": "1b5935e28cd94f969e95d46c0af63459",
       "version_major": 2,
       "version_minor": 0
      },
      "text/plain": [
       "r = 1.5922203063964844:   0%|          | 0/10 [00:00<?, ?it/s]"
      ]
     },
     "metadata": {},
     "output_type": "display_data"
    },
    {
     "data": {
      "application/vnd.jupyter.widget-view+json": {
       "model_id": "c946db6791444894b6b373f8c4917813",
       "version_major": 2,
       "version_minor": 0
      },
      "text/plain": [
       "r = 1.5849047899246216:   0%|          | 0/10 [00:00<?, ?it/s]"
      ]
     },
     "metadata": {},
     "output_type": "display_data"
    },
    {
     "data": {
      "application/vnd.jupyter.widget-view+json": {
       "model_id": "0d9fab848e9648458577c4a32d0f4dea",
       "version_major": 2,
       "version_minor": 0
      },
      "text/plain": [
       "r = 1.577622890472412:   0%|          | 0/10 [00:00<?, ?it/s]"
      ]
     },
     "metadata": {},
     "output_type": "display_data"
    },
    {
     "data": {
      "application/vnd.jupyter.widget-view+json": {
       "model_id": "773e06b79a454030bb1ac38954e9f4f5",
       "version_major": 2,
       "version_minor": 0
      },
      "text/plain": [
       "r = 1.5703743696212769:   0%|          | 0/10 [00:00<?, ?it/s]"
      ]
     },
     "metadata": {},
     "output_type": "display_data"
    },
    {
     "data": {
      "application/vnd.jupyter.widget-view+json": {
       "model_id": "9b38d9451bcf49798261eb2514a76810",
       "version_major": 2,
       "version_minor": 0
      },
      "text/plain": [
       "r = 1.5631592273712158:   0%|          | 0/10 [00:00<?, ?it/s]"
      ]
     },
     "metadata": {},
     "output_type": "display_data"
    },
    {
     "data": {
      "application/vnd.jupyter.widget-view+json": {
       "model_id": "026da9a967124f98b29a08850490a6d8",
       "version_major": 2,
       "version_minor": 0
      },
      "text/plain": [
       "r = 1.5559771060943604:   0%|          | 0/10 [00:00<?, ?it/s]"
      ]
     },
     "metadata": {},
     "output_type": "display_data"
    },
    {
     "data": {
      "application/vnd.jupyter.widget-view+json": {
       "model_id": "0a882927490746aca35bbcab28da5acc",
       "version_major": 2,
       "version_minor": 0
      },
      "text/plain": [
       "r = 1.5488280057907104:   0%|          | 0/10 [00:00<?, ?it/s]"
      ]
     },
     "metadata": {},
     "output_type": "display_data"
    },
    {
     "data": {
      "application/vnd.jupyter.widget-view+json": {
       "model_id": "df9e65a92553446c9c9bac834bdd0dce",
       "version_major": 2,
       "version_minor": 0
      },
      "text/plain": [
       "r = 1.5417118072509766:   0%|          | 0/10 [00:00<?, ?it/s]"
      ]
     },
     "metadata": {},
     "output_type": "display_data"
    },
    {
     "data": {
      "application/vnd.jupyter.widget-view+json": {
       "model_id": "dfe9c46780424123bf5a8b30bebd45d8",
       "version_major": 2,
       "version_minor": 0
      },
      "text/plain": [
       "r = 1.5346283912658691:   0%|          | 0/10 [00:00<?, ?it/s]"
      ]
     },
     "metadata": {},
     "output_type": "display_data"
    },
    {
     "data": {
      "application/vnd.jupyter.widget-view+json": {
       "model_id": "228b14b562aa477ca335487615d02c16",
       "version_major": 2,
       "version_minor": 0
      },
      "text/plain": [
       "r = 1.527577519416809:   0%|          | 0/10 [00:00<?, ?it/s]"
      ]
     },
     "metadata": {},
     "output_type": "display_data"
    },
    {
     "data": {
      "application/vnd.jupyter.widget-view+json": {
       "model_id": "301e34b8f3084a71a97e7698c4bc7cf2",
       "version_major": 2,
       "version_minor": 0
      },
      "text/plain": [
       "r = 1.5205588340759277:   0%|          | 0/10 [00:00<?, ?it/s]"
      ]
     },
     "metadata": {},
     "output_type": "display_data"
    },
    {
     "data": {
      "application/vnd.jupyter.widget-view+json": {
       "model_id": "7edfdb7b7fe34f3ea28bde1d2a8ac5f9",
       "version_major": 2,
       "version_minor": 0
      },
      "text/plain": [
       "r = 1.5135726928710938:   0%|          | 0/10 [00:00<?, ?it/s]"
      ]
     },
     "metadata": {},
     "output_type": "display_data"
    },
    {
     "data": {
      "application/vnd.jupyter.widget-view+json": {
       "model_id": "0c765d45bfc9470bb34ecd02e4d7e3a2",
       "version_major": 2,
       "version_minor": 0
      },
      "text/plain": [
       "r = 1.5066183805465698:   0%|          | 0/10 [00:00<?, ?it/s]"
      ]
     },
     "metadata": {},
     "output_type": "display_data"
    },
    {
     "data": {
      "application/vnd.jupyter.widget-view+json": {
       "model_id": "84fb672c4fce46ddae34f8494beee7f3",
       "version_major": 2,
       "version_minor": 0
      },
      "text/plain": [
       "r = 1.4996960163116455:   0%|          | 0/10 [00:00<?, ?it/s]"
      ]
     },
     "metadata": {},
     "output_type": "display_data"
    },
    {
     "data": {
      "application/vnd.jupyter.widget-view+json": {
       "model_id": "45571904b5924adb85ad7f6a66ceac6c",
       "version_major": 2,
       "version_minor": 0
      },
      "text/plain": [
       "r = 1.4928056001663208:   0%|          | 0/10 [00:00<?, ?it/s]"
      ]
     },
     "metadata": {},
     "output_type": "display_data"
    },
    {
     "data": {
      "application/vnd.jupyter.widget-view+json": {
       "model_id": "6fe1ac6e9eac44e59390c5773aaf9d27",
       "version_major": 2,
       "version_minor": 0
      },
      "text/plain": [
       "r = 1.4859468936920166:   0%|          | 0/10 [00:00<?, ?it/s]"
      ]
     },
     "metadata": {},
     "output_type": "display_data"
    },
    {
     "data": {
      "application/vnd.jupyter.widget-view+json": {
       "model_id": "b69785301f274dd293564596a7c12b78",
       "version_major": 2,
       "version_minor": 0
      },
      "text/plain": [
       "r = 1.4791196584701538:   0%|          | 0/10 [00:00<?, ?it/s]"
      ]
     },
     "metadata": {},
     "output_type": "display_data"
    },
    {
     "data": {
      "application/vnd.jupyter.widget-view+json": {
       "model_id": "037ecef274f84c88b90d8ae6137313c4",
       "version_major": 2,
       "version_minor": 0
      },
      "text/plain": [
       "r = 1.4723236560821533:   0%|          | 0/10 [00:00<?, ?it/s]"
      ]
     },
     "metadata": {},
     "output_type": "display_data"
    },
    {
     "data": {
      "application/vnd.jupyter.widget-view+json": {
       "model_id": "99f7c76149d746b4b52d519f8af59af5",
       "version_major": 2,
       "version_minor": 0
      },
      "text/plain": [
       "r = 1.4655590057373047:   0%|          | 0/10 [00:00<?, ?it/s]"
      ]
     },
     "metadata": {},
     "output_type": "display_data"
    },
    {
     "data": {
      "application/vnd.jupyter.widget-view+json": {
       "model_id": "7b304a86d3d34934ab3e552b17ebc06e",
       "version_major": 2,
       "version_minor": 0
      },
      "text/plain": [
       "r = 1.4588254690170288:   0%|          | 0/10 [00:00<?, ?it/s]"
      ]
     },
     "metadata": {},
     "output_type": "display_data"
    },
    {
     "data": {
      "application/vnd.jupyter.widget-view+json": {
       "model_id": "76eaa42dae52438ca8c5267129bbfba2",
       "version_major": 2,
       "version_minor": 0
      },
      "text/plain": [
       "r = 1.4521228075027466:   0%|          | 0/10 [00:00<?, ?it/s]"
      ]
     },
     "metadata": {},
     "output_type": "display_data"
    },
    {
     "data": {
      "application/vnd.jupyter.widget-view+json": {
       "model_id": "a78b94710c6a43fcbe3654a6e3cbd77b",
       "version_major": 2,
       "version_minor": 0
      },
      "text/plain": [
       "r = 1.4454509019851685:   0%|          | 0/10 [00:00<?, ?it/s]"
      ]
     },
     "metadata": {},
     "output_type": "display_data"
    },
    {
     "data": {
      "application/vnd.jupyter.widget-view+json": {
       "model_id": "028c73707d7c453c85919c83672093bc",
       "version_major": 2,
       "version_minor": 0
      },
      "text/plain": [
       "r = 1.4388096332550049:   0%|          | 0/10 [00:00<?, ?it/s]"
      ]
     },
     "metadata": {},
     "output_type": "display_data"
    },
    {
     "data": {
      "application/vnd.jupyter.widget-view+json": {
       "model_id": "2ee793962a9e4a5b9b537f2a7dfc3f31",
       "version_major": 2,
       "version_minor": 0
      },
      "text/plain": [
       "r = 1.4321988821029663:   0%|          | 0/10 [00:00<?, ?it/s]"
      ]
     },
     "metadata": {},
     "output_type": "display_data"
    },
    {
     "data": {
      "application/vnd.jupyter.widget-view+json": {
       "model_id": "8d5b30dd631b4e9f8a4bca02dd3f9601",
       "version_major": 2,
       "version_minor": 0
      },
      "text/plain": [
       "r = 1.4256186485290527:   0%|          | 0/10 [00:00<?, ?it/s]"
      ]
     },
     "metadata": {},
     "output_type": "display_data"
    },
    {
     "data": {
      "application/vnd.jupyter.widget-view+json": {
       "model_id": "0c41b05591e645738c83e068fc705591",
       "version_major": 2,
       "version_minor": 0
      },
      "text/plain": [
       "r = 1.4190685749053955:   0%|          | 0/10 [00:00<?, ?it/s]"
      ]
     },
     "metadata": {},
     "output_type": "display_data"
    },
    {
     "data": {
      "application/vnd.jupyter.widget-view+json": {
       "model_id": "8487e638afae4e89a198b458fc174db1",
       "version_major": 2,
       "version_minor": 0
      },
      "text/plain": [
       "r = 1.412548542022705:   0%|          | 0/10 [00:00<?, ?it/s]"
      ]
     },
     "metadata": {},
     "output_type": "display_data"
    },
    {
     "data": {
      "application/vnd.jupyter.widget-view+json": {
       "model_id": "982893a482694709b8547cf9a946b10c",
       "version_major": 2,
       "version_minor": 0
      },
      "text/plain": [
       "r = 1.4060585498809814:   0%|          | 0/10 [00:00<?, ?it/s]"
      ]
     },
     "metadata": {},
     "output_type": "display_data"
    },
    {
     "data": {
      "application/vnd.jupyter.widget-view+json": {
       "model_id": "2b077e7082c64577ac1c455468fa069e",
       "version_major": 2,
       "version_minor": 0
      },
      "text/plain": [
       "r = 1.399598240852356:   0%|          | 0/10 [00:00<?, ?it/s]"
      ]
     },
     "metadata": {},
     "output_type": "display_data"
    },
    {
     "data": {
      "application/vnd.jupyter.widget-view+json": {
       "model_id": "7c45fbf9f36c4c0390d8bbcde42f695e",
       "version_major": 2,
       "version_minor": 0
      },
      "text/plain": [
       "r = 1.3931677341461182:   0%|          | 0/10 [00:00<?, ?it/s]"
      ]
     },
     "metadata": {},
     "output_type": "display_data"
    },
    {
     "data": {
      "application/vnd.jupyter.widget-view+json": {
       "model_id": "dad7186777ac4e11855b0bfa20a4ae89",
       "version_major": 2,
       "version_minor": 0
      },
      "text/plain": [
       "r = 1.3867666721343994:   0%|          | 0/10 [00:00<?, ?it/s]"
      ]
     },
     "metadata": {},
     "output_type": "display_data"
    },
    {
     "data": {
      "application/vnd.jupyter.widget-view+json": {
       "model_id": "14583b0ee62542fc93ba6073e3eaf5ba",
       "version_major": 2,
       "version_minor": 0
      },
      "text/plain": [
       "r = 1.3803951740264893:   0%|          | 0/10 [00:00<?, ?it/s]"
      ]
     },
     "metadata": {},
     "output_type": "display_data"
    },
    {
     "data": {
      "application/vnd.jupyter.widget-view+json": {
       "model_id": "33fcc4041e784e068fdf786a6d2b6344",
       "version_major": 2,
       "version_minor": 0
      },
      "text/plain": [
       "r = 1.3740527629852295:   0%|          | 0/10 [00:00<?, ?it/s]"
      ]
     },
     "metadata": {},
     "output_type": "display_data"
    },
    {
     "data": {
      "application/vnd.jupyter.widget-view+json": {
       "model_id": "0fa109c16e5e40e68a842c88cfd5cf46",
       "version_major": 2,
       "version_minor": 0
      },
      "text/plain": [
       "r = 1.3677395582199097:   0%|          | 0/10 [00:00<?, ?it/s]"
      ]
     },
     "metadata": {},
     "output_type": "display_data"
    },
    {
     "data": {
      "application/vnd.jupyter.widget-view+json": {
       "model_id": "4a7290f653b64f69aa74badb1e39890b",
       "version_major": 2,
       "version_minor": 0
      },
      "text/plain": [
       "r = 1.3614554405212402:   0%|          | 0/10 [00:00<?, ?it/s]"
      ]
     },
     "metadata": {},
     "output_type": "display_data"
    },
    {
     "data": {
      "application/vnd.jupyter.widget-view+json": {
       "model_id": "f1b01f059e9240529cd6e5ccec42d139",
       "version_major": 2,
       "version_minor": 0
      },
      "text/plain": [
       "r = 1.3552000522613525:   0%|          | 0/10 [00:00<?, ?it/s]"
      ]
     },
     "metadata": {},
     "output_type": "display_data"
    },
    {
     "data": {
      "application/vnd.jupyter.widget-view+json": {
       "model_id": "6c04688cc494487fb196a1d9f7ae3158",
       "version_major": 2,
       "version_minor": 0
      },
      "text/plain": [
       "r = 1.3489736318588257:   0%|          | 0/10 [00:00<?, ?it/s]"
      ]
     },
     "metadata": {},
     "output_type": "display_data"
    },
    {
     "data": {
      "application/vnd.jupyter.widget-view+json": {
       "model_id": "e0485141905042fab468b563da2e82cd",
       "version_major": 2,
       "version_minor": 0
      },
      "text/plain": [
       "r = 1.3427757024765015:   0%|          | 0/10 [00:00<?, ?it/s]"
      ]
     },
     "metadata": {},
     "output_type": "display_data"
    },
    {
     "data": {
      "application/vnd.jupyter.widget-view+json": {
       "model_id": "d44ed77125464772814c4f4f5bdc3963",
       "version_major": 2,
       "version_minor": 0
      },
      "text/plain": [
       "r = 1.3366061449050903:   0%|          | 0/10 [00:00<?, ?it/s]"
      ]
     },
     "metadata": {},
     "output_type": "display_data"
    },
    {
     "data": {
      "application/vnd.jupyter.widget-view+json": {
       "model_id": "6d2804453abd48af93cde7f947cb90d9",
       "version_major": 2,
       "version_minor": 0
      },
      "text/plain": [
       "r = 1.3304650783538818:   0%|          | 0/10 [00:00<?, ?it/s]"
      ]
     },
     "metadata": {},
     "output_type": "display_data"
    },
    {
     "data": {
      "application/vnd.jupyter.widget-view+json": {
       "model_id": "b5c23734aee04be6ba91d4ebea95ce78",
       "version_major": 2,
       "version_minor": 0
      },
      "text/plain": [
       "r = 1.3243521451950073:   0%|          | 0/10 [00:00<?, ?it/s]"
      ]
     },
     "metadata": {},
     "output_type": "display_data"
    },
    {
     "data": {
      "application/vnd.jupyter.widget-view+json": {
       "model_id": "66179f70ebf44867930cbe0d0fc9d71c",
       "version_major": 2,
       "version_minor": 0
      },
      "text/plain": [
       "r = 1.3182673454284668:   0%|          | 0/10 [00:00<?, ?it/s]"
      ]
     },
     "metadata": {},
     "output_type": "display_data"
    },
    {
     "data": {
      "application/vnd.jupyter.widget-view+json": {
       "model_id": "0938256da7d9464391f94aa265037254",
       "version_major": 2,
       "version_minor": 0
      },
      "text/plain": [
       "r = 1.3122104406356812:   0%|          | 0/10 [00:00<?, ?it/s]"
      ]
     },
     "metadata": {},
     "output_type": "display_data"
    },
    {
     "data": {
      "application/vnd.jupyter.widget-view+json": {
       "model_id": "6329dd64aa7440178eb858ff4c38769a",
       "version_major": 2,
       "version_minor": 0
      },
      "text/plain": [
       "r = 1.3061814308166504:   0%|          | 0/10 [00:00<?, ?it/s]"
      ]
     },
     "metadata": {},
     "output_type": "display_data"
    },
    {
     "data": {
      "application/vnd.jupyter.widget-view+json": {
       "model_id": "ca263b3f01fe488082aa36a83cf24b10",
       "version_major": 2,
       "version_minor": 0
      },
      "text/plain": [
       "r = 1.3001800775527954:   0%|          | 0/10 [00:00<?, ?it/s]"
      ]
     },
     "metadata": {},
     "output_type": "display_data"
    },
    {
     "data": {
      "application/vnd.jupyter.widget-view+json": {
       "model_id": "11091275fe2d454b88a35fb961dd8b7e",
       "version_major": 2,
       "version_minor": 0
      },
      "text/plain": [
       "r = 1.2942063808441162:   0%|          | 0/10 [00:00<?, ?it/s]"
      ]
     },
     "metadata": {},
     "output_type": "display_data"
    },
    {
     "data": {
      "application/vnd.jupyter.widget-view+json": {
       "model_id": "c744f879b8374fbfaf6377415f17bd00",
       "version_major": 2,
       "version_minor": 0
      },
      "text/plain": [
       "r = 1.2882601022720337:   0%|          | 0/10 [00:00<?, ?it/s]"
      ]
     },
     "metadata": {},
     "output_type": "display_data"
    },
    {
     "data": {
      "application/vnd.jupyter.widget-view+json": {
       "model_id": "b3cc29614f1d4134854b6a2c166b5707",
       "version_major": 2,
       "version_minor": 0
      },
      "text/plain": [
       "r = 1.2823410034179688:   0%|          | 0/10 [00:00<?, ?it/s]"
      ]
     },
     "metadata": {},
     "output_type": "display_data"
    },
    {
     "data": {
      "application/vnd.jupyter.widget-view+json": {
       "model_id": "e145ac562ffa41a7870fe7841511a812",
       "version_major": 2,
       "version_minor": 0
      },
      "text/plain": [
       "r = 1.276449203491211:   0%|          | 0/10 [00:00<?, ?it/s]"
      ]
     },
     "metadata": {},
     "output_type": "display_data"
    },
    {
     "data": {
      "application/vnd.jupyter.widget-view+json": {
       "model_id": "eb7c35dbd69a4e5b9e5d315c2df6315e",
       "version_major": 2,
       "version_minor": 0
      },
      "text/plain": [
       "r = 1.2705844640731812:   0%|          | 0/10 [00:00<?, ?it/s]"
      ]
     },
     "metadata": {},
     "output_type": "display_data"
    },
    {
     "data": {
      "application/vnd.jupyter.widget-view+json": {
       "model_id": "f4ea78198e914b47896373630091c47b",
       "version_major": 2,
       "version_minor": 0
      },
      "text/plain": [
       "r = 1.2647467851638794:   0%|          | 0/10 [00:00<?, ?it/s]"
      ]
     },
     "metadata": {},
     "output_type": "display_data"
    },
    {
     "data": {
      "application/vnd.jupyter.widget-view+json": {
       "model_id": "c4feb51ce0b946e0834e4e753b2a70d5",
       "version_major": 2,
       "version_minor": 0
      },
      "text/plain": [
       "r = 1.258935809135437:   0%|          | 0/10 [00:00<?, ?it/s]"
      ]
     },
     "metadata": {},
     "output_type": "display_data"
    },
    {
     "data": {
      "application/vnd.jupyter.widget-view+json": {
       "model_id": "2e6b1e23080e4ffdbd03e087d724fa77",
       "version_major": 2,
       "version_minor": 0
      },
      "text/plain": [
       "r = 1.2531514167785645:   0%|          | 0/10 [00:00<?, ?it/s]"
      ]
     },
     "metadata": {},
     "output_type": "display_data"
    },
    {
     "data": {
      "application/vnd.jupyter.widget-view+json": {
       "model_id": "cb5eb3345add4d4f93e38ed8d78b765f",
       "version_major": 2,
       "version_minor": 0
      },
      "text/plain": [
       "r = 1.2473938465118408:   0%|          | 0/10 [00:00<?, ?it/s]"
      ]
     },
     "metadata": {},
     "output_type": "display_data"
    },
    {
     "data": {
      "application/vnd.jupyter.widget-view+json": {
       "model_id": "67b678158b984ea480e5d230734f2f5d",
       "version_major": 2,
       "version_minor": 0
      },
      "text/plain": [
       "r = 1.241662621498108:   0%|          | 0/10 [00:00<?, ?it/s]"
      ]
     },
     "metadata": {},
     "output_type": "display_data"
    },
    {
     "data": {
      "application/vnd.jupyter.widget-view+json": {
       "model_id": "78b70da5b9544ac09beee418972ec069",
       "version_major": 2,
       "version_minor": 0
      },
      "text/plain": [
       "r = 1.2359576225280762:   0%|          | 0/10 [00:00<?, ?it/s]"
      ]
     },
     "metadata": {},
     "output_type": "display_data"
    },
    {
     "data": {
      "application/vnd.jupyter.widget-view+json": {
       "model_id": "10e4bcfca0304c8e905b077d1b6109c6",
       "version_major": 2,
       "version_minor": 0
      },
      "text/plain": [
       "r = 1.2302789688110352:   0%|          | 0/10 [00:00<?, ?it/s]"
      ]
     },
     "metadata": {},
     "output_type": "display_data"
    },
    {
     "data": {
      "application/vnd.jupyter.widget-view+json": {
       "model_id": "f245a0c2df1b4fc5906b305f17eb768a",
       "version_major": 2,
       "version_minor": 0
      },
      "text/plain": [
       "r = 1.2246264219284058:   0%|          | 0/10 [00:00<?, ?it/s]"
      ]
     },
     "metadata": {},
     "output_type": "display_data"
    },
    {
     "data": {
      "application/vnd.jupyter.widget-view+json": {
       "model_id": "4023320ab25748d9934939ae722457a4",
       "version_major": 2,
       "version_minor": 0
      },
      "text/plain": [
       "r = 1.2189997434616089:   0%|          | 0/10 [00:00<?, ?it/s]"
      ]
     },
     "metadata": {},
     "output_type": "display_data"
    },
    {
     "data": {
      "application/vnd.jupyter.widget-view+json": {
       "model_id": "c8e234c3cc6044d399adfcdfea33f02e",
       "version_major": 2,
       "version_minor": 0
      },
      "text/plain": [
       "r = 1.213399052619934:   0%|          | 0/10 [00:00<?, ?it/s]"
      ]
     },
     "metadata": {},
     "output_type": "display_data"
    },
    {
     "data": {
      "application/vnd.jupyter.widget-view+json": {
       "model_id": "6217d9818b9f433aaba0d4dbb97707de",
       "version_major": 2,
       "version_minor": 0
      },
      "text/plain": [
       "r = 1.2078239917755127:   0%|          | 0/10 [00:00<?, ?it/s]"
      ]
     },
     "metadata": {},
     "output_type": "display_data"
    },
    {
     "data": {
      "application/vnd.jupyter.widget-view+json": {
       "model_id": "49b1dad408bb4ba6bb13db4179626368",
       "version_major": 2,
       "version_minor": 0
      },
      "text/plain": [
       "r = 1.2022745609283447:   0%|          | 0/10 [00:00<?, ?it/s]"
      ]
     },
     "metadata": {},
     "output_type": "display_data"
    },
    {
     "data": {
      "application/vnd.jupyter.widget-view+json": {
       "model_id": "c5ce93532a0d41b09e9aa5a6a5b8f949",
       "version_major": 2,
       "version_minor": 0
      },
      "text/plain": [
       "r = 1.1967506408691406:   0%|          | 0/10 [00:00<?, ?it/s]"
      ]
     },
     "metadata": {},
     "output_type": "display_data"
    },
    {
     "data": {
      "application/vnd.jupyter.widget-view+json": {
       "model_id": "9f64f9d53cfa4fb799c609e403f26acd",
       "version_major": 2,
       "version_minor": 0
      },
      "text/plain": [
       "r = 1.1912521123886108:   0%|          | 0/10 [00:00<?, ?it/s]"
      ]
     },
     "metadata": {},
     "output_type": "display_data"
    },
    {
     "data": {
      "application/vnd.jupyter.widget-view+json": {
       "model_id": "4c5ccdb6b8e24454bb2eec644242a2e6",
       "version_major": 2,
       "version_minor": 0
      },
      "text/plain": [
       "r = 1.1857788562774658:   0%|          | 0/10 [00:00<?, ?it/s]"
      ]
     },
     "metadata": {},
     "output_type": "display_data"
    },
    {
     "data": {
      "application/vnd.jupyter.widget-view+json": {
       "model_id": "8599429c274b48dbb07712dd68409943",
       "version_major": 2,
       "version_minor": 0
      },
      "text/plain": [
       "r = 1.1803306341171265:   0%|          | 0/10 [00:00<?, ?it/s]"
      ]
     },
     "metadata": {},
     "output_type": "display_data"
    },
    {
     "data": {
      "application/vnd.jupyter.widget-view+json": {
       "model_id": "8ef2b054038a43608fc05c2d12171726",
       "version_major": 2,
       "version_minor": 0
      },
      "text/plain": [
       "r = 1.1749075651168823:   0%|          | 0/10 [00:00<?, ?it/s]"
      ]
     },
     "metadata": {},
     "output_type": "display_data"
    },
    {
     "data": {
      "application/vnd.jupyter.widget-view+json": {
       "model_id": "72c26efcffe343e781b6700f90f0834a",
       "version_major": 2,
       "version_minor": 0
      },
      "text/plain": [
       "r = 1.1695094108581543:   0%|          | 0/10 [00:00<?, ?it/s]"
      ]
     },
     "metadata": {},
     "output_type": "display_data"
    },
    {
     "data": {
      "application/vnd.jupyter.widget-view+json": {
       "model_id": "8f8dfcb2c8894bd59fad32befeb20e9e",
       "version_major": 2,
       "version_minor": 0
      },
      "text/plain": [
       "r = 1.1641360521316528:   0%|          | 0/10 [00:00<?, ?it/s]"
      ]
     },
     "metadata": {},
     "output_type": "display_data"
    },
    {
     "data": {
      "application/vnd.jupyter.widget-view+json": {
       "model_id": "766596f680094128be44892d65a9391a",
       "version_major": 2,
       "version_minor": 0
      },
      "text/plain": [
       "r = 1.1587872505187988:   0%|          | 0/10 [00:00<?, ?it/s]"
      ]
     },
     "metadata": {},
     "output_type": "display_data"
    },
    {
     "data": {
      "application/vnd.jupyter.widget-view+json": {
       "model_id": "d31f31c138e24a7a8e36168907afe8d2",
       "version_major": 2,
       "version_minor": 0
      },
      "text/plain": [
       "r = 1.1534631252288818:   0%|          | 0/10 [00:00<?, ?it/s]"
      ]
     },
     "metadata": {},
     "output_type": "display_data"
    },
    {
     "data": {
      "application/vnd.jupyter.widget-view+json": {
       "model_id": "6238fb50b78f4df5bc696444be25d8c0",
       "version_major": 2,
       "version_minor": 0
      },
      "text/plain": [
       "r = 1.1481635570526123:   0%|          | 0/10 [00:00<?, ?it/s]"
      ]
     },
     "metadata": {},
     "output_type": "display_data"
    },
    {
     "data": {
      "application/vnd.jupyter.widget-view+json": {
       "model_id": "ba7bf24044444112831792fb77403162",
       "version_major": 2,
       "version_minor": 0
      },
      "text/plain": [
       "r = 1.1428881883621216:   0%|          | 0/10 [00:00<?, ?it/s]"
      ]
     },
     "metadata": {},
     "output_type": "display_data"
    },
    {
     "data": {
      "application/vnd.jupyter.widget-view+json": {
       "model_id": "fcc04eb402c546018eabfaa73dffa1a5",
       "version_major": 2,
       "version_minor": 0
      },
      "text/plain": [
       "r = 1.1376371383666992:   0%|          | 0/10 [00:00<?, ?it/s]"
      ]
     },
     "metadata": {},
     "output_type": "display_data"
    },
    {
     "data": {
      "application/vnd.jupyter.widget-view+json": {
       "model_id": "520c1655e56749f79be9170d0fdab832",
       "version_major": 2,
       "version_minor": 0
      },
      "text/plain": [
       "r = 1.1324101686477661:   0%|          | 0/10 [00:00<?, ?it/s]"
      ]
     },
     "metadata": {},
     "output_type": "display_data"
    },
    {
     "data": {
      "application/vnd.jupyter.widget-view+json": {
       "model_id": "a380d541eaeb4cb29de5f492d9b46f4d",
       "version_major": 2,
       "version_minor": 0
      },
      "text/plain": [
       "r = 1.1272071599960327:   0%|          | 0/10 [00:00<?, ?it/s]"
      ]
     },
     "metadata": {},
     "output_type": "display_data"
    },
    {
     "data": {
      "application/vnd.jupyter.widget-view+json": {
       "model_id": "d0da32f25f884990948db7e07fcf41a6",
       "version_major": 2,
       "version_minor": 0
      },
      "text/plain": [
       "r = 1.1220282316207886:   0%|          | 0/10 [00:00<?, ?it/s]"
      ]
     },
     "metadata": {},
     "output_type": "display_data"
    },
    {
     "data": {
      "application/vnd.jupyter.widget-view+json": {
       "model_id": "ce00fac2dd764268b90b1779f63ef19c",
       "version_major": 2,
       "version_minor": 0
      },
      "text/plain": [
       "r = 1.1168729066848755:   0%|          | 0/10 [00:00<?, ?it/s]"
      ]
     },
     "metadata": {},
     "output_type": "display_data"
    },
    {
     "data": {
      "application/vnd.jupyter.widget-view+json": {
       "model_id": "d5f6396b69e94742aebe9ad820081432",
       "version_major": 2,
       "version_minor": 0
      },
      "text/plain": [
       "r = 1.1117414236068726:   0%|          | 0/10 [00:00<?, ?it/s]"
      ]
     },
     "metadata": {},
     "output_type": "display_data"
    },
    {
     "data": {
      "application/vnd.jupyter.widget-view+json": {
       "model_id": "63d1d622fca242e6ad0fb51487d46623",
       "version_major": 2,
       "version_minor": 0
      },
      "text/plain": [
       "r = 1.1066334247589111:   0%|          | 0/10 [00:00<?, ?it/s]"
      ]
     },
     "metadata": {},
     "output_type": "display_data"
    },
    {
     "data": {
      "application/vnd.jupyter.widget-view+json": {
       "model_id": "a185bcb7606a4067b4001a24cddd420d",
       "version_major": 2,
       "version_minor": 0
      },
      "text/plain": [
       "r = 1.1015489101409912:   0%|          | 0/10 [00:00<?, ?it/s]"
      ]
     },
     "metadata": {},
     "output_type": "display_data"
    },
    {
     "data": {
      "application/vnd.jupyter.widget-view+json": {
       "model_id": "b08afe683a8743a29a07d81e0d6e9550",
       "version_major": 2,
       "version_minor": 0
      },
      "text/plain": [
       "r = 1.0964877605438232:   0%|          | 0/10 [00:00<?, ?it/s]"
      ]
     },
     "metadata": {},
     "output_type": "display_data"
    },
    {
     "data": {
      "application/vnd.jupyter.widget-view+json": {
       "model_id": "cf09ed9b099c420f9c0b686b324c30ba",
       "version_major": 2,
       "version_minor": 0
      },
      "text/plain": [
       "r = 1.0914499759674072:   0%|          | 0/10 [00:00<?, ?it/s]"
      ]
     },
     "metadata": {},
     "output_type": "display_data"
    },
    {
     "data": {
      "application/vnd.jupyter.widget-view+json": {
       "model_id": "02af85724e8a4b479a19b462de31df24",
       "version_major": 2,
       "version_minor": 0
      },
      "text/plain": [
       "r = 1.0864351987838745:   0%|          | 0/10 [00:00<?, ?it/s]"
      ]
     },
     "metadata": {},
     "output_type": "display_data"
    },
    {
     "data": {
      "application/vnd.jupyter.widget-view+json": {
       "model_id": "95ecf529da2c44b797064fbac348ed3a",
       "version_major": 2,
       "version_minor": 0
      },
      "text/plain": [
       "r = 1.0814435482025146:   0%|          | 0/10 [00:00<?, ?it/s]"
      ]
     },
     "metadata": {},
     "output_type": "display_data"
    },
    {
     "data": {
      "application/vnd.jupyter.widget-view+json": {
       "model_id": "a99140dd53a14bf79f2c36cf5887d626",
       "version_major": 2,
       "version_minor": 0
      },
      "text/plain": [
       "r = 1.076474666595459:   0%|          | 0/10 [00:00<?, ?it/s]"
      ]
     },
     "metadata": {},
     "output_type": "display_data"
    },
    {
     "data": {
      "application/vnd.jupyter.widget-view+json": {
       "model_id": "57106c199653485e88c10d99419f8589",
       "version_major": 2,
       "version_minor": 0
      },
      "text/plain": [
       "r = 1.0715287923812866:   0%|          | 0/10 [00:00<?, ?it/s]"
      ]
     },
     "metadata": {},
     "output_type": "display_data"
    },
    {
     "data": {
      "application/vnd.jupyter.widget-view+json": {
       "model_id": "f4b8b49a302f4cc6b3360fa96486c349",
       "version_major": 2,
       "version_minor": 0
      },
      "text/plain": [
       "r = 1.066605567932129:   0%|          | 0/10 [00:00<?, ?it/s]"
      ]
     },
     "metadata": {},
     "output_type": "display_data"
    },
    {
     "data": {
      "application/vnd.jupyter.widget-view+json": {
       "model_id": "86e12789a3704a08b9a7655ffa135c6d",
       "version_major": 2,
       "version_minor": 0
      },
      "text/plain": [
       "r = 1.0617051124572754:   0%|          | 0/10 [00:00<?, ?it/s]"
      ]
     },
     "metadata": {},
     "output_type": "display_data"
    },
    {
     "data": {
      "application/vnd.jupyter.widget-view+json": {
       "model_id": "0880a67bfbc9419ea2626a77c359608b",
       "version_major": 2,
       "version_minor": 0
      },
      "text/plain": [
       "r = 1.0568269491195679:   0%|          | 0/10 [00:00<?, ?it/s]"
      ]
     },
     "metadata": {},
     "output_type": "display_data"
    },
    {
     "data": {
      "application/vnd.jupyter.widget-view+json": {
       "model_id": "1074e7eb0470453eb36ff1cfc0e3c59f",
       "version_major": 2,
       "version_minor": 0
      },
      "text/plain": [
       "r = 1.0519713163375854:   0%|          | 0/10 [00:00<?, ?it/s]"
      ]
     },
     "metadata": {},
     "output_type": "display_data"
    },
    {
     "data": {
      "application/vnd.jupyter.widget-view+json": {
       "model_id": "ca1c6c26457b42918a54ba5dfcae0500",
       "version_major": 2,
       "version_minor": 0
      },
      "text/plain": [
       "r = 1.0471378564834595:   0%|          | 0/10 [00:00<?, ?it/s]"
      ]
     },
     "metadata": {},
     "output_type": "display_data"
    },
    {
     "data": {
      "application/vnd.jupyter.widget-view+json": {
       "model_id": "bb5ed39bfbf04ba28a4d46b3fbce3858",
       "version_major": 2,
       "version_minor": 0
      },
      "text/plain": [
       "r = 1.042326807975769:   0%|          | 0/10 [00:00<?, ?it/s]"
      ]
     },
     "metadata": {},
     "output_type": "display_data"
    },
    {
     "data": {
      "application/vnd.jupyter.widget-view+json": {
       "model_id": "c507be8efa784bedbedde38e1f9d48a1",
       "version_major": 2,
       "version_minor": 0
      },
      "text/plain": [
       "r = 1.0375378131866455:   0%|          | 0/10 [00:00<?, ?it/s]"
      ]
     },
     "metadata": {},
     "output_type": "display_data"
    },
    {
     "data": {
      "application/vnd.jupyter.widget-view+json": {
       "model_id": "c72db675e16f4747bc77132a7571929d",
       "version_major": 2,
       "version_minor": 0
      },
      "text/plain": [
       "r = 1.0327707529067993:   0%|          | 0/10 [00:00<?, ?it/s]"
      ]
     },
     "metadata": {},
     "output_type": "display_data"
    },
    {
     "data": {
      "application/vnd.jupyter.widget-view+json": {
       "model_id": "87ce8cf956e842daa04879bb81d71033",
       "version_major": 2,
       "version_minor": 0
      },
      "text/plain": [
       "r = 1.0280256271362305:   0%|          | 0/10 [00:00<?, ?it/s]"
      ]
     },
     "metadata": {},
     "output_type": "display_data"
    },
    {
     "data": {
      "application/vnd.jupyter.widget-view+json": {
       "model_id": "47a09fd5233843d295ebed3996556f0a",
       "version_major": 2,
       "version_minor": 0
      },
      "text/plain": [
       "r = 1.0233021974563599:   0%|          | 0/10 [00:00<?, ?it/s]"
      ]
     },
     "metadata": {},
     "output_type": "display_data"
    },
    {
     "data": {
      "application/vnd.jupyter.widget-view+json": {
       "model_id": "32ac5fd074754208a506576eebe07339",
       "version_major": 2,
       "version_minor": 0
      },
      "text/plain": [
       "r = 1.018600583076477:   0%|          | 0/10 [00:00<?, ?it/s]"
      ]
     },
     "metadata": {},
     "output_type": "display_data"
    },
    {
     "data": {
      "application/vnd.jupyter.widget-view+json": {
       "model_id": "67a079b6d40744b88e39e49dc660dd96",
       "version_major": 2,
       "version_minor": 0
      },
      "text/plain": [
       "r = 1.013920545578003:   0%|          | 0/10 [00:00<?, ?it/s]"
      ]
     },
     "metadata": {},
     "output_type": "display_data"
    },
    {
     "data": {
      "application/vnd.jupyter.widget-view+json": {
       "model_id": "7ca23d1992134dcf96b1cf16fadba1c5",
       "version_major": 2,
       "version_minor": 0
      },
      "text/plain": [
       "r = 1.0092620849609375:   0%|          | 0/10 [00:00<?, ?it/s]"
      ]
     },
     "metadata": {},
     "output_type": "display_data"
    },
    {
     "data": {
      "application/vnd.jupyter.widget-view+json": {
       "model_id": "f7cd529957304b868d99892770216607",
       "version_major": 2,
       "version_minor": 0
      },
      "text/plain": [
       "r = 1.0046249628067017:   0%|          | 0/10 [00:00<?, ?it/s]"
      ]
     },
     "metadata": {},
     "output_type": "display_data"
    },
    {
     "data": {
      "application/vnd.jupyter.widget-view+json": {
       "model_id": "11da69a54220457fa57da0b2d904f79a",
       "version_major": 2,
       "version_minor": 0
      },
      "text/plain": [
       "r = 1.0000091791152954:   0%|          | 0/10 [00:00<?, ?it/s]"
      ]
     },
     "metadata": {},
     "output_type": "display_data"
    },
    {
     "data": {
      "application/vnd.jupyter.widget-view+json": {
       "model_id": "6a0edce6eb4d4aa3af6370e638ae17d5",
       "version_major": 2,
       "version_minor": 0
      },
      "text/plain": [
       "r = 0.9954145550727844:   0%|          | 0/10 [00:00<?, ?it/s]"
      ]
     },
     "metadata": {},
     "output_type": "display_data"
    },
    {
     "data": {
      "application/vnd.jupyter.widget-view+json": {
       "model_id": "b1a80420bd4043dabe042c5a2eb1abea",
       "version_major": 2,
       "version_minor": 0
      },
      "text/plain": [
       "r = 0.9908410310745239:   0%|          | 0/10 [00:00<?, ?it/s]"
      ]
     },
     "metadata": {},
     "output_type": "display_data"
    },
    {
     "data": {
      "application/vnd.jupyter.widget-view+json": {
       "model_id": "acf34020eb0e47499e0f601ca353798c",
       "version_major": 2,
       "version_minor": 0
      },
      "text/plain": [
       "r = 0.9862885475158691:   0%|          | 0/10 [00:00<?, ?it/s]"
      ]
     },
     "metadata": {},
     "output_type": "display_data"
    },
    {
     "data": {
      "application/vnd.jupyter.widget-view+json": {
       "model_id": "5cde6652b7214033b20166005fcbf121",
       "version_major": 2,
       "version_minor": 0
      },
      "text/plain": [
       "r = 0.9817569851875305:   0%|          | 0/10 [00:00<?, ?it/s]"
      ]
     },
     "metadata": {},
     "output_type": "display_data"
    },
    {
     "data": {
      "application/vnd.jupyter.widget-view+json": {
       "model_id": "08a4a49f12484067a6f1b18272e6daaf",
       "version_major": 2,
       "version_minor": 0
      },
      "text/plain": [
       "r = 0.9772462248802185:   0%|          | 0/10 [00:00<?, ?it/s]"
      ]
     },
     "metadata": {},
     "output_type": "display_data"
    },
    {
     "data": {
      "application/vnd.jupyter.widget-view+json": {
       "model_id": "ebd7876718aa4f1ab0b5f9eb3ed91345",
       "version_major": 2,
       "version_minor": 0
      },
      "text/plain": [
       "r = 0.9727562069892883:   0%|          | 0/10 [00:00<?, ?it/s]"
      ]
     },
     "metadata": {},
     "output_type": "display_data"
    },
    {
     "data": {
      "application/vnd.jupyter.widget-view+json": {
       "model_id": "5c45c298ddd540679c8a27783c122266",
       "version_major": 2,
       "version_minor": 0
      },
      "text/plain": [
       "r = 0.9682868719100952:   0%|          | 0/10 [00:00<?, ?it/s]"
      ]
     },
     "metadata": {},
     "output_type": "display_data"
    },
    {
     "data": {
      "application/vnd.jupyter.widget-view+json": {
       "model_id": "e7565b70d4c943b2acd9f167317d70ab",
       "version_major": 2,
       "version_minor": 0
      },
      "text/plain": [
       "r = 0.9638379812240601:   0%|          | 0/10 [00:00<?, ?it/s]"
      ]
     },
     "metadata": {},
     "output_type": "display_data"
    },
    {
     "data": {
      "application/vnd.jupyter.widget-view+json": {
       "model_id": "394a6f2e634d436d879c7e97901fd6d0",
       "version_major": 2,
       "version_minor": 0
      },
      "text/plain": [
       "r = 0.9594095349311829:   0%|          | 0/10 [00:00<?, ?it/s]"
      ]
     },
     "metadata": {},
     "output_type": "display_data"
    },
    {
     "data": {
      "application/vnd.jupyter.widget-view+json": {
       "model_id": "555682f9ad9c43c986d4d16708dff487",
       "version_major": 2,
       "version_minor": 0
      },
      "text/plain": [
       "r = 0.9550014734268188:   0%|          | 0/10 [00:00<?, ?it/s]"
      ]
     },
     "metadata": {},
     "output_type": "display_data"
    },
    {
     "data": {
      "application/vnd.jupyter.widget-view+json": {
       "model_id": "382e0baf82eb4eb6aa5ff123bf326e38",
       "version_major": 2,
       "version_minor": 0
      },
      "text/plain": [
       "r = 0.9506136775016785:   0%|          | 0/10 [00:00<?, ?it/s]"
      ]
     },
     "metadata": {},
     "output_type": "display_data"
    },
    {
     "data": {
      "application/vnd.jupyter.widget-view+json": {
       "model_id": "1b97bcb5d90442ffbf3eb6ca07825abb",
       "version_major": 2,
       "version_minor": 0
      },
      "text/plain": [
       "r = 0.9462460279464722:   0%|          | 0/10 [00:00<?, ?it/s]"
      ]
     },
     "metadata": {},
     "output_type": "display_data"
    },
    {
     "data": {
      "application/vnd.jupyter.widget-view+json": {
       "model_id": "c4c3d838d97748c5a245470771ab6f9d",
       "version_major": 2,
       "version_minor": 0
      },
      "text/plain": [
       "r = 0.9418984651565552:   0%|          | 0/10 [00:00<?, ?it/s]"
      ]
     },
     "metadata": {},
     "output_type": "display_data"
    },
    {
     "data": {
      "application/vnd.jupyter.widget-view+json": {
       "model_id": "b813f4b54cce4bd0a00542e3007ae3ce",
       "version_major": 2,
       "version_minor": 0
      },
      "text/plain": [
       "r = 0.9375708699226379:   0%|          | 0/10 [00:00<?, ?it/s]"
      ]
     },
     "metadata": {},
     "output_type": "display_data"
    },
    {
     "data": {
      "application/vnd.jupyter.widget-view+json": {
       "model_id": "6c4aad8f29ff402195026578df415236",
       "version_major": 2,
       "version_minor": 0
      },
      "text/plain": [
       "r = 0.9332630634307861:   0%|          | 0/10 [00:00<?, ?it/s]"
      ]
     },
     "metadata": {},
     "output_type": "display_data"
    },
    {
     "data": {
      "application/vnd.jupyter.widget-view+json": {
       "model_id": "96761e1d20c149568afec98da073b891",
       "version_major": 2,
       "version_minor": 0
      },
      "text/plain": [
       "r = 0.9289751052856445:   0%|          | 0/10 [00:00<?, ?it/s]"
      ]
     },
     "metadata": {},
     "output_type": "display_data"
    },
    {
     "data": {
      "application/vnd.jupyter.widget-view+json": {
       "model_id": "c6023d611ceb476c9e57ac613dfcf077",
       "version_major": 2,
       "version_minor": 0
      },
      "text/plain": [
       "r = 0.9247069358825684:   0%|          | 0/10 [00:00<?, ?it/s]"
      ]
     },
     "metadata": {},
     "output_type": "display_data"
    },
    {
     "data": {
      "application/vnd.jupyter.widget-view+json": {
       "model_id": "cb78644767884222bb9b1aea2615939c",
       "version_major": 2,
       "version_minor": 0
      },
      "text/plain": [
       "r = 0.9204583168029785:   0%|          | 0/10 [00:00<?, ?it/s]"
      ]
     },
     "metadata": {},
     "output_type": "display_data"
    },
    {
     "data": {
      "application/vnd.jupyter.widget-view+json": {
       "model_id": "35fe9b90a813437dbfa16ce92ef371b9",
       "version_major": 2,
       "version_minor": 0
      },
      "text/plain": [
       "r = 0.9162291884422302:   0%|          | 0/10 [00:00<?, ?it/s]"
      ]
     },
     "metadata": {},
     "output_type": "display_data"
    },
    {
     "data": {
      "application/vnd.jupyter.widget-view+json": {
       "model_id": "b98de30b2bb444d8a05271eaf758192e",
       "version_major": 2,
       "version_minor": 0
      },
      "text/plain": [
       "r = 0.9120195508003235:   0%|          | 0/10 [00:00<?, ?it/s]"
      ]
     },
     "metadata": {},
     "output_type": "display_data"
    },
    {
     "data": {
      "application/vnd.jupyter.widget-view+json": {
       "model_id": "d0e5b899e665484baefb700fb5825b83",
       "version_major": 2,
       "version_minor": 0
      },
      "text/plain": [
       "r = 0.9078291654586792:   0%|          | 0/10 [00:00<?, ?it/s]"
      ]
     },
     "metadata": {},
     "output_type": "display_data"
    },
    {
     "data": {
      "application/vnd.jupyter.widget-view+json": {
       "model_id": "14c61da6ad2f464c92dde89d4ec53ea9",
       "version_major": 2,
       "version_minor": 0
      },
      "text/plain": [
       "r = 0.9036581516265869:   0%|          | 0/10 [00:00<?, ?it/s]"
      ]
     },
     "metadata": {},
     "output_type": "display_data"
    },
    {
     "data": {
      "application/vnd.jupyter.widget-view+json": {
       "model_id": "6920c1565c694c8eada3112af9ed1352",
       "version_major": 2,
       "version_minor": 0
      },
      "text/plain": [
       "r = 0.8995062112808228:   0%|          | 0/10 [00:00<?, ?it/s]"
      ]
     },
     "metadata": {},
     "output_type": "display_data"
    },
    {
     "data": {
      "application/vnd.jupyter.widget-view+json": {
       "model_id": "2ce9986adbe74326aa290afc52e02e1f",
       "version_major": 2,
       "version_minor": 0
      },
      "text/plain": [
       "r = 0.8953733444213867:   0%|          | 0/10 [00:00<?, ?it/s]"
      ]
     },
     "metadata": {},
     "output_type": "display_data"
    },
    {
     "data": {
      "application/vnd.jupyter.widget-view+json": {
       "model_id": "8e9ed7218e794360b1253781c775e5af",
       "version_major": 2,
       "version_minor": 0
      },
      "text/plain": [
       "r = 0.8912594318389893:   0%|          | 0/10 [00:00<?, ?it/s]"
      ]
     },
     "metadata": {},
     "output_type": "display_data"
    },
    {
     "data": {
      "application/vnd.jupyter.widget-view+json": {
       "model_id": "095ff0bb6c1a4be4807dbd60f2b30280",
       "version_major": 2,
       "version_minor": 0
      },
      "text/plain": [
       "r = 0.8871645331382751:   0%|          | 0/10 [00:00<?, ?it/s]"
      ]
     },
     "metadata": {},
     "output_type": "display_data"
    },
    {
     "data": {
      "application/vnd.jupyter.widget-view+json": {
       "model_id": "15cf73462b174f2b8b7c226870d3d368",
       "version_major": 2,
       "version_minor": 0
      },
      "text/plain": [
       "r = 0.8830884099006653:   0%|          | 0/10 [00:00<?, ?it/s]"
      ]
     },
     "metadata": {},
     "output_type": "display_data"
    },
    {
     "data": {
      "application/vnd.jupyter.widget-view+json": {
       "model_id": "da75343371b549bfa0e216f1ad7c448c",
       "version_major": 2,
       "version_minor": 0
      },
      "text/plain": [
       "r = 0.8790309429168701:   0%|          | 0/10 [00:00<?, ?it/s]"
      ]
     },
     "metadata": {},
     "output_type": "display_data"
    },
    {
     "data": {
      "application/vnd.jupyter.widget-view+json": {
       "model_id": "b6e851839edc4635a0911b30ad9cb194",
       "version_major": 2,
       "version_minor": 0
      },
      "text/plain": [
       "r = 0.8749922513961792:   0%|          | 0/10 [00:00<?, ?it/s]"
      ]
     },
     "metadata": {},
     "output_type": "display_data"
    },
    {
     "data": {
      "application/vnd.jupyter.widget-view+json": {
       "model_id": "698ac1eef4d64a2da56fee8710a0a8be",
       "version_major": 2,
       "version_minor": 0
      },
      "text/plain": [
       "r = 0.8709720373153687:   0%|          | 0/10 [00:00<?, ?it/s]"
      ]
     },
     "metadata": {},
     "output_type": "display_data"
    },
    {
     "data": {
      "application/vnd.jupyter.widget-view+json": {
       "model_id": "1dd68c5ed2a945239f86641b8b98d086",
       "version_major": 2,
       "version_minor": 0
      },
      "text/plain": [
       "r = 0.8669703006744385:   0%|          | 0/10 [00:00<?, ?it/s]"
      ]
     },
     "metadata": {},
     "output_type": "display_data"
    },
    {
     "data": {
      "application/vnd.jupyter.widget-view+json": {
       "model_id": "1b16d811dced4048bfe8cf76f9db20a8",
       "version_major": 2,
       "version_minor": 0
      },
      "text/plain": [
       "r = 0.8629869818687439:   0%|          | 0/10 [00:00<?, ?it/s]"
      ]
     },
     "metadata": {},
     "output_type": "display_data"
    },
    {
     "data": {
      "application/vnd.jupyter.widget-view+json": {
       "model_id": "ef83d65e29f54b3ba170b2e394768622",
       "version_major": 2,
       "version_minor": 0
      },
      "text/plain": [
       "r = 0.8590219020843506:   0%|          | 0/10 [00:00<?, ?it/s]"
      ]
     },
     "metadata": {},
     "output_type": "display_data"
    },
    {
     "data": {
      "application/vnd.jupyter.widget-view+json": {
       "model_id": "0a24516fd9194a9e86518805f8b755a0",
       "version_major": 2,
       "version_minor": 0
      },
      "text/plain": [
       "r = 0.8550750613212585:   0%|          | 0/10 [00:00<?, ?it/s]"
      ]
     },
     "metadata": {},
     "output_type": "display_data"
    },
    {
     "data": {
      "application/vnd.jupyter.widget-view+json": {
       "model_id": "38cc96b82f07470cabe3d28565e4958d",
       "version_major": 2,
       "version_minor": 0
      },
      "text/plain": [
       "r = 0.8511463403701782:   0%|          | 0/10 [00:00<?, ?it/s]"
      ]
     },
     "metadata": {},
     "output_type": "display_data"
    },
    {
     "data": {
      "application/vnd.jupyter.widget-view+json": {
       "model_id": "2fe9db39ab3f401ab5a23ffe03819ef2",
       "version_major": 2,
       "version_minor": 0
      },
      "text/plain": [
       "r = 0.8472356796264648:   0%|          | 0/10 [00:00<?, ?it/s]"
      ]
     },
     "metadata": {},
     "output_type": "display_data"
    },
    {
     "data": {
      "application/vnd.jupyter.widget-view+json": {
       "model_id": "d0aa4a538f484b55ad4d86a2befe1a90",
       "version_major": 2,
       "version_minor": 0
      },
      "text/plain": [
       "r = 0.8433430790901184:   0%|          | 0/10 [00:00<?, ?it/s]"
      ]
     },
     "metadata": {},
     "output_type": "display_data"
    },
    {
     "data": {
      "application/vnd.jupyter.widget-view+json": {
       "model_id": "672779c9c80c4cebbf4ee7df7e742b1d",
       "version_major": 2,
       "version_minor": 0
      },
      "text/plain": [
       "r = 0.839468240737915:   0%|          | 0/10 [00:00<?, ?it/s]"
      ]
     },
     "metadata": {},
     "output_type": "display_data"
    },
    {
     "data": {
      "application/vnd.jupyter.widget-view+json": {
       "model_id": "698d7227c8604f92b3e6bf1c8668351b",
       "version_major": 2,
       "version_minor": 0
      },
      "text/plain": [
       "r = 0.8356112241744995:   0%|          | 0/10 [00:00<?, ?it/s]"
      ]
     },
     "metadata": {},
     "output_type": "display_data"
    },
    {
     "data": {
      "application/vnd.jupyter.widget-view+json": {
       "model_id": "c45b931b141d48d6925639dedf6b9567",
       "version_major": 2,
       "version_minor": 0
      },
      "text/plain": [
       "r = 0.8317720293998718:   0%|          | 0/10 [00:00<?, ?it/s]"
      ]
     },
     "metadata": {},
     "output_type": "display_data"
    },
    {
     "data": {
      "application/vnd.jupyter.widget-view+json": {
       "model_id": "85eb8a1f680445d09fe3c1929cf0e607",
       "version_major": 2,
       "version_minor": 0
      },
      "text/plain": [
       "r = 0.8279503583908081:   0%|          | 0/10 [00:00<?, ?it/s]"
      ]
     },
     "metadata": {},
     "output_type": "display_data"
    },
    {
     "data": {
      "application/vnd.jupyter.widget-view+json": {
       "model_id": "24618636b0424c28abc7f3d2417f3372",
       "version_major": 2,
       "version_minor": 0
      },
      "text/plain": [
       "r = 0.8241462707519531:   0%|          | 0/10 [00:00<?, ?it/s]"
      ]
     },
     "metadata": {},
     "output_type": "display_data"
    },
    {
     "data": {
      "application/vnd.jupyter.widget-view+json": {
       "model_id": "7aa40f5bd8014458be8d10f3eb72bade",
       "version_major": 2,
       "version_minor": 0
      },
      "text/plain": [
       "r = 0.8203596472740173:   0%|          | 0/10 [00:00<?, ?it/s]"
      ]
     },
     "metadata": {},
     "output_type": "display_data"
    },
    {
     "data": {
      "application/vnd.jupyter.widget-view+json": {
       "model_id": "e5e64398500f4618b858c0d3178eb3ee",
       "version_major": 2,
       "version_minor": 0
      },
      "text/plain": [
       "r = 0.8165904879570007:   0%|          | 0/10 [00:00<?, ?it/s]"
      ]
     },
     "metadata": {},
     "output_type": "display_data"
    },
    {
     "data": {
      "application/vnd.jupyter.widget-view+json": {
       "model_id": "541a596ea05849c090d4b9f07c060f8c",
       "version_major": 2,
       "version_minor": 0
      },
      "text/plain": [
       "r = 0.812838613986969:   0%|          | 0/10 [00:00<?, ?it/s]"
      ]
     },
     "metadata": {},
     "output_type": "display_data"
    },
    {
     "data": {
      "application/vnd.jupyter.widget-view+json": {
       "model_id": "b3b601040fda4071a18f79cb17890ba4",
       "version_major": 2,
       "version_minor": 0
      },
      "text/plain": [
       "r = 0.8091039657592773:   0%|          | 0/10 [00:00<?, ?it/s]"
      ]
     },
     "metadata": {},
     "output_type": "display_data"
    },
    {
     "data": {
      "application/vnd.jupyter.widget-view+json": {
       "model_id": "9959fb765864477e9057ff31c280f5ed",
       "version_major": 2,
       "version_minor": 0
      },
      "text/plain": [
       "r = 0.8053865432739258:   0%|          | 0/10 [00:00<?, ?it/s]"
      ]
     },
     "metadata": {},
     "output_type": "display_data"
    },
    {
     "data": {
      "application/vnd.jupyter.widget-view+json": {
       "model_id": "a4f1169142f24558b04dbd7536164344",
       "version_major": 2,
       "version_minor": 0
      },
      "text/plain": [
       "r = 0.8016861081123352:   0%|          | 0/10 [00:00<?, ?it/s]"
      ]
     },
     "metadata": {},
     "output_type": "display_data"
    },
    {
     "data": {
      "application/vnd.jupyter.widget-view+json": {
       "model_id": "50a467b18c604ebd88e6c9ec63d0d844",
       "version_major": 2,
       "version_minor": 0
      },
      "text/plain": [
       "r = 0.7980027198791504:   0%|          | 0/10 [00:00<?, ?it/s]"
      ]
     },
     "metadata": {},
     "output_type": "display_data"
    },
    {
     "data": {
      "application/vnd.jupyter.widget-view+json": {
       "model_id": "c934860b07f8483c8cd2f7dab59f1135",
       "version_major": 2,
       "version_minor": 0
      },
      "text/plain": [
       "r = 0.794336199760437:   0%|          | 0/10 [00:00<?, ?it/s]"
      ]
     },
     "metadata": {},
     "output_type": "display_data"
    },
    {
     "data": {
      "application/vnd.jupyter.widget-view+json": {
       "model_id": "9d45b65be428427ca1b0878073717a73",
       "version_major": 2,
       "version_minor": 0
      },
      "text/plain": [
       "r = 0.7906866073608398:   0%|          | 0/10 [00:00<?, ?it/s]"
      ]
     },
     "metadata": {},
     "output_type": "display_data"
    },
    {
     "data": {
      "application/vnd.jupyter.widget-view+json": {
       "model_id": "ce9e17d8b9f545e5aea9a4f680f686cb",
       "version_major": 2,
       "version_minor": 0
      },
      "text/plain": [
       "r = 0.7870537042617798:   0%|          | 0/10 [00:00<?, ?it/s]"
      ]
     },
     "metadata": {},
     "output_type": "display_data"
    },
    {
     "data": {
      "application/vnd.jupyter.widget-view+json": {
       "model_id": "6b8435f1af45407b8862974d4100bfe4",
       "version_major": 2,
       "version_minor": 0
      },
      "text/plain": [
       "r = 0.7834375500679016:   0%|          | 0/10 [00:00<?, ?it/s]"
      ]
     },
     "metadata": {},
     "output_type": "display_data"
    },
    {
     "data": {
      "application/vnd.jupyter.widget-view+json": {
       "model_id": "cda756d794d44ceeb107302e01c1cb41",
       "version_major": 2,
       "version_minor": 0
      },
      "text/plain": [
       "r = 0.7798380255699158:   0%|          | 0/10 [00:00<?, ?it/s]"
      ]
     },
     "metadata": {},
     "output_type": "display_data"
    },
    {
     "data": {
      "application/vnd.jupyter.widget-view+json": {
       "model_id": "db7863ff6e424b2ebb18851843fcfb21",
       "version_major": 2,
       "version_minor": 0
      },
      "text/plain": [
       "r = 0.7762550115585327:   0%|          | 0/10 [00:00<?, ?it/s]"
      ]
     },
     "metadata": {},
     "output_type": "display_data"
    },
    {
     "data": {
      "application/vnd.jupyter.widget-view+json": {
       "model_id": "576cba2e99654fe9a4a14bd9e6352459",
       "version_major": 2,
       "version_minor": 0
      },
      "text/plain": [
       "r = 0.7726884484291077:   0%|          | 0/10 [00:00<?, ?it/s]"
      ]
     },
     "metadata": {},
     "output_type": "display_data"
    },
    {
     "data": {
      "application/vnd.jupyter.widget-view+json": {
       "model_id": "a1a4605618b04428a7ab87e3e3846c26",
       "version_major": 2,
       "version_minor": 0
      },
      "text/plain": [
       "r = 0.7691382765769958:   0%|          | 0/10 [00:00<?, ?it/s]"
      ]
     },
     "metadata": {},
     "output_type": "display_data"
    },
    {
     "data": {
      "application/vnd.jupyter.widget-view+json": {
       "model_id": "d0fd42035c454b21925046d175e846a1",
       "version_major": 2,
       "version_minor": 0
      },
      "text/plain": [
       "r = 0.7656044363975525:   0%|          | 0/10 [00:00<?, ?it/s]"
      ]
     },
     "metadata": {},
     "output_type": "display_data"
    },
    {
     "data": {
      "application/vnd.jupyter.widget-view+json": {
       "model_id": "bd3a8d0d44bb46f694a72551392b46c7",
       "version_major": 2,
       "version_minor": 0
      },
      "text/plain": [
       "r = 0.762086808681488:   0%|          | 0/10 [00:00<?, ?it/s]"
      ]
     },
     "metadata": {},
     "output_type": "display_data"
    },
    {
     "data": {
      "application/vnd.jupyter.widget-view+json": {
       "model_id": "5d6d0fee36f94be2bf5d2130745761fd",
       "version_major": 2,
       "version_minor": 0
      },
      "text/plain": [
       "r = 0.7585853338241577:   0%|          | 0/10 [00:00<?, ?it/s]"
      ]
     },
     "metadata": {},
     "output_type": "display_data"
    },
    {
     "data": {
      "application/vnd.jupyter.widget-view+json": {
       "model_id": "4b0630376dbb4981ad3afa944a42aa82",
       "version_major": 2,
       "version_minor": 0
      },
      "text/plain": [
       "r = 0.7550999522209167:   0%|          | 0/10 [00:00<?, ?it/s]"
      ]
     },
     "metadata": {},
     "output_type": "display_data"
    },
    {
     "data": {
      "application/vnd.jupyter.widget-view+json": {
       "model_id": "98c5bd877cf349c5a0b0fa231fa3d7ae",
       "version_major": 2,
       "version_minor": 0
      },
      "text/plain": [
       "r = 0.7516306042671204:   0%|          | 0/10 [00:00<?, ?it/s]"
      ]
     },
     "metadata": {},
     "output_type": "display_data"
    },
    {
     "data": {
      "application/vnd.jupyter.widget-view+json": {
       "model_id": "18306e6d5e8f47b69246e359533243e6",
       "version_major": 2,
       "version_minor": 0
      },
      "text/plain": [
       "r = 0.748177170753479:   0%|          | 0/10 [00:00<?, ?it/s]"
      ]
     },
     "metadata": {},
     "output_type": "display_data"
    },
    {
     "data": {
      "application/vnd.jupyter.widget-view+json": {
       "model_id": "afd814841dba4153b87ffb2669e93c25",
       "version_major": 2,
       "version_minor": 0
      },
      "text/plain": [
       "r = 0.7447396516799927:   0%|          | 0/10 [00:00<?, ?it/s]"
      ]
     },
     "metadata": {},
     "output_type": "display_data"
    },
    {
     "data": {
      "application/vnd.jupyter.widget-view+json": {
       "model_id": "6079a5ee328c4364ab5f5132ef9089e8",
       "version_major": 2,
       "version_minor": 0
      },
      "text/plain": [
       "r = 0.741317868232727:   0%|          | 0/10 [00:00<?, ?it/s]"
      ]
     },
     "metadata": {},
     "output_type": "display_data"
    },
    {
     "data": {
      "application/vnd.jupyter.widget-view+json": {
       "model_id": "b9e7386540234e6d98eee18605a77f5f",
       "version_major": 2,
       "version_minor": 0
      },
      "text/plain": [
       "r = 0.7379118204116821:   0%|          | 0/10 [00:00<?, ?it/s]"
      ]
     },
     "metadata": {},
     "output_type": "display_data"
    },
    {
     "data": {
      "application/vnd.jupyter.widget-view+json": {
       "model_id": "9c8b6174b8a54a6f809d967425dc7da9",
       "version_major": 2,
       "version_minor": 0
      },
      "text/plain": [
       "r = 0.7345214486122131:   0%|          | 0/10 [00:00<?, ?it/s]"
      ]
     },
     "metadata": {},
     "output_type": "display_data"
    },
    {
     "data": {
      "application/vnd.jupyter.widget-view+json": {
       "model_id": "8f0b8a9f84444658b9cc4a53d2fd85e6",
       "version_major": 2,
       "version_minor": 0
      },
      "text/plain": [
       "r = 0.7311466932296753:   0%|          | 0/10 [00:00<?, ?it/s]"
      ]
     },
     "metadata": {},
     "output_type": "display_data"
    },
    {
     "data": {
      "application/vnd.jupyter.widget-view+json": {
       "model_id": "408ecc8b0d3c4fb89530ef520c62d35a",
       "version_major": 2,
       "version_minor": 0
      },
      "text/plain": [
       "r = 0.7277873754501343:   0%|          | 0/10 [00:00<?, ?it/s]"
      ]
     },
     "metadata": {},
     "output_type": "display_data"
    },
    {
     "data": {
      "application/vnd.jupyter.widget-view+json": {
       "model_id": "70d75c4563d34b24b10ba4e6723e8a97",
       "version_major": 2,
       "version_minor": 0
      },
      "text/plain": [
       "r = 0.7244434952735901:   0%|          | 0/10 [00:00<?, ?it/s]"
      ]
     },
     "metadata": {},
     "output_type": "display_data"
    },
    {
     "data": {
      "application/vnd.jupyter.widget-view+json": {
       "model_id": "bb626cfdb13f47f489f0e3acdbb9af5e",
       "version_major": 2,
       "version_minor": 0
      },
      "text/plain": [
       "r = 0.721114993095398:   0%|          | 0/10 [00:00<?, ?it/s]"
      ]
     },
     "metadata": {},
     "output_type": "display_data"
    },
    {
     "data": {
      "application/vnd.jupyter.widget-view+json": {
       "model_id": "f6800460c9f34bd1b48faee6fdd0b6ec",
       "version_major": 2,
       "version_minor": 0
      },
      "text/plain": [
       "r = 0.7178018093109131:   0%|          | 0/10 [00:00<?, ?it/s]"
      ]
     },
     "metadata": {},
     "output_type": "display_data"
    },
    {
     "data": {
      "application/vnd.jupyter.widget-view+json": {
       "model_id": "9c09609b52164790a639c3afb94d768e",
       "version_major": 2,
       "version_minor": 0
      },
      "text/plain": [
       "r = 0.714503824710846:   0%|          | 0/10 [00:00<?, ?it/s]"
      ]
     },
     "metadata": {},
     "output_type": "display_data"
    },
    {
     "data": {
      "application/vnd.jupyter.widget-view+json": {
       "model_id": "8f8fa14858b04910854556518a5cbd06",
       "version_major": 2,
       "version_minor": 0
      },
      "text/plain": [
       "r = 0.7112209796905518:   0%|          | 0/10 [00:00<?, ?it/s]"
      ]
     },
     "metadata": {},
     "output_type": "display_data"
    },
    {
     "data": {
      "application/vnd.jupyter.widget-view+json": {
       "model_id": "f9b1603861ab41ebb3c45db8048765cb",
       "version_major": 2,
       "version_minor": 0
      },
      "text/plain": [
       "r = 0.7079532146453857:   0%|          | 0/10 [00:00<?, ?it/s]"
      ]
     },
     "metadata": {},
     "output_type": "display_data"
    },
    {
     "data": {
      "application/vnd.jupyter.widget-view+json": {
       "model_id": "bf2b9c4651984671930e142204f46099",
       "version_major": 2,
       "version_minor": 0
      },
      "text/plain": [
       "r = 0.7047004699707031:   0%|          | 0/10 [00:00<?, ?it/s]"
      ]
     },
     "metadata": {},
     "output_type": "display_data"
    },
    {
     "data": {
      "application/vnd.jupyter.widget-view+json": {
       "model_id": "23a950adc8e54cbfb8ab31c3f14a88f2",
       "version_major": 2,
       "version_minor": 0
      },
      "text/plain": [
       "r = 0.7014626860618591:   0%|          | 0/10 [00:00<?, ?it/s]"
      ]
     },
     "metadata": {},
     "output_type": "display_data"
    },
    {
     "data": {
      "application/vnd.jupyter.widget-view+json": {
       "model_id": "59d306310519431a9a76f40f52620e13",
       "version_major": 2,
       "version_minor": 0
      },
      "text/plain": [
       "r = 0.698239803314209:   0%|          | 0/10 [00:00<?, ?it/s]"
      ]
     },
     "metadata": {},
     "output_type": "display_data"
    },
    {
     "data": {
      "application/vnd.jupyter.widget-view+json": {
       "model_id": "a43b04441d234ab1af336faf616c2dfc",
       "version_major": 2,
       "version_minor": 0
      },
      "text/plain": [
       "r = 0.6950316429138184:   0%|          | 0/10 [00:00<?, ?it/s]"
      ]
     },
     "metadata": {},
     "output_type": "display_data"
    },
    {
     "data": {
      "application/vnd.jupyter.widget-view+json": {
       "model_id": "daabd500ec6d455fa80673cd7ac9f7fc",
       "version_major": 2,
       "version_minor": 0
      },
      "text/plain": [
       "r = 0.6918383240699768:   0%|          | 0/10 [00:00<?, ?it/s]"
      ]
     },
     "metadata": {},
     "output_type": "display_data"
    },
    {
     "data": {
      "application/vnd.jupyter.widget-view+json": {
       "model_id": "0dd412e9241b45a7ad4149d90edf36ab",
       "version_major": 2,
       "version_minor": 0
      },
      "text/plain": [
       "r = 0.6886596083641052:   0%|          | 0/10 [00:00<?, ?it/s]"
      ]
     },
     "metadata": {},
     "output_type": "display_data"
    },
    {
     "data": {
      "application/vnd.jupyter.widget-view+json": {
       "model_id": "d5277daa349547058585272b6f71796c",
       "version_major": 2,
       "version_minor": 0
      },
      "text/plain": [
       "r = 0.6854954957962036:   0%|          | 0/10 [00:00<?, ?it/s]"
      ]
     },
     "metadata": {},
     "output_type": "display_data"
    },
    {
     "data": {
      "application/vnd.jupyter.widget-view+json": {
       "model_id": "c92d610280e34c1e9ac26ab574f046ff",
       "version_major": 2,
       "version_minor": 0
      },
      "text/plain": [
       "r = 0.682345986366272:   0%|          | 0/10 [00:00<?, ?it/s]"
      ]
     },
     "metadata": {},
     "output_type": "display_data"
    },
    {
     "data": {
      "application/vnd.jupyter.widget-view+json": {
       "model_id": "e0adfd34e4054e298f1c7da5099c215c",
       "version_major": 2,
       "version_minor": 0
      },
      "text/plain": [
       "r = 0.679210901260376:   0%|          | 0/10 [00:00<?, ?it/s]"
      ]
     },
     "metadata": {},
     "output_type": "display_data"
    },
    {
     "data": {
      "application/vnd.jupyter.widget-view+json": {
       "model_id": "601b96e38ce9440ca46212c3a23cbfe4",
       "version_major": 2,
       "version_minor": 0
      },
      "text/plain": [
       "r = 0.6760901808738708:   0%|          | 0/10 [00:00<?, ?it/s]"
      ]
     },
     "metadata": {},
     "output_type": "display_data"
    },
    {
     "data": {
      "application/vnd.jupyter.widget-view+json": {
       "model_id": "fe2068a7b7bd48b585d83003da394f1e",
       "version_major": 2,
       "version_minor": 0
      },
      "text/plain": [
       "r = 0.6729838848114014:   0%|          | 0/10 [00:00<?, ?it/s]"
      ]
     },
     "metadata": {},
     "output_type": "display_data"
    },
    {
     "data": {
      "application/vnd.jupyter.widget-view+json": {
       "model_id": "09fc6860857647b3808af309f9c4edbe",
       "version_major": 2,
       "version_minor": 0
      },
      "text/plain": [
       "r = 0.6698918342590332:   0%|          | 0/10 [00:00<?, ?it/s]"
      ]
     },
     "metadata": {},
     "output_type": "display_data"
    },
    {
     "data": {
      "application/vnd.jupyter.widget-view+json": {
       "model_id": "f1cbcc2f7df348748bbe54da2f4f375d",
       "version_major": 2,
       "version_minor": 0
      },
      "text/plain": [
       "r = 0.6668139100074768:   0%|          | 0/10 [00:00<?, ?it/s]"
      ]
     },
     "metadata": {},
     "output_type": "display_data"
    },
    {
     "data": {
      "application/vnd.jupyter.widget-view+json": {
       "model_id": "b8f5868a171e451f9eb9d76d46d22b97",
       "version_major": 2,
       "version_minor": 0
      },
      "text/plain": [
       "r = 0.6637502312660217:   0%|          | 0/10 [00:00<?, ?it/s]"
      ]
     },
     "metadata": {},
     "output_type": "display_data"
    },
    {
     "data": {
      "application/vnd.jupyter.widget-view+json": {
       "model_id": "dbd603ddf0884e26852719b8bc531cbb",
       "version_major": 2,
       "version_minor": 0
      },
      "text/plain": [
       "r = 0.6607005596160889:   0%|          | 0/10 [00:00<?, ?it/s]"
      ]
     },
     "metadata": {},
     "output_type": "display_data"
    },
    {
     "data": {
      "application/vnd.jupyter.widget-view+json": {
       "model_id": "d8c773ad62774144aee48f0e6a07ec3f",
       "version_major": 2,
       "version_minor": 0
      },
      "text/plain": [
       "r = 0.6576650142669678:   0%|          | 0/10 [00:00<?, ?it/s]"
      ]
     },
     "metadata": {},
     "output_type": "display_data"
    },
    {
     "data": {
      "application/vnd.jupyter.widget-view+json": {
       "model_id": "a73becaa1974494c8681535b1ebe544a",
       "version_major": 2,
       "version_minor": 0
      },
      "text/plain": [
       "r = 0.6546432375907898:   0%|          | 0/10 [00:00<?, ?it/s]"
      ]
     },
     "metadata": {},
     "output_type": "display_data"
    },
    {
     "data": {
      "application/vnd.jupyter.widget-view+json": {
       "model_id": "33093769c3154133a9edb70ca55be896",
       "version_major": 2,
       "version_minor": 0
      },
      "text/plain": [
       "r = 0.651635468006134:   0%|          | 0/10 [00:00<?, ?it/s]"
      ]
     },
     "metadata": {},
     "output_type": "display_data"
    },
    {
     "data": {
      "application/vnd.jupyter.widget-view+json": {
       "model_id": "ab35d1a4975e4a77868494b5ebad734b",
       "version_major": 2,
       "version_minor": 0
      },
      "text/plain": [
       "r = 0.6486415266990662:   0%|          | 0/10 [00:00<?, ?it/s]"
      ]
     },
     "metadata": {},
     "output_type": "display_data"
    },
    {
     "data": {
      "application/vnd.jupyter.widget-view+json": {
       "model_id": "6c45bab64b084a4d92eb34c6c1c086a8",
       "version_major": 2,
       "version_minor": 0
      },
      "text/plain": [
       "r = 0.6456612944602966:   0%|          | 0/10 [00:00<?, ?it/s]"
      ]
     },
     "metadata": {},
     "output_type": "display_data"
    },
    {
     "data": {
      "application/vnd.jupyter.widget-view+json": {
       "model_id": "2559dc16494b492ba6378caa9a9835ca",
       "version_major": 2,
       "version_minor": 0
      },
      "text/plain": [
       "r = 0.6426947712898254:   0%|          | 0/10 [00:00<?, ?it/s]"
      ]
     },
     "metadata": {},
     "output_type": "display_data"
    },
    {
     "data": {
      "application/vnd.jupyter.widget-view+json": {
       "model_id": "f58e81ea6c45485bbf89b9e1b46e0ae7",
       "version_major": 2,
       "version_minor": 0
      },
      "text/plain": [
       "r = 0.6397417783737183:   0%|          | 0/10 [00:00<?, ?it/s]"
      ]
     },
     "metadata": {},
     "output_type": "display_data"
    },
    {
     "data": {
      "application/vnd.jupyter.widget-view+json": {
       "model_id": "df58578602ff403c9b7cfa0d25a2c9af",
       "version_major": 2,
       "version_minor": 0
      },
      "text/plain": [
       "r = 0.6368024349212646:   0%|          | 0/10 [00:00<?, ?it/s]"
      ]
     },
     "metadata": {},
     "output_type": "display_data"
    },
    {
     "data": {
      "application/vnd.jupyter.widget-view+json": {
       "model_id": "b3e7e99428f8420ca8e7a89e3aba3249",
       "version_major": 2,
       "version_minor": 0
      },
      "text/plain": [
       "r = 0.633876621723175:   0%|          | 0/10 [00:00<?, ?it/s]"
      ]
     },
     "metadata": {},
     "output_type": "display_data"
    },
    {
     "data": {
      "application/vnd.jupyter.widget-view+json": {
       "model_id": "3977a555ed844c9db5b123bded271405",
       "version_major": 2,
       "version_minor": 0
      },
      "text/plain": [
       "r = 0.6309642791748047:   0%|          | 0/10 [00:00<?, ?it/s]"
      ]
     },
     "metadata": {},
     "output_type": "display_data"
    },
    {
     "data": {
      "application/vnd.jupyter.widget-view+json": {
       "model_id": "6a74c1850c844845a0a2135382166dab",
       "version_major": 2,
       "version_minor": 0
      },
      "text/plain": [
       "r = 0.6280652284622192:   0%|          | 0/10 [00:00<?, ?it/s]"
      ]
     },
     "metadata": {},
     "output_type": "display_data"
    },
    {
     "data": {
      "application/vnd.jupyter.widget-view+json": {
       "model_id": "97dae2f9113f4cdc855b2f836e326fc3",
       "version_major": 2,
       "version_minor": 0
      },
      "text/plain": [
       "r = 0.6251795291900635:   0%|          | 0/10 [00:00<?, ?it/s]"
      ]
     },
     "metadata": {},
     "output_type": "display_data"
    },
    {
     "data": {
      "application/vnd.jupyter.widget-view+json": {
       "model_id": "1950497bbcd9474eb695eec16c3fbfa7",
       "version_major": 2,
       "version_minor": 0
      },
      "text/plain": [
       "r = 0.6223071217536926:   0%|          | 0/10 [00:00<?, ?it/s]"
      ]
     },
     "metadata": {},
     "output_type": "display_data"
    },
    {
     "data": {
      "application/vnd.jupyter.widget-view+json": {
       "model_id": "91a2c9ce6d884b6f83a7af015bc3add1",
       "version_major": 2,
       "version_minor": 0
      },
      "text/plain": [
       "r = 0.6194478869438171:   0%|          | 0/10 [00:00<?, ?it/s]"
      ]
     },
     "metadata": {},
     "output_type": "display_data"
    },
    {
     "data": {
      "application/vnd.jupyter.widget-view+json": {
       "model_id": "8a34d61aa81346259bcac39a4bbdba05",
       "version_major": 2,
       "version_minor": 0
      },
      "text/plain": [
       "r = 0.616601824760437:   0%|          | 0/10 [00:00<?, ?it/s]"
      ]
     },
     "metadata": {},
     "output_type": "display_data"
    },
    {
     "data": {
      "application/vnd.jupyter.widget-view+json": {
       "model_id": "2897f1b229744197bc7be6401ead80f5",
       "version_major": 2,
       "version_minor": 0
      },
      "text/plain": [
       "r = 0.6137688159942627:   0%|          | 0/10 [00:00<?, ?it/s]"
      ]
     },
     "metadata": {},
     "output_type": "display_data"
    },
    {
     "data": {
      "application/vnd.jupyter.widget-view+json": {
       "model_id": "5e78c01abba546db9a0eeeb280c44a88",
       "version_major": 2,
       "version_minor": 0
      },
      "text/plain": [
       "r = 0.6109488010406494:   0%|          | 0/10 [00:00<?, ?it/s]"
      ]
     },
     "metadata": {},
     "output_type": "display_data"
    },
    {
     "data": {
      "application/vnd.jupyter.widget-view+json": {
       "model_id": "b1e9594a72ad461eb379b35085b45c3b",
       "version_major": 2,
       "version_minor": 0
      },
      "text/plain": [
       "r = 0.6081417798995972:   0%|          | 0/10 [00:00<?, ?it/s]"
      ]
     },
     "metadata": {},
     "output_type": "display_data"
    },
    {
     "data": {
      "application/vnd.jupyter.widget-view+json": {
       "model_id": "b7e2be0d474249f1967a62532ab0d3ff",
       "version_major": 2,
       "version_minor": 0
      },
      "text/plain": [
       "r = 0.6053476333618164:   0%|          | 0/10 [00:00<?, ?it/s]"
      ]
     },
     "metadata": {},
     "output_type": "display_data"
    },
    {
     "data": {
      "application/vnd.jupyter.widget-view+json": {
       "model_id": "044b9cdaf3294840a08a77802188807e",
       "version_major": 2,
       "version_minor": 0
      },
      "text/plain": [
       "r = 0.6025663018226624:   0%|          | 0/10 [00:00<?, ?it/s]"
      ]
     },
     "metadata": {},
     "output_type": "display_data"
    },
    {
     "data": {
      "application/vnd.jupyter.widget-view+json": {
       "model_id": "286a544c48b8420780bb82c524f351b0",
       "version_major": 2,
       "version_minor": 0
      },
      "text/plain": [
       "r = 0.599797785282135:   0%|          | 0/10 [00:00<?, ?it/s]"
      ]
     },
     "metadata": {},
     "output_type": "display_data"
    },
    {
     "data": {
      "application/vnd.jupyter.widget-view+json": {
       "model_id": "e7efb3b9d54c42e78183ed569d899716",
       "version_major": 2,
       "version_minor": 0
      },
      "text/plain": [
       "r = 0.5970419645309448:   0%|          | 0/10 [00:00<?, ?it/s]"
      ]
     },
     "metadata": {},
     "output_type": "display_data"
    },
    {
     "data": {
      "application/vnd.jupyter.widget-view+json": {
       "model_id": "9d738a91a18d4c65bb2f81da8709cba0",
       "version_major": 2,
       "version_minor": 0
      },
      "text/plain": [
       "r = 0.5942988395690918:   0%|          | 0/10 [00:00<?, ?it/s]"
      ]
     },
     "metadata": {},
     "output_type": "display_data"
    },
    {
     "data": {
      "application/vnd.jupyter.widget-view+json": {
       "model_id": "ff2b20df091e423a88178f9adf4d7e32",
       "version_major": 2,
       "version_minor": 0
      },
      "text/plain": [
       "r = 0.5915682911872864:   0%|          | 0/10 [00:00<?, ?it/s]"
      ]
     },
     "metadata": {},
     "output_type": "display_data"
    },
    {
     "data": {
      "application/vnd.jupyter.widget-view+json": {
       "model_id": "51017b6b55884be18a9ef003ebc942d9",
       "version_major": 2,
       "version_minor": 0
      },
      "text/plain": [
       "r = 0.5888502597808838:   0%|          | 0/10 [00:00<?, ?it/s]"
      ]
     },
     "metadata": {},
     "output_type": "display_data"
    },
    {
     "data": {
      "application/vnd.jupyter.widget-view+json": {
       "model_id": "b62b0b5d623e421d9c8259de9cd75ceb",
       "version_major": 2,
       "version_minor": 0
      },
      "text/plain": [
       "r = 0.5861448049545288:   0%|          | 0/10 [00:00<?, ?it/s]"
      ]
     },
     "metadata": {},
     "output_type": "display_data"
    },
    {
     "data": {
      "application/vnd.jupyter.widget-view+json": {
       "model_id": "657010feb0bf43ea80e0350ef2e8fa99",
       "version_major": 2,
       "version_minor": 0
      },
      "text/plain": [
       "r = 0.5834516882896423:   0%|          | 0/10 [00:00<?, ?it/s]"
      ]
     },
     "metadata": {},
     "output_type": "display_data"
    },
    {
     "data": {
      "application/vnd.jupyter.widget-view+json": {
       "model_id": "e785fe6a1f6d47e895f2934b6772ffe0",
       "version_major": 2,
       "version_minor": 0
      },
      "text/plain": [
       "r = 0.5807709693908691:   0%|          | 0/10 [00:00<?, ?it/s]"
      ]
     },
     "metadata": {},
     "output_type": "display_data"
    },
    {
     "data": {
      "application/vnd.jupyter.widget-view+json": {
       "model_id": "81b01698198a47d2a0524ad34b1b3d8d",
       "version_major": 2,
       "version_minor": 0
      },
      "text/plain": [
       "r = 0.5781025886535645:   0%|          | 0/10 [00:00<?, ?it/s]"
      ]
     },
     "metadata": {},
     "output_type": "display_data"
    },
    {
     "data": {
      "application/vnd.jupyter.widget-view+json": {
       "model_id": "f9d2b438f72643ed998f38c18390d965",
       "version_major": 2,
       "version_minor": 0
      },
      "text/plain": [
       "r = 0.5754464268684387:   0%|          | 0/10 [00:00<?, ?it/s]"
      ]
     },
     "metadata": {},
     "output_type": "display_data"
    },
    {
     "data": {
      "application/vnd.jupyter.widget-view+json": {
       "model_id": "909cd81d3fb74925b05b40d89c534a9b",
       "version_major": 2,
       "version_minor": 0
      },
      "text/plain": [
       "r = 0.5728025436401367:   0%|          | 0/10 [00:00<?, ?it/s]"
      ]
     },
     "metadata": {},
     "output_type": "display_data"
    },
    {
     "data": {
      "application/vnd.jupyter.widget-view+json": {
       "model_id": "ae1f08691e324f20b005bb2b296fcbc0",
       "version_major": 2,
       "version_minor": 0
      },
      "text/plain": [
       "r = 0.5701707601547241:   0%|          | 0/10 [00:00<?, ?it/s]"
      ]
     },
     "metadata": {},
     "output_type": "display_data"
    },
    {
     "data": {
      "application/vnd.jupyter.widget-view+json": {
       "model_id": "d8a472ade8f4418c86ba550481f8af83",
       "version_major": 2,
       "version_minor": 0
      },
      "text/plain": [
       "r = 0.5675510764122009:   0%|          | 0/10 [00:00<?, ?it/s]"
      ]
     },
     "metadata": {},
     "output_type": "display_data"
    },
    {
     "data": {
      "application/vnd.jupyter.widget-view+json": {
       "model_id": "79be572f25a44679aaf4403a14a5b4f3",
       "version_major": 2,
       "version_minor": 0
      },
      "text/plain": [
       "r = 0.5649434328079224:   0%|          | 0/10 [00:00<?, ?it/s]"
      ]
     },
     "metadata": {},
     "output_type": "display_data"
    },
    {
     "data": {
      "application/vnd.jupyter.widget-view+json": {
       "model_id": "80ce53ccc33140388baa6a81fa808f11",
       "version_major": 2,
       "version_minor": 0
      },
      "text/plain": [
       "r = 0.5623477697372437:   0%|          | 0/10 [00:00<?, ?it/s]"
      ]
     },
     "metadata": {},
     "output_type": "display_data"
    },
    {
     "data": {
      "application/vnd.jupyter.widget-view+json": {
       "model_id": "aa2cf454d57b433197bffe5a6963ab42",
       "version_major": 2,
       "version_minor": 0
      },
      "text/plain": [
       "r = 0.55976402759552:   0%|          | 0/10 [00:00<?, ?it/s]"
      ]
     },
     "metadata": {},
     "output_type": "display_data"
    },
    {
     "data": {
      "application/vnd.jupyter.widget-view+json": {
       "model_id": "9eff3a33234f423c99032a679a2bf8e8",
       "version_major": 2,
       "version_minor": 0
      },
      "text/plain": [
       "r = 0.5571921467781067:   0%|          | 0/10 [00:00<?, ?it/s]"
      ]
     },
     "metadata": {},
     "output_type": "display_data"
    },
    {
     "data": {
      "application/vnd.jupyter.widget-view+json": {
       "model_id": "6c80ec9606ac4e7b9399600738d3db20",
       "version_major": 2,
       "version_minor": 0
      },
      "text/plain": [
       "r = 0.5546320676803589:   0%|          | 0/10 [00:00<?, ?it/s]"
      ]
     },
     "metadata": {},
     "output_type": "display_data"
    },
    {
     "data": {
      "application/vnd.jupyter.widget-view+json": {
       "model_id": "4393dc547b404f179a24cda03768d291",
       "version_major": 2,
       "version_minor": 0
      },
      "text/plain": [
       "r = 0.5520837903022766:   0%|          | 0/10 [00:00<?, ?it/s]"
      ]
     },
     "metadata": {},
     "output_type": "display_data"
    },
    {
     "data": {
      "application/vnd.jupyter.widget-view+json": {
       "model_id": "240aed6361cd47edaf47f89921603cb7",
       "version_major": 2,
       "version_minor": 0
      },
      "text/plain": [
       "r = 0.5495471954345703:   0%|          | 0/10 [00:00<?, ?it/s]"
      ]
     },
     "metadata": {},
     "output_type": "display_data"
    },
    {
     "data": {
      "application/vnd.jupyter.widget-view+json": {
       "model_id": "15f37a4c94c042d59dccac97588de23b",
       "version_major": 2,
       "version_minor": 0
      },
      "text/plain": [
       "r = 0.54702228307724:   0%|          | 0/10 [00:00<?, ?it/s]"
      ]
     },
     "metadata": {},
     "output_type": "display_data"
    },
    {
     "data": {
      "application/vnd.jupyter.widget-view+json": {
       "model_id": "c264adf864be46b89dd4bd26da072fcb",
       "version_major": 2,
       "version_minor": 0
      },
      "text/plain": [
       "r = 0.5445089340209961:   0%|          | 0/10 [00:00<?, ?it/s]"
      ]
     },
     "metadata": {},
     "output_type": "display_data"
    },
    {
     "data": {
      "application/vnd.jupyter.widget-view+json": {
       "model_id": "573cfa82b3bd42ffb1cd4521ffff5ab8",
       "version_major": 2,
       "version_minor": 0
      },
      "text/plain": [
       "r = 0.5420071482658386:   0%|          | 0/10 [00:00<?, ?it/s]"
      ]
     },
     "metadata": {},
     "output_type": "display_data"
    },
    {
     "data": {
      "application/vnd.jupyter.widget-view+json": {
       "model_id": "2d278b5318fb4829aa3c70a2ed2c3113",
       "version_major": 2,
       "version_minor": 0
      },
      "text/plain": [
       "r = 0.5395168662071228:   0%|          | 0/10 [00:00<?, ?it/s]"
      ]
     },
     "metadata": {},
     "output_type": "display_data"
    },
    {
     "data": {
      "application/vnd.jupyter.widget-view+json": {
       "model_id": "cd906d45e99649d7a63a261f0e844ad9",
       "version_major": 2,
       "version_minor": 0
      },
      "text/plain": [
       "r = 0.5370380282402039:   0%|          | 0/10 [00:00<?, ?it/s]"
      ]
     },
     "metadata": {},
     "output_type": "display_data"
    },
    {
     "data": {
      "application/vnd.jupyter.widget-view+json": {
       "model_id": "33379b91ca0d4b1bb048a05cc575f336",
       "version_major": 2,
       "version_minor": 0
      },
      "text/plain": [
       "r = 0.534570574760437:   0%|          | 0/10 [00:00<?, ?it/s]"
      ]
     },
     "metadata": {},
     "output_type": "display_data"
    },
    {
     "data": {
      "application/vnd.jupyter.widget-view+json": {
       "model_id": "84c064052fb0449698f929473b5de6bc",
       "version_major": 2,
       "version_minor": 0
      },
      "text/plain": [
       "r = 0.5321144461631775:   0%|          | 0/10 [00:00<?, ?it/s]"
      ]
     },
     "metadata": {},
     "output_type": "display_data"
    },
    {
     "data": {
      "application/vnd.jupyter.widget-view+json": {
       "model_id": "51dfc7e7b43549e59ec000f0ba399045",
       "version_major": 2,
       "version_minor": 0
      },
      "text/plain": [
       "r = 0.5296696424484253:   0%|          | 0/10 [00:00<?, ?it/s]"
      ]
     },
     "metadata": {},
     "output_type": "display_data"
    },
    {
     "data": {
      "application/vnd.jupyter.widget-view+json": {
       "model_id": "e16aa251bcac412c99f0c0768a9d1f61",
       "version_major": 2,
       "version_minor": 0
      },
      "text/plain": [
       "r = 0.5272359848022461:   0%|          | 0/10 [00:00<?, ?it/s]"
      ]
     },
     "metadata": {},
     "output_type": "display_data"
    },
    {
     "data": {
      "application/vnd.jupyter.widget-view+json": {
       "model_id": "a0d1dc709ca1418b8373dd5b7b08eecb",
       "version_major": 2,
       "version_minor": 0
      },
      "text/plain": [
       "r = 0.5248135924339294:   0%|          | 0/10 [00:00<?, ?it/s]"
      ]
     },
     "metadata": {},
     "output_type": "display_data"
    },
    {
     "data": {
      "application/vnd.jupyter.widget-view+json": {
       "model_id": "09cdfcad914e4e90967c2e1b3ed729fc",
       "version_major": 2,
       "version_minor": 0
      },
      "text/plain": [
       "r = 0.522402286529541:   0%|          | 0/10 [00:00<?, ?it/s]"
      ]
     },
     "metadata": {},
     "output_type": "display_data"
    },
    {
     "data": {
      "application/vnd.jupyter.widget-view+json": {
       "model_id": "5fcf1a0981e9444b87bf84edf5a1f367",
       "version_major": 2,
       "version_minor": 0
      },
      "text/plain": [
       "r = 0.5200021266937256:   0%|          | 0/10 [00:00<?, ?it/s]"
      ]
     },
     "metadata": {},
     "output_type": "display_data"
    },
    {
     "data": {
      "application/vnd.jupyter.widget-view+json": {
       "model_id": "a2718a47f141488fa38127400d3afb89",
       "version_major": 2,
       "version_minor": 0
      },
      "text/plain": [
       "r = 0.5176129341125488:   0%|          | 0/10 [00:00<?, ?it/s]"
      ]
     },
     "metadata": {},
     "output_type": "display_data"
    },
    {
     "data": {
      "application/vnd.jupyter.widget-view+json": {
       "model_id": "324124b835da46b28a0f1bb3cb5efc2a",
       "version_major": 2,
       "version_minor": 0
      },
      "text/plain": [
       "r = 0.5152347087860107:   0%|          | 0/10 [00:00<?, ?it/s]"
      ]
     },
     "metadata": {},
     "output_type": "display_data"
    },
    {
     "data": {
      "application/vnd.jupyter.widget-view+json": {
       "model_id": "2f52efbf9c4e4bb68e74ce0654478c95",
       "version_major": 2,
       "version_minor": 0
      },
      "text/plain": [
       "r = 0.5128674507141113:   0%|          | 0/10 [00:00<?, ?it/s]"
      ]
     },
     "metadata": {},
     "output_type": "display_data"
    },
    {
     "data": {
      "application/vnd.jupyter.widget-view+json": {
       "model_id": "7c65e12cbf4b4c5a86ccf87a06d66b76",
       "version_major": 2,
       "version_minor": 0
      },
      "text/plain": [
       "r = 0.510511040687561:   0%|          | 0/10 [00:00<?, ?it/s]"
      ]
     },
     "metadata": {},
     "output_type": "display_data"
    },
    {
     "data": {
      "application/vnd.jupyter.widget-view+json": {
       "model_id": "d341b16d51dd4600956a3923f6ef1418",
       "version_major": 2,
       "version_minor": 0
      },
      "text/plain": [
       "r = 0.5081654787063599:   0%|          | 0/10 [00:00<?, ?it/s]"
      ]
     },
     "metadata": {},
     "output_type": "display_data"
    },
    {
     "data": {
      "application/vnd.jupyter.widget-view+json": {
       "model_id": "733f3ae8a2be4bb4bee10cfa03ddc46b",
       "version_major": 2,
       "version_minor": 0
      },
      "text/plain": [
       "r = 0.5058306455612183:   0%|          | 0/10 [00:00<?, ?it/s]"
      ]
     },
     "metadata": {},
     "output_type": "display_data"
    },
    {
     "data": {
      "application/vnd.jupyter.widget-view+json": {
       "model_id": "c5661064a5f84b3bb3bb9f3051c6e9cf",
       "version_major": 2,
       "version_minor": 0
      },
      "text/plain": [
       "r = 0.503506600856781:   0%|          | 0/10 [00:00<?, ?it/s]"
      ]
     },
     "metadata": {},
     "output_type": "display_data"
    },
    {
     "data": {
      "application/vnd.jupyter.widget-view+json": {
       "model_id": "8252ce39e81e48bb88a7df992c3ffbee",
       "version_major": 2,
       "version_minor": 0
      },
      "text/plain": [
       "r = 0.5011931657791138:   0%|          | 0/10 [00:00<?, ?it/s]"
      ]
     },
     "metadata": {},
     "output_type": "display_data"
    },
    {
     "data": {
      "application/vnd.jupyter.widget-view+json": {
       "model_id": "9ee7a536938448eba442288974799ab7",
       "version_major": 2,
       "version_minor": 0
      },
      "text/plain": [
       "r = 0.4988904297351837:   0%|          | 0/10 [00:00<?, ?it/s]"
      ]
     },
     "metadata": {},
     "output_type": "display_data"
    },
    {
     "data": {
      "application/vnd.jupyter.widget-view+json": {
       "model_id": "6483c288b47042649ef1c006ae2c0a6b",
       "version_major": 2,
       "version_minor": 0
      },
      "text/plain": [
       "r = 0.4965982437133789:   0%|          | 0/10 [00:00<?, ?it/s]"
      ]
     },
     "metadata": {},
     "output_type": "display_data"
    },
    {
     "data": {
      "application/vnd.jupyter.widget-view+json": {
       "model_id": "1aaf2321a9404a55bd310d2f508448e4",
       "version_major": 2,
       "version_minor": 0
      },
      "text/plain": [
       "r = 0.49431657791137695:   0%|          | 0/10 [00:00<?, ?it/s]"
      ]
     },
     "metadata": {},
     "output_type": "display_data"
    },
    {
     "data": {
      "application/vnd.jupyter.widget-view+json": {
       "model_id": "2705eedacdc94270bb6a863870ee7e3a",
       "version_major": 2,
       "version_minor": 0
      },
      "text/plain": [
       "r = 0.49204543232917786:   0%|          | 0/10 [00:00<?, ?it/s]"
      ]
     },
     "metadata": {},
     "output_type": "display_data"
    },
    {
     "data": {
      "application/vnd.jupyter.widget-view+json": {
       "model_id": "1bf7e771da1d4f2a93e3ee27cf122cad",
       "version_major": 2,
       "version_minor": 0
      },
      "text/plain": [
       "r = 0.48978471755981445:   0%|          | 0/10 [00:00<?, ?it/s]"
      ]
     },
     "metadata": {},
     "output_type": "display_data"
    },
    {
     "data": {
      "application/vnd.jupyter.widget-view+json": {
       "model_id": "51b0412fb418470da5c992720a565088",
       "version_major": 2,
       "version_minor": 0
      },
      "text/plain": [
       "r = 0.4875343441963196:   0%|          | 0/10 [00:00<?, ?it/s]"
      ]
     },
     "metadata": {},
     "output_type": "display_data"
    },
    {
     "data": {
      "application/vnd.jupyter.widget-view+json": {
       "model_id": "d2e0319f6c624570bb8fba30facb6da8",
       "version_major": 2,
       "version_minor": 0
      },
      "text/plain": [
       "r = 0.4852943420410156:   0%|          | 0/10 [00:00<?, ?it/s]"
      ]
     },
     "metadata": {},
     "output_type": "display_data"
    },
    {
     "data": {
      "application/vnd.jupyter.widget-view+json": {
       "model_id": "388a4b48e99c4d50b1d0900b9643523a",
       "version_major": 2,
       "version_minor": 0
      },
      "text/plain": [
       "r = 0.4830646216869354:   0%|          | 0/10 [00:00<?, ?it/s]"
      ]
     },
     "metadata": {},
     "output_type": "display_data"
    },
    {
     "data": {
      "application/vnd.jupyter.widget-view+json": {
       "model_id": "57f159353270412584171611b9c23d65",
       "version_major": 2,
       "version_minor": 0
      },
      "text/plain": [
       "r = 0.4808451533317566:   0%|          | 0/10 [00:00<?, ?it/s]"
      ]
     },
     "metadata": {},
     "output_type": "display_data"
    },
    {
     "data": {
      "application/vnd.jupyter.widget-view+json": {
       "model_id": "43749e006c7644b8950bff2fa3df1299",
       "version_major": 2,
       "version_minor": 0
      },
      "text/plain": [
       "r = 0.47863587737083435:   0%|          | 0/10 [00:00<?, ?it/s]"
      ]
     },
     "metadata": {},
     "output_type": "display_data"
    },
    {
     "data": {
      "application/vnd.jupyter.widget-view+json": {
       "model_id": "a8732f9cfcbb40bf85df89cfdc490997",
       "version_major": 2,
       "version_minor": 0
      },
      "text/plain": [
       "r = 0.4764367640018463:   0%|          | 0/10 [00:00<?, ?it/s]"
      ]
     },
     "metadata": {},
     "output_type": "display_data"
    },
    {
     "data": {
      "application/vnd.jupyter.widget-view+json": {
       "model_id": "47a448dbd1f54713873d391fe29adfa0",
       "version_major": 2,
       "version_minor": 0
      },
      "text/plain": [
       "r = 0.4742477536201477:   0%|          | 0/10 [00:00<?, ?it/s]"
      ]
     },
     "metadata": {},
     "output_type": "display_data"
    },
    {
     "data": {
      "application/vnd.jupyter.widget-view+json": {
       "model_id": "7846c637a23b475788f139dfe27669c3",
       "version_major": 2,
       "version_minor": 0
      },
      "text/plain": [
       "r = 0.47206875681877136:   0%|          | 0/10 [00:00<?, ?it/s]"
      ]
     },
     "metadata": {},
     "output_type": "display_data"
    },
    {
     "data": {
      "application/vnd.jupyter.widget-view+json": {
       "model_id": "109951ad972a444385712eb544a84e4c",
       "version_major": 2,
       "version_minor": 0
      },
      "text/plain": [
       "r = 0.4698998034000397:   0%|          | 0/10 [00:00<?, ?it/s]"
      ]
     },
     "metadata": {},
     "output_type": "display_data"
    },
    {
     "data": {
      "application/vnd.jupyter.widget-view+json": {
       "model_id": "fabff044599e44bb95e17159ec937ac5",
       "version_major": 2,
       "version_minor": 0
      },
      "text/plain": [
       "r = 0.46774083375930786:   0%|          | 0/10 [00:00<?, ?it/s]"
      ]
     },
     "metadata": {},
     "output_type": "display_data"
    },
    {
     "data": {
      "application/vnd.jupyter.widget-view+json": {
       "model_id": "ea37f935c4044b71aa43a93ae78f8921",
       "version_major": 2,
       "version_minor": 0
      },
      "text/plain": [
       "r = 0.46559178829193115:   0%|          | 0/10 [00:00<?, ?it/s]"
      ]
     },
     "metadata": {},
     "output_type": "display_data"
    },
    {
     "data": {
      "application/vnd.jupyter.widget-view+json": {
       "model_id": "95bf1609a76a4c1e8ac648b52749a860",
       "version_major": 2,
       "version_minor": 0
      },
      "text/plain": [
       "r = 0.4634525775909424:   0%|          | 0/10 [00:00<?, ?it/s]"
      ]
     },
     "metadata": {},
     "output_type": "display_data"
    },
    {
     "data": {
      "application/vnd.jupyter.widget-view+json": {
       "model_id": "d0b0f220b91642a2bfc9ec6398f8e58b",
       "version_major": 2,
       "version_minor": 0
      },
      "text/plain": [
       "r = 0.46132323145866394:   0%|          | 0/10 [00:00<?, ?it/s]"
      ]
     },
     "metadata": {},
     "output_type": "display_data"
    },
    {
     "data": {
      "application/vnd.jupyter.widget-view+json": {
       "model_id": "98db93632e174254be552cf0e3fc3b41",
       "version_major": 2,
       "version_minor": 0
      },
      "text/plain": [
       "r = 0.45920366048812866:   0%|          | 0/10 [00:00<?, ?it/s]"
      ]
     },
     "metadata": {},
     "output_type": "display_data"
    },
    {
     "data": {
      "application/vnd.jupyter.widget-view+json": {
       "model_id": "c8ba46dc10154a36ab3d65871760e0f5",
       "version_major": 2,
       "version_minor": 0
      },
      "text/plain": [
       "r = 0.4570937752723694:   0%|          | 0/10 [00:00<?, ?it/s]"
      ]
     },
     "metadata": {},
     "output_type": "display_data"
    },
    {
     "data": {
      "application/vnd.jupyter.widget-view+json": {
       "model_id": "fb9dee91fdf74730af98bf07bbd27064",
       "version_major": 2,
       "version_minor": 0
      },
      "text/plain": [
       "r = 0.45499366521835327:   0%|          | 0/10 [00:00<?, ?it/s]"
      ]
     },
     "metadata": {},
     "output_type": "display_data"
    },
    {
     "data": {
      "application/vnd.jupyter.widget-view+json": {
       "model_id": "7ad5e64ba78c4b29a6038fd8ff0e0649",
       "version_major": 2,
       "version_minor": 0
      },
      "text/plain": [
       "r = 0.452903151512146:   0%|          | 0/10 [00:00<?, ?it/s]"
      ]
     },
     "metadata": {},
     "output_type": "display_data"
    },
    {
     "data": {
      "application/vnd.jupyter.widget-view+json": {
       "model_id": "e05e522673b04ffb8ea6210d2d1196d0",
       "version_major": 2,
       "version_minor": 0
      },
      "text/plain": [
       "r = 0.45082226395606995:   0%|          | 0/10 [00:00<?, ?it/s]"
      ]
     },
     "metadata": {},
     "output_type": "display_data"
    },
    {
     "data": {
      "application/vnd.jupyter.widget-view+json": {
       "model_id": "770dd02bdce0420bb747cfafb9039086",
       "version_major": 2,
       "version_minor": 0
      },
      "text/plain": [
       "r = 0.44875091314315796:   0%|          | 0/10 [00:00<?, ?it/s]"
      ]
     },
     "metadata": {},
     "output_type": "display_data"
    },
    {
     "data": {
      "application/vnd.jupyter.widget-view+json": {
       "model_id": "6da8d96bb22f426bbc995c7a4fffa218",
       "version_major": 2,
       "version_minor": 0
      },
      "text/plain": [
       "r = 0.44668909907341003:   0%|          | 0/10 [00:00<?, ?it/s]"
      ]
     },
     "metadata": {},
     "output_type": "display_data"
    },
    {
     "data": {
      "application/vnd.jupyter.widget-view+json": {
       "model_id": "77a7c42ae2e1473687a0c44caab4f78f",
       "version_major": 2,
       "version_minor": 0
      },
      "text/plain": [
       "r = 0.4446367621421814:   0%|          | 0/10 [00:00<?, ?it/s]"
      ]
     },
     "metadata": {},
     "output_type": "display_data"
    },
    {
     "data": {
      "application/vnd.jupyter.widget-view+json": {
       "model_id": "cab09a3026cf4900accf3eef25748eef",
       "version_major": 2,
       "version_minor": 0
      },
      "text/plain": [
       "r = 0.44259384274482727:   0%|          | 0/10 [00:00<?, ?it/s]"
      ]
     },
     "metadata": {},
     "output_type": "display_data"
    },
    {
     "data": {
      "application/vnd.jupyter.widget-view+json": {
       "model_id": "ab66be2cce1443629ad5fe05bb50f09a",
       "version_major": 2,
       "version_minor": 0
      },
      "text/plain": [
       "r = 0.44056031107902527:   0%|          | 0/10 [00:00<?, ?it/s]"
      ]
     },
     "metadata": {},
     "output_type": "display_data"
    },
    {
     "data": {
      "application/vnd.jupyter.widget-view+json": {
       "model_id": "53d609b9f6ce4f72ba1152ca0f0cf29e",
       "version_major": 2,
       "version_minor": 0
      },
      "text/plain": [
       "r = 0.438536137342453:   0%|          | 0/10 [00:00<?, ?it/s]"
      ]
     },
     "metadata": {},
     "output_type": "display_data"
    },
    {
     "data": {
      "application/vnd.jupyter.widget-view+json": {
       "model_id": "9630db8682914c879d5e26d0aad20211",
       "version_major": 2,
       "version_minor": 0
      },
      "text/plain": [
       "r = 0.4365212321281433:   0%|          | 0/10 [00:00<?, ?it/s]"
      ]
     },
     "metadata": {},
     "output_type": "display_data"
    },
    {
     "data": {
      "application/vnd.jupyter.widget-view+json": {
       "model_id": "16ad1704a0d041ea8ddf0a12bb7a87c9",
       "version_major": 2,
       "version_minor": 0
      },
      "text/plain": [
       "r = 0.4345156252384186:   0%|          | 0/10 [00:00<?, ?it/s]"
      ]
     },
     "metadata": {},
     "output_type": "display_data"
    },
    {
     "data": {
      "application/vnd.jupyter.widget-view+json": {
       "model_id": "be016fef37764c9e904ed2e2caf3cc80",
       "version_major": 2,
       "version_minor": 0
      },
      "text/plain": [
       "r = 0.43251925706863403:   0%|          | 0/10 [00:00<?, ?it/s]"
      ]
     },
     "metadata": {},
     "output_type": "display_data"
    },
    {
     "data": {
      "application/vnd.jupyter.widget-view+json": {
       "model_id": "b493fa51b4f14b62a79f581984f15e4f",
       "version_major": 2,
       "version_minor": 0
      },
      "text/plain": [
       "r = 0.43053197860717773:   0%|          | 0/10 [00:00<?, ?it/s]"
      ]
     },
     "metadata": {},
     "output_type": "display_data"
    },
    {
     "data": {
      "application/vnd.jupyter.widget-view+json": {
       "model_id": "50eaf7679aef49eb9d45b068af5197eb",
       "version_major": 2,
       "version_minor": 0
      },
      "text/plain": [
       "r = 0.42855387926101685:   0%|          | 0/10 [00:00<?, ?it/s]"
      ]
     },
     "metadata": {},
     "output_type": "display_data"
    },
    {
     "data": {
      "application/vnd.jupyter.widget-view+json": {
       "model_id": "a9f99208abf0440cbee4f99b60f92f66",
       "version_major": 2,
       "version_minor": 0
      },
      "text/plain": [
       "r = 0.4265848398208618:   0%|          | 0/10 [00:00<?, ?it/s]"
      ]
     },
     "metadata": {},
     "output_type": "display_data"
    },
    {
     "data": {
      "application/vnd.jupyter.widget-view+json": {
       "model_id": "c275c15dfaff4a53aecaeb375fee785d",
       "version_major": 2,
       "version_minor": 0
      },
      "text/plain": [
       "r = 0.4246249198913574:   0%|          | 0/10 [00:00<?, ?it/s]"
      ]
     },
     "metadata": {},
     "output_type": "display_data"
    },
    {
     "data": {
      "application/vnd.jupyter.widget-view+json": {
       "model_id": "50fee6b8ca724bf8af336382572bf020",
       "version_major": 2,
       "version_minor": 0
      },
      "text/plain": [
       "r = 0.42267394065856934:   0%|          | 0/10 [00:00<?, ?it/s]"
      ]
     },
     "metadata": {},
     "output_type": "display_data"
    },
    {
     "data": {
      "application/vnd.jupyter.widget-view+json": {
       "model_id": "7dc5abdcd98e4a1dba926425ee31068e",
       "version_major": 2,
       "version_minor": 0
      },
      "text/plain": [
       "r = 0.42073193192481995:   0%|          | 0/10 [00:00<?, ?it/s]"
      ]
     },
     "metadata": {},
     "output_type": "display_data"
    },
    {
     "data": {
      "application/vnd.jupyter.widget-view+json": {
       "model_id": "29f19ae5a6ff4cc5a75a7c16c8c97731",
       "version_major": 2,
       "version_minor": 0
      },
      "text/plain": [
       "r = 0.41879886388778687:   0%|          | 0/10 [00:00<?, ?it/s]"
      ]
     },
     "metadata": {},
     "output_type": "display_data"
    },
    {
     "data": {
      "application/vnd.jupyter.widget-view+json": {
       "model_id": "3226548a870e49a28d68214e063b1841",
       "version_major": 2,
       "version_minor": 0
      },
      "text/plain": [
       "r = 0.41687464714050293:   0%|          | 0/10 [00:00<?, ?it/s]"
      ]
     },
     "metadata": {},
     "output_type": "display_data"
    },
    {
     "data": {
      "application/vnd.jupyter.widget-view+json": {
       "model_id": "f72d2b7762fe4e46bd55ee984a32e06d",
       "version_major": 2,
       "version_minor": 0
      },
      "text/plain": [
       "r = 0.4149593114852905:   0%|          | 0/10 [00:00<?, ?it/s]"
      ]
     },
     "metadata": {},
     "output_type": "display_data"
    },
    {
     "data": {
      "application/vnd.jupyter.widget-view+json": {
       "model_id": "a1cd8df163b446e6a58f1c147af35520",
       "version_major": 2,
       "version_minor": 0
      },
      "text/plain": [
       "r = 0.4130527377128601:   0%|          | 0/10 [00:00<?, ?it/s]"
      ]
     },
     "metadata": {},
     "output_type": "display_data"
    },
    {
     "data": {
      "application/vnd.jupyter.widget-view+json": {
       "model_id": "aef755fd16844ae6a7b448383ead0199",
       "version_major": 2,
       "version_minor": 0
      },
      "text/plain": [
       "r = 0.41115492582321167:   0%|          | 0/10 [00:00<?, ?it/s]"
      ]
     },
     "metadata": {},
     "output_type": "display_data"
    },
    {
     "data": {
      "application/vnd.jupyter.widget-view+json": {
       "model_id": "87bf2ff4fd2d460097a42a33994d4d95",
       "version_major": 2,
       "version_minor": 0
      },
      "text/plain": [
       "r = 0.4092658758163452:   0%|          | 0/10 [00:00<?, ?it/s]"
      ]
     },
     "metadata": {},
     "output_type": "display_data"
    },
    {
     "data": {
      "application/vnd.jupyter.widget-view+json": {
       "model_id": "f03e85bbdcec44c2955eb7f6da486edf",
       "version_major": 2,
       "version_minor": 0
      },
      "text/plain": [
       "r = 0.4073854684829712:   0%|          | 0/10 [00:00<?, ?it/s]"
      ]
     },
     "metadata": {},
     "output_type": "display_data"
    },
    {
     "data": {
      "application/vnd.jupyter.widget-view+json": {
       "model_id": "19ffc139b2634efb9e467dd5ddc6e8da",
       "version_major": 2,
       "version_minor": 0
      },
      "text/plain": [
       "r = 0.4055137038230896:   0%|          | 0/10 [00:00<?, ?it/s]"
      ]
     },
     "metadata": {},
     "output_type": "display_data"
    },
    {
     "data": {
      "application/vnd.jupyter.widget-view+json": {
       "model_id": "a03b94e1ce0f4c96b782b693e612367e",
       "version_major": 2,
       "version_minor": 0
      },
      "text/plain": [
       "r = 0.40365055203437805:   0%|          | 0/10 [00:00<?, ?it/s]"
      ]
     },
     "metadata": {},
     "output_type": "display_data"
    },
    {
     "data": {
      "application/vnd.jupyter.widget-view+json": {
       "model_id": "642dd571ce7f49c39648ec598d264d25",
       "version_major": 2,
       "version_minor": 0
      },
      "text/plain": [
       "r = 0.4017959535121918:   0%|          | 0/10 [00:00<?, ?it/s]"
      ]
     },
     "metadata": {},
     "output_type": "display_data"
    },
    {
     "data": {
      "application/vnd.jupyter.widget-view+json": {
       "model_id": "f67b9be196324dd4a62d5ee26032b781",
       "version_major": 2,
       "version_minor": 0
      },
      "text/plain": [
       "r = 0.399949848651886:   0%|          | 0/10 [00:00<?, ?it/s]"
      ]
     },
     "metadata": {},
     "output_type": "display_data"
    },
    {
     "data": {
      "application/vnd.jupyter.widget-view+json": {
       "model_id": "fa4103559d6846c9a5a0f52d24d7d5f1",
       "version_major": 2,
       "version_minor": 0
      },
      "text/plain": [
       "r = 0.3981122672557831:   0%|          | 0/10 [00:00<?, ?it/s]"
      ]
     },
     "metadata": {},
     "output_type": "display_data"
    },
    {
     "data": {
      "application/vnd.jupyter.widget-view+json": {
       "model_id": "9812576c58664656afda99265869f9b7",
       "version_major": 2,
       "version_minor": 0
      },
      "text/plain": [
       "r = 0.3962831199169159:   0%|          | 0/10 [00:00<?, ?it/s]"
      ]
     },
     "metadata": {},
     "output_type": "display_data"
    },
    {
     "data": {
      "application/vnd.jupyter.widget-view+json": {
       "model_id": "1b686b65468743dcb79f15ef60a8e6e2",
       "version_major": 2,
       "version_minor": 0
      },
      "text/plain": [
       "r = 0.39446237683296204:   0%|          | 0/10 [00:00<?, ?it/s]"
      ]
     },
     "metadata": {},
     "output_type": "display_data"
    },
    {
     "data": {
      "application/vnd.jupyter.widget-view+json": {
       "model_id": "e42aa9a231cc479abe9be7d9a64d5869",
       "version_major": 2,
       "version_minor": 0
      },
      "text/plain": [
       "r = 0.3926500082015991:   0%|          | 0/10 [00:00<?, ?it/s]"
      ]
     },
     "metadata": {},
     "output_type": "display_data"
    },
    {
     "data": {
      "application/vnd.jupyter.widget-view+json": {
       "model_id": "e760cb00156d4fbab1211465fe451341",
       "version_major": 2,
       "version_minor": 0
      },
      "text/plain": [
       "r = 0.3908459544181824:   0%|          | 0/10 [00:00<?, ?it/s]"
      ]
     },
     "metadata": {},
     "output_type": "display_data"
    },
    {
     "data": {
      "application/vnd.jupyter.widget-view+json": {
       "model_id": "485527fa95124ff08dae7bf21ddbeb76",
       "version_major": 2,
       "version_minor": 0
      },
      "text/plain": [
       "r = 0.3890501856803894:   0%|          | 0/10 [00:00<?, ?it/s]"
      ]
     },
     "metadata": {},
     "output_type": "display_data"
    },
    {
     "data": {
      "application/vnd.jupyter.widget-view+json": {
       "model_id": "a72a44d2a3d54dcbb83e71ca2d0c2c85",
       "version_major": 2,
       "version_minor": 0
      },
      "text/plain": [
       "r = 0.3872626721858978:   0%|          | 0/10 [00:00<?, ?it/s]"
      ]
     },
     "metadata": {},
     "output_type": "display_data"
    },
    {
     "data": {
      "application/vnd.jupyter.widget-view+json": {
       "model_id": "6584aed1202f4c98b7533abd4f9d4b2c",
       "version_major": 2,
       "version_minor": 0
      },
      "text/plain": [
       "r = 0.38548335433006287:   0%|          | 0/10 [00:00<?, ?it/s]"
      ]
     },
     "metadata": {},
     "output_type": "display_data"
    },
    {
     "data": {
      "application/vnd.jupyter.widget-view+json": {
       "model_id": "2a3898f758b6410a97049433e7c5a7a5",
       "version_major": 2,
       "version_minor": 0
      },
      "text/plain": [
       "r = 0.38371220231056213:   0%|          | 0/10 [00:00<?, ?it/s]"
      ]
     },
     "metadata": {},
     "output_type": "display_data"
    },
    {
     "data": {
      "application/vnd.jupyter.widget-view+json": {
       "model_id": "ce2bf9e1908f44c08cfa24a5b7b1b63a",
       "version_major": 2,
       "version_minor": 0
      },
      "text/plain": [
       "r = 0.38194921612739563:   0%|          | 0/10 [00:00<?, ?it/s]"
      ]
     },
     "metadata": {},
     "output_type": "display_data"
    },
    {
     "data": {
      "application/vnd.jupyter.widget-view+json": {
       "model_id": "955eb91c28c0415a820cde5d004510b1",
       "version_major": 2,
       "version_minor": 0
      },
      "text/plain": [
       "r = 0.3801943361759186:   0%|          | 0/10 [00:00<?, ?it/s]"
      ]
     },
     "metadata": {},
     "output_type": "display_data"
    },
    {
     "data": {
      "application/vnd.jupyter.widget-view+json": {
       "model_id": "ffffa4da4e4b4f72aa1069ce5c97a971",
       "version_major": 2,
       "version_minor": 0
      },
      "text/plain": [
       "r = 0.3784475028514862:   0%|          | 0/10 [00:00<?, ?it/s]"
      ]
     },
     "metadata": {},
     "output_type": "display_data"
    },
    {
     "data": {
      "application/vnd.jupyter.widget-view+json": {
       "model_id": "d24360681f0943909bfd3ee5ed2d9934",
       "version_major": 2,
       "version_minor": 0
      },
      "text/plain": [
       "r = 0.3767086863517761:   0%|          | 0/10 [00:00<?, ?it/s]"
      ]
     },
     "metadata": {},
     "output_type": "display_data"
    },
    {
     "data": {
      "application/vnd.jupyter.widget-view+json": {
       "model_id": "c1b3e95bc15d43f2b9995b0560a5049f",
       "version_major": 2,
       "version_minor": 0
      },
      "text/plain": [
       "r = 0.37497788667678833:   0%|          | 0/10 [00:00<?, ?it/s]"
      ]
     },
     "metadata": {},
     "output_type": "display_data"
    },
    {
     "data": {
      "application/vnd.jupyter.widget-view+json": {
       "model_id": "fcd80109b8094319a46e939f263fd2c7",
       "version_major": 2,
       "version_minor": 0
      },
      "text/plain": [
       "r = 0.37325501441955566:   0%|          | 0/10 [00:00<?, ?it/s]"
      ]
     },
     "metadata": {},
     "output_type": "display_data"
    },
    {
     "data": {
      "application/vnd.jupyter.widget-view+json": {
       "model_id": "b818114884a84ff58590fb5101954524",
       "version_major": 2,
       "version_minor": 0
      },
      "text/plain": [
       "r = 0.3715400695800781:   0%|          | 0/10 [00:00<?, ?it/s]"
      ]
     },
     "metadata": {},
     "output_type": "display_data"
    },
    {
     "data": {
      "application/vnd.jupyter.widget-view+json": {
       "model_id": "42e16c7927b94f769bb4be10857cb1ba",
       "version_major": 2,
       "version_minor": 0
      },
      "text/plain": [
       "r = 0.3698330521583557:   0%|          | 0/10 [00:00<?, ?it/s]"
      ]
     },
     "metadata": {},
     "output_type": "display_data"
    },
    {
     "data": {
      "application/vnd.jupyter.widget-view+json": {
       "model_id": "54fedba7417e48f6a303482b57b160c4",
       "version_major": 2,
       "version_minor": 0
      },
      "text/plain": [
       "r = 0.3681337833404541:   0%|          | 0/10 [00:00<?, ?it/s]"
      ]
     },
     "metadata": {},
     "output_type": "display_data"
    },
    {
     "data": {
      "application/vnd.jupyter.widget-view+json": {
       "model_id": "4ff5fb564beb49e59ae327cc39c47ac4",
       "version_major": 2,
       "version_minor": 0
      },
      "text/plain": [
       "r = 0.36644238233566284:   0%|          | 0/10 [00:00<?, ?it/s]"
      ]
     },
     "metadata": {},
     "output_type": "display_data"
    },
    {
     "data": {
      "application/vnd.jupyter.widget-view+json": {
       "model_id": "074c293197a6468d8e0467d9e748e6bd",
       "version_major": 2,
       "version_minor": 0
      },
      "text/plain": [
       "r = 0.3647587299346924:   0%|          | 0/10 [00:00<?, ?it/s]"
      ]
     },
     "metadata": {},
     "output_type": "display_data"
    },
    {
     "data": {
      "application/vnd.jupyter.widget-view+json": {
       "model_id": "960b5451ad3946ee811e6abc2d74f2a5",
       "version_major": 2,
       "version_minor": 0
      },
      "text/plain": [
       "r = 0.3630828559398651:   0%|          | 0/10 [00:00<?, ?it/s]"
      ]
     },
     "metadata": {},
     "output_type": "display_data"
    },
    {
     "data": {
      "application/vnd.jupyter.widget-view+json": {
       "model_id": "1ac68b3fada545508b889875508526f6",
       "version_major": 2,
       "version_minor": 0
      },
      "text/plain": [
       "r = 0.3614146113395691:   0%|          | 0/10 [00:00<?, ?it/s]"
      ]
     },
     "metadata": {},
     "output_type": "display_data"
    },
    {
     "data": {
      "application/vnd.jupyter.widget-view+json": {
       "model_id": "f11356468e274b6abb5e55810c51b6d5",
       "version_major": 2,
       "version_minor": 0
      },
      "text/plain": [
       "r = 0.3597540855407715:   0%|          | 0/10 [00:00<?, ?it/s]"
      ]
     },
     "metadata": {},
     "output_type": "display_data"
    },
    {
     "data": {
      "application/vnd.jupyter.widget-view+json": {
       "model_id": "779edcbfa8f143a1bc2c5316671ae0bf",
       "version_major": 2,
       "version_minor": 0
      },
      "text/plain": [
       "r = 0.35810115933418274:   0%|          | 0/10 [00:00<?, ?it/s]"
      ]
     },
     "metadata": {},
     "output_type": "display_data"
    },
    {
     "data": {
      "application/vnd.jupyter.widget-view+json": {
       "model_id": "96315c158d9c4570aa0227341ee55a27",
       "version_major": 2,
       "version_minor": 0
      },
      "text/plain": [
       "r = 0.35645586252212524:   0%|          | 0/10 [00:00<?, ?it/s]"
      ]
     },
     "metadata": {},
     "output_type": "display_data"
    },
    {
     "data": {
      "application/vnd.jupyter.widget-view+json": {
       "model_id": "4890dc8b10a8432db7b58462fbb6284c",
       "version_major": 2,
       "version_minor": 0
      },
      "text/plain": [
       "r = 0.35481810569763184:   0%|          | 0/10 [00:00<?, ?it/s]"
      ]
     },
     "metadata": {},
     "output_type": "display_data"
    },
    {
     "data": {
      "application/vnd.jupyter.widget-view+json": {
       "model_id": "c059fb42eadf40c7979de9e078947c21",
       "version_major": 2,
       "version_minor": 0
      },
      "text/plain": [
       "r = 0.3531878590583801:   0%|          | 0/10 [00:00<?, ?it/s]"
      ]
     },
     "metadata": {},
     "output_type": "display_data"
    },
    {
     "data": {
      "application/vnd.jupyter.widget-view+json": {
       "model_id": "dc7ab1cf3fd74f53ad164237e1271241",
       "version_major": 2,
       "version_minor": 0
      },
      "text/plain": [
       "r = 0.3515651226043701:   0%|          | 0/10 [00:00<?, ?it/s]"
      ]
     },
     "metadata": {},
     "output_type": "display_data"
    },
    {
     "data": {
      "application/vnd.jupyter.widget-view+json": {
       "model_id": "36b97568d6a34cabb8ccf7655efbb35c",
       "version_major": 2,
       "version_minor": 0
      },
      "text/plain": [
       "r = 0.34994983673095703:   0%|          | 0/10 [00:00<?, ?it/s]"
      ]
     },
     "metadata": {},
     "output_type": "display_data"
    },
    {
     "data": {
      "application/vnd.jupyter.widget-view+json": {
       "model_id": "59e62c3de38c4ea180dddd83fc60afa5",
       "version_major": 2,
       "version_minor": 0
      },
      "text/plain": [
       "r = 0.3483419418334961:   0%|          | 0/10 [00:00<?, ?it/s]"
      ]
     },
     "metadata": {},
     "output_type": "display_data"
    },
    {
     "data": {
      "application/vnd.jupyter.widget-view+json": {
       "model_id": "19e3306b2e5d4b12a5d41d458a0e4e5a",
       "version_major": 2,
       "version_minor": 0
      },
      "text/plain": [
       "r = 0.3467414975166321:   0%|          | 0/10 [00:00<?, ?it/s]"
      ]
     },
     "metadata": {},
     "output_type": "display_data"
    },
    {
     "data": {
      "application/vnd.jupyter.widget-view+json": {
       "model_id": "854fc02c84e947d8971f4b7c5fe07d94",
       "version_major": 2,
       "version_minor": 0
      },
      "text/plain": [
       "r = 0.34514838457107544:   0%|          | 0/10 [00:00<?, ?it/s]"
      ]
     },
     "metadata": {},
     "output_type": "display_data"
    },
    {
     "data": {
      "application/vnd.jupyter.widget-view+json": {
       "model_id": "dc9d211e8c8b4e05890a266e8cb96ec7",
       "version_major": 2,
       "version_minor": 0
      },
      "text/plain": [
       "r = 0.3435625433921814:   0%|          | 0/10 [00:00<?, ?it/s]"
      ]
     },
     "metadata": {},
     "output_type": "display_data"
    },
    {
     "data": {
      "application/vnd.jupyter.widget-view+json": {
       "model_id": "31a3bc15c42b4a1d9e58b402b62603db",
       "version_major": 2,
       "version_minor": 0
      },
      "text/plain": [
       "r = 0.3419840335845947:   0%|          | 0/10 [00:00<?, ?it/s]"
      ]
     },
     "metadata": {},
     "output_type": "display_data"
    },
    {
     "data": {
      "application/vnd.jupyter.widget-view+json": {
       "model_id": "5c92b781167a4592a2ac14709d77b378",
       "version_major": 2,
       "version_minor": 0
      },
      "text/plain": [
       "r = 0.3404127359390259:   0%|          | 0/10 [00:00<?, ?it/s]"
      ]
     },
     "metadata": {},
     "output_type": "display_data"
    },
    {
     "data": {
      "application/vnd.jupyter.widget-view+json": {
       "model_id": "05fe701f8c01405c95174b03065b301e",
       "version_major": 2,
       "version_minor": 0
      },
      "text/plain": [
       "r = 0.33884871006011963:   0%|          | 0/10 [00:00<?, ?it/s]"
      ]
     },
     "metadata": {},
     "output_type": "display_data"
    },
    {
     "data": {
      "application/vnd.jupyter.widget-view+json": {
       "model_id": "937a916bd67a4b5aacfa635508153ec8",
       "version_major": 2,
       "version_minor": 0
      },
      "text/plain": [
       "r = 0.3372918367385864:   0%|          | 0/10 [00:00<?, ?it/s]"
      ]
     },
     "metadata": {},
     "output_type": "display_data"
    },
    {
     "data": {
      "application/vnd.jupyter.widget-view+json": {
       "model_id": "3269fef3f3834030a59e465b0a7d2820",
       "version_major": 2,
       "version_minor": 0
      },
      "text/plain": [
       "r = 0.33574211597442627:   0%|          | 0/10 [00:00<?, ?it/s]"
      ]
     },
     "metadata": {},
     "output_type": "display_data"
    },
    {
     "data": {
      "application/vnd.jupyter.widget-view+json": {
       "model_id": "b7aed62a361443968410c37c89dba8eb",
       "version_major": 2,
       "version_minor": 0
      },
      "text/plain": [
       "r = 0.33419954776763916:   0%|          | 0/10 [00:00<?, ?it/s]"
      ]
     },
     "metadata": {},
     "output_type": "display_data"
    },
    {
     "data": {
      "application/vnd.jupyter.widget-view+json": {
       "model_id": "3e5bfe1430d04bc3ad1a439f2257844d",
       "version_major": 2,
       "version_minor": 0
      },
      "text/plain": [
       "r = 0.3326640725135803:   0%|          | 0/10 [00:00<?, ?it/s]"
      ]
     },
     "metadata": {},
     "output_type": "display_data"
    },
    {
     "data": {
      "application/vnd.jupyter.widget-view+json": {
       "model_id": "92ceb669b920432189e7218bfbcf93fa",
       "version_major": 2,
       "version_minor": 0
      },
      "text/plain": [
       "r = 0.331135630607605:   0%|          | 0/10 [00:00<?, ?it/s]"
      ]
     },
     "metadata": {},
     "output_type": "display_data"
    },
    {
     "data": {
      "application/vnd.jupyter.widget-view+json": {
       "model_id": "b42f536b7d4f4a1b8a00f98dd77673b2",
       "version_major": 2,
       "version_minor": 0
      },
      "text/plain": [
       "r = 0.32961416244506836:   0%|          | 0/10 [00:00<?, ?it/s]"
      ]
     },
     "metadata": {},
     "output_type": "display_data"
    },
    {
     "data": {
      "application/vnd.jupyter.widget-view+json": {
       "model_id": "83ebfea854624f25ba454ec8717838c2",
       "version_major": 2,
       "version_minor": 0
      },
      "text/plain": [
       "r = 0.3280997574329376:   0%|          | 0/10 [00:00<?, ?it/s]"
      ]
     },
     "metadata": {},
     "output_type": "display_data"
    },
    {
     "data": {
      "application/vnd.jupyter.widget-view+json": {
       "model_id": "de598888576c45c0a83d578ba1d257cc",
       "version_major": 2,
       "version_minor": 0
      },
      "text/plain": [
       "r = 0.3265922963619232:   0%|          | 0/10 [00:00<?, ?it/s]"
      ]
     },
     "metadata": {},
     "output_type": "display_data"
    },
    {
     "data": {
      "application/vnd.jupyter.widget-view+json": {
       "model_id": "9e38d1c852e84763b5fcae760b31bc01",
       "version_major": 2,
       "version_minor": 0
      },
      "text/plain": [
       "r = 0.32509171962738037:   0%|          | 0/10 [00:00<?, ?it/s]"
      ]
     },
     "metadata": {},
     "output_type": "display_data"
    },
    {
     "data": {
      "application/vnd.jupyter.widget-view+json": {
       "model_id": "b4f086ef37534d009e5bc134cd91851c",
       "version_major": 2,
       "version_minor": 0
      },
      "text/plain": [
       "r = 0.32359805703163147:   0%|          | 0/10 [00:00<?, ?it/s]"
      ]
     },
     "metadata": {},
     "output_type": "display_data"
    },
    {
     "data": {
      "application/vnd.jupyter.widget-view+json": {
       "model_id": "a0d57a477d5e4d57882cd678ff8555c8",
       "version_major": 2,
       "version_minor": 0
      },
      "text/plain": [
       "r = 0.3221112787723541:   0%|          | 0/10 [00:00<?, ?it/s]"
      ]
     },
     "metadata": {},
     "output_type": "display_data"
    },
    {
     "data": {
      "application/vnd.jupyter.widget-view+json": {
       "model_id": "9affec5c32194aedaf0326956afd3d6a",
       "version_major": 2,
       "version_minor": 0
      },
      "text/plain": [
       "r = 0.3206312954425812:   0%|          | 0/10 [00:00<?, ?it/s]"
      ]
     },
     "metadata": {},
     "output_type": "display_data"
    },
    {
     "data": {
      "application/vnd.jupyter.widget-view+json": {
       "model_id": "0bda512eeae340bb8cd4c79ee180fa6b",
       "version_major": 2,
       "version_minor": 0
      },
      "text/plain": [
       "r = 0.319158136844635:   0%|          | 0/10 [00:00<?, ?it/s]"
      ]
     },
     "metadata": {},
     "output_type": "display_data"
    },
    {
     "data": {
      "application/vnd.jupyter.widget-view+json": {
       "model_id": "6f0c60a0d342402cb569af9f88c6ed60",
       "version_major": 2,
       "version_minor": 0
      },
      "text/plain": [
       "r = 0.31769174337387085:   0%|          | 0/10 [00:00<?, ?it/s]"
      ]
     },
     "metadata": {},
     "output_type": "display_data"
    },
    {
     "data": {
      "application/vnd.jupyter.widget-view+json": {
       "model_id": "008c2aaa71e74998800f77d66b78ee48",
       "version_major": 2,
       "version_minor": 0
      },
      "text/plain": [
       "r = 0.3162321150302887:   0%|          | 0/10 [00:00<?, ?it/s]"
      ]
     },
     "metadata": {},
     "output_type": "display_data"
    },
    {
     "data": {
      "application/vnd.jupyter.widget-view+json": {
       "model_id": "3259b72d210a4319b16af5c090eb95f9",
       "version_major": 2,
       "version_minor": 0
      },
      "text/plain": [
       "r = 0.3147791624069214:   0%|          | 0/10 [00:00<?, ?it/s]"
      ]
     },
     "metadata": {},
     "output_type": "display_data"
    },
    {
     "data": {
      "application/vnd.jupyter.widget-view+json": {
       "model_id": "d00029709735451095b8ed9f1ea1cad6",
       "version_major": 2,
       "version_minor": 0
      },
      "text/plain": [
       "r = 0.3133329153060913:   0%|          | 0/10 [00:00<?, ?it/s]"
      ]
     },
     "metadata": {},
     "output_type": "display_data"
    },
    {
     "data": {
      "application/vnd.jupyter.widget-view+json": {
       "model_id": "c07c469151ba4ff6b0e4eb940b1aa45b",
       "version_major": 2,
       "version_minor": 0
      },
      "text/plain": [
       "r = 0.3118932545185089:   0%|          | 0/10 [00:00<?, ?it/s]"
      ]
     },
     "metadata": {},
     "output_type": "display_data"
    },
    {
     "data": {
      "application/vnd.jupyter.widget-view+json": {
       "model_id": "2207e5c696d641a2a7efc2f5c430770c",
       "version_major": 2,
       "version_minor": 0
      },
      "text/plain": [
       "r = 0.31046023964881897:   0%|          | 0/10 [00:00<?, ?it/s]"
      ]
     },
     "metadata": {},
     "output_type": "display_data"
    },
    {
     "data": {
      "application/vnd.jupyter.widget-view+json": {
       "model_id": "1ef67e9a88404a37b71909d029cee93d",
       "version_major": 2,
       "version_minor": 0
      },
      "text/plain": [
       "r = 0.3090338110923767:   0%|          | 0/10 [00:00<?, ?it/s]"
      ]
     },
     "metadata": {},
     "output_type": "display_data"
    },
    {
     "data": {
      "application/vnd.jupyter.widget-view+json": {
       "model_id": "b6ab662c08224b6b8f043ea7def31761",
       "version_major": 2,
       "version_minor": 0
      },
      "text/plain": [
       "r = 0.30761393904685974:   0%|          | 0/10 [00:00<?, ?it/s]"
      ]
     },
     "metadata": {},
     "output_type": "display_data"
    },
    {
     "data": {
      "application/vnd.jupyter.widget-view+json": {
       "model_id": "b1b8fe80b5a1491aa216b45b863d11d3",
       "version_major": 2,
       "version_minor": 0
      },
      "text/plain": [
       "r = 0.3062005937099457:   0%|          | 0/10 [00:00<?, ?it/s]"
      ]
     },
     "metadata": {},
     "output_type": "display_data"
    },
    {
     "data": {
      "application/vnd.jupyter.widget-view+json": {
       "model_id": "e73ee829106a43ae93944dea46d881ad",
       "version_major": 2,
       "version_minor": 0
      },
      "text/plain": [
       "r = 0.30479374527931213:   0%|          | 0/10 [00:00<?, ?it/s]"
      ]
     },
     "metadata": {},
     "output_type": "display_data"
    },
    {
     "data": {
      "application/vnd.jupyter.widget-view+json": {
       "model_id": "52c6a94a910c49ee87ceb05491d33816",
       "version_major": 2,
       "version_minor": 0
      },
      "text/plain": [
       "r = 0.30339333415031433:   0%|          | 0/10 [00:00<?, ?it/s]"
      ]
     },
     "metadata": {},
     "output_type": "display_data"
    },
    {
     "data": {
      "application/vnd.jupyter.widget-view+json": {
       "model_id": "421641bb256e4e6f98f25528c496ffec",
       "version_major": 2,
       "version_minor": 0
      },
      "text/plain": [
       "r = 0.30199939012527466:   0%|          | 0/10 [00:00<?, ?it/s]"
      ]
     },
     "metadata": {},
     "output_type": "display_data"
    },
    {
     "data": {
      "application/vnd.jupyter.widget-view+json": {
       "model_id": "ab0fc43839b34800aac8f53ecfebfa92",
       "version_major": 2,
       "version_minor": 0
      },
      "text/plain": [
       "r = 0.30061182379722595:   0%|          | 0/10 [00:00<?, ?it/s]"
      ]
     },
     "metadata": {},
     "output_type": "display_data"
    },
    {
     "data": {
      "application/vnd.jupyter.widget-view+json": {
       "model_id": "72a5768144884102b65f54c6393910de",
       "version_major": 2,
       "version_minor": 0
      },
      "text/plain": [
       "r = 0.2992306351661682:   0%|          | 0/10 [00:00<?, ?it/s]"
      ]
     },
     "metadata": {},
     "output_type": "display_data"
    },
    {
     "data": {
      "application/vnd.jupyter.widget-view+json": {
       "model_id": "1a7e0f8fc1064dd9b6cfe2fef2673072",
       "version_major": 2,
       "version_minor": 0
      },
      "text/plain": [
       "r = 0.29785579442977905:   0%|          | 0/10 [00:00<?, ?it/s]"
      ]
     },
     "metadata": {},
     "output_type": "display_data"
    },
    {
     "data": {
      "application/vnd.jupyter.widget-view+json": {
       "model_id": "67d86c7e4b4348948d858aa0b6f5d7fd",
       "version_major": 2,
       "version_minor": 0
      },
      "text/plain": [
       "r = 0.2964872717857361:   0%|          | 0/10 [00:00<?, ?it/s]"
      ]
     },
     "metadata": {},
     "output_type": "display_data"
    },
    {
     "data": {
      "application/vnd.jupyter.widget-view+json": {
       "model_id": "cf98d34844fd45deb7c24693f1a48389",
       "version_major": 2,
       "version_minor": 0
      },
      "text/plain": [
       "r = 0.2951250672340393:   0%|          | 0/10 [00:00<?, ?it/s]"
      ]
     },
     "metadata": {},
     "output_type": "display_data"
    },
    {
     "data": {
      "application/vnd.jupyter.widget-view+json": {
       "model_id": "e419df45a71249bab9df19a8cbdc5ec8",
       "version_major": 2,
       "version_minor": 0
      },
      "text/plain": [
       "r = 0.29376906156539917:   0%|          | 0/10 [00:00<?, ?it/s]"
      ]
     },
     "metadata": {},
     "output_type": "display_data"
    },
    {
     "data": {
      "application/vnd.jupyter.widget-view+json": {
       "model_id": "bca67c14129c434db08c3f003d5ddf82",
       "version_major": 2,
       "version_minor": 0
      },
      "text/plain": [
       "r = 0.29241934418678284:   0%|          | 0/10 [00:00<?, ?it/s]"
      ]
     },
     "metadata": {},
     "output_type": "display_data"
    },
    {
     "data": {
      "application/vnd.jupyter.widget-view+json": {
       "model_id": "19e9230112674941a2c3a3880a255b68",
       "version_major": 2,
       "version_minor": 0
      },
      "text/plain": [
       "r = 0.29107579588890076:   0%|          | 0/10 [00:00<?, ?it/s]"
      ]
     },
     "metadata": {},
     "output_type": "display_data"
    },
    {
     "data": {
      "application/vnd.jupyter.widget-view+json": {
       "model_id": "c474b262ef754bb4a404e26c80f891a8",
       "version_major": 2,
       "version_minor": 0
      },
      "text/plain": [
       "r = 0.2897384464740753:   0%|          | 0/10 [00:00<?, ?it/s]"
      ]
     },
     "metadata": {},
     "output_type": "display_data"
    },
    {
     "data": {
      "application/vnd.jupyter.widget-view+json": {
       "model_id": "aa09d30affa64a09b2e7f8da96f53434",
       "version_major": 2,
       "version_minor": 0
      },
      "text/plain": [
       "r = 0.28840720653533936:   0%|          | 0/10 [00:00<?, ?it/s]"
      ]
     },
     "metadata": {},
     "output_type": "display_data"
    },
    {
     "data": {
      "application/vnd.jupyter.widget-view+json": {
       "model_id": "e5409499c2eb4c199ae8f7e76ca17e97",
       "version_major": 2,
       "version_minor": 0
      },
      "text/plain": [
       "r = 0.28708210587501526:   0%|          | 0/10 [00:00<?, ?it/s]"
      ]
     },
     "metadata": {},
     "output_type": "display_data"
    },
    {
     "data": {
      "application/vnd.jupyter.widget-view+json": {
       "model_id": "e495e70eb8e545c68274fbb1baeb2439",
       "version_major": 2,
       "version_minor": 0
      },
      "text/plain": [
       "r = 0.28576308488845825:   0%|          | 0/10 [00:00<?, ?it/s]"
      ]
     },
     "metadata": {},
     "output_type": "display_data"
    },
    {
     "data": {
      "application/vnd.jupyter.widget-view+json": {
       "model_id": "186a2543a98f4104a826905b0ebb1ca5",
       "version_major": 2,
       "version_minor": 0
      },
      "text/plain": [
       "r = 0.28445011377334595:   0%|          | 0/10 [00:00<?, ?it/s]"
      ]
     },
     "metadata": {},
     "output_type": "display_data"
    },
    {
     "data": {
      "application/vnd.jupyter.widget-view+json": {
       "model_id": "17863b7923f54ad1ae5d5b4f7e38ac55",
       "version_major": 2,
       "version_minor": 0
      },
      "text/plain": [
       "r = 0.28314319252967834:   0%|          | 0/10 [00:00<?, ?it/s]"
      ]
     },
     "metadata": {},
     "output_type": "display_data"
    },
    {
     "data": {
      "application/vnd.jupyter.widget-view+json": {
       "model_id": "e5b4178c649c4aab9615558219b378ac",
       "version_major": 2,
       "version_minor": 0
      },
      "text/plain": [
       "r = 0.28184229135513306:   0%|          | 0/10 [00:00<?, ?it/s]"
      ]
     },
     "metadata": {},
     "output_type": "display_data"
    },
    {
     "data": {
      "application/vnd.jupyter.widget-view+json": {
       "model_id": "3a177e6cc2b54e74a4c29baaef3543d0",
       "version_major": 2,
       "version_minor": 0
      },
      "text/plain": [
       "r = 0.2805473506450653:   0%|          | 0/10 [00:00<?, ?it/s]"
      ]
     },
     "metadata": {},
     "output_type": "display_data"
    },
    {
     "data": {
      "application/vnd.jupyter.widget-view+json": {
       "model_id": "bee0fc0b0adb4b21b7e6fd7e9a3312ec",
       "version_major": 2,
       "version_minor": 0
      },
      "text/plain": [
       "r = 0.2792583703994751:   0%|          | 0/10 [00:00<?, ?it/s]"
      ]
     },
     "metadata": {},
     "output_type": "display_data"
    },
    {
     "data": {
      "application/vnd.jupyter.widget-view+json": {
       "model_id": "8bcef14fd6c64811bf95361c0ac0ff29",
       "version_major": 2,
       "version_minor": 0
      },
      "text/plain": [
       "r = 0.27797526121139526:   0%|          | 0/10 [00:00<?, ?it/s]"
      ]
     },
     "metadata": {},
     "output_type": "display_data"
    },
    {
     "data": {
      "application/vnd.jupyter.widget-view+json": {
       "model_id": "c7f90d9a92214b11a553fd66c151b397",
       "version_major": 2,
       "version_minor": 0
      },
      "text/plain": [
       "r = 0.27669811248779297:   0%|          | 0/10 [00:00<?, ?it/s]"
      ]
     },
     "metadata": {},
     "output_type": "display_data"
    },
    {
     "data": {
      "application/vnd.jupyter.widget-view+json": {
       "model_id": "f6f8120be17f4030a21e50134cde60ac",
       "version_major": 2,
       "version_minor": 0
      },
      "text/plain": [
       "r = 0.27542680501937866:   0%|          | 0/10 [00:00<?, ?it/s]"
      ]
     },
     "metadata": {},
     "output_type": "display_data"
    },
    {
     "data": {
      "application/vnd.jupyter.widget-view+json": {
       "model_id": "d1a97c96b6684e0aa3d14d1f473b92fa",
       "version_major": 2,
       "version_minor": 0
      },
      "text/plain": [
       "r = 0.27416133880615234:   0%|          | 0/10 [00:00<?, ?it/s]"
      ]
     },
     "metadata": {},
     "output_type": "display_data"
    },
    {
     "data": {
      "application/vnd.jupyter.widget-view+json": {
       "model_id": "ae28325be98748dea9f7d67484067ff0",
       "version_major": 2,
       "version_minor": 0
      },
      "text/plain": [
       "r = 0.2729016840457916:   0%|          | 0/10 [00:00<?, ?it/s]"
      ]
     },
     "metadata": {},
     "output_type": "display_data"
    },
    {
     "data": {
      "application/vnd.jupyter.widget-view+json": {
       "model_id": "57fa0463f78b40b9bf51023725e42261",
       "version_major": 2,
       "version_minor": 0
      },
      "text/plain": [
       "r = 0.2716478109359741:   0%|          | 0/10 [00:00<?, ?it/s]"
      ]
     },
     "metadata": {},
     "output_type": "display_data"
    },
    {
     "data": {
      "application/vnd.jupyter.widget-view+json": {
       "model_id": "935c450bb68446d7834eca47140815c9",
       "version_major": 2,
       "version_minor": 0
      },
      "text/plain": [
       "r = 0.27039971947669983:   0%|          | 0/10 [00:00<?, ?it/s]"
      ]
     },
     "metadata": {},
     "output_type": "display_data"
    },
    {
     "data": {
      "application/vnd.jupyter.widget-view+json": {
       "model_id": "cec58a11c734477381cd80e0694de955",
       "version_major": 2,
       "version_minor": 0
      },
      "text/plain": [
       "r = 0.269157350063324:   0%|          | 0/10 [00:00<?, ?it/s]"
      ]
     },
     "metadata": {},
     "output_type": "display_data"
    },
    {
     "data": {
      "application/vnd.jupyter.widget-view+json": {
       "model_id": "fd403b2c031e45f4b1ee04fb44340d8b",
       "version_major": 2,
       "version_minor": 0
      },
      "text/plain": [
       "r = 0.26792067289352417:   0%|          | 0/10 [00:00<?, ?it/s]"
      ]
     },
     "metadata": {},
     "output_type": "display_data"
    },
    {
     "data": {
      "application/vnd.jupyter.widget-view+json": {
       "model_id": "58db6975cf094fca87a9f39ab17a5e80",
       "version_major": 2,
       "version_minor": 0
      },
      "text/plain": [
       "r = 0.2666897177696228:   0%|          | 0/10 [00:00<?, ?it/s]"
      ]
     },
     "metadata": {},
     "output_type": "display_data"
    },
    {
     "data": {
      "application/vnd.jupyter.widget-view+json": {
       "model_id": "3eb56b18be764248816d41dc6556e75a",
       "version_major": 2,
       "version_minor": 0
      },
      "text/plain": [
       "r = 0.2654643952846527:   0%|          | 0/10 [00:00<?, ?it/s]"
      ]
     },
     "metadata": {},
     "output_type": "display_data"
    },
    {
     "data": {
      "application/vnd.jupyter.widget-view+json": {
       "model_id": "3fb89106773b405280d0a169f99e155a",
       "version_major": 2,
       "version_minor": 0
      },
      "text/plain": [
       "r = 0.2642447054386139:   0%|          | 0/10 [00:00<?, ?it/s]"
      ]
     },
     "metadata": {},
     "output_type": "display_data"
    },
    {
     "data": {
      "application/vnd.jupyter.widget-view+json": {
       "model_id": "0d030e20e76a41f8a3cbc93f4e088829",
       "version_major": 2,
       "version_minor": 0
      },
      "text/plain": [
       "r = 0.2630305886268616:   0%|          | 0/10 [00:00<?, ?it/s]"
      ]
     },
     "metadata": {},
     "output_type": "display_data"
    },
    {
     "data": {
      "application/vnd.jupyter.widget-view+json": {
       "model_id": "459f16925a5743e6a68b1e71e330fb83",
       "version_major": 2,
       "version_minor": 0
      },
      "text/plain": [
       "r = 0.26182207465171814:   0%|          | 0/10 [00:00<?, ?it/s]"
      ]
     },
     "metadata": {},
     "output_type": "display_data"
    },
    {
     "data": {
      "application/vnd.jupyter.widget-view+json": {
       "model_id": "01c6784c54274b83bd81475c6797860c",
       "version_major": 2,
       "version_minor": 0
      },
      "text/plain": [
       "r = 0.2606191337108612:   0%|          | 0/10 [00:00<?, ?it/s]"
      ]
     },
     "metadata": {},
     "output_type": "display_data"
    },
    {
     "data": {
      "application/vnd.jupyter.widget-view+json": {
       "model_id": "c5249ae884ad4b949cc8d9d269b03c9b",
       "version_major": 2,
       "version_minor": 0
      },
      "text/plain": [
       "r = 0.259421706199646:   0%|          | 0/10 [00:00<?, ?it/s]"
      ]
     },
     "metadata": {},
     "output_type": "display_data"
    },
    {
     "data": {
      "application/vnd.jupyter.widget-view+json": {
       "model_id": "f2f80d59ae824977bb8e1549a65b55cc",
       "version_major": 2,
       "version_minor": 0
      },
      "text/plain": [
       "r = 0.2582297623157501:   0%|          | 0/10 [00:00<?, ?it/s]"
      ]
     },
     "metadata": {},
     "output_type": "display_data"
    },
    {
     "data": {
      "application/vnd.jupyter.widget-view+json": {
       "model_id": "c66553ab462b4e68b81c36cc04561bc5",
       "version_major": 2,
       "version_minor": 0
      },
      "text/plain": [
       "r = 0.2570433020591736:   0%|          | 0/10 [00:00<?, ?it/s]"
      ]
     },
     "metadata": {},
     "output_type": "display_data"
    },
    {
     "data": {
      "application/vnd.jupyter.widget-view+json": {
       "model_id": "48055a1ea18840fb92b3e0fb863e9e3f",
       "version_major": 2,
       "version_minor": 0
      },
      "text/plain": [
       "r = 0.255862295627594:   0%|          | 0/10 [00:00<?, ?it/s]"
      ]
     },
     "metadata": {},
     "output_type": "display_data"
    },
    {
     "data": {
      "application/vnd.jupyter.widget-view+json": {
       "model_id": "8bf52daa21fd4766a8d15772b04285d2",
       "version_major": 2,
       "version_minor": 0
      },
      "text/plain": [
       "r = 0.25468674302101135:   0%|          | 0/10 [00:00<?, ?it/s]"
      ]
     },
     "metadata": {},
     "output_type": "display_data"
    },
    {
     "data": {
      "application/vnd.jupyter.widget-view+json": {
       "model_id": "6f514147ce7f43c68c8c562f39cac1ae",
       "version_major": 2,
       "version_minor": 0
      },
      "text/plain": [
       "r = 0.2535165548324585:   0%|          | 0/10 [00:00<?, ?it/s]"
      ]
     },
     "metadata": {},
     "output_type": "display_data"
    },
    {
     "data": {
      "application/vnd.jupyter.widget-view+json": {
       "model_id": "2241a08697c440059280e3083ba43f98",
       "version_major": 2,
       "version_minor": 0
      },
      "text/plain": [
       "r = 0.2523517608642578:   0%|          | 0/10 [00:00<?, ?it/s]"
      ]
     },
     "metadata": {},
     "output_type": "display_data"
    },
    {
     "data": {
      "application/vnd.jupyter.widget-view+json": {
       "model_id": "e568bb61edb440559d897e7c21efca48",
       "version_major": 2,
       "version_minor": 0
      },
      "text/plain": [
       "r = 0.2511923313140869:   0%|          | 0/10 [00:00<?, ?it/s]"
      ]
     },
     "metadata": {},
     "output_type": "display_data"
    },
    {
     "data": {
      "application/vnd.jupyter.widget-view+json": {
       "model_id": "64231f018e6d434eba9579981771110c",
       "version_major": 2,
       "version_minor": 0
      },
      "text/plain": [
       "r = 0.250038206577301:   0%|          | 0/10 [00:00<?, ?it/s]"
      ]
     },
     "metadata": {},
     "output_type": "display_data"
    },
    {
     "data": {
      "application/vnd.jupyter.widget-view+json": {
       "model_id": "ed584d4b196b412db08a61921fa8396d",
       "version_major": 2,
       "version_minor": 0
      },
      "text/plain": [
       "r = 0.24888938665390015:   0%|          | 0/10 [00:00<?, ?it/s]"
      ]
     },
     "metadata": {},
     "output_type": "display_data"
    },
    {
     "data": {
      "application/vnd.jupyter.widget-view+json": {
       "model_id": "79bb452c24a54020a1d39b5682b17ba8",
       "version_major": 2,
       "version_minor": 0
      },
      "text/plain": [
       "r = 0.2477458417415619:   0%|          | 0/10 [00:00<?, ?it/s]"
      ]
     },
     "metadata": {},
     "output_type": "display_data"
    },
    {
     "data": {
      "application/vnd.jupyter.widget-view+json": {
       "model_id": "35c873971ce44119800be91cc3ad29fd",
       "version_major": 2,
       "version_minor": 0
      },
      "text/plain": [
       "r = 0.24660757184028625:   0%|          | 0/10 [00:00<?, ?it/s]"
      ]
     },
     "metadata": {},
     "output_type": "display_data"
    },
    {
     "data": {
      "application/vnd.jupyter.widget-view+json": {
       "model_id": "1760753244f143129e343316db587909",
       "version_major": 2,
       "version_minor": 0
      },
      "text/plain": [
       "r = 0.24547450244426727:   0%|          | 0/10 [00:00<?, ?it/s]"
      ]
     },
     "metadata": {},
     "output_type": "display_data"
    },
    {
     "data": {
      "application/vnd.jupyter.widget-view+json": {
       "model_id": "77235d79b1824d328f4c888de55ddf6a",
       "version_major": 2,
       "version_minor": 0
      },
      "text/plain": [
       "r = 0.24434664845466614:   0%|          | 0/10 [00:00<?, ?it/s]"
      ]
     },
     "metadata": {},
     "output_type": "display_data"
    },
    {
     "data": {
      "application/vnd.jupyter.widget-view+json": {
       "model_id": "5d395bbd4fa64e578ef57460a5042148",
       "version_major": 2,
       "version_minor": 0
      },
      "text/plain": [
       "r = 0.24322399497032166:   0%|          | 0/10 [00:00<?, ?it/s]"
      ]
     },
     "metadata": {},
     "output_type": "display_data"
    },
    {
     "data": {
      "application/vnd.jupyter.widget-view+json": {
       "model_id": "8258595902c34a76b08a1290c86330bb",
       "version_major": 2,
       "version_minor": 0
      },
      "text/plain": [
       "r = 0.24210648238658905:   0%|          | 0/10 [00:00<?, ?it/s]"
      ]
     },
     "metadata": {},
     "output_type": "display_data"
    },
    {
     "data": {
      "application/vnd.jupyter.widget-view+json": {
       "model_id": "7e5898a107be44c8b4d1ec130df73e1e",
       "version_major": 2,
       "version_minor": 0
      },
      "text/plain": [
       "r = 0.24099411070346832:   0%|          | 0/10 [00:00<?, ?it/s]"
      ]
     },
     "metadata": {},
     "output_type": "display_data"
    },
    {
     "data": {
      "application/vnd.jupyter.widget-view+json": {
       "model_id": "3f9a0b08c0654ace8cb45d57d6a5fd3f",
       "version_major": 2,
       "version_minor": 0
      },
      "text/plain": [
       "r = 0.23988685011863708:   0%|          | 0/10 [00:00<?, ?it/s]"
      ]
     },
     "metadata": {},
     "output_type": "display_data"
    },
    {
     "data": {
      "application/vnd.jupyter.widget-view+json": {
       "model_id": "eea75b90e04a4f06bddfb0d81bdb7d5d",
       "version_major": 2,
       "version_minor": 0
      },
      "text/plain": [
       "r = 0.23878467082977295:   0%|          | 0/10 [00:00<?, ?it/s]"
      ]
     },
     "metadata": {},
     "output_type": "display_data"
    },
    {
     "data": {
      "application/vnd.jupyter.widget-view+json": {
       "model_id": "4ac12a548a4b4832b07bb0dd0688a520",
       "version_major": 2,
       "version_minor": 0
      },
      "text/plain": [
       "r = 0.23768755793571472:   0%|          | 0/10 [00:00<?, ?it/s]"
      ]
     },
     "metadata": {},
     "output_type": "display_data"
    },
    {
     "data": {
      "application/vnd.jupyter.widget-view+json": {
       "model_id": "63a127442193407fbbb8c5cc12f1ab1f",
       "version_major": 2,
       "version_minor": 0
      },
      "text/plain": [
       "r = 0.2365954965353012:   0%|          | 0/10 [00:00<?, ?it/s]"
      ]
     },
     "metadata": {},
     "output_type": "display_data"
    },
    {
     "data": {
      "application/vnd.jupyter.widget-view+json": {
       "model_id": "3d612e59b2554a1e87ef3af9bf6f80bd",
       "version_major": 2,
       "version_minor": 0
      },
      "text/plain": [
       "r = 0.23550844192504883:   0%|          | 0/10 [00:00<?, ?it/s]"
      ]
     },
     "metadata": {},
     "output_type": "display_data"
    },
    {
     "data": {
      "application/vnd.jupyter.widget-view+json": {
       "model_id": "65a54f65521140b18083a8133eb49398",
       "version_major": 2,
       "version_minor": 0
      },
      "text/plain": [
       "r = 0.2344263792037964:   0%|          | 0/10 [00:00<?, ?it/s]"
      ]
     },
     "metadata": {},
     "output_type": "display_data"
    },
    {
     "data": {
      "application/vnd.jupyter.widget-view+json": {
       "model_id": "fb8cef07aa5c46469a4c3aa65bee8156",
       "version_major": 2,
       "version_minor": 0
      },
      "text/plain": [
       "r = 0.2333492934703827:   0%|          | 0/10 [00:00<?, ?it/s]"
      ]
     },
     "metadata": {},
     "output_type": "display_data"
    },
    {
     "data": {
      "application/vnd.jupyter.widget-view+json": {
       "model_id": "82410861dcef4d4cb8c7044b1aef37ec",
       "version_major": 2,
       "version_minor": 0
      },
      "text/plain": [
       "r = 0.23227715492248535:   0%|          | 0/10 [00:00<?, ?it/s]"
      ]
     },
     "metadata": {},
     "output_type": "display_data"
    },
    {
     "data": {
      "application/vnd.jupyter.widget-view+json": {
       "model_id": "ca3fe01fe5e1438d839f6afa5fe2b3ce",
       "version_major": 2,
       "version_minor": 0
      },
      "text/plain": [
       "r = 0.23120993375778198:   0%|          | 0/10 [00:00<?, ?it/s]"
      ]
     },
     "metadata": {},
     "output_type": "display_data"
    },
    {
     "data": {
      "application/vnd.jupyter.widget-view+json": {
       "model_id": "849cb10f634c46fc99e47aaa13bbb974",
       "version_major": 2,
       "version_minor": 0
      },
      "text/plain": [
       "r = 0.23014762997627258:   0%|          | 0/10 [00:00<?, ?it/s]"
      ]
     },
     "metadata": {},
     "output_type": "display_data"
    },
    {
     "data": {
      "application/vnd.jupyter.widget-view+json": {
       "model_id": "7eef0a87ab3a43439530756294974ed2",
       "version_major": 2,
       "version_minor": 0
      },
      "text/plain": [
       "r = 0.22909021377563477:   0%|          | 0/10 [00:00<?, ?it/s]"
      ]
     },
     "metadata": {},
     "output_type": "display_data"
    },
    {
     "data": {
      "application/vnd.jupyter.widget-view+json": {
       "model_id": "2ca1737a973f47f8b1060a7fee286610",
       "version_major": 2,
       "version_minor": 0
      },
      "text/plain": [
       "r = 0.22803762555122375:   0%|          | 0/10 [00:00<?, ?it/s]"
      ]
     },
     "metadata": {},
     "output_type": "display_data"
    },
    {
     "data": {
      "application/vnd.jupyter.widget-view+json": {
       "model_id": "56f881ae5e9945ebba6202be2d4bd401",
       "version_major": 2,
       "version_minor": 0
      },
      "text/plain": [
       "r = 0.22698989510536194:   0%|          | 0/10 [00:00<?, ?it/s]"
      ]
     },
     "metadata": {},
     "output_type": "display_data"
    },
    {
     "data": {
      "application/vnd.jupyter.widget-view+json": {
       "model_id": "922be3c4a42240eda1ecf881b018c5b7",
       "version_major": 2,
       "version_minor": 0
      },
      "text/plain": [
       "r = 0.22594697773456573:   0%|          | 0/10 [00:00<?, ?it/s]"
      ]
     },
     "metadata": {},
     "output_type": "display_data"
    },
    {
     "data": {
      "application/vnd.jupyter.widget-view+json": {
       "model_id": "6a9aced5add5421aae44460fec2164c9",
       "version_major": 2,
       "version_minor": 0
      },
      "text/plain": [
       "r = 0.22490885853767395:   0%|          | 0/10 [00:00<?, ?it/s]"
      ]
     },
     "metadata": {},
     "output_type": "display_data"
    },
    {
     "data": {
      "application/vnd.jupyter.widget-view+json": {
       "model_id": "3baa1967177e4f35baa242cc50b7a9db",
       "version_major": 2,
       "version_minor": 0
      },
      "text/plain": [
       "r = 0.223875492811203:   0%|          | 0/10 [00:00<?, ?it/s]"
      ]
     },
     "metadata": {},
     "output_type": "display_data"
    },
    {
     "data": {
      "application/vnd.jupyter.widget-view+json": {
       "model_id": "d3cb1a83e4224942a7f8db55bfd7c909",
       "version_major": 2,
       "version_minor": 0
      },
      "text/plain": [
       "r = 0.2228468805551529:   0%|          | 0/10 [00:00<?, ?it/s]"
      ]
     },
     "metadata": {},
     "output_type": "display_data"
    },
    {
     "data": {
      "application/vnd.jupyter.widget-view+json": {
       "model_id": "a922ca3982744b63b6b12ba365f31765",
       "version_major": 2,
       "version_minor": 0
      },
      "text/plain": [
       "r = 0.22182300686836243:   0%|          | 0/10 [00:00<?, ?it/s]"
      ]
     },
     "metadata": {},
     "output_type": "display_data"
    },
    {
     "data": {
      "application/vnd.jupyter.widget-view+json": {
       "model_id": "b1558213e22c4cdfa435a185633f9c4b",
       "version_major": 2,
       "version_minor": 0
      },
      "text/plain": [
       "r = 0.22080382704734802:   0%|          | 0/10 [00:00<?, ?it/s]"
      ]
     },
     "metadata": {},
     "output_type": "display_data"
    },
    {
     "data": {
      "application/vnd.jupyter.widget-view+json": {
       "model_id": "62a09a1e093c4f088441b389ffcb8209",
       "version_major": 2,
       "version_minor": 0
      },
      "text/plain": [
       "r = 0.2197893112897873:   0%|          | 0/10 [00:00<?, ?it/s]"
      ]
     },
     "metadata": {},
     "output_type": "display_data"
    },
    {
     "data": {
      "application/vnd.jupyter.widget-view+json": {
       "model_id": "80767b59c93d4e61bbd41407a030daca",
       "version_major": 2,
       "version_minor": 0
      },
      "text/plain": [
       "r = 0.21877947449684143:   0%|          | 0/10 [00:00<?, ?it/s]"
      ]
     },
     "metadata": {},
     "output_type": "display_data"
    },
    {
     "data": {
      "application/vnd.jupyter.widget-view+json": {
       "model_id": "ebd494cf82314a32b49c3a3c6876c468",
       "version_major": 2,
       "version_minor": 0
      },
      "text/plain": [
       "r = 0.21777428686618805:   0%|          | 0/10 [00:00<?, ?it/s]"
      ]
     },
     "metadata": {},
     "output_type": "display_data"
    },
    {
     "data": {
      "application/vnd.jupyter.widget-view+json": {
       "model_id": "1158c6cff82f47cea52f16dc40016bce",
       "version_major": 2,
       "version_minor": 0
      },
      "text/plain": [
       "r = 0.21677371859550476:   0%|          | 0/10 [00:00<?, ?it/s]"
      ]
     },
     "metadata": {},
     "output_type": "display_data"
    },
    {
     "data": {
      "application/vnd.jupyter.widget-view+json": {
       "model_id": "cc8c755e07db45109b83f380ddff1451",
       "version_major": 2,
       "version_minor": 0
      },
      "text/plain": [
       "r = 0.21577773988246918:   0%|          | 0/10 [00:00<?, ?it/s]"
      ]
     },
     "metadata": {},
     "output_type": "display_data"
    },
    {
     "data": {
      "application/vnd.jupyter.widget-view+json": {
       "model_id": "e2c3de5763a34e51be0de4f19499e9a0",
       "version_major": 2,
       "version_minor": 0
      },
      "text/plain": [
       "r = 0.2147863209247589:   0%|          | 0/10 [00:00<?, ?it/s]"
      ]
     },
     "metadata": {},
     "output_type": "display_data"
    },
    {
     "data": {
      "application/vnd.jupyter.widget-view+json": {
       "model_id": "cafa4b580047479cb4e90564748a7cdb",
       "version_major": 2,
       "version_minor": 0
      },
      "text/plain": [
       "r = 0.21379947662353516:   0%|          | 0/10 [00:00<?, ?it/s]"
      ]
     },
     "metadata": {},
     "output_type": "display_data"
    },
    {
     "data": {
      "application/vnd.jupyter.widget-view+json": {
       "model_id": "82fddcde3691466995aa43dd131acd74",
       "version_major": 2,
       "version_minor": 0
      },
      "text/plain": [
       "r = 0.21281716227531433:   0%|          | 0/10 [00:00<?, ?it/s]"
      ]
     },
     "metadata": {},
     "output_type": "display_data"
    },
    {
     "data": {
      "application/vnd.jupyter.widget-view+json": {
       "model_id": "cab2cb1782fe42cb92f3103117c41979",
       "version_major": 2,
       "version_minor": 0
      },
      "text/plain": [
       "r = 0.21183936297893524:   0%|          | 0/10 [00:00<?, ?it/s]"
      ]
     },
     "metadata": {},
     "output_type": "display_data"
    },
    {
     "data": {
      "application/vnd.jupyter.widget-view+json": {
       "model_id": "4c956b489f624a458f41af900246c2aa",
       "version_major": 2,
       "version_minor": 0
      },
      "text/plain": [
       "r = 0.2108660489320755:   0%|          | 0/10 [00:00<?, ?it/s]"
      ]
     },
     "metadata": {},
     "output_type": "display_data"
    },
    {
     "data": {
      "application/vnd.jupyter.widget-view+json": {
       "model_id": "670f806721bd4ec78c64f57b311f91ab",
       "version_major": 2,
       "version_minor": 0
      },
      "text/plain": [
       "r = 0.2098972201347351:   0%|          | 0/10 [00:00<?, ?it/s]"
      ]
     },
     "metadata": {},
     "output_type": "display_data"
    },
    {
     "data": {
      "application/vnd.jupyter.widget-view+json": {
       "model_id": "51b5eaef19394c199bba0a4b57be5068",
       "version_major": 2,
       "version_minor": 0
      },
      "text/plain": [
       "r = 0.20893283188343048:   0%|          | 0/10 [00:00<?, ?it/s]"
      ]
     },
     "metadata": {},
     "output_type": "display_data"
    },
    {
     "data": {
      "application/vnd.jupyter.widget-view+json": {
       "model_id": "3a8cc5f611fc42fcae99623eb2462057",
       "version_major": 2,
       "version_minor": 0
      },
      "text/plain": [
       "r = 0.20797285437583923:   0%|          | 0/10 [00:00<?, ?it/s]"
      ]
     },
     "metadata": {},
     "output_type": "display_data"
    },
    {
     "data": {
      "application/vnd.jupyter.widget-view+json": {
       "model_id": "5eea4467d0d243339053a685a6a9304b",
       "version_major": 2,
       "version_minor": 0
      },
      "text/plain": [
       "r = 0.20701733231544495:   0%|          | 0/10 [00:00<?, ?it/s]"
      ]
     },
     "metadata": {},
     "output_type": "display_data"
    },
    {
     "data": {
      "application/vnd.jupyter.widget-view+json": {
       "model_id": "5408c2d21d9b4053bf43ef00e5e62740",
       "version_major": 2,
       "version_minor": 0
      },
      "text/plain": [
       "r = 0.20606616139411926:   0%|          | 0/10 [00:00<?, ?it/s]"
      ]
     },
     "metadata": {},
     "output_type": "display_data"
    },
    {
     "data": {
      "application/vnd.jupyter.widget-view+json": {
       "model_id": "30a4dd8520aa49a5a546e01738638b91",
       "version_major": 2,
       "version_minor": 0
      },
      "text/plain": [
       "r = 0.20511938631534576:   0%|          | 0/10 [00:00<?, ?it/s]"
      ]
     },
     "metadata": {},
     "output_type": "display_data"
    },
    {
     "data": {
      "application/vnd.jupyter.widget-view+json": {
       "model_id": "715bf8d3472b4d429280381749d17487",
       "version_major": 2,
       "version_minor": 0
      },
      "text/plain": [
       "r = 0.20417696237564087:   0%|          | 0/10 [00:00<?, ?it/s]"
      ]
     },
     "metadata": {},
     "output_type": "display_data"
    },
    {
     "data": {
      "application/vnd.jupyter.widget-view+json": {
       "model_id": "3998b95d0bcd4d0188f29332b4a17465",
       "version_major": 2,
       "version_minor": 0
      },
      "text/plain": [
       "r = 0.2032388597726822:   0%|          | 0/10 [00:00<?, ?it/s]"
      ]
     },
     "metadata": {},
     "output_type": "display_data"
    },
    {
     "data": {
      "application/vnd.jupyter.widget-view+json": {
       "model_id": "04e36bfd55cb48f7b1224e5d7ba8794f",
       "version_major": 2,
       "version_minor": 0
      },
      "text/plain": [
       "r = 0.20230504870414734:   0%|          | 0/10 [00:00<?, ?it/s]"
      ]
     },
     "metadata": {},
     "output_type": "display_data"
    },
    {
     "data": {
      "application/vnd.jupyter.widget-view+json": {
       "model_id": "f020a84935144a4a937e670e0e5155d3",
       "version_major": 2,
       "version_minor": 0
      },
      "text/plain": [
       "r = 0.2013755589723587:   0%|          | 0/10 [00:00<?, ?it/s]"
      ]
     },
     "metadata": {},
     "output_type": "display_data"
    },
    {
     "data": {
      "application/vnd.jupyter.widget-view+json": {
       "model_id": "1d06a250e9e44564a00757296fe8bdc0",
       "version_major": 2,
       "version_minor": 0
      },
      "text/plain": [
       "r = 0.20045030117034912:   0%|          | 0/10 [00:00<?, ?it/s]"
      ]
     },
     "metadata": {},
     "output_type": "display_data"
    },
    {
     "data": {
      "application/vnd.jupyter.widget-view+json": {
       "model_id": "852514909cdf44b0beffd222fe4b67a9",
       "version_major": 2,
       "version_minor": 0
      },
      "text/plain": [
       "r = 0.19952934980392456:   0%|          | 0/10 [00:00<?, ?it/s]"
      ]
     },
     "metadata": {},
     "output_type": "display_data"
    },
    {
     "data": {
      "application/vnd.jupyter.widget-view+json": {
       "model_id": "fcef38b284fe4e0ca95abae0da59d499",
       "version_major": 2,
       "version_minor": 0
      },
      "text/plain": [
       "r = 0.19861258566379547:   0%|          | 0/10 [00:00<?, ?it/s]"
      ]
     },
     "metadata": {},
     "output_type": "display_data"
    },
    {
     "data": {
      "application/vnd.jupyter.widget-view+json": {
       "model_id": "3eec77f1c05f45139b92d3d3c08f805e",
       "version_major": 2,
       "version_minor": 0
      },
      "text/plain": [
       "r = 0.19770003855228424:   0%|          | 0/10 [00:00<?, ?it/s]"
      ]
     },
     "metadata": {},
     "output_type": "display_data"
    },
    {
     "data": {
      "application/vnd.jupyter.widget-view+json": {
       "model_id": "7acc28c29f3d4895b4bb7e9e88426845",
       "version_major": 2,
       "version_minor": 0
      },
      "text/plain": [
       "r = 0.19679170846939087:   0%|          | 0/10 [00:00<?, ?it/s]"
      ]
     },
     "metadata": {},
     "output_type": "display_data"
    },
    {
     "data": {
      "application/vnd.jupyter.widget-view+json": {
       "model_id": "3cbbd3f22b6143d1b3b64386009f42e5",
       "version_major": 2,
       "version_minor": 0
      },
      "text/plain": [
       "r = 0.19588753581047058:   0%|          | 0/10 [00:00<?, ?it/s]"
      ]
     },
     "metadata": {},
     "output_type": "display_data"
    },
    {
     "data": {
      "application/vnd.jupyter.widget-view+json": {
       "model_id": "4c3b36bf01b344e1b5a341255e187ea0",
       "version_major": 2,
       "version_minor": 0
      },
      "text/plain": [
       "r = 0.19498750567436218:   0%|          | 0/10 [00:00<?, ?it/s]"
      ]
     },
     "metadata": {},
     "output_type": "display_data"
    },
    {
     "data": {
      "application/vnd.jupyter.widget-view+json": {
       "model_id": "734eeb07d2824ee187bf206076dd00f3",
       "version_major": 2,
       "version_minor": 0
      },
      "text/plain": [
       "r = 0.19409163296222687:   0%|          | 0/10 [00:00<?, ?it/s]"
      ]
     },
     "metadata": {},
     "output_type": "display_data"
    },
    {
     "data": {
      "application/vnd.jupyter.widget-view+json": {
       "model_id": "5c701679ecb6421f95dc629406cfcf1a",
       "version_major": 2,
       "version_minor": 0
      },
      "text/plain": [
       "r = 0.19319987297058105:   0%|          | 0/10 [00:00<?, ?it/s]"
      ]
     },
     "metadata": {},
     "output_type": "display_data"
    },
    {
     "data": {
      "application/vnd.jupyter.widget-view+json": {
       "model_id": "02ec24869218441495195866b0e19e92",
       "version_major": 2,
       "version_minor": 0
      },
      "text/plain": [
       "r = 0.19231218099594116:   0%|          | 0/10 [00:00<?, ?it/s]"
      ]
     },
     "metadata": {},
     "output_type": "display_data"
    },
    {
     "data": {
      "application/vnd.jupyter.widget-view+json": {
       "model_id": "9ae14ad4aaed476cb891a0a32c68390c",
       "version_major": 2,
       "version_minor": 0
      },
      "text/plain": [
       "r = 0.19142860174179077:   0%|          | 0/10 [00:00<?, ?it/s]"
      ]
     },
     "metadata": {},
     "output_type": "display_data"
    },
    {
     "data": {
      "application/vnd.jupyter.widget-view+json": {
       "model_id": "9fda92bc9f874d7fad2c801e29f50468",
       "version_major": 2,
       "version_minor": 0
      },
      "text/plain": [
       "r = 0.1905490607023239:   0%|          | 0/10 [00:00<?, ?it/s]"
      ]
     },
     "metadata": {},
     "output_type": "display_data"
    },
    {
     "data": {
      "application/vnd.jupyter.widget-view+json": {
       "model_id": "ccd7d120a3204056a99208d75eace4b5",
       "version_major": 2,
       "version_minor": 0
      },
      "text/plain": [
       "r = 0.18967358767986298:   0%|          | 0/10 [00:00<?, ?it/s]"
      ]
     },
     "metadata": {},
     "output_type": "display_data"
    },
    {
     "data": {
      "application/vnd.jupyter.widget-view+json": {
       "model_id": "4ca593646c5b47e79ff832a22b9f89f0",
       "version_major": 2,
       "version_minor": 0
      },
      "text/plain": [
       "r = 0.188802108168602:   0%|          | 0/10 [00:00<?, ?it/s]"
      ]
     },
     "metadata": {},
     "output_type": "display_data"
    },
    {
     "data": {
      "application/vnd.jupyter.widget-view+json": {
       "model_id": "6349c754f8ae48ceb45f769b4ca7fb6d",
       "version_major": 2,
       "version_minor": 0
      },
      "text/plain": [
       "r = 0.18793465197086334:   0%|          | 0/10 [00:00<?, ?it/s]"
      ]
     },
     "metadata": {},
     "output_type": "display_data"
    },
    {
     "data": {
      "application/vnd.jupyter.widget-view+json": {
       "model_id": "6bf6acd4283c4188ac5614190e12d869",
       "version_major": 2,
       "version_minor": 0
      },
      "text/plain": [
       "r = 0.18707117438316345:   0%|          | 0/10 [00:00<?, ?it/s]"
      ]
     },
     "metadata": {},
     "output_type": "display_data"
    },
    {
     "data": {
      "application/vnd.jupyter.widget-view+json": {
       "model_id": "148db695f96242b98cc16d75e4b16ecd",
       "version_major": 2,
       "version_minor": 0
      },
      "text/plain": [
       "r = 0.18621164560317993:   0%|          | 0/10 [00:00<?, ?it/s]"
      ]
     },
     "metadata": {},
     "output_type": "display_data"
    },
    {
     "data": {
      "application/vnd.jupyter.widget-view+json": {
       "model_id": "a3fcb8cc01ec4802998f5b08ecd9aecf",
       "version_major": 2,
       "version_minor": 0
      },
      "text/plain": [
       "r = 0.18535611033439636:   0%|          | 0/10 [00:00<?, ?it/s]"
      ]
     },
     "metadata": {},
     "output_type": "display_data"
    },
    {
     "data": {
      "application/vnd.jupyter.widget-view+json": {
       "model_id": "d523dd1269f04a789c6939fd500e07a3",
       "version_major": 2,
       "version_minor": 0
      },
      "text/plain": [
       "r = 0.1845044642686844:   0%|          | 0/10 [00:00<?, ?it/s]"
      ]
     },
     "metadata": {},
     "output_type": "display_data"
    },
    {
     "data": {
      "application/vnd.jupyter.widget-view+json": {
       "model_id": "305c048ad1a945a881d42e79ff7de967",
       "version_major": 2,
       "version_minor": 0
      },
      "text/plain": [
       "r = 0.1836567521095276:   0%|          | 0/10 [00:00<?, ?it/s]"
      ]
     },
     "metadata": {},
     "output_type": "display_data"
    },
    {
     "data": {
      "application/vnd.jupyter.widget-view+json": {
       "model_id": "fbb9447005ae4fba9967ea2345aa3ef3",
       "version_major": 2,
       "version_minor": 0
      },
      "text/plain": [
       "r = 0.18281292915344238:   0%|          | 0/10 [00:00<?, ?it/s]"
      ]
     },
     "metadata": {},
     "output_type": "display_data"
    },
    {
     "data": {
      "application/vnd.jupyter.widget-view+json": {
       "model_id": "0a358b4ec8764101bbe7d76e302ccf7c",
       "version_major": 2,
       "version_minor": 0
      },
      "text/plain": [
       "r = 0.18197298049926758:   0%|          | 0/10 [00:00<?, ?it/s]"
      ]
     },
     "metadata": {},
     "output_type": "display_data"
    },
    {
     "data": {
      "application/vnd.jupyter.widget-view+json": {
       "model_id": "bceea497548e4ea6a81fbb48c98ccd7b",
       "version_major": 2,
       "version_minor": 0
      },
      "text/plain": [
       "r = 0.18113689124584198:   0%|          | 0/10 [00:00<?, ?it/s]"
      ]
     },
     "metadata": {},
     "output_type": "display_data"
    },
    {
     "data": {
      "application/vnd.jupyter.widget-view+json": {
       "model_id": "0242690d2dc64abbaf9620729680bd44",
       "version_major": 2,
       "version_minor": 0
      },
      "text/plain": [
       "r = 0.1803046464920044:   0%|          | 0/10 [00:00<?, ?it/s]"
      ]
     },
     "metadata": {},
     "output_type": "display_data"
    },
    {
     "data": {
      "application/vnd.jupyter.widget-view+json": {
       "model_id": "3a90e7048a9a480e91b438152122eb0e",
       "version_major": 2,
       "version_minor": 0
      },
      "text/plain": [
       "r = 0.17947623133659363:   0%|          | 0/10 [00:00<?, ?it/s]"
      ]
     },
     "metadata": {},
     "output_type": "display_data"
    },
    {
     "data": {
      "application/vnd.jupyter.widget-view+json": {
       "model_id": "25770066ef0c484e9a2a65d2699794ad",
       "version_major": 2,
       "version_minor": 0
      },
      "text/plain": [
       "r = 0.1786516010761261:   0%|          | 0/10 [00:00<?, ?it/s]"
      ]
     },
     "metadata": {},
     "output_type": "display_data"
    },
    {
     "data": {
      "application/vnd.jupyter.widget-view+json": {
       "model_id": "aeb8c6b0a79d4e269f05332fb3c8dad3",
       "version_major": 2,
       "version_minor": 0
      },
      "text/plain": [
       "r = 0.1778307855129242:   0%|          | 0/10 [00:00<?, ?it/s]"
      ]
     },
     "metadata": {},
     "output_type": "display_data"
    },
    {
     "data": {
      "application/vnd.jupyter.widget-view+json": {
       "model_id": "defd1ee93622406ca6b3ec8ca7e677fd",
       "version_major": 2,
       "version_minor": 0
      },
      "text/plain": [
       "r = 0.17701372504234314:   0%|          | 0/10 [00:00<?, ?it/s]"
      ]
     },
     "metadata": {},
     "output_type": "display_data"
    },
    {
     "data": {
      "application/vnd.jupyter.widget-view+json": {
       "model_id": "377eb79e609e4edb9a3c9b9864d5300f",
       "version_major": 2,
       "version_minor": 0
      },
      "text/plain": [
       "r = 0.17620043456554413:   0%|          | 0/10 [00:00<?, ?it/s]"
      ]
     },
     "metadata": {},
     "output_type": "display_data"
    },
    {
     "data": {
      "application/vnd.jupyter.widget-view+json": {
       "model_id": "298b2ca8690641fc904ebc5ddc7dd9f1",
       "version_major": 2,
       "version_minor": 0
      },
      "text/plain": [
       "r = 0.17539085447788239:   0%|          | 0/10 [00:00<?, ?it/s]"
      ]
     },
     "metadata": {},
     "output_type": "display_data"
    },
    {
     "data": {
      "application/vnd.jupyter.widget-view+json": {
       "model_id": "c4631ca6d2974e639a25452ede4429ae",
       "version_major": 2,
       "version_minor": 0
      },
      "text/plain": [
       "r = 0.1745850145816803:   0%|          | 0/10 [00:00<?, ?it/s]"
      ]
     },
     "metadata": {},
     "output_type": "display_data"
    },
    {
     "data": {
      "application/vnd.jupyter.widget-view+json": {
       "model_id": "40bdc8a562ba4497b6228c79a308ecab",
       "version_major": 2,
       "version_minor": 0
      },
      "text/plain": [
       "r = 0.17378287017345428:   0%|          | 0/10 [00:00<?, ?it/s]"
      ]
     },
     "metadata": {},
     "output_type": "display_data"
    },
    {
     "data": {
      "application/vnd.jupyter.widget-view+json": {
       "model_id": "3c108b42aee24353aa37cf952d526b8c",
       "version_major": 2,
       "version_minor": 0
      },
      "text/plain": [
       "r = 0.17298443615436554:   0%|          | 0/10 [00:00<?, ?it/s]"
      ]
     },
     "metadata": {},
     "output_type": "display_data"
    },
    {
     "data": {
      "application/vnd.jupyter.widget-view+json": {
       "model_id": "b9d18f98b3e14f8aaf99ce9f44837596",
       "version_major": 2,
       "version_minor": 0
      },
      "text/plain": [
       "r = 0.1721896380186081:   0%|          | 0/10 [00:00<?, ?it/s]"
      ]
     },
     "metadata": {},
     "output_type": "display_data"
    },
    {
     "data": {
      "application/vnd.jupyter.widget-view+json": {
       "model_id": "544131b150a949d6803281606fa5a128",
       "version_major": 2,
       "version_minor": 0
      },
      "text/plain": [
       "r = 0.17139850556850433:   0%|          | 0/10 [00:00<?, ?it/s]"
      ]
     },
     "metadata": {},
     "output_type": "display_data"
    },
    {
     "data": {
      "application/vnd.jupyter.widget-view+json": {
       "model_id": "acd6eaa9146a4128b10ad4d04437ecea",
       "version_major": 2,
       "version_minor": 0
      },
      "text/plain": [
       "r = 0.17061099410057068:   0%|          | 0/10 [00:00<?, ?it/s]"
      ]
     },
     "metadata": {},
     "output_type": "display_data"
    },
    {
     "data": {
      "application/vnd.jupyter.widget-view+json": {
       "model_id": "80dd9f10056941acbab01d1e277854e1",
       "version_major": 2,
       "version_minor": 0
      },
      "text/plain": [
       "r = 0.16982711851596832:   0%|          | 0/10 [00:00<?, ?it/s]"
      ]
     },
     "metadata": {},
     "output_type": "display_data"
    },
    {
     "data": {
      "application/vnd.jupyter.widget-view+json": {
       "model_id": "09f2e9c95135461c95d3721788d3c13d",
       "version_major": 2,
       "version_minor": 0
      },
      "text/plain": [
       "r = 0.16904683411121368:   0%|          | 0/10 [00:00<?, ?it/s]"
      ]
     },
     "metadata": {},
     "output_type": "display_data"
    },
    {
     "data": {
      "application/vnd.jupyter.widget-view+json": {
       "model_id": "597184b850cd4a47a47182a715634f93",
       "version_major": 2,
       "version_minor": 0
      },
      "text/plain": [
       "r = 0.16827014088630676:   0%|          | 0/10 [00:00<?, ?it/s]"
      ]
     },
     "metadata": {},
     "output_type": "display_data"
    },
    {
     "data": {
      "application/vnd.jupyter.widget-view+json": {
       "model_id": "0945565b6bf847c49174ccd3e4f31e3a",
       "version_major": 2,
       "version_minor": 0
      },
      "text/plain": [
       "r = 0.16749700903892517:   0%|          | 0/10 [00:00<?, ?it/s]"
      ]
     },
     "metadata": {},
     "output_type": "display_data"
    },
    {
     "data": {
      "application/vnd.jupyter.widget-view+json": {
       "model_id": "7ea58287b66d480882756241aa6a6423",
       "version_major": 2,
       "version_minor": 0
      },
      "text/plain": [
       "r = 0.1667274385690689:   0%|          | 0/10 [00:00<?, ?it/s]"
      ]
     },
     "metadata": {},
     "output_type": "display_data"
    },
    {
     "data": {
      "application/vnd.jupyter.widget-view+json": {
       "model_id": "94783a019e174c26806720d6fbf46abb",
       "version_major": 2,
       "version_minor": 0
      },
      "text/plain": [
       "r = 0.1659613847732544:   0%|          | 0/10 [00:00<?, ?it/s]"
      ]
     },
     "metadata": {},
     "output_type": "display_data"
    },
    {
     "data": {
      "application/vnd.jupyter.widget-view+json": {
       "model_id": "9267a8537a24421dbc115807fb628e36",
       "version_major": 2,
       "version_minor": 0
      },
      "text/plain": [
       "r = 0.16519887745380402:   0%|          | 0/10 [00:00<?, ?it/s]"
      ]
     },
     "metadata": {},
     "output_type": "display_data"
    },
    {
     "data": {
      "application/vnd.jupyter.widget-view+json": {
       "model_id": "6876129edf6943a28246d72eac1696c4",
       "version_major": 2,
       "version_minor": 0
      },
      "text/plain": [
       "r = 0.164439857006073:   0%|          | 0/10 [00:00<?, ?it/s]"
      ]
     },
     "metadata": {},
     "output_type": "display_data"
    },
    {
     "data": {
      "application/vnd.jupyter.widget-view+json": {
       "model_id": "5df39296d8814ff18d88cad05d9adcd2",
       "version_major": 2,
       "version_minor": 0
      },
      "text/plain": [
       "r = 0.16368432343006134:   0%|          | 0/10 [00:00<?, ?it/s]"
      ]
     },
     "metadata": {},
     "output_type": "display_data"
    },
    {
     "data": {
      "application/vnd.jupyter.widget-view+json": {
       "model_id": "b121991a91494853800f2ac74332dc7c",
       "version_major": 2,
       "version_minor": 0
      },
      "text/plain": [
       "r = 0.16293227672576904:   0%|          | 0/10 [00:00<?, ?it/s]"
      ]
     },
     "metadata": {},
     "output_type": "display_data"
    },
    {
     "data": {
      "application/vnd.jupyter.widget-view+json": {
       "model_id": "9b7d39ad61a948b4b8f5f93c208adda2",
       "version_major": 2,
       "version_minor": 0
      },
      "text/plain": [
       "r = 0.16218365728855133:   0%|          | 0/10 [00:00<?, ?it/s]"
      ]
     },
     "metadata": {},
     "output_type": "display_data"
    },
    {
     "data": {
      "application/vnd.jupyter.widget-view+json": {
       "model_id": "097ccf2a160446ec89c1bc45b6a14a80",
       "version_major": 2,
       "version_minor": 0
      },
      "text/plain": [
       "r = 0.16143850982189178:   0%|          | 0/10 [00:00<?, ?it/s]"
      ]
     },
     "metadata": {},
     "output_type": "display_data"
    },
    {
     "data": {
      "application/vnd.jupyter.widget-view+json": {
       "model_id": "b8b9e7b692674659b752480e85722d62",
       "version_major": 2,
       "version_minor": 0
      },
      "text/plain": [
       "r = 0.16069677472114563:   0%|          | 0/10 [00:00<?, ?it/s]"
      ]
     },
     "metadata": {},
     "output_type": "display_data"
    },
    {
     "data": {
      "application/vnd.jupyter.widget-view+json": {
       "model_id": "e30524c2a00740dbb2e7185236cdde31",
       "version_major": 2,
       "version_minor": 0
      },
      "text/plain": [
       "r = 0.15995843708515167:   0%|          | 0/10 [00:00<?, ?it/s]"
      ]
     },
     "metadata": {},
     "output_type": "display_data"
    },
    {
     "data": {
      "application/vnd.jupyter.widget-view+json": {
       "model_id": "71e5ae7ba26a4543a5946d2dc65c0955",
       "version_major": 2,
       "version_minor": 0
      },
      "text/plain": [
       "r = 0.1592234969139099:   0%|          | 0/10 [00:00<?, ?it/s]"
      ]
     },
     "metadata": {},
     "output_type": "display_data"
    },
    {
     "data": {
      "application/vnd.jupyter.widget-view+json": {
       "model_id": "4bfb90553b4e4ca79daae80b5aa9aaca",
       "version_major": 2,
       "version_minor": 0
      },
      "text/plain": [
       "r = 0.15849193930625916:   0%|          | 0/10 [00:00<?, ?it/s]"
      ]
     },
     "metadata": {},
     "output_type": "display_data"
    },
    {
     "data": {
      "application/vnd.jupyter.widget-view+json": {
       "model_id": "ba0849ee17ae4850b0a849cc3f6cfce6",
       "version_major": 2,
       "version_minor": 0
      },
      "text/plain": [
       "r = 0.15776373445987701:   0%|          | 0/10 [00:00<?, ?it/s]"
      ]
     },
     "metadata": {},
     "output_type": "display_data"
    },
    {
     "data": {
      "application/vnd.jupyter.widget-view+json": {
       "model_id": "6ca5dede3828480f96a728a6f9de6edc",
       "version_major": 2,
       "version_minor": 0
      },
      "text/plain": [
       "r = 0.1570388674736023:   0%|          | 0/10 [00:00<?, ?it/s]"
      ]
     },
     "metadata": {},
     "output_type": "display_data"
    },
    {
     "data": {
      "application/vnd.jupyter.widget-view+json": {
       "model_id": "90eaac08616b46be89a06638fc1af8dc",
       "version_major": 2,
       "version_minor": 0
      },
      "text/plain": [
       "r = 0.1563173532485962:   0%|          | 0/10 [00:00<?, ?it/s]"
      ]
     },
     "metadata": {},
     "output_type": "display_data"
    },
    {
     "data": {
      "application/vnd.jupyter.widget-view+json": {
       "model_id": "07059647e0904280a737374cd07a2ebf",
       "version_major": 2,
       "version_minor": 0
      },
      "text/plain": [
       "r = 0.15559913218021393:   0%|          | 0/10 [00:00<?, ?it/s]"
      ]
     },
     "metadata": {},
     "output_type": "display_data"
    },
    {
     "data": {
      "application/vnd.jupyter.widget-view+json": {
       "model_id": "5fcecd813601465783cd77cf9cc2b1b9",
       "version_major": 2,
       "version_minor": 0
      },
      "text/plain": [
       "r = 0.1548842191696167:   0%|          | 0/10 [00:00<?, ?it/s]"
      ]
     },
     "metadata": {},
     "output_type": "display_data"
    },
    {
     "data": {
      "application/vnd.jupyter.widget-view+json": {
       "model_id": "d17ca2b2b0dc47579c493eccd7dd3900",
       "version_major": 2,
       "version_minor": 0
      },
      "text/plain": [
       "r = 0.1541725993156433:   0%|          | 0/10 [00:00<?, ?it/s]"
      ]
     },
     "metadata": {},
     "output_type": "display_data"
    },
    {
     "data": {
      "application/vnd.jupyter.widget-view+json": {
       "model_id": "03208dd3a8b44e8d8a2df14802e9d7a2",
       "version_major": 2,
       "version_minor": 0
      },
      "text/plain": [
       "r = 0.15346424281597137:   0%|          | 0/10 [00:00<?, ?it/s]"
      ]
     },
     "metadata": {},
     "output_type": "display_data"
    },
    {
     "data": {
      "application/vnd.jupyter.widget-view+json": {
       "model_id": "2e62c13ccf1d4b819a1b5e0a81e37f5b",
       "version_major": 2,
       "version_minor": 0
      },
      "text/plain": [
       "r = 0.1527591347694397:   0%|          | 0/10 [00:00<?, ?it/s]"
      ]
     },
     "metadata": {},
     "output_type": "display_data"
    },
    {
     "data": {
      "application/vnd.jupyter.widget-view+json": {
       "model_id": "e08b31bec43540b0852ae2ca4332ae3b",
       "version_major": 2,
       "version_minor": 0
      },
      "text/plain": [
       "r = 0.15205727517604828:   0%|          | 0/10 [00:00<?, ?it/s]"
      ]
     },
     "metadata": {},
     "output_type": "display_data"
    },
    {
     "data": {
      "application/vnd.jupyter.widget-view+json": {
       "model_id": "6112186bf9cb4d25954240a68788664c",
       "version_major": 2,
       "version_minor": 0
      },
      "text/plain": [
       "r = 0.15135864913463593:   0%|          | 0/10 [00:00<?, ?it/s]"
      ]
     },
     "metadata": {},
     "output_type": "display_data"
    },
    {
     "data": {
      "application/vnd.jupyter.widget-view+json": {
       "model_id": "a19e462b9459427f84c672ab5607044f",
       "version_major": 2,
       "version_minor": 0
      },
      "text/plain": [
       "r = 0.15066322684288025:   0%|          | 0/10 [00:00<?, ?it/s]"
      ]
     },
     "metadata": {},
     "output_type": "display_data"
    },
    {
     "data": {
      "application/vnd.jupyter.widget-view+json": {
       "model_id": "8ba0a2db6a5b42638989b0e1124cccaf",
       "version_major": 2,
       "version_minor": 0
      },
      "text/plain": [
       "r = 0.14997097849845886:   0%|          | 0/10 [00:00<?, ?it/s]"
      ]
     },
     "metadata": {},
     "output_type": "display_data"
    },
    {
     "data": {
      "application/vnd.jupyter.widget-view+json": {
       "model_id": "fc6fca59791346849aeccc590344b884",
       "version_major": 2,
       "version_minor": 0
      },
      "text/plain": [
       "r = 0.14928193390369415:   0%|          | 0/10 [00:00<?, ?it/s]"
      ]
     },
     "metadata": {},
     "output_type": "display_data"
    },
    {
     "data": {
      "application/vnd.jupyter.widget-view+json": {
       "model_id": "6dae88d2b2fd473aa7fdc67f558046bd",
       "version_major": 2,
       "version_minor": 0
      },
      "text/plain": [
       "r = 0.14859604835510254:   0%|          | 0/10 [00:00<?, ?it/s]"
      ]
     },
     "metadata": {},
     "output_type": "display_data"
    },
    {
     "data": {
      "application/vnd.jupyter.widget-view+json": {
       "model_id": "8c54c31369a645458b9c7c3c46cbc5d2",
       "version_major": 2,
       "version_minor": 0
      },
      "text/plain": [
       "r = 0.14791330695152283:   0%|          | 0/10 [00:00<?, ?it/s]"
      ]
     },
     "metadata": {},
     "output_type": "display_data"
    },
    {
     "data": {
      "application/vnd.jupyter.widget-view+json": {
       "model_id": "f766007d2ee145c5877e0cd5d9321082",
       "version_major": 2,
       "version_minor": 0
      },
      "text/plain": [
       "r = 0.1472337245941162:   0%|          | 0/10 [00:00<?, ?it/s]"
      ]
     },
     "metadata": {},
     "output_type": "display_data"
    },
    {
     "data": {
      "application/vnd.jupyter.widget-view+json": {
       "model_id": "18b66e40f02e43cfb3b2eb877eeb9d29",
       "version_major": 2,
       "version_minor": 0
      },
      "text/plain": [
       "r = 0.14655724167823792:   0%|          | 0/10 [00:00<?, ?it/s]"
      ]
     },
     "metadata": {},
     "output_type": "display_data"
    },
    {
     "data": {
      "application/vnd.jupyter.widget-view+json": {
       "model_id": "1e54f9bf1ba94ba19816678ddbfbcc5b",
       "version_major": 2,
       "version_minor": 0
      },
      "text/plain": [
       "r = 0.14588387310504913:   0%|          | 0/10 [00:00<?, ?it/s]"
      ]
     },
     "metadata": {},
     "output_type": "display_data"
    },
    {
     "data": {
      "application/vnd.jupyter.widget-view+json": {
       "model_id": "9d8a460006734efb99437249e25fecbf",
       "version_major": 2,
       "version_minor": 0
      },
      "text/plain": [
       "r = 0.14521360397338867:   0%|          | 0/10 [00:00<?, ?it/s]"
      ]
     },
     "metadata": {},
     "output_type": "display_data"
    },
    {
     "data": {
      "application/vnd.jupyter.widget-view+json": {
       "model_id": "8351ec39ba1d483e979a3faa6e60ccff",
       "version_major": 2,
       "version_minor": 0
      },
      "text/plain": [
       "r = 0.14454641938209534:   0%|          | 0/10 [00:00<?, ?it/s]"
      ]
     },
     "metadata": {},
     "output_type": "display_data"
    },
    {
     "data": {
      "application/vnd.jupyter.widget-view+json": {
       "model_id": "6fe3beaec2604ceb838155bbfe2f4a33",
       "version_major": 2,
       "version_minor": 0
      },
      "text/plain": [
       "r = 0.14388227462768555:   0%|          | 0/10 [00:00<?, ?it/s]"
      ]
     },
     "metadata": {},
     "output_type": "display_data"
    },
    {
     "data": {
      "application/vnd.jupyter.widget-view+json": {
       "model_id": "558591f94a2b4de3a2c4bba3b3170d1c",
       "version_major": 2,
       "version_minor": 0
      },
      "text/plain": [
       "r = 0.1432211995124817:   0%|          | 0/10 [00:00<?, ?it/s]"
      ]
     },
     "metadata": {},
     "output_type": "display_data"
    },
    {
     "data": {
      "application/vnd.jupyter.widget-view+json": {
       "model_id": "3acd9badad474fde8b495655182af0be",
       "version_major": 2,
       "version_minor": 0
      },
      "text/plain": [
       "r = 0.14256316423416138:   0%|          | 0/10 [00:00<?, ?it/s]"
      ]
     },
     "metadata": {},
     "output_type": "display_data"
    },
    {
     "data": {
      "application/vnd.jupyter.widget-view+json": {
       "model_id": "9f92d21b38ef4033800457d0107ec007",
       "version_major": 2,
       "version_minor": 0
      },
      "text/plain": [
       "r = 0.14190815389156342:   0%|          | 0/10 [00:00<?, ?it/s]"
      ]
     },
     "metadata": {},
     "output_type": "display_data"
    },
    {
     "data": {
      "application/vnd.jupyter.widget-view+json": {
       "model_id": "171a84b7d9034d4188302c1b6ba52f50",
       "version_major": 2,
       "version_minor": 0
      },
      "text/plain": [
       "r = 0.14125613868236542:   0%|          | 0/10 [00:00<?, ?it/s]"
      ]
     },
     "metadata": {},
     "output_type": "display_data"
    },
    {
     "data": {
      "application/vnd.jupyter.widget-view+json": {
       "model_id": "1cf6c0fa64dd47048db0e250c4ee1a6e",
       "version_major": 2,
       "version_minor": 0
      },
      "text/plain": [
       "r = 0.14060713350772858:   0%|          | 0/10 [00:00<?, ?it/s]"
      ]
     },
     "metadata": {},
     "output_type": "display_data"
    },
    {
     "data": {
      "application/vnd.jupyter.widget-view+json": {
       "model_id": "75bd571883d241679cb0774ce54b1bf3",
       "version_major": 2,
       "version_minor": 0
      },
      "text/plain": [
       "r = 0.1399611085653305:   0%|          | 0/10 [00:00<?, ?it/s]"
      ]
     },
     "metadata": {},
     "output_type": "display_data"
    },
    {
     "data": {
      "application/vnd.jupyter.widget-view+json": {
       "model_id": "3673b0e30d914a268954c1924d7052ad",
       "version_major": 2,
       "version_minor": 0
      },
      "text/plain": [
       "r = 0.13931804895401:   0%|          | 0/10 [00:00<?, ?it/s]"
      ]
     },
     "metadata": {},
     "output_type": "display_data"
    },
    {
     "data": {
      "application/vnd.jupyter.widget-view+json": {
       "model_id": "fbb6e26a60024f5b82d278b7390ce474",
       "version_major": 2,
       "version_minor": 0
      },
      "text/plain": [
       "r = 0.1386779397726059:   0%|          | 0/10 [00:00<?, ?it/s]"
      ]
     },
     "metadata": {},
     "output_type": "display_data"
    },
    {
     "data": {
      "application/vnd.jupyter.widget-view+json": {
       "model_id": "8366a2a1462846e5b2457f1491de73b0",
       "version_major": 2,
       "version_minor": 0
      },
      "text/plain": [
       "r = 0.13804076611995697:   0%|          | 0/10 [00:00<?, ?it/s]"
      ]
     },
     "metadata": {},
     "output_type": "display_data"
    },
    {
     "data": {
      "application/vnd.jupyter.widget-view+json": {
       "model_id": "e570fce6844240b99c4db55c32d9a499",
       "version_major": 2,
       "version_minor": 0
      },
      "text/plain": [
       "r = 0.13740654289722443:   0%|          | 0/10 [00:00<?, ?it/s]"
      ]
     },
     "metadata": {},
     "output_type": "display_data"
    },
    {
     "data": {
      "application/vnd.jupyter.widget-view+json": {
       "model_id": "f4fcbda84bb94e4b9d5095fc3bda1b37",
       "version_major": 2,
       "version_minor": 0
      },
      "text/plain": [
       "r = 0.1367752104997635:   0%|          | 0/10 [00:00<?, ?it/s]"
      ]
     },
     "metadata": {},
     "output_type": "display_data"
    },
    {
     "data": {
      "application/vnd.jupyter.widget-view+json": {
       "model_id": "02bcd64aa2aa4fc2bc7e0e1a0a9d5332",
       "version_major": 2,
       "version_minor": 0
      },
      "text/plain": [
       "r = 0.13614678382873535:   0%|          | 0/10 [00:00<?, ?it/s]"
      ]
     },
     "metadata": {},
     "output_type": "display_data"
    },
    {
     "data": {
      "application/vnd.jupyter.widget-view+json": {
       "model_id": "f790cf850f1441a3a224e47abd0033d7",
       "version_major": 2,
       "version_minor": 0
      },
      "text/plain": [
       "r = 0.13552126288414001:   0%|          | 0/10 [00:00<?, ?it/s]"
      ]
     },
     "metadata": {},
     "output_type": "display_data"
    },
    {
     "data": {
      "application/vnd.jupyter.widget-view+json": {
       "model_id": "1f22305ab32c4157a2d39526497cebcc",
       "version_major": 2,
       "version_minor": 0
      },
      "text/plain": [
       "r = 0.1348985880613327:   0%|          | 0/10 [00:00<?, ?it/s]"
      ]
     },
     "metadata": {},
     "output_type": "display_data"
    },
    {
     "data": {
      "application/vnd.jupyter.widget-view+json": {
       "model_id": "51fc4f95a5fd4459a1f6ff4e5e2e9132",
       "version_major": 2,
       "version_minor": 0
      },
      "text/plain": [
       "r = 0.134278804063797:   0%|          | 0/10 [00:00<?, ?it/s]"
      ]
     },
     "metadata": {},
     "output_type": "display_data"
    },
    {
     "data": {
      "application/vnd.jupyter.widget-view+json": {
       "model_id": "f80bacc25c3e4b9dbc35e3285c077b3c",
       "version_major": 2,
       "version_minor": 0
      },
      "text/plain": [
       "r = 0.13366183638572693:   0%|          | 0/10 [00:00<?, ?it/s]"
      ]
     },
     "metadata": {},
     "output_type": "display_data"
    },
    {
     "data": {
      "application/vnd.jupyter.widget-view+json": {
       "model_id": "dd245c21d30e4195ab32b990e508c051",
       "version_major": 2,
       "version_minor": 0
      },
      "text/plain": [
       "r = 0.13304772973060608:   0%|          | 0/10 [00:00<?, ?it/s]"
      ]
     },
     "metadata": {},
     "output_type": "display_data"
    },
    {
     "data": {
      "application/vnd.jupyter.widget-view+json": {
       "model_id": "2cdd54890bd549779b1fab666d3cb844",
       "version_major": 2,
       "version_minor": 0
      },
      "text/plain": [
       "r = 0.13243642449378967:   0%|          | 0/10 [00:00<?, ?it/s]"
      ]
     },
     "metadata": {},
     "output_type": "display_data"
    },
    {
     "data": {
      "application/vnd.jupyter.widget-view+json": {
       "model_id": "f51839bc09494a86907d61e9c1409700",
       "version_major": 2,
       "version_minor": 0
      },
      "text/plain": [
       "r = 0.1318279355764389:   0%|          | 0/10 [00:00<?, ?it/s]"
      ]
     },
     "metadata": {},
     "output_type": "display_data"
    },
    {
     "data": {
      "application/vnd.jupyter.widget-view+json": {
       "model_id": "75673989a44d4e7685443cc7782f1bb7",
       "version_major": 2,
       "version_minor": 0
      },
      "text/plain": [
       "r = 0.13122224807739258:   0%|          | 0/10 [00:00<?, ?it/s]"
      ]
     },
     "metadata": {},
     "output_type": "display_data"
    },
    {
     "data": {
      "application/vnd.jupyter.widget-view+json": {
       "model_id": "2a9d4562690941cfa2840b814b5ca08b",
       "version_major": 2,
       "version_minor": 0
      },
      "text/plain": [
       "r = 0.1306193470954895:   0%|          | 0/10 [00:00<?, ?it/s]"
      ]
     },
     "metadata": {},
     "output_type": "display_data"
    },
    {
     "data": {
      "application/vnd.jupyter.widget-view+json": {
       "model_id": "dc94cf31869d428c97badb7255e7a37f",
       "version_major": 2,
       "version_minor": 0
      },
      "text/plain": [
       "r = 0.1300192028284073:   0%|          | 0/10 [00:00<?, ?it/s]"
      ]
     },
     "metadata": {},
     "output_type": "display_data"
    },
    {
     "data": {
      "application/vnd.jupyter.widget-view+json": {
       "model_id": "c18ef9f3f66d49e2bc8ac8d12e8135b0",
       "version_major": 2,
       "version_minor": 0
      },
      "text/plain": [
       "r = 0.12942181527614594:   0%|          | 0/10 [00:00<?, ?it/s]"
      ]
     },
     "metadata": {},
     "output_type": "display_data"
    },
    {
     "data": {
      "application/vnd.jupyter.widget-view+json": {
       "model_id": "78451bf8b9954a15bb873c2b8720f804",
       "version_major": 2,
       "version_minor": 0
      },
      "text/plain": [
       "r = 0.12882718443870544:   0%|          | 0/10 [00:00<?, ?it/s]"
      ]
     },
     "metadata": {},
     "output_type": "display_data"
    },
    {
     "data": {
      "application/vnd.jupyter.widget-view+json": {
       "model_id": "7e098ffdeef7443fb48b31533df6d251",
       "version_major": 2,
       "version_minor": 0
      },
      "text/plain": [
       "r = 0.12823528051376343:   0%|          | 0/10 [00:00<?, ?it/s]"
      ]
     },
     "metadata": {},
     "output_type": "display_data"
    },
    {
     "data": {
      "application/vnd.jupyter.widget-view+json": {
       "model_id": "97bc6e9b504347e1a114d01f1900d2d4",
       "version_major": 2,
       "version_minor": 0
      },
      "text/plain": [
       "r = 0.1276460886001587:   0%|          | 0/10 [00:00<?, ?it/s]"
      ]
     },
     "metadata": {},
     "output_type": "display_data"
    },
    {
     "data": {
      "application/vnd.jupyter.widget-view+json": {
       "model_id": "c0dca8cfc57d4b689070d3c142b4bf20",
       "version_major": 2,
       "version_minor": 0
      },
      "text/plain": [
       "r = 0.12705960869789124:   0%|          | 0/10 [00:00<?, ?it/s]"
      ]
     },
     "metadata": {},
     "output_type": "display_data"
    },
    {
     "data": {
      "application/vnd.jupyter.widget-view+json": {
       "model_id": "056c7b7c1ba5455581504d11f45c00c3",
       "version_major": 2,
       "version_minor": 0
      },
      "text/plain": [
       "r = 0.12647582590579987:   0%|          | 0/10 [00:00<?, ?it/s]"
      ]
     },
     "metadata": {},
     "output_type": "display_data"
    },
    {
     "data": {
      "application/vnd.jupyter.widget-view+json": {
       "model_id": "2ec3a71f24974dfdab1f58f45fd18d30",
       "version_major": 2,
       "version_minor": 0
      },
      "text/plain": [
       "r = 0.1258947253227234:   0%|          | 0/10 [00:00<?, ?it/s]"
      ]
     },
     "metadata": {},
     "output_type": "display_data"
    },
    {
     "data": {
      "application/vnd.jupyter.widget-view+json": {
       "model_id": "d6f906aa8f594ebebaecdada5b3fef78",
       "version_major": 2,
       "version_minor": 0
      },
      "text/plain": [
       "r = 0.1253162920475006:   0%|          | 0/10 [00:00<?, ?it/s]"
      ]
     },
     "metadata": {},
     "output_type": "display_data"
    },
    {
     "data": {
      "application/vnd.jupyter.widget-view+json": {
       "model_id": "9fdccc20d9d44b50b380abc59ee0f74d",
       "version_major": 2,
       "version_minor": 0
      },
      "text/plain": [
       "r = 0.12474052608013153:   0%|          | 0/10 [00:00<?, ?it/s]"
      ]
     },
     "metadata": {},
     "output_type": "display_data"
    },
    {
     "data": {
      "application/vnd.jupyter.widget-view+json": {
       "model_id": "76a77876d01d4b24b805ed67bbc111d2",
       "version_major": 2,
       "version_minor": 0
      },
      "text/plain": [
       "r = 0.12416739761829376:   0%|          | 0/10 [00:00<?, ?it/s]"
      ]
     },
     "metadata": {},
     "output_type": "display_data"
    },
    {
     "data": {
      "application/vnd.jupyter.widget-view+json": {
       "model_id": "ac7563d3095b4ee7a89955d5a44b1299",
       "version_major": 2,
       "version_minor": 0
      },
      "text/plain": [
       "r = 0.12359689921140671:   0%|          | 0/10 [00:00<?, ?it/s]"
      ]
     },
     "metadata": {},
     "output_type": "display_data"
    },
    {
     "data": {
      "application/vnd.jupyter.widget-view+json": {
       "model_id": "5cbcdd07b4ce42d1ba8722b934df5658",
       "version_major": 2,
       "version_minor": 0
      },
      "text/plain": [
       "r = 0.12302902340888977:   0%|          | 0/10 [00:00<?, ?it/s]"
      ]
     },
     "metadata": {},
     "output_type": "display_data"
    },
    {
     "data": {
      "application/vnd.jupyter.widget-view+json": {
       "model_id": "928654f9c4874376939e9e7050548ff0",
       "version_major": 2,
       "version_minor": 0
      },
      "text/plain": [
       "r = 0.12246376276016235:   0%|          | 0/10 [00:00<?, ?it/s]"
      ]
     },
     "metadata": {},
     "output_type": "display_data"
    },
    {
     "data": {
      "application/vnd.jupyter.widget-view+json": {
       "model_id": "abce2e7fd3e349058363961c33bc602b",
       "version_major": 2,
       "version_minor": 0
      },
      "text/plain": [
       "r = 0.12190109491348267:   0%|          | 0/10 [00:00<?, ?it/s]"
      ]
     },
     "metadata": {},
     "output_type": "display_data"
    },
    {
     "data": {
      "application/vnd.jupyter.widget-view+json": {
       "model_id": "a257d3dc94cb4fb89d4c592eee787566",
       "version_major": 2,
       "version_minor": 0
      },
      "text/plain": [
       "r = 0.12134101241827011:   0%|          | 0/10 [00:00<?, ?it/s]"
      ]
     },
     "metadata": {},
     "output_type": "display_data"
    },
    {
     "data": {
      "application/vnd.jupyter.widget-view+json": {
       "model_id": "3ea2b378dde64792942addda795c5b99",
       "version_major": 2,
       "version_minor": 0
      },
      "text/plain": [
       "r = 0.12078350782394409:   0%|          | 0/10 [00:00<?, ?it/s]"
      ]
     },
     "metadata": {},
     "output_type": "display_data"
    },
    {
     "data": {
      "application/vnd.jupyter.widget-view+json": {
       "model_id": "530d60028cac4b7abfdc5f8b64243c5a",
       "version_major": 2,
       "version_minor": 0
      },
      "text/plain": [
       "r = 0.12022855877876282:   0%|          | 0/10 [00:00<?, ?it/s]"
      ]
     },
     "metadata": {},
     "output_type": "display_data"
    },
    {
     "data": {
      "application/vnd.jupyter.widget-view+json": {
       "model_id": "965506edf6a64f5e9799e656513f3327",
       "version_major": 2,
       "version_minor": 0
      },
      "text/plain": [
       "r = 0.1196761503815651:   0%|          | 0/10 [00:00<?, ?it/s]"
      ]
     },
     "metadata": {},
     "output_type": "display_data"
    },
    {
     "data": {
      "application/vnd.jupyter.widget-view+json": {
       "model_id": "f542bdad5a4c483083658371fb6a38d0",
       "version_major": 2,
       "version_minor": 0
      },
      "text/plain": [
       "r = 0.11912629753351212:   0%|          | 0/10 [00:00<?, ?it/s]"
      ]
     },
     "metadata": {},
     "output_type": "display_data"
    },
    {
     "data": {
      "application/vnd.jupyter.widget-view+json": {
       "model_id": "54f707995bd14365af78c8ddcdbc0e7d",
       "version_major": 2,
       "version_minor": 0
      },
      "text/plain": [
       "r = 0.1185789629817009:   0%|          | 0/10 [00:00<?, ?it/s]"
      ]
     },
     "metadata": {},
     "output_type": "display_data"
    },
    {
     "data": {
      "application/vnd.jupyter.widget-view+json": {
       "model_id": "d7bb8e19f63f438fbdb2943f916ff84c",
       "version_major": 2,
       "version_minor": 0
      },
      "text/plain": [
       "r = 0.11803414672613144:   0%|          | 0/10 [00:00<?, ?it/s]"
      ]
     },
     "metadata": {},
     "output_type": "display_data"
    },
    {
     "data": {
      "application/vnd.jupyter.widget-view+json": {
       "model_id": "04129f0530b04a87a79ae65dda23f591",
       "version_major": 2,
       "version_minor": 0
      },
      "text/plain": [
       "r = 0.11749182641506195:   0%|          | 0/10 [00:00<?, ?it/s]"
      ]
     },
     "metadata": {},
     "output_type": "display_data"
    },
    {
     "data": {
      "application/vnd.jupyter.widget-view+json": {
       "model_id": "bb6ba36c32684b6c8c35a1537ed27912",
       "version_major": 2,
       "version_minor": 0
      },
      "text/plain": [
       "r = 0.11695200204849243:   0%|          | 0/10 [00:00<?, ?it/s]"
      ]
     },
     "metadata": {},
     "output_type": "display_data"
    },
    {
     "data": {
      "application/vnd.jupyter.widget-view+json": {
       "model_id": "cb1c2145fadb4a58bce3c008ae9414d6",
       "version_major": 2,
       "version_minor": 0
      },
      "text/plain": [
       "r = 0.11641465872526169:   0%|          | 0/10 [00:00<?, ?it/s]"
      ]
     },
     "metadata": {},
     "output_type": "display_data"
    },
    {
     "data": {
      "application/vnd.jupyter.widget-view+json": {
       "model_id": "66f99406abbb4dfea89704f6aa94d183",
       "version_major": 2,
       "version_minor": 0
      },
      "text/plain": [
       "r = 0.11587978154420853:   0%|          | 0/10 [00:00<?, ?it/s]"
      ]
     },
     "metadata": {},
     "output_type": "display_data"
    },
    {
     "data": {
      "application/vnd.jupyter.widget-view+json": {
       "model_id": "4f2c4a98ad45488e8585e0d9dc23c169",
       "version_major": 2,
       "version_minor": 0
      },
      "text/plain": [
       "r = 0.11534737050533295:   0%|          | 0/10 [00:00<?, ?it/s]"
      ]
     },
     "metadata": {},
     "output_type": "display_data"
    },
    {
     "data": {
      "application/vnd.jupyter.widget-view+json": {
       "model_id": "582510cc5ddd4cc2b0cfe53146f97286",
       "version_major": 2,
       "version_minor": 0
      },
      "text/plain": [
       "r = 0.11481739580631256:   0%|          | 0/10 [00:00<?, ?it/s]"
      ]
     },
     "metadata": {},
     "output_type": "display_data"
    },
    {
     "data": {
      "application/vnd.jupyter.widget-view+json": {
       "model_id": "fd8d9938540f441f8d5d1c67efef1dde",
       "version_major": 2,
       "version_minor": 0
      },
      "text/plain": [
       "r = 0.11428986489772797:   0%|          | 0/10 [00:00<?, ?it/s]"
      ]
     },
     "metadata": {},
     "output_type": "display_data"
    },
    {
     "data": {
      "application/vnd.jupyter.widget-view+json": {
       "model_id": "607621e2aeba4a31bdf2681f134bb959",
       "version_major": 2,
       "version_minor": 0
      },
      "text/plain": [
       "r = 0.11376474797725677:   0%|          | 0/10 [00:00<?, ?it/s]"
      ]
     },
     "metadata": {},
     "output_type": "display_data"
    },
    {
     "data": {
      "application/vnd.jupyter.widget-view+json": {
       "model_id": "a18fe593eec247d8b2105d2f2c97f970",
       "version_major": 2,
       "version_minor": 0
      },
      "text/plain": [
       "r = 0.11324205249547958:   0%|          | 0/10 [00:00<?, ?it/s]"
      ]
     },
     "metadata": {},
     "output_type": "display_data"
    },
    {
     "data": {
      "application/vnd.jupyter.widget-view+json": {
       "model_id": "4d19744cc0e84c4389798dacdafc4d06",
       "version_major": 2,
       "version_minor": 0
      },
      "text/plain": [
       "r = 0.1127217561006546:   0%|          | 0/10 [00:00<?, ?it/s]"
      ]
     },
     "metadata": {},
     "output_type": "display_data"
    },
    {
     "data": {
      "application/vnd.jupyter.widget-view+json": {
       "model_id": "4aa57fc1c9a04b3f8b6ff3971a27d118",
       "version_major": 2,
       "version_minor": 0
      },
      "text/plain": [
       "r = 0.11220384389162064:   0%|          | 0/10 [00:00<?, ?it/s]"
      ]
     },
     "metadata": {},
     "output_type": "display_data"
    },
    {
     "data": {
      "application/vnd.jupyter.widget-view+json": {
       "model_id": "a57e21b3daac4f80b58633d37af9d384",
       "version_major": 2,
       "version_minor": 0
      },
      "text/plain": [
       "r = 0.11168831586837769:   0%|          | 0/10 [00:00<?, ?it/s]"
      ]
     },
     "metadata": {},
     "output_type": "display_data"
    },
    {
     "data": {
      "application/vnd.jupyter.widget-view+json": {
       "model_id": "9975eaa2c28c4eeeb3bfa6b8dad677f4",
       "version_major": 2,
       "version_minor": 0
      },
      "text/plain": [
       "r = 0.11117516458034515:   0%|          | 0/10 [00:00<?, ?it/s]"
      ]
     },
     "metadata": {},
     "output_type": "display_data"
    },
    {
     "data": {
      "application/vnd.jupyter.widget-view+json": {
       "model_id": "c23a81960f18405a963c75d8077e0c0a",
       "version_major": 2,
       "version_minor": 0
      },
      "text/plain": [
       "r = 0.11066436022520065:   0%|          | 0/10 [00:00<?, ?it/s]"
      ]
     },
     "metadata": {},
     "output_type": "display_data"
    },
    {
     "data": {
      "application/vnd.jupyter.widget-view+json": {
       "model_id": "5afe82ed749b4b9681eb579c72dfae44",
       "version_major": 2,
       "version_minor": 0
      },
      "text/plain": [
       "r = 0.11015590280294418:   0%|          | 0/10 [00:00<?, ?it/s]"
      ]
     },
     "metadata": {},
     "output_type": "display_data"
    },
    {
     "data": {
      "application/vnd.jupyter.widget-view+json": {
       "model_id": "937a70ca3a744847a9d04c1edb77d3ae",
       "version_major": 2,
       "version_minor": 0
      },
      "text/plain": [
       "r = 0.10964978486299515:   0%|          | 0/10 [00:00<?, ?it/s]"
      ]
     },
     "metadata": {},
     "output_type": "display_data"
    },
    {
     "data": {
      "application/vnd.jupyter.widget-view+json": {
       "model_id": "ee9d2df1281949158239f3a708ead706",
       "version_major": 2,
       "version_minor": 0
      },
      "text/plain": [
       "r = 0.10914599895477295:   0%|          | 0/10 [00:00<?, ?it/s]"
      ]
     },
     "metadata": {},
     "output_type": "display_data"
    },
    {
     "data": {
      "application/vnd.jupyter.widget-view+json": {
       "model_id": "7fe82849f9f440728ff98ec72678d313",
       "version_major": 2,
       "version_minor": 0
      },
      "text/plain": [
       "r = 0.1086445152759552:   0%|          | 0/10 [00:00<?, ?it/s]"
      ]
     },
     "metadata": {},
     "output_type": "display_data"
    },
    {
     "data": {
      "application/vnd.jupyter.widget-view+json": {
       "model_id": "18f1b89d4b4f497bae44f2780b221ee7",
       "version_major": 2,
       "version_minor": 0
      },
      "text/plain": [
       "r = 0.1081453338265419:   0%|          | 0/10 [00:00<?, ?it/s]"
      ]
     },
     "metadata": {},
     "output_type": "display_data"
    },
    {
     "data": {
      "application/vnd.jupyter.widget-view+json": {
       "model_id": "d98f4e2b46494415bca42b111e213f11",
       "version_major": 2,
       "version_minor": 0
      },
      "text/plain": [
       "r = 0.10764845460653305:   0%|          | 0/10 [00:00<?, ?it/s]"
      ]
     },
     "metadata": {},
     "output_type": "display_data"
    },
    {
     "data": {
      "application/vnd.jupyter.widget-view+json": {
       "model_id": "2abccb327f97466eab94952d05cdf401",
       "version_major": 2,
       "version_minor": 0
      },
      "text/plain": [
       "r = 0.10715386271476746:   0%|          | 0/10 [00:00<?, ?it/s]"
      ]
     },
     "metadata": {},
     "output_type": "display_data"
    },
    {
     "data": {
      "application/vnd.jupyter.widget-view+json": {
       "model_id": "34b64bc677f7480fbb855be5259c0cb1",
       "version_major": 2,
       "version_minor": 0
      },
      "text/plain": [
       "r = 0.10666153579950333:   0%|          | 0/10 [00:00<?, ?it/s]"
      ]
     },
     "metadata": {},
     "output_type": "display_data"
    },
    {
     "data": {
      "application/vnd.jupyter.widget-view+json": {
       "model_id": "4c7bb7f5019841a28627e451bcacb36a",
       "version_major": 2,
       "version_minor": 0
      },
      "text/plain": [
       "r = 0.10617147386074066:   0%|          | 0/10 [00:00<?, ?it/s]"
      ]
     },
     "metadata": {},
     "output_type": "display_data"
    },
    {
     "data": {
      "application/vnd.jupyter.widget-view+json": {
       "model_id": "4a1060c8138944018acd169b6f9ef4f5",
       "version_major": 2,
       "version_minor": 0
      },
      "text/plain": [
       "r = 0.10568366199731827:   0%|          | 0/10 [00:00<?, ?it/s]"
      ]
     },
     "metadata": {},
     "output_type": "display_data"
    },
    {
     "data": {
      "application/vnd.jupyter.widget-view+json": {
       "model_id": "16d7315f2c0846b492422dadf0d1fdfc",
       "version_major": 2,
       "version_minor": 0
      },
      "text/plain": [
       "r = 0.10519809275865555:   0%|          | 0/10 [00:00<?, ?it/s]"
      ]
     },
     "metadata": {},
     "output_type": "display_data"
    },
    {
     "data": {
      "application/vnd.jupyter.widget-view+json": {
       "model_id": "2340ffba110a48a1acb5e80f201a7a70",
       "version_major": 2,
       "version_minor": 0
      },
      "text/plain": [
       "r = 0.10471475124359131:   0%|          | 0/10 [00:00<?, ?it/s]"
      ]
     },
     "metadata": {},
     "output_type": "display_data"
    },
    {
     "data": {
      "application/vnd.jupyter.widget-view+json": {
       "model_id": "ae7e4117194049208e4f8e9fbd1c68cb",
       "version_major": 2,
       "version_minor": 0
      },
      "text/plain": [
       "r = 0.10423363000154495:   0%|          | 0/10 [00:00<?, ?it/s]"
      ]
     },
     "metadata": {},
     "output_type": "display_data"
    },
    {
     "data": {
      "application/vnd.jupyter.widget-view+json": {
       "model_id": "ddbeacee3c8c4d2d85029af8c80bd56a",
       "version_major": 2,
       "version_minor": 0
      },
      "text/plain": [
       "r = 0.10375472903251648:   0%|          | 0/10 [00:00<?, ?it/s]"
      ]
     },
     "metadata": {},
     "output_type": "display_data"
    },
    {
     "data": {
      "application/vnd.jupyter.widget-view+json": {
       "model_id": "7bfe384ccaa9479ab66c25bfc20c3b16",
       "version_major": 2,
       "version_minor": 0
      },
      "text/plain": [
       "r = 0.1032780185341835:   0%|          | 0/10 [00:00<?, ?it/s]"
      ]
     },
     "metadata": {},
     "output_type": "display_data"
    },
    {
     "data": {
      "application/vnd.jupyter.widget-view+json": {
       "model_id": "220ea9d02c3648bab3b04fb56c7c6703",
       "version_major": 2,
       "version_minor": 0
      },
      "text/plain": [
       "r = 0.10280349850654602:   0%|          | 0/10 [00:00<?, ?it/s]"
      ]
     },
     "metadata": {},
     "output_type": "display_data"
    },
    {
     "data": {
      "application/vnd.jupyter.widget-view+json": {
       "model_id": "7167293a30ec4fe9a9d0ddbfeb11971a",
       "version_major": 2,
       "version_minor": 0
      },
      "text/plain": [
       "r = 0.10233116149902344:   0%|          | 0/10 [00:00<?, ?it/s]"
      ]
     },
     "metadata": {},
     "output_type": "display_data"
    },
    {
     "data": {
      "application/vnd.jupyter.widget-view+json": {
       "model_id": "cec92ef1270c4678b02cd19091b49f92",
       "version_major": 2,
       "version_minor": 0
      },
      "text/plain": [
       "r = 0.10186099261045456:   0%|          | 0/10 [00:00<?, ?it/s]"
      ]
     },
     "metadata": {},
     "output_type": "display_data"
    },
    {
     "data": {
      "application/vnd.jupyter.widget-view+json": {
       "model_id": "6cf28ceb0270410aa675498fa64d4374",
       "version_major": 2,
       "version_minor": 0
      },
      "text/plain": [
       "r = 0.10139298439025879:   0%|          | 0/10 [00:00<?, ?it/s]"
      ]
     },
     "metadata": {},
     "output_type": "display_data"
    },
    {
     "data": {
      "application/vnd.jupyter.widget-view+json": {
       "model_id": "cb4322dfc6be4c99bd18ebd3026ed73a",
       "version_major": 2,
       "version_minor": 0
      },
      "text/plain": [
       "r = 0.10092712938785553:   0%|          | 0/10 [00:00<?, ?it/s]"
      ]
     },
     "metadata": {},
     "output_type": "display_data"
    },
    {
     "data": {
      "application/vnd.jupyter.widget-view+json": {
       "model_id": "8562cb37f8104690b17ec04654a766ea",
       "version_major": 2,
       "version_minor": 0
      },
      "text/plain": [
       "r = 0.10046341270208359:   0%|          | 0/10 [00:00<?, ?it/s]"
      ]
     },
     "metadata": {},
     "output_type": "display_data"
    },
    {
     "data": {
      "application/vnd.jupyter.widget-view+json": {
       "model_id": "8b10dbb71a1e4be4a728c89b85cb19f2",
       "version_major": 2,
       "version_minor": 0
      },
      "text/plain": [
       "r = 0.10000183433294296:   0%|          | 0/10 [00:00<?, ?it/s]"
      ]
     },
     "metadata": {},
     "output_type": "display_data"
    }
   ],
   "source": [
    "device = torch.device('cuda')\n",
    "model = DataParallel(ScoreNet(source_channels=4))\n",
    "model.load_state_dict(torch.load('modelp0.pt', weights_only=True))\n",
    "\n",
    "batch = 1\n",
    "rs = gen_geometric_progression(10, .1, 1000)\n",
    "samples = annealed_langevin_sampling((batch, 4, 10, 10), model, rs, 10, device=device)\n"
   ]
  },
  {
   "cell_type": "code",
   "execution_count": 33,
   "metadata": {},
   "outputs": [
    {
     "name": "stdout",
     "output_type": "stream",
     "text": [
      "(100, 4)\n"
     ]
    },
    {
     "data": {
      "image/png": "[encoded data removed]",
      "text/plain": [
       "<Figure size 1000x1000 with 2 Axes>"
      ]
     },
     "metadata": {},
     "output_type": "display_data"
    }
   ],
   "source": [
    "\n",
    "sample = np.array(samples[0].reshape(4, 100).permute(1,0).cpu().clamp(0., 1.))\n",
    "print(sample.shape)\n",
    "visualize.visualize_value_map(sample, 10)\n"
   ]
  },
  {
   "cell_type": "code",
   "execution_count": 16,
   "metadata": {},
   "outputs": [
    {
     "name": "stdout",
     "output_type": "stream",
     "text": [
      "['SFFFFFFFFF', 'FFFFFHFFFF', 'FFFFFFFFFH', 'FFFFFFFFFF', 'FHFFFFFFFF', 'FFFFFFFFFF', 'FFFFFFFFFF', 'FFFFFFFFFF', 'FFFFFFFFFF', 'FFFFFFHFFG']\n"
     ]
    },
    {
     "data": {
      "image/png": "[encoded data removed]",
      "text/plain": [
       "<Figure size 600x600 with 1 Axes>"
      ]
     },
     "metadata": {},
     "output_type": "display_data"
    }
   ],
   "source": [
    "from visualize import visualize_frozen_lake_rectangles\n",
    "from data_gen import generate_new_map\n",
    "map = generate_new_map(10, min_holes=4)[0]\n",
    "print(map)\n",
    "visualize_frozen_lake_rectangles(map)\n"
   ]
  },
  {
   "cell_type": "code",
   "execution_count": null,
   "metadata": {},
   "outputs": [],
   "source": [
    "from composition import Conditional, hole_conditional_score\n",
    "cond_model = Conditional(model, hole_conditional_score, [map])\n"
   ]
  },
  {
   "cell_type": "code",
   "execution_count": 40,
   "metadata": {},
   "outputs": [
    {
     "data": {
      "application/vnd.jupyter.widget-view+json": {
       "model_id": "b92e61597e8443379b0e6b38eac9ff35",
       "version_major": 2,
       "version_minor": 0
      },
      "text/plain": [
       "r = 0.5:   0%|          | 0/30 [00:00<?, ?it/s]"
      ]
     },
     "metadata": {},
     "output_type": "display_data"
    },
    {
     "data": {
      "application/vnd.jupyter.widget-view+json": {
       "model_id": "e3506222193744b5b68489afbbce38c0",
       "version_major": 2,
       "version_minor": 0
      },
      "text/plain": [
       "r = 0.46237102150917053:   0%|          | 0/30 [00:00<?, ?it/s]"
      ]
     },
     "metadata": {},
     "output_type": "display_data"
    },
    {
     "data": {
      "application/vnd.jupyter.widget-view+json": {
       "model_id": "2632af3fd53b4211a77c201afcb493f2",
       "version_major": 2,
       "version_minor": 0
      },
      "text/plain": [
       "r = 0.42757391929626465:   0%|          | 0/30 [00:00<?, ?it/s]"
      ]
     },
     "metadata": {},
     "output_type": "display_data"
    },
    {
     "data": {
      "application/vnd.jupyter.widget-view+json": {
       "model_id": "d0a7f7865e384eb9b43680e6b6f04f70",
       "version_major": 2,
       "version_minor": 0
      },
      "text/plain": [
       "r = 0.39539557695388794:   0%|          | 0/30 [00:00<?, ?it/s]"
      ]
     },
     "metadata": {},
     "output_type": "display_data"
    },
    {
     "data": {
      "application/vnd.jupyter.widget-view+json": {
       "model_id": "f6edc61710f14889849afca257b686be",
       "version_major": 2,
       "version_minor": 0
      },
      "text/plain": [
       "r = 0.3656389117240906:   0%|          | 0/30 [00:00<?, ?it/s]"
      ]
     },
     "metadata": {},
     "output_type": "display_data"
    },
    {
     "data": {
      "application/vnd.jupyter.widget-view+json": {
       "model_id": "90e35a19bad3494ab8546b7b600c1a70",
       "version_major": 2,
       "version_minor": 0
      },
      "text/plain": [
       "r = 0.3381216824054718:   0%|          | 0/30 [00:00<?, ?it/s]"
      ]
     },
     "metadata": {},
     "output_type": "display_data"
    },
    {
     "data": {
      "application/vnd.jupyter.widget-view+json": {
       "model_id": "64c48f4097b64c9cabcd7c449de3feb9",
       "version_major": 2,
       "version_minor": 0
      },
      "text/plain": [
       "r = 0.3126753270626068:   0%|          | 0/30 [00:00<?, ?it/s]"
      ]
     },
     "metadata": {},
     "output_type": "display_data"
    },
    {
     "data": {
      "application/vnd.jupyter.widget-view+json": {
       "model_id": "76cc10e9c8e94655987764ca9c10824a",
       "version_major": 2,
       "version_minor": 0
      },
      "text/plain": [
       "r = 0.28914403915405273:   0%|          | 0/30 [00:00<?, ?it/s]"
      ]
     },
     "metadata": {},
     "output_type": "display_data"
    },
    {
     "data": {
      "application/vnd.jupyter.widget-view+json": {
       "model_id": "42a8a4f698c14412b9a6325cd36d7c44",
       "version_major": 2,
       "version_minor": 0
      },
      "text/plain": [
       "r = 0.2673836350440979:   0%|          | 0/30 [00:00<?, ?it/s]"
      ]
     },
     "metadata": {},
     "output_type": "display_data"
    },
    {
     "data": {
      "application/vnd.jupyter.widget-view+json": {
       "model_id": "f9d63cb1ff74418f8f49783254e96040",
       "version_major": 2,
       "version_minor": 0
      },
      "text/plain": [
       "r = 0.2472608983516693:   0%|          | 0/30 [00:00<?, ?it/s]"
      ]
     },
     "metadata": {},
     "output_type": "display_data"
    },
    {
     "data": {
      "application/vnd.jupyter.widget-view+json": {
       "model_id": "482dba510d494765bf0b1fa68bc78705",
       "version_major": 2,
       "version_minor": 0
      },
      "text/plain": [
       "r = 0.22865253686904907:   0%|          | 0/30 [00:00<?, ?it/s]"
      ]
     },
     "metadata": {},
     "output_type": "display_data"
    },
    {
     "data": {
      "application/vnd.jupyter.widget-view+json": {
       "model_id": "f3c6b44e9f1e4732a331196784922d80",
       "version_major": 2,
       "version_minor": 0
      },
      "text/plain": [
       "r = 0.21144461631774902:   0%|          | 0/30 [00:00<?, ?it/s]"
      ]
     },
     "metadata": {},
     "output_type": "display_data"
    },
    {
     "data": {
      "application/vnd.jupyter.widget-view+json": {
       "model_id": "88b4fa77498947b388e01396f9fa3b8a",
       "version_major": 2,
       "version_minor": 0
      },
      "text/plain": [
       "r = 0.1955317258834839:   0%|          | 0/30 [00:00<?, ?it/s]"
      ]
     },
     "metadata": {},
     "output_type": "display_data"
    },
    {
     "data": {
      "application/vnd.jupyter.widget-view+json": {
       "model_id": "39f9975208164afba1d06483569a3b76",
       "version_major": 2,
       "version_minor": 0
      },
      "text/plain": [
       "r = 0.1808164119720459:   0%|          | 0/30 [00:00<?, ?it/s]"
      ]
     },
     "metadata": {},
     "output_type": "display_data"
    },
    {
     "data": {
      "application/vnd.jupyter.widget-view+json": {
       "model_id": "98d4dd9e497b4dd389ab1c31e7f8bc5b",
       "version_major": 2,
       "version_minor": 0
      },
      "text/plain": [
       "r = 0.16720853745937347:   0%|          | 0/30 [00:00<?, ?it/s]"
      ]
     },
     "metadata": {},
     "output_type": "display_data"
    },
    {
     "data": {
      "application/vnd.jupyter.widget-view+json": {
       "model_id": "6d52c4be1515413b8fc2877981ef14e0",
       "version_major": 2,
       "version_minor": 0
      },
      "text/plain": [
       "r = 0.15462476015090942:   0%|          | 0/30 [00:00<?, ?it/s]"
      ]
     },
     "metadata": {},
     "output_type": "display_data"
    },
    {
     "data": {
      "application/vnd.jupyter.widget-view+json": {
       "model_id": "bc15a5dd93714e7d8ed105389cdbf6f8",
       "version_major": 2,
       "version_minor": 0
      },
      "text/plain": [
       "r = 0.14298802614212036:   0%|          | 0/30 [00:00<?, ?it/s]"
      ]
     },
     "metadata": {},
     "output_type": "display_data"
    },
    {
     "data": {
      "application/vnd.jupyter.widget-view+json": {
       "model_id": "7ed080dd41314c779464fe5b39b57c5b",
       "version_major": 2,
       "version_minor": 0
      },
      "text/plain": [
       "r = 0.13222703337669373:   0%|          | 0/30 [00:00<?, ?it/s]"
      ]
     },
     "metadata": {},
     "output_type": "display_data"
    },
    {
     "data": {
      "application/vnd.jupyter.widget-view+json": {
       "model_id": "d7b596db45864ccbabe2359882423670",
       "version_major": 2,
       "version_minor": 0
      },
      "text/plain": [
       "r = 0.12227589637041092:   0%|          | 0/30 [00:00<?, ?it/s]"
      ]
     },
     "metadata": {},
     "output_type": "display_data"
    },
    {
     "data": {
      "application/vnd.jupyter.widget-view+json": {
       "model_id": "222c0ecbadd446088b8f20ce40c63806",
       "version_major": 2,
       "version_minor": 0
      },
      "text/plain": [
       "r = 0.11307366192340851:   0%|          | 0/30 [00:00<?, ?it/s]"
      ]
     },
     "metadata": {},
     "output_type": "display_data"
    },
    {
     "data": {
      "application/vnd.jupyter.widget-view+json": {
       "model_id": "79326d8270ae4409893b9dc8b01620ae",
       "version_major": 2,
       "version_minor": 0
      },
      "text/plain": [
       "r = 0.10456397384405136:   0%|          | 0/30 [00:00<?, ?it/s]"
      ]
     },
     "metadata": {},
     "output_type": "display_data"
    },
    {
     "data": {
      "application/vnd.jupyter.widget-view+json": {
       "model_id": "1c078af401f146039ea3dd65083ef659",
       "version_major": 2,
       "version_minor": 0
      },
      "text/plain": [
       "r = 0.0966947004199028:   0%|          | 0/30 [00:00<?, ?it/s]"
      ]
     },
     "metadata": {},
     "output_type": "display_data"
    },
    {
     "data": {
      "application/vnd.jupyter.widget-view+json": {
       "model_id": "ce2b41f5421c462f8561e3646c776335",
       "version_major": 2,
       "version_minor": 0
      },
      "text/plain": [
       "r = 0.08941765129566193:   0%|          | 0/30 [00:00<?, ?it/s]"
      ]
     },
     "metadata": {},
     "output_type": "display_data"
    },
    {
     "data": {
      "application/vnd.jupyter.widget-view+json": {
       "model_id": "60ac4d21de2b4e57867704a0d9cb0f38",
       "version_major": 2,
       "version_minor": 0
      },
      "text/plain": [
       "r = 0.08268826454877853:   0%|          | 0/30 [00:00<?, ?it/s]"
      ]
     },
     "metadata": {},
     "output_type": "display_data"
    },
    {
     "data": {
      "application/vnd.jupyter.widget-view+json": {
       "model_id": "958eeb7176f74f19b378e3b0303130da",
       "version_major": 2,
       "version_minor": 0
      },
      "text/plain": [
       "r = 0.07646531611680984:   0%|          | 0/30 [00:00<?, ?it/s]"
      ]
     },
     "metadata": {},
     "output_type": "display_data"
    },
    {
     "data": {
      "application/vnd.jupyter.widget-view+json": {
       "model_id": "9a150f74167b4119913e0450409e7a21",
       "version_major": 2,
       "version_minor": 0
      },
      "text/plain": [
       "r = 0.070710688829422:   0%|          | 0/30 [00:00<?, ?it/s]"
      ]
     },
     "metadata": {},
     "output_type": "display_data"
    },
    {
     "data": {
      "application/vnd.jupyter.widget-view+json": {
       "model_id": "4773da3695344f4b8bb61116a330e32e",
       "version_major": 2,
       "version_minor": 0
      },
      "text/plain": [
       "r = 0.06538914889097214:   0%|          | 0/30 [00:00<?, ?it/s]"
      ]
     },
     "metadata": {},
     "output_type": "display_data"
    },
    {
     "data": {
      "application/vnd.jupyter.widget-view+json": {
       "model_id": "8dcf43405c6a499aa355695883489477",
       "version_major": 2,
       "version_minor": 0
      },
      "text/plain": [
       "r = 0.060468096286058426:   0%|          | 0/30 [00:00<?, ?it/s]"
      ]
     },
     "metadata": {},
     "output_type": "display_data"
    },
    {
     "data": {
      "application/vnd.jupyter.widget-view+json": {
       "model_id": "8a7b0635f71f4fffa2b9f79d1259532e",
       "version_major": 2,
       "version_minor": 0
      },
      "text/plain": [
       "r = 0.05591738969087601:   0%|          | 0/30 [00:00<?, ?it/s]"
      ]
     },
     "metadata": {},
     "output_type": "display_data"
    },
    {
     "data": {
      "application/vnd.jupyter.widget-view+json": {
       "model_id": "28f2313701594abe9ac20138064e69e8",
       "version_major": 2,
       "version_minor": 0
      },
      "text/plain": [
       "r = 0.05170916020870209:   0%|          | 0/30 [00:00<?, ?it/s]"
      ]
     },
     "metadata": {},
     "output_type": "display_data"
    },
    {
     "data": {
      "application/vnd.jupyter.widget-view+json": {
       "model_id": "8383af7f3c60406eb67d455e3c290f38",
       "version_major": 2,
       "version_minor": 0
      },
      "text/plain": [
       "r = 0.04781763628125191:   0%|          | 0/30 [00:00<?, ?it/s]"
      ]
     },
     "metadata": {},
     "output_type": "display_data"
    },
    {
     "data": {
      "application/vnd.jupyter.widget-view+json": {
       "model_id": "057515a493594585928875b755ac493d",
       "version_major": 2,
       "version_minor": 0
      },
      "text/plain": [
       "r = 0.04421897977590561:   0%|          | 0/30 [00:00<?, ?it/s]"
      ]
     },
     "metadata": {},
     "output_type": "display_data"
    },
    {
     "data": {
      "application/vnd.jupyter.widget-view+json": {
       "model_id": "d172e260217947feb365419398d96246",
       "version_major": 2,
       "version_minor": 0
      },
      "text/plain": [
       "r = 0.040891148149967194:   0%|          | 0/30 [00:00<?, ?it/s]"
      ]
     },
     "metadata": {},
     "output_type": "display_data"
    },
    {
     "data": {
      "application/vnd.jupyter.widget-view+json": {
       "model_id": "8bc61fce4ee948fdbd2a5f11ae3eb5fd",
       "version_major": 2,
       "version_minor": 0
      },
      "text/plain": [
       "r = 0.037813764065504074:   0%|          | 0/30 [00:00<?, ?it/s]"
      ]
     },
     "metadata": {},
     "output_type": "display_data"
    },
    {
     "data": {
      "application/vnd.jupyter.widget-view+json": {
       "model_id": "b637acce104e439983a6c69a96d4e7a9",
       "version_major": 2,
       "version_minor": 0
      },
      "text/plain": [
       "r = 0.03496797755360603:   0%|          | 0/30 [00:00<?, ?it/s]"
      ]
     },
     "metadata": {},
     "output_type": "display_data"
    },
    {
     "data": {
      "application/vnd.jupyter.widget-view+json": {
       "model_id": "8258b043b668450cae3304e699be94c5",
       "version_major": 2,
       "version_minor": 0
      },
      "text/plain": [
       "r = 0.03233635798096657:   0%|          | 0/30 [00:00<?, ?it/s]"
      ]
     },
     "metadata": {},
     "output_type": "display_data"
    },
    {
     "data": {
      "application/vnd.jupyter.widget-view+json": {
       "model_id": "127b98095a574b9388b66006b5bb398a",
       "version_major": 2,
       "version_minor": 0
      },
      "text/plain": [
       "r = 0.029902789741754532:   0%|          | 0/30 [00:00<?, ?it/s]"
      ]
     },
     "metadata": {},
     "output_type": "display_data"
    },
    {
     "data": {
      "application/vnd.jupyter.widget-view+json": {
       "model_id": "ae78ce408942498ca927b52413287ee7",
       "version_major": 2,
       "version_minor": 0
      },
      "text/plain": [
       "r = 0.02765236794948578:   0%|          | 0/30 [00:00<?, ?it/s]"
      ]
     },
     "metadata": {},
     "output_type": "display_data"
    },
    {
     "data": {
      "application/vnd.jupyter.widget-view+json": {
       "model_id": "a7228cd48a5c4b0a975e5b4875709e1b",
       "version_major": 2,
       "version_minor": 0
      },
      "text/plain": [
       "r = 0.02557130716741085:   0%|          | 0/30 [00:00<?, ?it/s]"
      ]
     },
     "metadata": {},
     "output_type": "display_data"
    },
    {
     "data": {
      "application/vnd.jupyter.widget-view+json": {
       "model_id": "1c2ba94925214080ab89418aa1393cc1",
       "version_major": 2,
       "version_minor": 0
      },
      "text/plain": [
       "r = 0.02364686317741871:   0%|          | 0/30 [00:00<?, ?it/s]"
      ]
     },
     "metadata": {},
     "output_type": "display_data"
    },
    {
     "data": {
      "application/vnd.jupyter.widget-view+json": {
       "model_id": "f7bd6c26171245f099c44c5dae1e68c7",
       "version_major": 2,
       "version_minor": 0
      },
      "text/plain": [
       "r = 0.02186724729835987:   0%|          | 0/30 [00:00<?, ?it/s]"
      ]
     },
     "metadata": {},
     "output_type": "display_data"
    },
    {
     "data": {
      "application/vnd.jupyter.widget-view+json": {
       "model_id": "4e7e1c4d03264fd3acc4ec2444c18bb8",
       "version_major": 2,
       "version_minor": 0
      },
      "text/plain": [
       "r = 0.020221563056111336:   0%|          | 0/30 [00:00<?, ?it/s]"
      ]
     },
     "metadata": {},
     "output_type": "display_data"
    },
    {
     "data": {
      "application/vnd.jupyter.widget-view+json": {
       "model_id": "fa20881cdfac47779eb2790a41d0d882",
       "version_major": 2,
       "version_minor": 0
      },
      "text/plain": [
       "r = 0.018699729815125465:   0%|          | 0/30 [00:00<?, ?it/s]"
      ]
     },
     "metadata": {},
     "output_type": "display_data"
    },
    {
     "data": {
      "application/vnd.jupyter.widget-view+json": {
       "model_id": "ecd1aebe63ed4a559849c239fe27a7ff",
       "version_major": 2,
       "version_minor": 0
      },
      "text/plain": [
       "r = 0.017292426899075508:   0%|          | 0/30 [00:00<?, ?it/s]"
      ]
     },
     "metadata": {},
     "output_type": "display_data"
    },
    {
     "data": {
      "application/vnd.jupyter.widget-view+json": {
       "model_id": "4e1057502259475d8344bae34e0c501d",
       "version_major": 2,
       "version_minor": 0
      },
      "text/plain": [
       "r = 0.015991033986210823:   0%|          | 0/30 [00:00<?, ?it/s]"
      ]
     },
     "metadata": {},
     "output_type": "display_data"
    },
    {
     "data": {
      "application/vnd.jupyter.widget-view+json": {
       "model_id": "9d77d55915f84fe0ab3d83fd06de90f8",
       "version_major": 2,
       "version_minor": 0
      },
      "text/plain": [
       "r = 0.014787580817937851:   0%|          | 0/30 [00:00<?, ?it/s]"
      ]
     },
     "metadata": {},
     "output_type": "display_data"
    },
    {
     "data": {
      "application/vnd.jupyter.widget-view+json": {
       "model_id": "6f852996b1ce4697bf59707a6ec97995",
       "version_major": 2,
       "version_minor": 0
      },
      "text/plain": [
       "r = 0.01367469783872366:   0%|          | 0/30 [00:00<?, ?it/s]"
      ]
     },
     "metadata": {},
     "output_type": "display_data"
    },
    {
     "data": {
      "application/vnd.jupyter.widget-view+json": {
       "model_id": "09118ef4723149d18ea99ee9fde1743e",
       "version_major": 2,
       "version_minor": 0
      },
      "text/plain": [
       "r = 0.012645568698644638:   0%|          | 0/30 [00:00<?, ?it/s]"
      ]
     },
     "metadata": {},
     "output_type": "display_data"
    },
    {
     "data": {
      "application/vnd.jupyter.widget-view+json": {
       "model_id": "41d2fd414752488f84905490815553b1",
       "version_major": 2,
       "version_minor": 0
      },
      "text/plain": [
       "r = 0.01169388834387064:   0%|          | 0/30 [00:00<?, ?it/s]"
      ]
     },
     "metadata": {},
     "output_type": "display_data"
    },
    {
     "data": {
      "application/vnd.jupyter.widget-view+json": {
       "model_id": "ec95ed9ff44a4f209046f2b510ec2e78",
       "version_major": 2,
       "version_minor": 0
      },
      "text/plain": [
       "r = 0.01081383042037487:   0%|          | 0/30 [00:00<?, ?it/s]"
      ]
     },
     "metadata": {},
     "output_type": "display_data"
    },
    {
     "data": {
      "application/vnd.jupyter.widget-view+json": {
       "model_id": "e24051c24f8a4e14931ca14f9559d158",
       "version_major": 2,
       "version_minor": 0
      },
      "text/plain": [
       "r = 0.01000000350177288:   0%|          | 0/30 [00:00<?, ?it/s]"
      ]
     },
     "metadata": {},
     "output_type": "display_data"
    },
    {
     "data": {
      "application/vnd.jupyter.widget-view+json": {
       "model_id": "c69c4f90abc04e088ae9ab982ccb50dc",
       "version_major": 2,
       "version_minor": 0
      },
      "text/plain": [
       "  0%|          | 0/1500 [00:00<?, ?it/s]"
      ]
     },
     "metadata": {},
     "output_type": "display_data"
    }
   ],
   "source": [
    "batch = 25\n",
    "rs = gen_geometric_progression(.5, .01, 50).to(device)\n",
    "samples = annealed_langevin_sampling((1, 4, 10, 10), cond_model, rs, 30, device=device)"
   ]
  },
  {
   "cell_type": "code",
   "execution_count": 41,
   "metadata": {},
   "outputs": [
    {
     "data": {
      "image/png": "[encoded data removed]",
      "text/plain": [
       "<Figure size 1000x1000 with 2 Axes>"
      ]
     },
     "metadata": {},
     "output_type": "display_data"
    },
    {
     "data": {
      "image/png": "[encoded data removed]",
      "text/plain": [
       "<Figure size 1000x1000 with 2 Axes>"
      ]
     },
     "metadata": {},
     "output_type": "display_data"
    }
   ],
   "source": [
    "\n",
    "sample = np.array(samples[0].reshape(4, 100).permute(1,0).cpu())\n",
    "visualize.visualize_value_map(sample, 10)\n",
    "\n",
    "samples = samples[0][None] + hole_conditional_score(samples[0][None], [map])\n",
    "sample = np.array(samples[0].reshape(4, 100).permute(1,0).cpu())\n",
    "visualize.visualize_value_map(sample, 10)\n",
    "\n"
   ]
  }
 ],
 "metadata": {
  "kernelspec": {
   "display_name": "torch",
   "language": "python",
   "name": "python3"
  },
  "language_info": {
   "codemirror_mode": {
    "name": "ipython",
    "version": 3
   },
   "file_extension": ".py",
   "mimetype": "text/x-python",
   "name": "python",
   "nbconvert_exporter": "python",
   "pygments_lexer": "ipython3",
   "version": "3.10.16"
  }
 },
 "nbformat": 4,
 "nbformat_minor": 2
}
