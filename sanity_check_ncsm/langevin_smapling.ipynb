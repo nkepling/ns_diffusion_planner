{
 "cells": [
  {
   "cell_type": "code",
   "execution_count": 8,
   "metadata": {},
   "outputs": [],
   "source": [
    "import torch\n",
    "from torch.nn import DataParallel\n",
    "from torchvision.utils import make_grid\n",
    "import tqdm.notebook as nb\n",
    "from unet import ScoreNet\n",
    "import matplotlib.pyplot as plt\n",
    "import math\n",
    "import numpy as np\n",
    "from utils import gen_geometric_progression\n",
    "import visualize\n"
   ]
  },
  {
   "cell_type": "code",
   "execution_count": 59,
   "metadata": {},
   "outputs": [],
   "source": [
    "def min_max_normalize(tensor):\n",
    "    min_val = tensor.min()\n",
    "    max_val = tensor.max()\n",
    "    normalized_tensor = (tensor - min_val) / (max_val - min_val)\n",
    "    return normalized_tensor"
   ]
  },
  {
   "cell_type": "code",
   "execution_count": 2,
   "metadata": {},
   "outputs": [],
   "source": [
    "def langevin_sampling(shape, model, eps=0.0001, device=torch.device('cpu')) -> torch.Tensor:\n",
    "    with torch.no_grad():\n",
    "        x = torch.randn(shape, device=device)\n",
    "        for i in nb.trange(10000):\n",
    "            noise = torch.randn(shape, device=device)\n",
    "            s = model(x)\n",
    "            x = x + eps * s + math.sqrt(2 * eps) * noise\n",
    "        return x\n"
   ]
  },
  {
   "cell_type": "code",
   "execution_count": 28,
   "metadata": {},
   "outputs": [],
   "source": [
    "def annealed_langevin_sampling(shape, model, rs: torch.Tensor, T, eps=5e-7, device=torch.device('cpu')) -> torch.Tensor:\n",
    "    with torch.no_grad():\n",
    "        x = torch.randn(shape, device=device)\n",
    "        for r in rs:\n",
    "            a = eps * (r / rs[-1]) ** 2\n",
    "            for i in nb.trange(T, leave=False, desc=f'r = {r}'):\n",
    "                noise = torch.randn(shape, device=device)\n",
    "                s = model(x, r.repeat(x.shape[0]))\n",
    "                x = x + a * .5 * s + math.sqrt(a) * noise\n",
    "        return x\n"
   ]
  },
  {
   "cell_type": "code",
   "execution_count": 64,
   "metadata": {},
   "outputs": [
    {
     "data": {
      "application/vnd.jupyter.widget-view+json": {
       "model_id": "708544a883eb41388cbf49e023e0ae2a",
       "version_major": 2,
       "version_minor": 0
      },
      "text/plain": [
       "r = 0.5:   0%|          | 0/40 [00:00<?, ?it/s]"
      ]
     },
     "metadata": {},
     "output_type": "display_data"
    },
    {
     "data": {
      "application/vnd.jupyter.widget-view+json": {
       "model_id": "6dd9f5989f29469c84293201a62495ae",
       "version_major": 2,
       "version_minor": 0
      },
      "text/plain": [
       "r = 0.46237102150917053:   0%|          | 0/40 [00:00<?, ?it/s]"
      ]
     },
     "metadata": {},
     "output_type": "display_data"
    },
    {
     "data": {
      "application/vnd.jupyter.widget-view+json": {
       "model_id": "c3b3d12633a749cc81042a261cf4156b",
       "version_major": 2,
       "version_minor": 0
      },
      "text/plain": [
       "r = 0.42757391929626465:   0%|          | 0/40 [00:00<?, ?it/s]"
      ]
     },
     "metadata": {},
     "output_type": "display_data"
    },
    {
     "data": {
      "application/vnd.jupyter.widget-view+json": {
       "model_id": "b89c8ac01bc448f5b9f60afa01852e43",
       "version_major": 2,
       "version_minor": 0
      },
      "text/plain": [
       "r = 0.39539557695388794:   0%|          | 0/40 [00:00<?, ?it/s]"
      ]
     },
     "metadata": {},
     "output_type": "display_data"
    },
    {
     "data": {
      "application/vnd.jupyter.widget-view+json": {
       "model_id": "37ea983ab2434b71be05b8707579f3a5",
       "version_major": 2,
       "version_minor": 0
      },
      "text/plain": [
       "r = 0.3656389117240906:   0%|          | 0/40 [00:00<?, ?it/s]"
      ]
     },
     "metadata": {},
     "output_type": "display_data"
    },
    {
     "data": {
      "application/vnd.jupyter.widget-view+json": {
       "model_id": "1a4ce2bdfba34c68855f399e80ea8c59",
       "version_major": 2,
       "version_minor": 0
      },
      "text/plain": [
       "r = 0.3381216824054718:   0%|          | 0/40 [00:00<?, ?it/s]"
      ]
     },
     "metadata": {},
     "output_type": "display_data"
    },
    {
     "data": {
      "application/vnd.jupyter.widget-view+json": {
       "model_id": "23b9801d11ca4e49b05383cb33726d82",
       "version_major": 2,
       "version_minor": 0
      },
      "text/plain": [
       "r = 0.3126753270626068:   0%|          | 0/40 [00:00<?, ?it/s]"
      ]
     },
     "metadata": {},
     "output_type": "display_data"
    },
    {
     "data": {
      "application/vnd.jupyter.widget-view+json": {
       "model_id": "1e3ce23ec2374572a86151f753f12321",
       "version_major": 2,
       "version_minor": 0
      },
      "text/plain": [
       "r = 0.28914403915405273:   0%|          | 0/40 [00:00<?, ?it/s]"
      ]
     },
     "metadata": {},
     "output_type": "display_data"
    },
    {
     "data": {
      "application/vnd.jupyter.widget-view+json": {
       "model_id": "c16a4592432d408b8920b8d7db9caab7",
       "version_major": 2,
       "version_minor": 0
      },
      "text/plain": [
       "r = 0.2673836350440979:   0%|          | 0/40 [00:00<?, ?it/s]"
      ]
     },
     "metadata": {},
     "output_type": "display_data"
    },
    {
     "data": {
      "application/vnd.jupyter.widget-view+json": {
       "model_id": "b714a898f4ee4f15a8221f7c57492ee9",
       "version_major": 2,
       "version_minor": 0
      },
      "text/plain": [
       "r = 0.2472608983516693:   0%|          | 0/40 [00:00<?, ?it/s]"
      ]
     },
     "metadata": {},
     "output_type": "display_data"
    },
    {
     "data": {
      "application/vnd.jupyter.widget-view+json": {
       "model_id": "32a052c377c74fc492b49570fc441930",
       "version_major": 2,
       "version_minor": 0
      },
      "text/plain": [
       "r = 0.22865253686904907:   0%|          | 0/40 [00:00<?, ?it/s]"
      ]
     },
     "metadata": {},
     "output_type": "display_data"
    },
    {
     "data": {
      "application/vnd.jupyter.widget-view+json": {
       "model_id": "69532a01e3bd436295f77363b6153c4d",
       "version_major": 2,
       "version_minor": 0
      },
      "text/plain": [
       "r = 0.21144461631774902:   0%|          | 0/40 [00:00<?, ?it/s]"
      ]
     },
     "metadata": {},
     "output_type": "display_data"
    },
    {
     "data": {
      "application/vnd.jupyter.widget-view+json": {
       "model_id": "23971571b6fe485b9717f99852f508b9",
       "version_major": 2,
       "version_minor": 0
      },
      "text/plain": [
       "r = 0.1955317258834839:   0%|          | 0/40 [00:00<?, ?it/s]"
      ]
     },
     "metadata": {},
     "output_type": "display_data"
    },
    {
     "data": {
      "application/vnd.jupyter.widget-view+json": {
       "model_id": "68ae821586504c4497a4feefae9428e4",
       "version_major": 2,
       "version_minor": 0
      },
      "text/plain": [
       "r = 0.1808164119720459:   0%|          | 0/40 [00:00<?, ?it/s]"
      ]
     },
     "metadata": {},
     "output_type": "display_data"
    },
    {
     "data": {
      "application/vnd.jupyter.widget-view+json": {
       "model_id": "98732c348545430cb949338fe82fbc22",
       "version_major": 2,
       "version_minor": 0
      },
      "text/plain": [
       "r = 0.16720853745937347:   0%|          | 0/40 [00:00<?, ?it/s]"
      ]
     },
     "metadata": {},
     "output_type": "display_data"
    },
    {
     "data": {
      "application/vnd.jupyter.widget-view+json": {
       "model_id": "2f5d1d74456145dfba505a850bb329fc",
       "version_major": 2,
       "version_minor": 0
      },
      "text/plain": [
       "r = 0.15462476015090942:   0%|          | 0/40 [00:00<?, ?it/s]"
      ]
     },
     "metadata": {},
     "output_type": "display_data"
    },
    {
     "data": {
      "application/vnd.jupyter.widget-view+json": {
       "model_id": "a1627e8538864b389fe848b0ac9bbcc6",
       "version_major": 2,
       "version_minor": 0
      },
      "text/plain": [
       "r = 0.14298802614212036:   0%|          | 0/40 [00:00<?, ?it/s]"
      ]
     },
     "metadata": {},
     "output_type": "display_data"
    },
    {
     "data": {
      "application/vnd.jupyter.widget-view+json": {
       "model_id": "0e36bdd50f994f478a3b902b3e307ebc",
       "version_major": 2,
       "version_minor": 0
      },
      "text/plain": [
       "r = 0.13222703337669373:   0%|          | 0/40 [00:00<?, ?it/s]"
      ]
     },
     "metadata": {},
     "output_type": "display_data"
    },
    {
     "data": {
      "application/vnd.jupyter.widget-view+json": {
       "model_id": "08aca476d9204737bf190c4de1bf32ce",
       "version_major": 2,
       "version_minor": 0
      },
      "text/plain": [
       "r = 0.12227589637041092:   0%|          | 0/40 [00:00<?, ?it/s]"
      ]
     },
     "metadata": {},
     "output_type": "display_data"
    },
    {
     "data": {
      "application/vnd.jupyter.widget-view+json": {
       "model_id": "b90ce74775564464b90c5741be85ab6a",
       "version_major": 2,
       "version_minor": 0
      },
      "text/plain": [
       "r = 0.11307366192340851:   0%|          | 0/40 [00:00<?, ?it/s]"
      ]
     },
     "metadata": {},
     "output_type": "display_data"
    },
    {
     "data": {
      "application/vnd.jupyter.widget-view+json": {
       "model_id": "ad14d0aee0704f349a838dbef686075e",
       "version_major": 2,
       "version_minor": 0
      },
      "text/plain": [
       "r = 0.10456397384405136:   0%|          | 0/40 [00:00<?, ?it/s]"
      ]
     },
     "metadata": {},
     "output_type": "display_data"
    },
    {
     "data": {
      "application/vnd.jupyter.widget-view+json": {
       "model_id": "ae7f4c489e814aa9bf87c8fdd59d5624",
       "version_major": 2,
       "version_minor": 0
      },
      "text/plain": [
       "r = 0.0966947004199028:   0%|          | 0/40 [00:00<?, ?it/s]"
      ]
     },
     "metadata": {},
     "output_type": "display_data"
    },
    {
     "data": {
      "application/vnd.jupyter.widget-view+json": {
       "model_id": "71be262d26e14663951690b9711c8585",
       "version_major": 2,
       "version_minor": 0
      },
      "text/plain": [
       "r = 0.08941765129566193:   0%|          | 0/40 [00:00<?, ?it/s]"
      ]
     },
     "metadata": {},
     "output_type": "display_data"
    },
    {
     "data": {
      "application/vnd.jupyter.widget-view+json": {
       "model_id": "2e6fd6f4749b456ca28387d5a2872171",
       "version_major": 2,
       "version_minor": 0
      },
      "text/plain": [
       "r = 0.08268826454877853:   0%|          | 0/40 [00:00<?, ?it/s]"
      ]
     },
     "metadata": {},
     "output_type": "display_data"
    },
    {
     "data": {
      "application/vnd.jupyter.widget-view+json": {
       "model_id": "4b62426b71d340e2857fc59138f64486",
       "version_major": 2,
       "version_minor": 0
      },
      "text/plain": [
       "r = 0.07646531611680984:   0%|          | 0/40 [00:00<?, ?it/s]"
      ]
     },
     "metadata": {},
     "output_type": "display_data"
    },
    {
     "data": {
      "application/vnd.jupyter.widget-view+json": {
       "model_id": "e5a4c75e0207448fab47e1b18b439303",
       "version_major": 2,
       "version_minor": 0
      },
      "text/plain": [
       "r = 0.070710688829422:   0%|          | 0/40 [00:00<?, ?it/s]"
      ]
     },
     "metadata": {},
     "output_type": "display_data"
    },
    {
     "data": {
      "application/vnd.jupyter.widget-view+json": {
       "model_id": "6887ca19e7bd47c8a006f6a49258e61c",
       "version_major": 2,
       "version_minor": 0
      },
      "text/plain": [
       "r = 0.06538914889097214:   0%|          | 0/40 [00:00<?, ?it/s]"
      ]
     },
     "metadata": {},
     "output_type": "display_data"
    },
    {
     "data": {
      "application/vnd.jupyter.widget-view+json": {
       "model_id": "e61f21009ef14f83aaddca606dfbc341",
       "version_major": 2,
       "version_minor": 0
      },
      "text/plain": [
       "r = 0.060468096286058426:   0%|          | 0/40 [00:00<?, ?it/s]"
      ]
     },
     "metadata": {},
     "output_type": "display_data"
    },
    {
     "data": {
      "application/vnd.jupyter.widget-view+json": {
       "model_id": "9720b9eff01742cabda85ca52a50b0a7",
       "version_major": 2,
       "version_minor": 0
      },
      "text/plain": [
       "r = 0.05591738969087601:   0%|          | 0/40 [00:00<?, ?it/s]"
      ]
     },
     "metadata": {},
     "output_type": "display_data"
    },
    {
     "data": {
      "application/vnd.jupyter.widget-view+json": {
       "model_id": "8bf44a26f3804bd7b2adabf427e08edc",
       "version_major": 2,
       "version_minor": 0
      },
      "text/plain": [
       "r = 0.05170916020870209:   0%|          | 0/40 [00:00<?, ?it/s]"
      ]
     },
     "metadata": {},
     "output_type": "display_data"
    },
    {
     "data": {
      "application/vnd.jupyter.widget-view+json": {
       "model_id": "226f610b99ea49d786005fb650172330",
       "version_major": 2,
       "version_minor": 0
      },
      "text/plain": [
       "r = 0.04781763628125191:   0%|          | 0/40 [00:00<?, ?it/s]"
      ]
     },
     "metadata": {},
     "output_type": "display_data"
    },
    {
     "data": {
      "application/vnd.jupyter.widget-view+json": {
       "model_id": "c103cef51ac1418aa2ca51ebb4f81db4",
       "version_major": 2,
       "version_minor": 0
      },
      "text/plain": [
       "r = 0.04421897977590561:   0%|          | 0/40 [00:00<?, ?it/s]"
      ]
     },
     "metadata": {},
     "output_type": "display_data"
    },
    {
     "data": {
      "application/vnd.jupyter.widget-view+json": {
       "model_id": "3fb708c6bee54322bc46f727a4fff317",
       "version_major": 2,
       "version_minor": 0
      },
      "text/plain": [
       "r = 0.040891148149967194:   0%|          | 0/40 [00:00<?, ?it/s]"
      ]
     },
     "metadata": {},
     "output_type": "display_data"
    },
    {
     "data": {
      "application/vnd.jupyter.widget-view+json": {
       "model_id": "e70dc82200c24d2294660d2c00791f36",
       "version_major": 2,
       "version_minor": 0
      },
      "text/plain": [
       "r = 0.037813764065504074:   0%|          | 0/40 [00:00<?, ?it/s]"
      ]
     },
     "metadata": {},
     "output_type": "display_data"
    },
    {
     "data": {
      "application/vnd.jupyter.widget-view+json": {
       "model_id": "eabe734c6efa4297a07590815d2a243d",
       "version_major": 2,
       "version_minor": 0
      },
      "text/plain": [
       "r = 0.03496797755360603:   0%|          | 0/40 [00:00<?, ?it/s]"
      ]
     },
     "metadata": {},
     "output_type": "display_data"
    },
    {
     "data": {
      "application/vnd.jupyter.widget-view+json": {
       "model_id": "f79fabcbd78d419bbbef35f87723939f",
       "version_major": 2,
       "version_minor": 0
      },
      "text/plain": [
       "r = 0.03233635798096657:   0%|          | 0/40 [00:00<?, ?it/s]"
      ]
     },
     "metadata": {},
     "output_type": "display_data"
    },
    {
     "data": {
      "application/vnd.jupyter.widget-view+json": {
       "model_id": "8c313ba2b790426fafc7cc0edcaefd0b",
       "version_major": 2,
       "version_minor": 0
      },
      "text/plain": [
       "r = 0.029902789741754532:   0%|          | 0/40 [00:00<?, ?it/s]"
      ]
     },
     "metadata": {},
     "output_type": "display_data"
    },
    {
     "data": {
      "application/vnd.jupyter.widget-view+json": {
       "model_id": "a932fa0aabf544b18f8c3cbbdad11ac3",
       "version_major": 2,
       "version_minor": 0
      },
      "text/plain": [
       "r = 0.02765236794948578:   0%|          | 0/40 [00:00<?, ?it/s]"
      ]
     },
     "metadata": {},
     "output_type": "display_data"
    },
    {
     "data": {
      "application/vnd.jupyter.widget-view+json": {
       "model_id": "898f2a6aa87346298b91b171a96b29b9",
       "version_major": 2,
       "version_minor": 0
      },
      "text/plain": [
       "r = 0.02557130716741085:   0%|          | 0/40 [00:00<?, ?it/s]"
      ]
     },
     "metadata": {},
     "output_type": "display_data"
    },
    {
     "data": {
      "application/vnd.jupyter.widget-view+json": {
       "model_id": "38240d3359584a3d81e1fbc14f51b5da",
       "version_major": 2,
       "version_minor": 0
      },
      "text/plain": [
       "r = 0.02364686317741871:   0%|          | 0/40 [00:00<?, ?it/s]"
      ]
     },
     "metadata": {},
     "output_type": "display_data"
    },
    {
     "data": {
      "application/vnd.jupyter.widget-view+json": {
       "model_id": "00bbe72e825240d580d2c6212a85d69e",
       "version_major": 2,
       "version_minor": 0
      },
      "text/plain": [
       "r = 0.02186724729835987:   0%|          | 0/40 [00:00<?, ?it/s]"
      ]
     },
     "metadata": {},
     "output_type": "display_data"
    },
    {
     "data": {
      "application/vnd.jupyter.widget-view+json": {
       "model_id": "8536eb60a0014aa18f07ef2a9005408a",
       "version_major": 2,
       "version_minor": 0
      },
      "text/plain": [
       "r = 0.020221563056111336:   0%|          | 0/40 [00:00<?, ?it/s]"
      ]
     },
     "metadata": {},
     "output_type": "display_data"
    },
    {
     "data": {
      "application/vnd.jupyter.widget-view+json": {
       "model_id": "eaaacf15c3664b7285b23eeca65bd959",
       "version_major": 2,
       "version_minor": 0
      },
      "text/plain": [
       "r = 0.018699729815125465:   0%|          | 0/40 [00:00<?, ?it/s]"
      ]
     },
     "metadata": {},
     "output_type": "display_data"
    },
    {
     "data": {
      "application/vnd.jupyter.widget-view+json": {
       "model_id": "5bc03ac8ba64430790b0384fcbd740b1",
       "version_major": 2,
       "version_minor": 0
      },
      "text/plain": [
       "r = 0.017292426899075508:   0%|          | 0/40 [00:00<?, ?it/s]"
      ]
     },
     "metadata": {},
     "output_type": "display_data"
    },
    {
     "data": {
      "application/vnd.jupyter.widget-view+json": {
       "model_id": "5f1374e876014023bf07124d6daed272",
       "version_major": 2,
       "version_minor": 0
      },
      "text/plain": [
       "r = 0.015991033986210823:   0%|          | 0/40 [00:00<?, ?it/s]"
      ]
     },
     "metadata": {},
     "output_type": "display_data"
    },
    {
     "data": {
      "application/vnd.jupyter.widget-view+json": {
       "model_id": "147f81c65cfe42a8b204a854596cd5ba",
       "version_major": 2,
       "version_minor": 0
      },
      "text/plain": [
       "r = 0.014787580817937851:   0%|          | 0/40 [00:00<?, ?it/s]"
      ]
     },
     "metadata": {},
     "output_type": "display_data"
    },
    {
     "data": {
      "application/vnd.jupyter.widget-view+json": {
       "model_id": "12de0cc09adc4556975d2c90e4c35f5e",
       "version_major": 2,
       "version_minor": 0
      },
      "text/plain": [
       "r = 0.01367469783872366:   0%|          | 0/40 [00:00<?, ?it/s]"
      ]
     },
     "metadata": {},
     "output_type": "display_data"
    },
    {
     "data": {
      "application/vnd.jupyter.widget-view+json": {
       "model_id": "ffedca4b8a144875bcfe44a14a8d8a17",
       "version_major": 2,
       "version_minor": 0
      },
      "text/plain": [
       "r = 0.012645568698644638:   0%|          | 0/40 [00:00<?, ?it/s]"
      ]
     },
     "metadata": {},
     "output_type": "display_data"
    },
    {
     "data": {
      "application/vnd.jupyter.widget-view+json": {
       "model_id": "08ed9d938d854912b3a65f777d9b8869",
       "version_major": 2,
       "version_minor": 0
      },
      "text/plain": [
       "r = 0.01169388834387064:   0%|          | 0/40 [00:00<?, ?it/s]"
      ]
     },
     "metadata": {},
     "output_type": "display_data"
    },
    {
     "data": {
      "application/vnd.jupyter.widget-view+json": {
       "model_id": "827ea792eeec4a2789361d5f78844219",
       "version_major": 2,
       "version_minor": 0
      },
      "text/plain": [
       "r = 0.01081383042037487:   0%|          | 0/40 [00:00<?, ?it/s]"
      ]
     },
     "metadata": {},
     "output_type": "display_data"
    },
    {
     "data": {
      "application/vnd.jupyter.widget-view+json": {
       "model_id": "c404d1dca79e4a1a936375b0dea965f0",
       "version_major": 2,
       "version_minor": 0
      },
      "text/plain": [
       "r = 0.01000000350177288:   0%|          | 0/40 [00:00<?, ?it/s]"
      ]
     },
     "metadata": {},
     "output_type": "display_data"
    }
   ],
   "source": [
    "device = torch.device('cuda')\n",
    "model = DataParallel(ScoreNet(source_channels=4))\n",
    "model.load_state_dict(torch.load('sanity_check.pt', weights_only=True))\n",
    "\n",
    "batch = 25\n",
    "rs = gen_geometric_progression(.5, .01, 50).to(device)\n",
    "samples = annealed_langevin_sampling((batch, 4, 10, 10), model, rs, 40, device=device).clamp(0.0, 1.0)\n"
   ]
  },
  {
   "cell_type": "code",
   "execution_count": 65,
   "metadata": {},
   "outputs": [
    {
     "name": "stderr",
     "output_type": "stream",
     "text": [
      "/tmp/ipykernel_672959/2595935242.py:1: DeprecationWarning: __array__ implementation doesn't accept a copy keyword, so passing copy=False failed. __array__ must implement 'dtype' and 'copy' keyword arguments. To learn more, see the migration guide https://numpy.org/devdocs/numpy_2_0_migration_guide.html#adapting-to-changes-in-the-copy-keyword\n",
      "  sample = np.array(min_max_normalize(samples[0].reshape(4, 100).permute(1,0).cpu()))\n"
     ]
    },
    {
     "name": "stdout",
     "output_type": "stream",
     "text": [
      "(100, 4)\n"
     ]
    },
    {
     "data": {
      "image/png": "[encoded data removed]",
      "text/plain": [
       "<Figure size 1000x1000 with 2 Axes>"
      ]
     },
     "metadata": {},
     "output_type": "display_data"
    }
   ],
   "source": [
    "\n",
    "sample = np.array(min_max_normalize(samples[0].reshape(4, 100).permute(1,0).cpu()))\n",
    "print(sample.shape)\n",
    "visualize.visualize_value_map(sample, 10)\n"
   ]
  }
 ],
 "metadata": {
  "kernelspec": {
   "display_name": "torch",
   "language": "python",
   "name": "python3"
  },
  "language_info": {
   "codemirror_mode": {
    "name": "ipython",
    "version": 3
   },
   "file_extension": ".py",
   "mimetype": "text/x-python",
   "name": "python",
   "nbconvert_exporter": "python",
   "pygments_lexer": "ipython3",
   "version": "3.10.16"
  }
 },
 "nbformat": 4,
 "nbformat_minor": 2
}
